{
 "cells": [
  {
   "cell_type": "markdown",
   "metadata": {},
   "source": [
    "Привет, меня зовут Артем Хуршудов. Сегодня я проверю твой проект.\n",
    "<br> Дальнейшее общение будет происходить на \"ты\" если это не вызывает никаких проблем.\n",
    "<br> Желательно реагировать на каждый мой комментарий ('исправил', 'не понятно как исправить ошибку', ...)\n",
    "<br> Пожалуйста, не удаляй комментарии ревьюера, так как они повышают качество повторного ревью.\n",
    "\n",
    "Комментарии будут в <font color='green'>зеленой</font>, <font color='blue'>синей</font> или <font color='red'>красной</font> рамках:\n",
    "\n",
    "<div class=\"alert alert-block alert-success\">\n",
    "<b>Успех:</b> Если все сделано отлично\n",
    "</div>\n",
    "\n",
    "<div class=\"alert alert-block alert-info\">\n",
    "<b>Совет: </b> Если можно немного улучшить\n",
    "</div>\n",
    "\n",
    "<div class=\"alert alert-block alert-danger\">\n",
    "<b>Ошибка:</b> Если требуются исправления. Работа не может быть принята с красными комментариями.\n",
    "</div>\n",
    "\n",
    "-------------------\n",
    "\n",
    "Будет очень хорошо, если ты будешь помечать свои действия следующим образом:\n",
    "<div class=\"alert alert-block alert-warning\">\n",
    "<b>Комментарий студента:</b> ...\n",
    "</div>\n",
    "\n",
    "<div class=\"alert alert-block alert-warning\">\n",
    "<b>Изменения:</b> Были внесены следующие изменения ...\n",
    "</div>\n",
    "\n",
    "### <font color='orange'>Общее впечатление</font>\n",
    "* Большое спасибо за проделанную работу. Видно, что приложено много усилий.\n",
    "* Код не запускается из-за ошибок. Я не могу до конца проверить этот проект в таком виде.\n",
    "* Над этим проектом нужно будет еще немного поработать. Однако, изменения не должны занять много времени.\n",
    "* В работе я оставил несколько советов. Буду рад, если ты учтешь их.\n",
    "* С радостью отвечу на твои вопросы, если они есть. Лучше всего их собрать в следующей ячейке. Жду новую версию проекта."
   ]
  },
  {
   "cell_type": "markdown",
   "metadata": {},
   "source": [
    "### <font color='orange'>Общее впечатление (ревью 2)</font>\n",
    "* После исправлений проект улучшился и теперь он может быть зачтен.\n",
    "* Новый комментарий обозначен фразой \"ревью 2\".\n",
    "* Удачи в дальнейшем обучении и следующих работах!"
   ]
  },
  {
   "cell_type": "markdown",
   "metadata": {
    "toc": true
   },
   "source": [
    "<h1>Содержание<span class=\"tocSkip\"></span></h1>\n",
    "<div class=\"toc\"><ul class=\"toc-item\"><li><ul class=\"toc-item\"><li><span><a href=\"#Общее-впечатление\" data-toc-modified-id=\"Общее-впечатление-0.1\"><span class=\"toc-item-num\">0.1&nbsp;&nbsp;</span><font color=\"orange\">Общее впечатление</font></a></span></li><li><span><a href=\"#Общее-впечатление-(ревью-2)\" data-toc-modified-id=\"Общее-впечатление-(ревью-2)-0.2\"><span class=\"toc-item-num\">0.2&nbsp;&nbsp;</span><font color=\"orange\">Общее впечатление (ревью 2)</font></a></span></li></ul></li><li><span><a href=\"#Подготовка-данных\" data-toc-modified-id=\"Подготовка-данных-1\"><span class=\"toc-item-num\">1&nbsp;&nbsp;</span>Подготовка данных</a></span><ul class=\"toc-item\"><li><span><a href=\"#Изучение-исходных-файлов:\" data-toc-modified-id=\"Изучение-исходных-файлов:-1.1\"><span class=\"toc-item-num\">1.1&nbsp;&nbsp;</span>Изучение исходных файлов:</a></span></li><li><span><a href=\"#Расчёт-эффективности-и-MAE:\" data-toc-modified-id=\"Расчёт-эффективности-и-MAE:-1.2\"><span class=\"toc-item-num\">1.2&nbsp;&nbsp;</span>Расчёт эффективности и MAE:</a></span></li><li><span><a href=\"#Анализ-тестовой-выборки-и-её-признаков:\" data-toc-modified-id=\"Анализ-тестовой-выборки-и-её-признаков:-1.3\"><span class=\"toc-item-num\">1.3&nbsp;&nbsp;</span>Анализ тестовой выборки и её признаков:</a></span></li><li><span><a href=\"#Предобработка-данных\" data-toc-modified-id=\"Предобработка-данных-1.4\"><span class=\"toc-item-num\">1.4&nbsp;&nbsp;</span>Предобработка данных</a></span></li></ul></li><li><span><a href=\"#Анализ-данных\" data-toc-modified-id=\"Анализ-данных-2\"><span class=\"toc-item-num\">2&nbsp;&nbsp;</span>Анализ данных</a></span><ul class=\"toc-item\"><li><span><a href=\"#Концентрация-металлов-на-разных-стадиях-очистки:\" data-toc-modified-id=\"Концентрация-металлов-на-разных-стадиях-очистки:-2.1\"><span class=\"toc-item-num\">2.1&nbsp;&nbsp;</span>Концентрация металлов на разных стадиях очистки:</a></span></li><li><span><a href=\"#Сравнение-распределения-размеров-гранул-сырья-на-обучающей-и-тестовой-выборках\" data-toc-modified-id=\"Сравнение-распределения-размеров-гранул-сырья-на-обучающей-и-тестовой-выборках-2.2\"><span class=\"toc-item-num\">2.2&nbsp;&nbsp;</span>Сравнение распределения размеров гранул сырья на обучающей и тестовой выборках</a></span></li><li><span><a href=\"#Исследование-суммарной-концентрации-всех-веществ-на-разных-стадиях:-в-сырье,-в-черновом-и-финальном-концентратах.\" data-toc-modified-id=\"Исследование-суммарной-концентрации-всех-веществ-на-разных-стадиях:-в-сырье,-в-черновом-и-финальном-концентратах.-2.3\"><span class=\"toc-item-num\">2.3&nbsp;&nbsp;</span>Исследование суммарной концентрации всех веществ на разных стадиях: в сырье, в черновом и финальном концентратах.</a></span></li></ul></li><li><span><a href=\"#Модель\" data-toc-modified-id=\"Модель-3\"><span class=\"toc-item-num\">3&nbsp;&nbsp;</span>Модель</a></span></li><li><span><a href=\"#Чек-лист-готовности-проекта\" data-toc-modified-id=\"Чек-лист-готовности-проекта-4\"><span class=\"toc-item-num\">4&nbsp;&nbsp;</span>Чек-лист готовности проекта</a></span></li></ul></div>"
   ]
  },
  {
   "cell_type": "markdown",
   "metadata": {},
   "source": [
    "# Восстановление золота из руды"
   ]
  },
  {
   "cell_type": "markdown",
   "metadata": {},
   "source": [
    "Подготовьте прототип модели машинного обучения для «Цифры». Компания разрабатывает решения для эффективной работы промышленных предприятий.\n",
    "\n",
    "Модель должна предсказать коэффициент восстановления золота из золотосодержащей руды. Используйте данные с параметрами добычи и очистки. \n",
    "\n",
    "Модель поможет оптимизировать производство, чтобы не запускать предприятие с убыточными характеристиками.\n",
    "\n",
    "Вам нужно:\n",
    "\n",
    "1. Подготовить данные;\n",
    "2. Провести исследовательский анализ данных;\n",
    "3. Построить и обучить модель.\n",
    "\n",
    "Чтобы выполнить проект, обращайтесь к библиотекам *pandas*, *matplotlib* и *sklearn.* Вам поможет их документация."
   ]
  },
  {
   "cell_type": "markdown",
   "metadata": {},
   "source": [
    "## Подготовка данных"
   ]
  },
  {
   "cell_type": "code",
   "execution_count": 3,
   "metadata": {},
   "outputs": [],
   "source": [
    "# Импортирование библиотек:\n",
    "import pandas as pd\n",
    "import numpy as np\n",
    "import matplotlib.pyplot as plt\n",
    "from sklearn.metrics import mean_absolute_error\n",
    "from sklearn.model_selection import cross_val_score\n",
    "from sklearn.linear_model import LinearRegression\n",
    "from sklearn.ensemble import RandomForestRegressor\n",
    "from sklearn.tree import DecisionTreeRegressor\n",
    "from sklearn.metrics import make_scorer\n",
    "from sklearn.model_selection import GridSearchCV\n",
    "from sklearn.dummy import DummyRegressor"
   ]
  },
  {
   "cell_type": "markdown",
   "metadata": {},
   "source": [
    "<div class=\"alert alert-block alert-success\">\n",
    "<b>Успех:</b> Отлично, что все импорты собраны в первой ячейке ноутбука! Если у того, кто будет запускать твой ноутбук будут отсутствовать некоторые библиотеки, то он это увидит сразу, а не в процессе!\n",
    "</div>"
   ]
  },
  {
   "cell_type": "code",
   "execution_count": 4,
   "metadata": {},
   "outputs": [],
   "source": [
    "# Чтение данных:\n",
    "df_train = pd.read_csv('/datasets/gold_recovery_train_new.csv')\n",
    "df_test = pd.read_csv('/datasets/gold_recovery_test_new.csv')\n",
    "df_full = pd.read_csv('/datasets/gold_recovery_full_new.csv')\n",
    "\n",
    "k = [df_train, df_test, df_full]"
   ]
  },
  {
   "cell_type": "markdown",
   "metadata": {},
   "source": [
    "### Изучение исходных файлов:"
   ]
  },
  {
   "cell_type": "code",
   "execution_count": 5,
   "metadata": {
    "scrolled": false
   },
   "outputs": [
    {
     "name": "stdout",
     "output_type": "stream",
     "text": [
      "<class 'pandas.core.frame.DataFrame'>\n",
      "RangeIndex: 14149 entries, 0 to 14148\n",
      "Data columns (total 87 columns):\n",
      " #   Column                                              Non-Null Count  Dtype  \n",
      "---  ------                                              --------------  -----  \n",
      " 0   date                                                14149 non-null  object \n",
      " 1   final.output.concentrate_ag                         14148 non-null  float64\n",
      " 2   final.output.concentrate_pb                         14148 non-null  float64\n",
      " 3   final.output.concentrate_sol                        13938 non-null  float64\n",
      " 4   final.output.concentrate_au                         14149 non-null  float64\n",
      " 5   final.output.recovery                               14149 non-null  float64\n",
      " 6   final.output.tail_ag                                14149 non-null  float64\n",
      " 7   final.output.tail_pb                                14049 non-null  float64\n",
      " 8   final.output.tail_sol                               14144 non-null  float64\n",
      " 9   final.output.tail_au                                14149 non-null  float64\n",
      " 10  primary_cleaner.input.sulfate                       14129 non-null  float64\n",
      " 11  primary_cleaner.input.depressant                    14117 non-null  float64\n",
      " 12  primary_cleaner.input.feed_size                     14149 non-null  float64\n",
      " 13  primary_cleaner.input.xanthate                      14049 non-null  float64\n",
      " 14  primary_cleaner.output.concentrate_ag               14149 non-null  float64\n",
      " 15  primary_cleaner.output.concentrate_pb               14063 non-null  float64\n",
      " 16  primary_cleaner.output.concentrate_sol              13863 non-null  float64\n",
      " 17  primary_cleaner.output.concentrate_au               14149 non-null  float64\n",
      " 18  primary_cleaner.output.tail_ag                      14148 non-null  float64\n",
      " 19  primary_cleaner.output.tail_pb                      14134 non-null  float64\n",
      " 20  primary_cleaner.output.tail_sol                     14103 non-null  float64\n",
      " 21  primary_cleaner.output.tail_au                      14149 non-null  float64\n",
      " 22  primary_cleaner.state.floatbank8_a_air              14145 non-null  float64\n",
      " 23  primary_cleaner.state.floatbank8_a_level            14148 non-null  float64\n",
      " 24  primary_cleaner.state.floatbank8_b_air              14145 non-null  float64\n",
      " 25  primary_cleaner.state.floatbank8_b_level            14148 non-null  float64\n",
      " 26  primary_cleaner.state.floatbank8_c_air              14147 non-null  float64\n",
      " 27  primary_cleaner.state.floatbank8_c_level            14148 non-null  float64\n",
      " 28  primary_cleaner.state.floatbank8_d_air              14146 non-null  float64\n",
      " 29  primary_cleaner.state.floatbank8_d_level            14148 non-null  float64\n",
      " 30  rougher.calculation.sulfate_to_au_concentrate       14148 non-null  float64\n",
      " 31  rougher.calculation.floatbank10_sulfate_to_au_feed  14148 non-null  float64\n",
      " 32  rougher.calculation.floatbank11_sulfate_to_au_feed  14148 non-null  float64\n",
      " 33  rougher.calculation.au_pb_ratio                     14149 non-null  float64\n",
      " 34  rougher.input.feed_ag                               14149 non-null  float64\n",
      " 35  rougher.input.feed_pb                               14049 non-null  float64\n",
      " 36  rougher.input.feed_rate                             14141 non-null  float64\n",
      " 37  rougher.input.feed_size                             14005 non-null  float64\n",
      " 38  rougher.input.feed_sol                              14071 non-null  float64\n",
      " 39  rougher.input.feed_au                               14149 non-null  float64\n",
      " 40  rougher.input.floatbank10_sulfate                   14120 non-null  float64\n",
      " 41  rougher.input.floatbank10_xanthate                  14141 non-null  float64\n",
      " 42  rougher.input.floatbank11_sulfate                   14113 non-null  float64\n",
      " 43  rougher.input.floatbank11_xanthate                  13721 non-null  float64\n",
      " 44  rougher.output.concentrate_ag                       14149 non-null  float64\n",
      " 45  rougher.output.concentrate_pb                       14149 non-null  float64\n",
      " 46  rougher.output.concentrate_sol                      14127 non-null  float64\n",
      " 47  rougher.output.concentrate_au                       14149 non-null  float64\n",
      " 48  rougher.output.recovery                             14149 non-null  float64\n",
      " 49  rougher.output.tail_ag                              14148 non-null  float64\n",
      " 50  rougher.output.tail_pb                              14149 non-null  float64\n",
      " 51  rougher.output.tail_sol                             14149 non-null  float64\n",
      " 52  rougher.output.tail_au                              14149 non-null  float64\n",
      " 53  rougher.state.floatbank10_a_air                     14148 non-null  float64\n",
      " 54  rougher.state.floatbank10_a_level                   14148 non-null  float64\n",
      " 55  rougher.state.floatbank10_b_air                     14148 non-null  float64\n",
      " 56  rougher.state.floatbank10_b_level                   14148 non-null  float64\n",
      " 57  rougher.state.floatbank10_c_air                     14148 non-null  float64\n",
      " 58  rougher.state.floatbank10_c_level                   14148 non-null  float64\n",
      " 59  rougher.state.floatbank10_d_air                     14149 non-null  float64\n",
      " 60  rougher.state.floatbank10_d_level                   14149 non-null  float64\n",
      " 61  rougher.state.floatbank10_e_air                     13713 non-null  float64\n",
      " 62  rougher.state.floatbank10_e_level                   14149 non-null  float64\n",
      " 63  rougher.state.floatbank10_f_air                     14149 non-null  float64\n",
      " 64  rougher.state.floatbank10_f_level                   14149 non-null  float64\n",
      " 65  secondary_cleaner.output.tail_ag                    14147 non-null  float64\n",
      " 66  secondary_cleaner.output.tail_pb                    14139 non-null  float64\n",
      " 67  secondary_cleaner.output.tail_sol                   12544 non-null  float64\n",
      " 68  secondary_cleaner.output.tail_au                    14149 non-null  float64\n",
      " 69  secondary_cleaner.state.floatbank2_a_air            13932 non-null  float64\n",
      " 70  secondary_cleaner.state.floatbank2_a_level          14148 non-null  float64\n",
      " 71  secondary_cleaner.state.floatbank2_b_air            14128 non-null  float64\n",
      " 72  secondary_cleaner.state.floatbank2_b_level          14148 non-null  float64\n",
      " 73  secondary_cleaner.state.floatbank3_a_air            14145 non-null  float64\n",
      " 74  secondary_cleaner.state.floatbank3_a_level          14148 non-null  float64\n",
      " 75  secondary_cleaner.state.floatbank3_b_air            14148 non-null  float64\n",
      " 76  secondary_cleaner.state.floatbank3_b_level          14148 non-null  float64\n",
      " 77  secondary_cleaner.state.floatbank4_a_air            14143 non-null  float64\n",
      " 78  secondary_cleaner.state.floatbank4_a_level          14148 non-null  float64\n",
      " 79  secondary_cleaner.state.floatbank4_b_air            14148 non-null  float64\n",
      " 80  secondary_cleaner.state.floatbank4_b_level          14148 non-null  float64\n",
      " 81  secondary_cleaner.state.floatbank5_a_air            14148 non-null  float64\n",
      " 82  secondary_cleaner.state.floatbank5_a_level          14148 non-null  float64\n",
      " 83  secondary_cleaner.state.floatbank5_b_air            14148 non-null  float64\n",
      " 84  secondary_cleaner.state.floatbank5_b_level          14148 non-null  float64\n",
      " 85  secondary_cleaner.state.floatbank6_a_air            14147 non-null  float64\n",
      " 86  secondary_cleaner.state.floatbank6_a_level          14148 non-null  float64\n",
      "dtypes: float64(86), object(1)\n",
      "memory usage: 9.4+ MB\n",
      "None\n"
     ]
    },
    {
     "data": {
      "text/html": [
       "<div>\n",
       "<style scoped>\n",
       "    .dataframe tbody tr th:only-of-type {\n",
       "        vertical-align: middle;\n",
       "    }\n",
       "\n",
       "    .dataframe tbody tr th {\n",
       "        vertical-align: top;\n",
       "    }\n",
       "\n",
       "    .dataframe thead th {\n",
       "        text-align: right;\n",
       "    }\n",
       "</style>\n",
       "<table border=\"1\" class=\"dataframe\">\n",
       "  <thead>\n",
       "    <tr style=\"text-align: right;\">\n",
       "      <th></th>\n",
       "      <th>date</th>\n",
       "      <th>final.output.concentrate_ag</th>\n",
       "      <th>final.output.concentrate_pb</th>\n",
       "      <th>final.output.concentrate_sol</th>\n",
       "      <th>final.output.concentrate_au</th>\n",
       "      <th>final.output.recovery</th>\n",
       "      <th>final.output.tail_ag</th>\n",
       "      <th>final.output.tail_pb</th>\n",
       "      <th>final.output.tail_sol</th>\n",
       "      <th>final.output.tail_au</th>\n",
       "      <th>...</th>\n",
       "      <th>secondary_cleaner.state.floatbank4_a_air</th>\n",
       "      <th>secondary_cleaner.state.floatbank4_a_level</th>\n",
       "      <th>secondary_cleaner.state.floatbank4_b_air</th>\n",
       "      <th>secondary_cleaner.state.floatbank4_b_level</th>\n",
       "      <th>secondary_cleaner.state.floatbank5_a_air</th>\n",
       "      <th>secondary_cleaner.state.floatbank5_a_level</th>\n",
       "      <th>secondary_cleaner.state.floatbank5_b_air</th>\n",
       "      <th>secondary_cleaner.state.floatbank5_b_level</th>\n",
       "      <th>secondary_cleaner.state.floatbank6_a_air</th>\n",
       "      <th>secondary_cleaner.state.floatbank6_a_level</th>\n",
       "    </tr>\n",
       "  </thead>\n",
       "  <tbody>\n",
       "    <tr>\n",
       "      <th>0</th>\n",
       "      <td>2016-01-15 00:00:00</td>\n",
       "      <td>6.055403</td>\n",
       "      <td>9.889648</td>\n",
       "      <td>5.507324</td>\n",
       "      <td>42.192020</td>\n",
       "      <td>70.541216</td>\n",
       "      <td>10.411962</td>\n",
       "      <td>0.895447</td>\n",
       "      <td>16.904297</td>\n",
       "      <td>2.143149</td>\n",
       "      <td>...</td>\n",
       "      <td>14.016835</td>\n",
       "      <td>-502.488007</td>\n",
       "      <td>12.099931</td>\n",
       "      <td>-504.715942</td>\n",
       "      <td>9.925633</td>\n",
       "      <td>-498.310211</td>\n",
       "      <td>8.079666</td>\n",
       "      <td>-500.470978</td>\n",
       "      <td>14.151341</td>\n",
       "      <td>-605.841980</td>\n",
       "    </tr>\n",
       "    <tr>\n",
       "      <th>1</th>\n",
       "      <td>2016-01-15 01:00:00</td>\n",
       "      <td>6.029369</td>\n",
       "      <td>9.968944</td>\n",
       "      <td>5.257781</td>\n",
       "      <td>42.701629</td>\n",
       "      <td>69.266198</td>\n",
       "      <td>10.462676</td>\n",
       "      <td>0.927452</td>\n",
       "      <td>16.634514</td>\n",
       "      <td>2.224930</td>\n",
       "      <td>...</td>\n",
       "      <td>13.992281</td>\n",
       "      <td>-505.503262</td>\n",
       "      <td>11.950531</td>\n",
       "      <td>-501.331529</td>\n",
       "      <td>10.039245</td>\n",
       "      <td>-500.169983</td>\n",
       "      <td>7.984757</td>\n",
       "      <td>-500.582168</td>\n",
       "      <td>13.998353</td>\n",
       "      <td>-599.787184</td>\n",
       "    </tr>\n",
       "    <tr>\n",
       "      <th>2</th>\n",
       "      <td>2016-01-15 02:00:00</td>\n",
       "      <td>6.055926</td>\n",
       "      <td>10.213995</td>\n",
       "      <td>5.383759</td>\n",
       "      <td>42.657501</td>\n",
       "      <td>68.116445</td>\n",
       "      <td>10.507046</td>\n",
       "      <td>0.953716</td>\n",
       "      <td>16.208849</td>\n",
       "      <td>2.257889</td>\n",
       "      <td>...</td>\n",
       "      <td>14.015015</td>\n",
       "      <td>-502.520901</td>\n",
       "      <td>11.912783</td>\n",
       "      <td>-501.133383</td>\n",
       "      <td>10.070913</td>\n",
       "      <td>-500.129135</td>\n",
       "      <td>8.013877</td>\n",
       "      <td>-500.517572</td>\n",
       "      <td>14.028663</td>\n",
       "      <td>-601.427363</td>\n",
       "    </tr>\n",
       "    <tr>\n",
       "      <th>3</th>\n",
       "      <td>2016-01-15 03:00:00</td>\n",
       "      <td>6.047977</td>\n",
       "      <td>9.977019</td>\n",
       "      <td>4.858634</td>\n",
       "      <td>42.689819</td>\n",
       "      <td>68.347543</td>\n",
       "      <td>10.422762</td>\n",
       "      <td>0.883763</td>\n",
       "      <td>16.532835</td>\n",
       "      <td>2.146849</td>\n",
       "      <td>...</td>\n",
       "      <td>14.036510</td>\n",
       "      <td>-500.857308</td>\n",
       "      <td>11.999550</td>\n",
       "      <td>-501.193686</td>\n",
       "      <td>9.970366</td>\n",
       "      <td>-499.201640</td>\n",
       "      <td>7.977324</td>\n",
       "      <td>-500.255908</td>\n",
       "      <td>14.005551</td>\n",
       "      <td>-599.996129</td>\n",
       "    </tr>\n",
       "    <tr>\n",
       "      <th>4</th>\n",
       "      <td>2016-01-15 04:00:00</td>\n",
       "      <td>6.148599</td>\n",
       "      <td>10.142511</td>\n",
       "      <td>4.939416</td>\n",
       "      <td>42.774141</td>\n",
       "      <td>66.927016</td>\n",
       "      <td>10.360302</td>\n",
       "      <td>0.792826</td>\n",
       "      <td>16.525686</td>\n",
       "      <td>2.055292</td>\n",
       "      <td>...</td>\n",
       "      <td>14.027298</td>\n",
       "      <td>-499.838632</td>\n",
       "      <td>11.953070</td>\n",
       "      <td>-501.053894</td>\n",
       "      <td>9.925709</td>\n",
       "      <td>-501.686727</td>\n",
       "      <td>7.894242</td>\n",
       "      <td>-500.356035</td>\n",
       "      <td>13.996647</td>\n",
       "      <td>-601.496691</td>\n",
       "    </tr>\n",
       "  </tbody>\n",
       "</table>\n",
       "<p>5 rows × 87 columns</p>\n",
       "</div>"
      ],
      "text/plain": [
       "                  date  final.output.concentrate_ag  \\\n",
       "0  2016-01-15 00:00:00                     6.055403   \n",
       "1  2016-01-15 01:00:00                     6.029369   \n",
       "2  2016-01-15 02:00:00                     6.055926   \n",
       "3  2016-01-15 03:00:00                     6.047977   \n",
       "4  2016-01-15 04:00:00                     6.148599   \n",
       "\n",
       "   final.output.concentrate_pb  final.output.concentrate_sol  \\\n",
       "0                     9.889648                      5.507324   \n",
       "1                     9.968944                      5.257781   \n",
       "2                    10.213995                      5.383759   \n",
       "3                     9.977019                      4.858634   \n",
       "4                    10.142511                      4.939416   \n",
       "\n",
       "   final.output.concentrate_au  final.output.recovery  final.output.tail_ag  \\\n",
       "0                    42.192020              70.541216             10.411962   \n",
       "1                    42.701629              69.266198             10.462676   \n",
       "2                    42.657501              68.116445             10.507046   \n",
       "3                    42.689819              68.347543             10.422762   \n",
       "4                    42.774141              66.927016             10.360302   \n",
       "\n",
       "   final.output.tail_pb  final.output.tail_sol  final.output.tail_au  ...  \\\n",
       "0              0.895447              16.904297              2.143149  ...   \n",
       "1              0.927452              16.634514              2.224930  ...   \n",
       "2              0.953716              16.208849              2.257889  ...   \n",
       "3              0.883763              16.532835              2.146849  ...   \n",
       "4              0.792826              16.525686              2.055292  ...   \n",
       "\n",
       "   secondary_cleaner.state.floatbank4_a_air  \\\n",
       "0                                 14.016835   \n",
       "1                                 13.992281   \n",
       "2                                 14.015015   \n",
       "3                                 14.036510   \n",
       "4                                 14.027298   \n",
       "\n",
       "   secondary_cleaner.state.floatbank4_a_level  \\\n",
       "0                                 -502.488007   \n",
       "1                                 -505.503262   \n",
       "2                                 -502.520901   \n",
       "3                                 -500.857308   \n",
       "4                                 -499.838632   \n",
       "\n",
       "   secondary_cleaner.state.floatbank4_b_air  \\\n",
       "0                                 12.099931   \n",
       "1                                 11.950531   \n",
       "2                                 11.912783   \n",
       "3                                 11.999550   \n",
       "4                                 11.953070   \n",
       "\n",
       "   secondary_cleaner.state.floatbank4_b_level  \\\n",
       "0                                 -504.715942   \n",
       "1                                 -501.331529   \n",
       "2                                 -501.133383   \n",
       "3                                 -501.193686   \n",
       "4                                 -501.053894   \n",
       "\n",
       "   secondary_cleaner.state.floatbank5_a_air  \\\n",
       "0                                  9.925633   \n",
       "1                                 10.039245   \n",
       "2                                 10.070913   \n",
       "3                                  9.970366   \n",
       "4                                  9.925709   \n",
       "\n",
       "   secondary_cleaner.state.floatbank5_a_level  \\\n",
       "0                                 -498.310211   \n",
       "1                                 -500.169983   \n",
       "2                                 -500.129135   \n",
       "3                                 -499.201640   \n",
       "4                                 -501.686727   \n",
       "\n",
       "   secondary_cleaner.state.floatbank5_b_air  \\\n",
       "0                                  8.079666   \n",
       "1                                  7.984757   \n",
       "2                                  8.013877   \n",
       "3                                  7.977324   \n",
       "4                                  7.894242   \n",
       "\n",
       "   secondary_cleaner.state.floatbank5_b_level  \\\n",
       "0                                 -500.470978   \n",
       "1                                 -500.582168   \n",
       "2                                 -500.517572   \n",
       "3                                 -500.255908   \n",
       "4                                 -500.356035   \n",
       "\n",
       "   secondary_cleaner.state.floatbank6_a_air  \\\n",
       "0                                 14.151341   \n",
       "1                                 13.998353   \n",
       "2                                 14.028663   \n",
       "3                                 14.005551   \n",
       "4                                 13.996647   \n",
       "\n",
       "   secondary_cleaner.state.floatbank6_a_level  \n",
       "0                                 -605.841980  \n",
       "1                                 -599.787184  \n",
       "2                                 -601.427363  \n",
       "3                                 -599.996129  \n",
       "4                                 -601.496691  \n",
       "\n",
       "[5 rows x 87 columns]"
      ]
     },
     "metadata": {},
     "output_type": "display_data"
    },
    {
     "name": "stdout",
     "output_type": "stream",
     "text": [
      "\n",
      "<class 'pandas.core.frame.DataFrame'>\n",
      "RangeIndex: 5290 entries, 0 to 5289\n",
      "Data columns (total 53 columns):\n",
      " #   Column                                      Non-Null Count  Dtype  \n",
      "---  ------                                      --------------  -----  \n",
      " 0   date                                        5290 non-null   object \n",
      " 1   primary_cleaner.input.sulfate               5286 non-null   float64\n",
      " 2   primary_cleaner.input.depressant            5285 non-null   float64\n",
      " 3   primary_cleaner.input.feed_size             5290 non-null   float64\n",
      " 4   primary_cleaner.input.xanthate              5286 non-null   float64\n",
      " 5   primary_cleaner.state.floatbank8_a_air      5290 non-null   float64\n",
      " 6   primary_cleaner.state.floatbank8_a_level    5290 non-null   float64\n",
      " 7   primary_cleaner.state.floatbank8_b_air      5290 non-null   float64\n",
      " 8   primary_cleaner.state.floatbank8_b_level    5290 non-null   float64\n",
      " 9   primary_cleaner.state.floatbank8_c_air      5290 non-null   float64\n",
      " 10  primary_cleaner.state.floatbank8_c_level    5290 non-null   float64\n",
      " 11  primary_cleaner.state.floatbank8_d_air      5290 non-null   float64\n",
      " 12  primary_cleaner.state.floatbank8_d_level    5290 non-null   float64\n",
      " 13  rougher.input.feed_ag                       5290 non-null   float64\n",
      " 14  rougher.input.feed_pb                       5290 non-null   float64\n",
      " 15  rougher.input.feed_rate                     5287 non-null   float64\n",
      " 16  rougher.input.feed_size                     5289 non-null   float64\n",
      " 17  rougher.input.feed_sol                      5269 non-null   float64\n",
      " 18  rougher.input.feed_au                       5290 non-null   float64\n",
      " 19  rougher.input.floatbank10_sulfate           5285 non-null   float64\n",
      " 20  rougher.input.floatbank10_xanthate          5290 non-null   float64\n",
      " 21  rougher.input.floatbank11_sulfate           5282 non-null   float64\n",
      " 22  rougher.input.floatbank11_xanthate          5265 non-null   float64\n",
      " 23  rougher.state.floatbank10_a_air             5290 non-null   float64\n",
      " 24  rougher.state.floatbank10_a_level           5290 non-null   float64\n",
      " 25  rougher.state.floatbank10_b_air             5290 non-null   float64\n",
      " 26  rougher.state.floatbank10_b_level           5290 non-null   float64\n",
      " 27  rougher.state.floatbank10_c_air             5290 non-null   float64\n",
      " 28  rougher.state.floatbank10_c_level           5290 non-null   float64\n",
      " 29  rougher.state.floatbank10_d_air             5290 non-null   float64\n",
      " 30  rougher.state.floatbank10_d_level           5290 non-null   float64\n",
      " 31  rougher.state.floatbank10_e_air             5290 non-null   float64\n",
      " 32  rougher.state.floatbank10_e_level           5290 non-null   float64\n",
      " 33  rougher.state.floatbank10_f_air             5290 non-null   float64\n",
      " 34  rougher.state.floatbank10_f_level           5290 non-null   float64\n",
      " 35  secondary_cleaner.state.floatbank2_a_air    5287 non-null   float64\n",
      " 36  secondary_cleaner.state.floatbank2_a_level  5290 non-null   float64\n",
      " 37  secondary_cleaner.state.floatbank2_b_air    5288 non-null   float64\n",
      " 38  secondary_cleaner.state.floatbank2_b_level  5290 non-null   float64\n",
      " 39  secondary_cleaner.state.floatbank3_a_air    5281 non-null   float64\n",
      " 40  secondary_cleaner.state.floatbank3_a_level  5290 non-null   float64\n",
      " 41  secondary_cleaner.state.floatbank3_b_air    5290 non-null   float64\n",
      " 42  secondary_cleaner.state.floatbank3_b_level  5290 non-null   float64\n",
      " 43  secondary_cleaner.state.floatbank4_a_air    5290 non-null   float64\n",
      " 44  secondary_cleaner.state.floatbank4_a_level  5290 non-null   float64\n",
      " 45  secondary_cleaner.state.floatbank4_b_air    5290 non-null   float64\n",
      " 46  secondary_cleaner.state.floatbank4_b_level  5290 non-null   float64\n",
      " 47  secondary_cleaner.state.floatbank5_a_air    5290 non-null   float64\n",
      " 48  secondary_cleaner.state.floatbank5_a_level  5290 non-null   float64\n",
      " 49  secondary_cleaner.state.floatbank5_b_air    5290 non-null   float64\n",
      " 50  secondary_cleaner.state.floatbank5_b_level  5290 non-null   float64\n",
      " 51  secondary_cleaner.state.floatbank6_a_air    5290 non-null   float64\n",
      " 52  secondary_cleaner.state.floatbank6_a_level  5290 non-null   float64\n",
      "dtypes: float64(52), object(1)\n",
      "memory usage: 2.1+ MB\n",
      "None\n"
     ]
    },
    {
     "data": {
      "text/html": [
       "<div>\n",
       "<style scoped>\n",
       "    .dataframe tbody tr th:only-of-type {\n",
       "        vertical-align: middle;\n",
       "    }\n",
       "\n",
       "    .dataframe tbody tr th {\n",
       "        vertical-align: top;\n",
       "    }\n",
       "\n",
       "    .dataframe thead th {\n",
       "        text-align: right;\n",
       "    }\n",
       "</style>\n",
       "<table border=\"1\" class=\"dataframe\">\n",
       "  <thead>\n",
       "    <tr style=\"text-align: right;\">\n",
       "      <th></th>\n",
       "      <th>date</th>\n",
       "      <th>primary_cleaner.input.sulfate</th>\n",
       "      <th>primary_cleaner.input.depressant</th>\n",
       "      <th>primary_cleaner.input.feed_size</th>\n",
       "      <th>primary_cleaner.input.xanthate</th>\n",
       "      <th>primary_cleaner.state.floatbank8_a_air</th>\n",
       "      <th>primary_cleaner.state.floatbank8_a_level</th>\n",
       "      <th>primary_cleaner.state.floatbank8_b_air</th>\n",
       "      <th>primary_cleaner.state.floatbank8_b_level</th>\n",
       "      <th>primary_cleaner.state.floatbank8_c_air</th>\n",
       "      <th>...</th>\n",
       "      <th>secondary_cleaner.state.floatbank4_a_air</th>\n",
       "      <th>secondary_cleaner.state.floatbank4_a_level</th>\n",
       "      <th>secondary_cleaner.state.floatbank4_b_air</th>\n",
       "      <th>secondary_cleaner.state.floatbank4_b_level</th>\n",
       "      <th>secondary_cleaner.state.floatbank5_a_air</th>\n",
       "      <th>secondary_cleaner.state.floatbank5_a_level</th>\n",
       "      <th>secondary_cleaner.state.floatbank5_b_air</th>\n",
       "      <th>secondary_cleaner.state.floatbank5_b_level</th>\n",
       "      <th>secondary_cleaner.state.floatbank6_a_air</th>\n",
       "      <th>secondary_cleaner.state.floatbank6_a_level</th>\n",
       "    </tr>\n",
       "  </thead>\n",
       "  <tbody>\n",
       "    <tr>\n",
       "      <th>0</th>\n",
       "      <td>2016-09-01 00:59:59</td>\n",
       "      <td>210.800909</td>\n",
       "      <td>14.993118</td>\n",
       "      <td>8.080000</td>\n",
       "      <td>1.005021</td>\n",
       "      <td>1398.981301</td>\n",
       "      <td>-500.225577</td>\n",
       "      <td>1399.144926</td>\n",
       "      <td>-499.919735</td>\n",
       "      <td>1400.102998</td>\n",
       "      <td>...</td>\n",
       "      <td>12.023554</td>\n",
       "      <td>-497.795834</td>\n",
       "      <td>8.016656</td>\n",
       "      <td>-501.289139</td>\n",
       "      <td>7.946562</td>\n",
       "      <td>-432.317850</td>\n",
       "      <td>4.872511</td>\n",
       "      <td>-500.037437</td>\n",
       "      <td>26.705889</td>\n",
       "      <td>-499.709414</td>\n",
       "    </tr>\n",
       "    <tr>\n",
       "      <th>1</th>\n",
       "      <td>2016-09-01 01:59:59</td>\n",
       "      <td>215.392455</td>\n",
       "      <td>14.987471</td>\n",
       "      <td>8.080000</td>\n",
       "      <td>0.990469</td>\n",
       "      <td>1398.777912</td>\n",
       "      <td>-500.057435</td>\n",
       "      <td>1398.055362</td>\n",
       "      <td>-499.778182</td>\n",
       "      <td>1396.151033</td>\n",
       "      <td>...</td>\n",
       "      <td>12.058140</td>\n",
       "      <td>-498.695773</td>\n",
       "      <td>8.130979</td>\n",
       "      <td>-499.634209</td>\n",
       "      <td>7.958270</td>\n",
       "      <td>-525.839648</td>\n",
       "      <td>4.878850</td>\n",
       "      <td>-500.162375</td>\n",
       "      <td>25.019940</td>\n",
       "      <td>-499.819438</td>\n",
       "    </tr>\n",
       "    <tr>\n",
       "      <th>2</th>\n",
       "      <td>2016-09-01 02:59:59</td>\n",
       "      <td>215.259946</td>\n",
       "      <td>12.884934</td>\n",
       "      <td>7.786667</td>\n",
       "      <td>0.996043</td>\n",
       "      <td>1398.493666</td>\n",
       "      <td>-500.868360</td>\n",
       "      <td>1398.860436</td>\n",
       "      <td>-499.764529</td>\n",
       "      <td>1398.075709</td>\n",
       "      <td>...</td>\n",
       "      <td>11.962366</td>\n",
       "      <td>-498.767484</td>\n",
       "      <td>8.096893</td>\n",
       "      <td>-500.827423</td>\n",
       "      <td>8.071056</td>\n",
       "      <td>-500.801673</td>\n",
       "      <td>4.905125</td>\n",
       "      <td>-499.828510</td>\n",
       "      <td>24.994862</td>\n",
       "      <td>-500.622559</td>\n",
       "    </tr>\n",
       "    <tr>\n",
       "      <th>3</th>\n",
       "      <td>2016-09-01 03:59:59</td>\n",
       "      <td>215.336236</td>\n",
       "      <td>12.006805</td>\n",
       "      <td>7.640000</td>\n",
       "      <td>0.863514</td>\n",
       "      <td>1399.618111</td>\n",
       "      <td>-498.863574</td>\n",
       "      <td>1397.440120</td>\n",
       "      <td>-499.211024</td>\n",
       "      <td>1400.129303</td>\n",
       "      <td>...</td>\n",
       "      <td>12.033091</td>\n",
       "      <td>-498.350935</td>\n",
       "      <td>8.074946</td>\n",
       "      <td>-499.474407</td>\n",
       "      <td>7.897085</td>\n",
       "      <td>-500.868509</td>\n",
       "      <td>4.931400</td>\n",
       "      <td>-499.963623</td>\n",
       "      <td>24.948919</td>\n",
       "      <td>-498.709987</td>\n",
       "    </tr>\n",
       "    <tr>\n",
       "      <th>4</th>\n",
       "      <td>2016-09-01 04:59:59</td>\n",
       "      <td>199.099327</td>\n",
       "      <td>10.682530</td>\n",
       "      <td>7.530000</td>\n",
       "      <td>0.805575</td>\n",
       "      <td>1401.268123</td>\n",
       "      <td>-500.808305</td>\n",
       "      <td>1398.128818</td>\n",
       "      <td>-499.504543</td>\n",
       "      <td>1402.172226</td>\n",
       "      <td>...</td>\n",
       "      <td>12.025367</td>\n",
       "      <td>-500.786497</td>\n",
       "      <td>8.054678</td>\n",
       "      <td>-500.397500</td>\n",
       "      <td>8.107890</td>\n",
       "      <td>-509.526725</td>\n",
       "      <td>4.957674</td>\n",
       "      <td>-500.360026</td>\n",
       "      <td>25.003331</td>\n",
       "      <td>-500.856333</td>\n",
       "    </tr>\n",
       "  </tbody>\n",
       "</table>\n",
       "<p>5 rows × 53 columns</p>\n",
       "</div>"
      ],
      "text/plain": [
       "                  date  primary_cleaner.input.sulfate  \\\n",
       "0  2016-09-01 00:59:59                     210.800909   \n",
       "1  2016-09-01 01:59:59                     215.392455   \n",
       "2  2016-09-01 02:59:59                     215.259946   \n",
       "3  2016-09-01 03:59:59                     215.336236   \n",
       "4  2016-09-01 04:59:59                     199.099327   \n",
       "\n",
       "   primary_cleaner.input.depressant  primary_cleaner.input.feed_size  \\\n",
       "0                         14.993118                         8.080000   \n",
       "1                         14.987471                         8.080000   \n",
       "2                         12.884934                         7.786667   \n",
       "3                         12.006805                         7.640000   \n",
       "4                         10.682530                         7.530000   \n",
       "\n",
       "   primary_cleaner.input.xanthate  primary_cleaner.state.floatbank8_a_air  \\\n",
       "0                        1.005021                             1398.981301   \n",
       "1                        0.990469                             1398.777912   \n",
       "2                        0.996043                             1398.493666   \n",
       "3                        0.863514                             1399.618111   \n",
       "4                        0.805575                             1401.268123   \n",
       "\n",
       "   primary_cleaner.state.floatbank8_a_level  \\\n",
       "0                               -500.225577   \n",
       "1                               -500.057435   \n",
       "2                               -500.868360   \n",
       "3                               -498.863574   \n",
       "4                               -500.808305   \n",
       "\n",
       "   primary_cleaner.state.floatbank8_b_air  \\\n",
       "0                             1399.144926   \n",
       "1                             1398.055362   \n",
       "2                             1398.860436   \n",
       "3                             1397.440120   \n",
       "4                             1398.128818   \n",
       "\n",
       "   primary_cleaner.state.floatbank8_b_level  \\\n",
       "0                               -499.919735   \n",
       "1                               -499.778182   \n",
       "2                               -499.764529   \n",
       "3                               -499.211024   \n",
       "4                               -499.504543   \n",
       "\n",
       "   primary_cleaner.state.floatbank8_c_air  ...  \\\n",
       "0                             1400.102998  ...   \n",
       "1                             1396.151033  ...   \n",
       "2                             1398.075709  ...   \n",
       "3                             1400.129303  ...   \n",
       "4                             1402.172226  ...   \n",
       "\n",
       "   secondary_cleaner.state.floatbank4_a_air  \\\n",
       "0                                 12.023554   \n",
       "1                                 12.058140   \n",
       "2                                 11.962366   \n",
       "3                                 12.033091   \n",
       "4                                 12.025367   \n",
       "\n",
       "   secondary_cleaner.state.floatbank4_a_level  \\\n",
       "0                                 -497.795834   \n",
       "1                                 -498.695773   \n",
       "2                                 -498.767484   \n",
       "3                                 -498.350935   \n",
       "4                                 -500.786497   \n",
       "\n",
       "   secondary_cleaner.state.floatbank4_b_air  \\\n",
       "0                                  8.016656   \n",
       "1                                  8.130979   \n",
       "2                                  8.096893   \n",
       "3                                  8.074946   \n",
       "4                                  8.054678   \n",
       "\n",
       "   secondary_cleaner.state.floatbank4_b_level  \\\n",
       "0                                 -501.289139   \n",
       "1                                 -499.634209   \n",
       "2                                 -500.827423   \n",
       "3                                 -499.474407   \n",
       "4                                 -500.397500   \n",
       "\n",
       "   secondary_cleaner.state.floatbank5_a_air  \\\n",
       "0                                  7.946562   \n",
       "1                                  7.958270   \n",
       "2                                  8.071056   \n",
       "3                                  7.897085   \n",
       "4                                  8.107890   \n",
       "\n",
       "   secondary_cleaner.state.floatbank5_a_level  \\\n",
       "0                                 -432.317850   \n",
       "1                                 -525.839648   \n",
       "2                                 -500.801673   \n",
       "3                                 -500.868509   \n",
       "4                                 -509.526725   \n",
       "\n",
       "   secondary_cleaner.state.floatbank5_b_air  \\\n",
       "0                                  4.872511   \n",
       "1                                  4.878850   \n",
       "2                                  4.905125   \n",
       "3                                  4.931400   \n",
       "4                                  4.957674   \n",
       "\n",
       "   secondary_cleaner.state.floatbank5_b_level  \\\n",
       "0                                 -500.037437   \n",
       "1                                 -500.162375   \n",
       "2                                 -499.828510   \n",
       "3                                 -499.963623   \n",
       "4                                 -500.360026   \n",
       "\n",
       "   secondary_cleaner.state.floatbank6_a_air  \\\n",
       "0                                 26.705889   \n",
       "1                                 25.019940   \n",
       "2                                 24.994862   \n",
       "3                                 24.948919   \n",
       "4                                 25.003331   \n",
       "\n",
       "   secondary_cleaner.state.floatbank6_a_level  \n",
       "0                                 -499.709414  \n",
       "1                                 -499.819438  \n",
       "2                                 -500.622559  \n",
       "3                                 -498.709987  \n",
       "4                                 -500.856333  \n",
       "\n",
       "[5 rows x 53 columns]"
      ]
     },
     "metadata": {},
     "output_type": "display_data"
    },
    {
     "name": "stdout",
     "output_type": "stream",
     "text": [
      "\n",
      "<class 'pandas.core.frame.DataFrame'>\n",
      "RangeIndex: 19439 entries, 0 to 19438\n",
      "Data columns (total 87 columns):\n",
      " #   Column                                              Non-Null Count  Dtype  \n",
      "---  ------                                              --------------  -----  \n",
      " 0   date                                                19439 non-null  object \n",
      " 1   final.output.concentrate_ag                         19438 non-null  float64\n",
      " 2   final.output.concentrate_pb                         19438 non-null  float64\n",
      " 3   final.output.concentrate_sol                        19228 non-null  float64\n",
      " 4   final.output.concentrate_au                         19439 non-null  float64\n",
      " 5   final.output.recovery                               19439 non-null  float64\n",
      " 6   final.output.tail_ag                                19438 non-null  float64\n",
      " 7   final.output.tail_pb                                19338 non-null  float64\n",
      " 8   final.output.tail_sol                               19433 non-null  float64\n",
      " 9   final.output.tail_au                                19439 non-null  float64\n",
      " 10  primary_cleaner.input.sulfate                       19415 non-null  float64\n",
      " 11  primary_cleaner.input.depressant                    19402 non-null  float64\n",
      " 12  primary_cleaner.input.feed_size                     19439 non-null  float64\n",
      " 13  primary_cleaner.input.xanthate                      19335 non-null  float64\n",
      " 14  primary_cleaner.output.concentrate_ag               19439 non-null  float64\n",
      " 15  primary_cleaner.output.concentrate_pb               19323 non-null  float64\n",
      " 16  primary_cleaner.output.concentrate_sol              19069 non-null  float64\n",
      " 17  primary_cleaner.output.concentrate_au               19439 non-null  float64\n",
      " 18  primary_cleaner.output.tail_ag                      19435 non-null  float64\n",
      " 19  primary_cleaner.output.tail_pb                      19418 non-null  float64\n",
      " 20  primary_cleaner.output.tail_sol                     19377 non-null  float64\n",
      " 21  primary_cleaner.output.tail_au                      19439 non-null  float64\n",
      " 22  primary_cleaner.state.floatbank8_a_air              19435 non-null  float64\n",
      " 23  primary_cleaner.state.floatbank8_a_level            19438 non-null  float64\n",
      " 24  primary_cleaner.state.floatbank8_b_air              19435 non-null  float64\n",
      " 25  primary_cleaner.state.floatbank8_b_level            19438 non-null  float64\n",
      " 26  primary_cleaner.state.floatbank8_c_air              19437 non-null  float64\n",
      " 27  primary_cleaner.state.floatbank8_c_level            19438 non-null  float64\n",
      " 28  primary_cleaner.state.floatbank8_d_air              19436 non-null  float64\n",
      " 29  primary_cleaner.state.floatbank8_d_level            19438 non-null  float64\n",
      " 30  rougher.calculation.sulfate_to_au_concentrate       19437 non-null  float64\n",
      " 31  rougher.calculation.floatbank10_sulfate_to_au_feed  19437 non-null  float64\n",
      " 32  rougher.calculation.floatbank11_sulfate_to_au_feed  19437 non-null  float64\n",
      " 33  rougher.calculation.au_pb_ratio                     19439 non-null  float64\n",
      " 34  rougher.input.feed_ag                               19439 non-null  float64\n",
      " 35  rougher.input.feed_pb                               19339 non-null  float64\n",
      " 36  rougher.input.feed_rate                             19428 non-null  float64\n",
      " 37  rougher.input.feed_size                             19294 non-null  float64\n",
      " 38  rougher.input.feed_sol                              19340 non-null  float64\n",
      " 39  rougher.input.feed_au                               19439 non-null  float64\n",
      " 40  rougher.input.floatbank10_sulfate                   19405 non-null  float64\n",
      " 41  rougher.input.floatbank10_xanthate                  19431 non-null  float64\n",
      " 42  rougher.input.floatbank11_sulfate                   19395 non-null  float64\n",
      " 43  rougher.input.floatbank11_xanthate                  18986 non-null  float64\n",
      " 44  rougher.output.concentrate_ag                       19439 non-null  float64\n",
      " 45  rougher.output.concentrate_pb                       19439 non-null  float64\n",
      " 46  rougher.output.concentrate_sol                      19416 non-null  float64\n",
      " 47  rougher.output.concentrate_au                       19439 non-null  float64\n",
      " 48  rougher.output.recovery                             19439 non-null  float64\n",
      " 49  rougher.output.tail_ag                              19438 non-null  float64\n",
      " 50  rougher.output.tail_pb                              19439 non-null  float64\n",
      " 51  rougher.output.tail_sol                             19439 non-null  float64\n",
      " 52  rougher.output.tail_au                              19439 non-null  float64\n",
      " 53  rougher.state.floatbank10_a_air                     19438 non-null  float64\n",
      " 54  rougher.state.floatbank10_a_level                   19438 non-null  float64\n",
      " 55  rougher.state.floatbank10_b_air                     19438 non-null  float64\n",
      " 56  rougher.state.floatbank10_b_level                   19438 non-null  float64\n",
      " 57  rougher.state.floatbank10_c_air                     19438 non-null  float64\n",
      " 58  rougher.state.floatbank10_c_level                   19438 non-null  float64\n",
      " 59  rougher.state.floatbank10_d_air                     19439 non-null  float64\n",
      " 60  rougher.state.floatbank10_d_level                   19439 non-null  float64\n",
      " 61  rougher.state.floatbank10_e_air                     19003 non-null  float64\n",
      " 62  rougher.state.floatbank10_e_level                   19439 non-null  float64\n",
      " 63  rougher.state.floatbank10_f_air                     19439 non-null  float64\n",
      " 64  rougher.state.floatbank10_f_level                   19439 non-null  float64\n",
      " 65  secondary_cleaner.output.tail_ag                    19437 non-null  float64\n",
      " 66  secondary_cleaner.output.tail_pb                    19427 non-null  float64\n",
      " 67  secondary_cleaner.output.tail_sol                   17691 non-null  float64\n",
      " 68  secondary_cleaner.output.tail_au                    19439 non-null  float64\n",
      " 69  secondary_cleaner.state.floatbank2_a_air            19219 non-null  float64\n",
      " 70  secondary_cleaner.state.floatbank2_a_level          19438 non-null  float64\n",
      " 71  secondary_cleaner.state.floatbank2_b_air            19416 non-null  float64\n",
      " 72  secondary_cleaner.state.floatbank2_b_level          19438 non-null  float64\n",
      " 73  secondary_cleaner.state.floatbank3_a_air            19426 non-null  float64\n",
      " 74  secondary_cleaner.state.floatbank3_a_level          19438 non-null  float64\n",
      " 75  secondary_cleaner.state.floatbank3_b_air            19438 non-null  float64\n",
      " 76  secondary_cleaner.state.floatbank3_b_level          19438 non-null  float64\n",
      " 77  secondary_cleaner.state.floatbank4_a_air            19433 non-null  float64\n",
      " 78  secondary_cleaner.state.floatbank4_a_level          19438 non-null  float64\n",
      " 79  secondary_cleaner.state.floatbank4_b_air            19438 non-null  float64\n",
      " 80  secondary_cleaner.state.floatbank4_b_level          19438 non-null  float64\n",
      " 81  secondary_cleaner.state.floatbank5_a_air            19438 non-null  float64\n",
      " 82  secondary_cleaner.state.floatbank5_a_level          19438 non-null  float64\n",
      " 83  secondary_cleaner.state.floatbank5_b_air            19438 non-null  float64\n",
      " 84  secondary_cleaner.state.floatbank5_b_level          19438 non-null  float64\n",
      " 85  secondary_cleaner.state.floatbank6_a_air            19437 non-null  float64\n",
      " 86  secondary_cleaner.state.floatbank6_a_level          19438 non-null  float64\n",
      "dtypes: float64(86), object(1)\n",
      "memory usage: 12.9+ MB\n",
      "None\n"
     ]
    },
    {
     "data": {
      "text/html": [
       "<div>\n",
       "<style scoped>\n",
       "    .dataframe tbody tr th:only-of-type {\n",
       "        vertical-align: middle;\n",
       "    }\n",
       "\n",
       "    .dataframe tbody tr th {\n",
       "        vertical-align: top;\n",
       "    }\n",
       "\n",
       "    .dataframe thead th {\n",
       "        text-align: right;\n",
       "    }\n",
       "</style>\n",
       "<table border=\"1\" class=\"dataframe\">\n",
       "  <thead>\n",
       "    <tr style=\"text-align: right;\">\n",
       "      <th></th>\n",
       "      <th>date</th>\n",
       "      <th>final.output.concentrate_ag</th>\n",
       "      <th>final.output.concentrate_pb</th>\n",
       "      <th>final.output.concentrate_sol</th>\n",
       "      <th>final.output.concentrate_au</th>\n",
       "      <th>final.output.recovery</th>\n",
       "      <th>final.output.tail_ag</th>\n",
       "      <th>final.output.tail_pb</th>\n",
       "      <th>final.output.tail_sol</th>\n",
       "      <th>final.output.tail_au</th>\n",
       "      <th>...</th>\n",
       "      <th>secondary_cleaner.state.floatbank4_a_air</th>\n",
       "      <th>secondary_cleaner.state.floatbank4_a_level</th>\n",
       "      <th>secondary_cleaner.state.floatbank4_b_air</th>\n",
       "      <th>secondary_cleaner.state.floatbank4_b_level</th>\n",
       "      <th>secondary_cleaner.state.floatbank5_a_air</th>\n",
       "      <th>secondary_cleaner.state.floatbank5_a_level</th>\n",
       "      <th>secondary_cleaner.state.floatbank5_b_air</th>\n",
       "      <th>secondary_cleaner.state.floatbank5_b_level</th>\n",
       "      <th>secondary_cleaner.state.floatbank6_a_air</th>\n",
       "      <th>secondary_cleaner.state.floatbank6_a_level</th>\n",
       "    </tr>\n",
       "  </thead>\n",
       "  <tbody>\n",
       "    <tr>\n",
       "      <th>0</th>\n",
       "      <td>2016-01-15 00:00:00</td>\n",
       "      <td>6.055403</td>\n",
       "      <td>9.889648</td>\n",
       "      <td>5.507324</td>\n",
       "      <td>42.192020</td>\n",
       "      <td>70.541216</td>\n",
       "      <td>10.411962</td>\n",
       "      <td>0.895447</td>\n",
       "      <td>16.904297</td>\n",
       "      <td>2.143149</td>\n",
       "      <td>...</td>\n",
       "      <td>14.016835</td>\n",
       "      <td>-502.488007</td>\n",
       "      <td>12.099931</td>\n",
       "      <td>-504.715942</td>\n",
       "      <td>9.925633</td>\n",
       "      <td>-498.310211</td>\n",
       "      <td>8.079666</td>\n",
       "      <td>-500.470978</td>\n",
       "      <td>14.151341</td>\n",
       "      <td>-605.841980</td>\n",
       "    </tr>\n",
       "    <tr>\n",
       "      <th>1</th>\n",
       "      <td>2016-01-15 01:00:00</td>\n",
       "      <td>6.029369</td>\n",
       "      <td>9.968944</td>\n",
       "      <td>5.257781</td>\n",
       "      <td>42.701629</td>\n",
       "      <td>69.266198</td>\n",
       "      <td>10.462676</td>\n",
       "      <td>0.927452</td>\n",
       "      <td>16.634514</td>\n",
       "      <td>2.224930</td>\n",
       "      <td>...</td>\n",
       "      <td>13.992281</td>\n",
       "      <td>-505.503262</td>\n",
       "      <td>11.950531</td>\n",
       "      <td>-501.331529</td>\n",
       "      <td>10.039245</td>\n",
       "      <td>-500.169983</td>\n",
       "      <td>7.984757</td>\n",
       "      <td>-500.582168</td>\n",
       "      <td>13.998353</td>\n",
       "      <td>-599.787184</td>\n",
       "    </tr>\n",
       "    <tr>\n",
       "      <th>2</th>\n",
       "      <td>2016-01-15 02:00:00</td>\n",
       "      <td>6.055926</td>\n",
       "      <td>10.213995</td>\n",
       "      <td>5.383759</td>\n",
       "      <td>42.657501</td>\n",
       "      <td>68.116445</td>\n",
       "      <td>10.507046</td>\n",
       "      <td>0.953716</td>\n",
       "      <td>16.208849</td>\n",
       "      <td>2.257889</td>\n",
       "      <td>...</td>\n",
       "      <td>14.015015</td>\n",
       "      <td>-502.520901</td>\n",
       "      <td>11.912783</td>\n",
       "      <td>-501.133383</td>\n",
       "      <td>10.070913</td>\n",
       "      <td>-500.129135</td>\n",
       "      <td>8.013877</td>\n",
       "      <td>-500.517572</td>\n",
       "      <td>14.028663</td>\n",
       "      <td>-601.427363</td>\n",
       "    </tr>\n",
       "    <tr>\n",
       "      <th>3</th>\n",
       "      <td>2016-01-15 03:00:00</td>\n",
       "      <td>6.047977</td>\n",
       "      <td>9.977019</td>\n",
       "      <td>4.858634</td>\n",
       "      <td>42.689819</td>\n",
       "      <td>68.347543</td>\n",
       "      <td>10.422762</td>\n",
       "      <td>0.883763</td>\n",
       "      <td>16.532835</td>\n",
       "      <td>2.146849</td>\n",
       "      <td>...</td>\n",
       "      <td>14.036510</td>\n",
       "      <td>-500.857308</td>\n",
       "      <td>11.999550</td>\n",
       "      <td>-501.193686</td>\n",
       "      <td>9.970366</td>\n",
       "      <td>-499.201640</td>\n",
       "      <td>7.977324</td>\n",
       "      <td>-500.255908</td>\n",
       "      <td>14.005551</td>\n",
       "      <td>-599.996129</td>\n",
       "    </tr>\n",
       "    <tr>\n",
       "      <th>4</th>\n",
       "      <td>2016-01-15 04:00:00</td>\n",
       "      <td>6.148599</td>\n",
       "      <td>10.142511</td>\n",
       "      <td>4.939416</td>\n",
       "      <td>42.774141</td>\n",
       "      <td>66.927016</td>\n",
       "      <td>10.360302</td>\n",
       "      <td>0.792826</td>\n",
       "      <td>16.525686</td>\n",
       "      <td>2.055292</td>\n",
       "      <td>...</td>\n",
       "      <td>14.027298</td>\n",
       "      <td>-499.838632</td>\n",
       "      <td>11.953070</td>\n",
       "      <td>-501.053894</td>\n",
       "      <td>9.925709</td>\n",
       "      <td>-501.686727</td>\n",
       "      <td>7.894242</td>\n",
       "      <td>-500.356035</td>\n",
       "      <td>13.996647</td>\n",
       "      <td>-601.496691</td>\n",
       "    </tr>\n",
       "  </tbody>\n",
       "</table>\n",
       "<p>5 rows × 87 columns</p>\n",
       "</div>"
      ],
      "text/plain": [
       "                  date  final.output.concentrate_ag  \\\n",
       "0  2016-01-15 00:00:00                     6.055403   \n",
       "1  2016-01-15 01:00:00                     6.029369   \n",
       "2  2016-01-15 02:00:00                     6.055926   \n",
       "3  2016-01-15 03:00:00                     6.047977   \n",
       "4  2016-01-15 04:00:00                     6.148599   \n",
       "\n",
       "   final.output.concentrate_pb  final.output.concentrate_sol  \\\n",
       "0                     9.889648                      5.507324   \n",
       "1                     9.968944                      5.257781   \n",
       "2                    10.213995                      5.383759   \n",
       "3                     9.977019                      4.858634   \n",
       "4                    10.142511                      4.939416   \n",
       "\n",
       "   final.output.concentrate_au  final.output.recovery  final.output.tail_ag  \\\n",
       "0                    42.192020              70.541216             10.411962   \n",
       "1                    42.701629              69.266198             10.462676   \n",
       "2                    42.657501              68.116445             10.507046   \n",
       "3                    42.689819              68.347543             10.422762   \n",
       "4                    42.774141              66.927016             10.360302   \n",
       "\n",
       "   final.output.tail_pb  final.output.tail_sol  final.output.tail_au  ...  \\\n",
       "0              0.895447              16.904297              2.143149  ...   \n",
       "1              0.927452              16.634514              2.224930  ...   \n",
       "2              0.953716              16.208849              2.257889  ...   \n",
       "3              0.883763              16.532835              2.146849  ...   \n",
       "4              0.792826              16.525686              2.055292  ...   \n",
       "\n",
       "   secondary_cleaner.state.floatbank4_a_air  \\\n",
       "0                                 14.016835   \n",
       "1                                 13.992281   \n",
       "2                                 14.015015   \n",
       "3                                 14.036510   \n",
       "4                                 14.027298   \n",
       "\n",
       "   secondary_cleaner.state.floatbank4_a_level  \\\n",
       "0                                 -502.488007   \n",
       "1                                 -505.503262   \n",
       "2                                 -502.520901   \n",
       "3                                 -500.857308   \n",
       "4                                 -499.838632   \n",
       "\n",
       "   secondary_cleaner.state.floatbank4_b_air  \\\n",
       "0                                 12.099931   \n",
       "1                                 11.950531   \n",
       "2                                 11.912783   \n",
       "3                                 11.999550   \n",
       "4                                 11.953070   \n",
       "\n",
       "   secondary_cleaner.state.floatbank4_b_level  \\\n",
       "0                                 -504.715942   \n",
       "1                                 -501.331529   \n",
       "2                                 -501.133383   \n",
       "3                                 -501.193686   \n",
       "4                                 -501.053894   \n",
       "\n",
       "   secondary_cleaner.state.floatbank5_a_air  \\\n",
       "0                                  9.925633   \n",
       "1                                 10.039245   \n",
       "2                                 10.070913   \n",
       "3                                  9.970366   \n",
       "4                                  9.925709   \n",
       "\n",
       "   secondary_cleaner.state.floatbank5_a_level  \\\n",
       "0                                 -498.310211   \n",
       "1                                 -500.169983   \n",
       "2                                 -500.129135   \n",
       "3                                 -499.201640   \n",
       "4                                 -501.686727   \n",
       "\n",
       "   secondary_cleaner.state.floatbank5_b_air  \\\n",
       "0                                  8.079666   \n",
       "1                                  7.984757   \n",
       "2                                  8.013877   \n",
       "3                                  7.977324   \n",
       "4                                  7.894242   \n",
       "\n",
       "   secondary_cleaner.state.floatbank5_b_level  \\\n",
       "0                                 -500.470978   \n",
       "1                                 -500.582168   \n",
       "2                                 -500.517572   \n",
       "3                                 -500.255908   \n",
       "4                                 -500.356035   \n",
       "\n",
       "   secondary_cleaner.state.floatbank6_a_air  \\\n",
       "0                                 14.151341   \n",
       "1                                 13.998353   \n",
       "2                                 14.028663   \n",
       "3                                 14.005551   \n",
       "4                                 13.996647   \n",
       "\n",
       "   secondary_cleaner.state.floatbank6_a_level  \n",
       "0                                 -605.841980  \n",
       "1                                 -599.787184  \n",
       "2                                 -601.427363  \n",
       "3                                 -599.996129  \n",
       "4                                 -601.496691  \n",
       "\n",
       "[5 rows x 87 columns]"
      ]
     },
     "metadata": {},
     "output_type": "display_data"
    },
    {
     "name": "stdout",
     "output_type": "stream",
     "text": [
      "\n"
     ]
    }
   ],
   "source": [
    "# Рассмотрим общую информацию о датасетах:\n",
    "for i in k:\n",
    "    print(i.info())\n",
    "    display(i.head())\n",
    "    print()"
   ]
  },
  {
   "cell_type": "markdown",
   "metadata": {},
   "source": [
    "Сразу видно, что в данных есть пропуски, все столбцы кроме столбца с датой имеют формат float64"
   ]
  },
  {
   "cell_type": "markdown",
   "metadata": {},
   "source": [
    "<div class=\"alert alert-block alert-success\">\n",
    "<b>Успех:</b> Данные загружены и осмотрены корректно.\n",
    "</div>"
   ]
  },
  {
   "cell_type": "markdown",
   "metadata": {},
   "source": [
    "### Расчёт эффективности и MAE:"
   ]
  },
  {
   "cell_type": "code",
   "execution_count": 6,
   "metadata": {
    "scrolled": true
   },
   "outputs": [
    {
     "data": {
      "text/plain": [
       "0"
      ]
     },
     "execution_count": 6,
     "metadata": {},
     "output_type": "execute_result"
    }
   ],
   "source": [
    "# Решим проблему с пропусками в исходных значения:\n",
    "df_raw_eff = df_train['rougher.output.recovery']\n",
    "df_raw_eff = df_raw_eff.dropna()\n",
    "df_raw_eff.isna().sum()"
   ]
  },
  {
   "cell_type": "code",
   "execution_count": 7,
   "metadata": {
    "scrolled": true
   },
   "outputs": [
    {
     "name": "stdout",
     "output_type": "stream",
     "text": [
      "0\n",
      "0\n",
      "0\n"
     ]
    }
   ],
   "source": [
    "CONCENTRATE = df_train['rougher.output.concentrate_au']\n",
    "print(CONCENTRATE.isna().sum())\n",
    "\n",
    "FEED = df_train['rougher.input.feed_au']\n",
    "print(FEED.isna().sum())\n",
    "\n",
    "TAIL = df_train['rougher.output.tail_au']\n",
    "print(TAIL.isna().sum())"
   ]
  },
  {
   "cell_type": "code",
   "execution_count": 8,
   "metadata": {},
   "outputs": [
    {
     "name": "stdout",
     "output_type": "stream",
     "text": [
      "MAE: 9.73512347450521e-15\n"
     ]
    }
   ],
   "source": [
    "# Проведём расчёт эффективности и метрики MAE:\n",
    "eff = (CONCENTRATE*(FEED-TAIL))/(FEED*(CONCENTRATE-TAIL)) * 100\n",
    "eff = pd.Series(eff, index = df_raw_eff.index)\n",
    "\n",
    "print('MAE:', mean_absolute_error(eff, df_raw_eff))"
   ]
  },
  {
   "cell_type": "markdown",
   "metadata": {},
   "source": [
    "Получили знаечение близкое к нулю, значит эффективность посчитана правильно."
   ]
  },
  {
   "cell_type": "markdown",
   "metadata": {},
   "source": [
    "<div class=\"alert alert-block alert-success\">\n",
    "<b>Успех:</b> Абсолютно верно!\n",
    "</div>"
   ]
  },
  {
   "cell_type": "markdown",
   "metadata": {},
   "source": [
    "### Анализ тестовой выборки и её признаков:"
   ]
  },
  {
   "cell_type": "markdown",
   "metadata": {},
   "source": [
    "Тестовая выборка содержит на 34 признака меньше, чем остальные, в ней наблюдается отсуттвие финальных параметров, следовательно тестовая выборка не подходит для обучения модели (в тестовом датафрейме отсутствуют данные о концентрациях после финальной очистки, следовательно этот датафрейм не подходит для обучения модели)."
   ]
  },
  {
   "cell_type": "markdown",
   "metadata": {},
   "source": [
    "<div class=\"alert alert-block alert-danger\">\n",
    "<b>Ошибка:</b> А что значит не подходит? Данная – это какая?\n",
    "</div>"
   ]
  },
  {
   "cell_type": "markdown",
   "metadata": {},
   "source": [
    "<div class=\"alert alert-block alert-info\">\n",
    "<b>Совет (ревью 2): </b> Тут нужно сделать вывод о том, какие колонки будут использоваться при обучении. Те, которые есть в треине или те, которые есть в тесте? По проекту у тебя все сделано корректно.\n",
    "    \n",
    "То, что тестовая выборка не подходит для обучения – это понятно. Тестовую выборку запрещено использовать для обучения.\n",
    "</div>"
   ]
  },
  {
   "cell_type": "markdown",
   "metadata": {},
   "source": [
    "### Предобработка данных"
   ]
  },
  {
   "cell_type": "markdown",
   "metadata": {},
   "source": [
    "Заполним пропуски в обучающей и тестовой выборке, из условия известно, что соседние данные похожи, учтём это при заполнении."
   ]
  },
  {
   "cell_type": "code",
   "execution_count": 9,
   "metadata": {},
   "outputs": [],
   "source": [
    "# Создадим функцию для работы с пропусками:\n",
    "def ffill_function(df):\n",
    "    for column in df.columns[1:]:\n",
    "        df[column].ffill(inplace=True)\n",
    "    return(df)"
   ]
  },
  {
   "cell_type": "code",
   "execution_count": 11,
   "metadata": {},
   "outputs": [
    {
     "name": "stdout",
     "output_type": "stream",
     "text": [
      "0\n",
      "0\n"
     ]
    }
   ],
   "source": [
    "# Используем фу-ю и проверим наличие пропусков:\n",
    "df_train = ffill_function(df_train)\n",
    "print(df_train.isna().sum().sum())\n",
    "df_test = ffill_function(df_test)\n",
    "print(df_test.isna().sum().sum())"
   ]
  },
  {
   "cell_type": "markdown",
   "metadata": {},
   "source": [
    "<div class=\"alert alert-block alert-success\">\n",
    "<b>Успех:</b> В данном случае это наиболее подходящий метод для заполнения пропусков.\n",
    "</div>"
   ]
  },
  {
   "cell_type": "markdown",
   "metadata": {},
   "source": [
    "## Анализ данных"
   ]
  },
  {
   "cell_type": "markdown",
   "metadata": {},
   "source": [
    "### Концентрация металлов на разных стадиях очистки:"
   ]
  },
  {
   "cell_type": "code",
   "execution_count": 14,
   "metadata": {},
   "outputs": [],
   "source": [
    "# Первичная очистка:\n",
    "primary_ag_output = df_full['primary_cleaner.output.concentrate_ag']\n",
    "primary_pb_output = df_full['primary_cleaner.output.concentrate_pb']\n",
    "primary_au_output = df_full['primary_cleaner.output.concentrate_au']\n",
    "\n",
    "# Грубая обработка(выход):\n",
    "rougher_ag_output = df_full['rougher.output.concentrate_ag']\n",
    "rougher_pb_output = df_full['rougher.output.concentrate_pb']\n",
    "rougher_au_output = df_full['rougher.output.concentrate_au']\n",
    "\n",
    "# Грубая обработка(вход):\n",
    "rougher_ag_input = df_full['rougher.input.feed_ag']\n",
    "rougher_pb_input = df_full['rougher.input.feed_pb']\n",
    "rougher_au_input = df_full['rougher.input.feed_au']\n",
    "\n",
    "# Финальная очистка\n",
    "final_ag_output = df_full['final.output.concentrate_ag']\n",
    "final_pb_output = df_full['final.output.concentrate_pb']\n",
    "final_au_output = df_full['final.output.concentrate_au']"
   ]
  },
  {
   "cell_type": "code",
   "execution_count": 15,
   "metadata": {},
   "outputs": [],
   "source": [
    "# Зададим значение прозрачности столбиков гистограмм alpha через константу:\n",
    "ALPHA = 0.6"
   ]
  },
  {
   "cell_type": "code",
   "execution_count": 16,
   "metadata": {
    "scrolled": true
   },
   "outputs": [
    {
     "data": {
      "image/png": "[encoded data removed]",
      "text/plain": [
       "<Figure size 432x288 with 1 Axes>"
      ]
     },
     "metadata": {
      "needs_background": "light"
     },
     "output_type": "display_data"
    }
   ],
   "source": [
    "primary_ag_output.hist(color='r', alpha = ALPHA)\n",
    "rougher_ag_output.hist(color='g', alpha = ALPHA)\n",
    "rougher_pb_input.hist(color='y', alpha = ALPHA)\n",
    "final_ag_output.hist(color='b', alpha = ALPHA)\n",
    "plt.xlabel('Concentrate value')\n",
    "plt.xticks([0,20])\n",
    "plt.legend('PROF')\n",
    "plt.title('Ag')\n",
    "plt.show()"
   ]
  },
  {
   "cell_type": "code",
   "execution_count": 17,
   "metadata": {
    "scrolled": false
   },
   "outputs": [
    {
     "data": {
      "image/png": "[encoded data removed]",
      "text/plain": [
       "<Figure size 432x288 with 1 Axes>"
      ]
     },
     "metadata": {
      "needs_background": "light"
     },
     "output_type": "display_data"
    }
   ],
   "source": [
    "primary_pb_output.hist(color='r', alpha = ALPHA)\n",
    "rougher_pb_output.hist(color='g', alpha = ALPHA)\n",
    "rougher_pb_input.hist(color='y', alpha = ALPHA)\n",
    "final_pb_output.hist(color='b', alpha = ALPHA)\n",
    "plt.xlabel('Concentrate value')\n",
    "plt.xticks([0,20])\n",
    "plt.legend('PROF')\n",
    "plt.title('Pb')\n",
    "plt.show()"
   ]
  },
  {
   "cell_type": "code",
   "execution_count": 18,
   "metadata": {
    "scrolled": true
   },
   "outputs": [
    {
     "data": {
      "image/png": "[encoded data removed]",
      "text/plain": [
       "<Figure size 432x288 with 1 Axes>"
      ]
     },
     "metadata": {
      "needs_background": "light"
     },
     "output_type": "display_data"
    }
   ],
   "source": [
    "primary_au_output.hist(color='r', alpha = ALPHA)\n",
    "rougher_au_output.hist(color='g', alpha = ALPHA)\n",
    "rougher_au_input.hist(color='y', alpha = ALPHA)\n",
    "final_au_output.hist(color='b', alpha = ALPHA)\n",
    "plt.xlabel('Concentrate value')\n",
    "plt.xticks([0,20])\n",
    "plt.legend('PROF')\n",
    "plt.title('Au')\n",
    "plt.show()"
   ]
  },
  {
   "cell_type": "markdown",
   "metadata": {},
   "source": [
    "Распределения концентраций для всех металлов схожи, наблюдается тенденция увеличения концентрации металлов при прохождении очистки."
   ]
  },
  {
   "cell_type": "markdown",
   "metadata": {},
   "source": [
    "<div class=\"alert alert-block alert-success\">\n",
    "<b>Успех:</b> ОК, но я бы увеличил количество столбиков.\n",
    "</div>"
   ]
  },
  {
   "cell_type": "markdown",
   "metadata": {},
   "source": [
    "### Сравнение распределения размеров гранул сырья на обучающей и тестовой выборках"
   ]
  },
  {
   "cell_type": "code",
   "execution_count": 19,
   "metadata": {
    "scrolled": true
   },
   "outputs": [
    {
     "data": {
      "image/png": "[encoded data removed]",
      "text/plain": [
       "<Figure size 432x288 with 1 Axes>"
      ]
     },
     "metadata": {
      "needs_background": "light"
     },
     "output_type": "display_data"
    }
   ],
   "source": [
    "df_train['primary_cleaner.input.feed_size'].hist(color='b',alpha=ALPHA, density=True)\n",
    "df_test['primary_cleaner.input.feed_size'].hist(color='r', alpha=ALPHA, density=True)\n",
    "plt.xlabel('Capsule size')\n",
    "plt.ylabel('Number of values')\n",
    "plt.show()"
   ]
  },
  {
   "cell_type": "markdown",
   "metadata": {},
   "source": [
    "Распределение размера гранул на обучающей и тестовой выборках очень близки, оценка модели должна быть верной"
   ]
  },
  {
   "cell_type": "markdown",
   "metadata": {},
   "source": [
    "<div class=\"alert alert-block alert-info\">\n",
    "<b>Совет: </b> В данном случае желательно было тоже увеличить количество столбиков.\n",
    "    \n",
    "Также стоит увеличить прозрачность прозрачность (уменьшить параметр alpha).\n",
    "</div>"
   ]
  },
  {
   "cell_type": "markdown",
   "metadata": {},
   "source": [
    "### Исследование суммарной концентрации всех веществ на разных стадиях: в сырье, в черновом и финальном концентратах."
   ]
  },
  {
   "cell_type": "code",
   "execution_count": null,
   "metadata": {},
   "outputs": [],
   "source": [
    "# Исследование суммарной концентрации в сырье:\n",
    "total_primary = df_full['rougher.input.feed_pb'] + df_full['rougher.input.feed_ag'] + df_full['rougher.input.feed_sol'] + df_full['rougher.input.feed_au']\n",
    "total_primary.hist(color='r',alpha=ALPHA)\n",
    "plt.xlabel('Concentrate')\n",
    "plt.ylabel('Number of values')\n",
    "plt.title('Primary_cleaner')\n",
    "plt.show()"
   ]
  },
  {
   "cell_type": "code",
   "execution_count": null,
   "metadata": {
    "scrolled": true
   },
   "outputs": [],
   "source": [
    "# Исследование суммарной концентрации в черновом концентрате:\n",
    "total_rougher = df_full['rougher.output.concentrate_pb'] + df_full['rougher.output.concentrate_ag'] + df_full['rougher.output.concentrate_sol'] + df_full['rougher.output.concentrate_au']\n",
    "total_rougher.hist(color='g',alpha=ALPHA)\n",
    "plt.xlabel('Concentrate')\n",
    "plt.ylabel('Number of values')\n",
    "plt.title('Rougher')\n",
    "plt.show()"
   ]
  },
  {
   "cell_type": "code",
   "execution_count": null,
   "metadata": {
    "scrolled": true
   },
   "outputs": [],
   "source": [
    "# Исследование суммарной концентрации в финальном концентрате:\n",
    "total_final = df_full['final.output.concentrate_pb'] + df_full['final.output.concentrate_ag'] + df_full['final.output.concentrate_sol'] + df_full['final.output.concentrate_au']\n",
    "total_final.hist(color='b',alpha=ALPHA)\n",
    "plt.xlabel('Concentrate')\n",
    "plt.ylabel('Number of values')\n",
    "plt.title('Final')\n",
    "plt.show()"
   ]
  },
  {
   "cell_type": "code",
   "execution_count": null,
   "metadata": {},
   "outputs": [],
   "source": [
    "# Удалим выбросы:\n",
    "df_full = df_full[(total_final >= 40) & (total_rougher >= 40) & (total_primary >= 40)]\n",
    "\n",
    "df_full.dropna(subset=['final.output.recovery','rougher.output.recovery'],inplace=True)"
   ]
  },
  {
   "cell_type": "code",
   "execution_count": null,
   "metadata": {
    "scrolled": true
   },
   "outputs": [],
   "source": [
    "total_final = df_full['final.output.concentrate_pb'] + df_full['final.output.concentrate_ag'] + df_full['final.output.concentrate_sol'] + df_full['final.output.concentrate_au']\n",
    "total_rougher = df_full['rougher.output.concentrate_pb'] + df_full['rougher.output.concentrate_ag'] + df_full['rougher.output.concentrate_sol'] + df_full['rougher.output.concentrate_au']\n",
    "total_primary = df_full['primary_cleaner.output.concentrate_pb'] + df_full['primary_cleaner.output.concentrate_ag'] + df_full['primary_cleaner.output.concentrate_sol'] + df_full['primary_cleaner.output.concentrate_au']\n",
    "\n",
    "total_final.hist(color='r',alpha=ALPHA)\n",
    "total_rougher.hist(color='g',alpha=ALPHA)\n",
    "total_primary.hist(color='b',alpha=ALPHA)\n",
    "\n",
    "plt.legend('FRP')\n",
    "plt.xlabel('Concentrate')\n",
    "plt.ylabel('Number of values')\n",
    "plt.title('All_steps_of_clean')"
   ]
  },
  {
   "cell_type": "code",
   "execution_count": null,
   "metadata": {},
   "outputs": [],
   "source": [
    "train_final = df_train['final.output.concentrate_pb'] + df_train['final.output.concentrate_ag'] + df_train['final.output.concentrate_sol'] + df_train['final.output.concentrate_au']\n",
    "train_rougher = df_train['rougher.output.concentrate_pb'] + df_train['rougher.output.concentrate_ag'] + df_train['rougher.output.concentrate_sol'] + df_train['rougher.output.concentrate_au']\n",
    "train_primary = df_train['primary_cleaner.output.concentrate_pb'] + df_train['primary_cleaner.output.concentrate_ag'] + df_train['primary_cleaner.output.concentrate_sol'] + df_train['primary_cleaner.output.concentrate_au']\n",
    "\n",
    "train_final.hist(color='r',alpha=ALPHA)\n",
    "train_rougher.hist(color='g',alpha=ALPHA)\n",
    "train_primary.hist(color='b',alpha=ALPHA)\n",
    "\n",
    "plt.legend('FRP')\n",
    "plt.xlabel('Concentrate')\n",
    "plt.ylabel('Number of values')\n",
    "plt.title('All_steps_of_clean')"
   ]
  },
  {
   "cell_type": "code",
   "execution_count": null,
   "metadata": {
    "scrolled": false
   },
   "outputs": [],
   "source": [
    "df_train = df_train[(train_final >= 40) & (train_rougher >= 40) & (train_primary >= 40)]\n",
    "df_test = df_test[df_test['date'].isin(df_full['date'])]\n",
    "print(df_train.shape)\n",
    "print(df_test.shape)"
   ]
  },
  {
   "cell_type": "markdown",
   "metadata": {},
   "source": [
    "Можно заметить, что после первичной обработки концентрация веществ сильно увеличивается."
   ]
  },
  {
   "cell_type": "markdown",
   "metadata": {},
   "source": [
    "## Модель"
   ]
  },
  {
   "cell_type": "code",
   "execution_count": null,
   "metadata": {
    "scrolled": false
   },
   "outputs": [],
   "source": [
    "df_full.dropna(subset=['final.output.recovery','rougher.output.recovery'],inplace=True)"
   ]
  },
  {
   "cell_type": "code",
   "execution_count": 146,
   "metadata": {},
   "outputs": [
    {
     "name": "stderr",
     "output_type": "stream",
     "text": [
      "/tmp/ipykernel_30/3663407413.py:1: UserWarning: Boolean Series key will be reindexed to match DataFrame index.\n",
      "  df_train = df_train[(train_final >= 40) & (train_rougher >= 40) & (train_primary >= 40)]\n"
     ]
    }
   ],
   "source": [
    "df_train = df_train[(train_final >= 40) & (train_rougher >= 40) & (train_primary >= 40)]"
   ]
  },
  {
   "cell_type": "markdown",
   "metadata": {},
   "source": [
    "<div class=\"alert alert-block alert-success\">\n",
    "<b>Успех:</b> Хорошо, что аномалии были удалены и из треина и из теста.\n",
    "</div>"
   ]
  },
  {
   "cell_type": "code",
   "execution_count": 147,
   "metadata": {},
   "outputs": [],
   "source": [
    "# Создадим фу-ю для подсчёта метрики sMAPE:\n",
    "def smape(value,pred):\n",
    "        return np.mean((np.abs(np.array(value) - np.array(pred)))/((np.abs(np.array(value)) + np.abs(np.array(pred)))/2)) * 100\n",
    "    \n",
    "def final_smape(rougher_value, rougher_pred, final_value, final_pred):\n",
    "    return 0.25 * smape(rougher_value, rougher_pred) + 0.75 * smape(final_value, final_pred)"
   ]
  },
  {
   "cell_type": "code",
   "execution_count": 148,
   "metadata": {},
   "outputs": [],
   "source": [
    "smape_scorer = make_scorer(smape,greater_is_better=False)"
   ]
  },
  {
   "cell_type": "markdown",
   "metadata": {},
   "source": [
    "<div class=\"alert alert-block alert-success\">\n",
    "<b>Успех:</b> Скорер определен корректно.\n",
    "</div>"
   ]
  },
  {
   "cell_type": "code",
   "execution_count": 158,
   "metadata": {},
   "outputs": [],
   "source": [
    "target = df_train[['final.output.recovery','rougher.output.recovery']]\n",
    "features = df_train[df_test.columns[1:]]"
   ]
  },
  {
   "cell_type": "code",
   "execution_count": 159,
   "metadata": {},
   "outputs": [],
   "source": [
    "# Инициализация моделей:\n",
    "models = [{'name':'Linreg','model':LinearRegression(normalize=True)},\n",
    "          {'name':'TreeRegressor','model':DecisionTreeRegressor(max_depth=15)},\n",
    "          {'name':'RandomForest','model':RandomForestRegressor(max_depth=15,n_estimators=35)}]"
   ]
  },
  {
   "cell_type": "code",
   "execution_count": 160,
   "metadata": {},
   "outputs": [
    {
     "name": "stdout",
     "output_type": "stream",
     "text": [
      "Mean sMAPE score for model Linreg is 9.081948698262817\n",
      "Mean sMAPE score for model TreeRegressor is 12.78927849717383\n",
      "Mean sMAPE score for model RandomForest is 8.308676680242119\n",
      "CPU times: user 1min 5s, sys: 1.28 s, total: 1min 6s\n",
      "Wall time: 1min 6s\n"
     ]
    }
   ],
   "source": [
    "%%time\n",
    "# Определение лучшей модели:\n",
    "for model in models: \n",
    "    print(f\"Mean sMAPE score for model {model['name']} is {abs(cross_val_score(model['model'],features,target,scoring=smape_scorer).mean())}\")\n"
   ]
  },
  {
   "cell_type": "code",
   "execution_count": null,
   "metadata": {},
   "outputs": [],
   "source": [
    "# Осуществим подбор гиперпараметров для модели случайного леса:\n",
    "model_random_forest = RandomForestRegressor(random_state=12345)\n",
    "parameters = { 'max_depth': range (1,15, 1) }\n",
    "grid = GridSearchCV(model_random_forest, parameters, cv=3, scoring=smape_scorer)\n",
    "grid.fit(features, target)\n",
    "grid.best_params_"
   ]
  },
  {
   "cell_type": "markdown",
   "metadata": {},
   "source": [
    "<div class=\"alert alert-block alert-success\">\n",
    "<b>Успех:</b> Отлично, что для подбора параметров использовался метод основанный на кросс-валидации с корректной метрикой.\n",
    "</div>"
   ]
  },
  {
   "cell_type": "code",
   "execution_count": 161,
   "metadata": {},
   "outputs": [
    {
     "data": {
      "text/plain": [
       "RandomForestRegressor(max_depth=4)"
      ]
     },
     "execution_count": 161,
     "metadata": {},
     "output_type": "execute_result"
    }
   ],
   "source": [
    "model_random_forest = RandomForestRegressor(max_depth=4)\n",
    "model_random_forest.fit(features, target)"
   ]
  },
  {
   "cell_type": "code",
   "execution_count": 162,
   "metadata": {
    "scrolled": true
   },
   "outputs": [
    {
     "data": {
      "text/html": [
       "<div>\n",
       "<style scoped>\n",
       "    .dataframe tbody tr th:only-of-type {\n",
       "        vertical-align: middle;\n",
       "    }\n",
       "\n",
       "    .dataframe tbody tr th {\n",
       "        vertical-align: top;\n",
       "    }\n",
       "\n",
       "    .dataframe thead th {\n",
       "        text-align: right;\n",
       "    }\n",
       "</style>\n",
       "<table border=\"1\" class=\"dataframe\">\n",
       "  <thead>\n",
       "    <tr style=\"text-align: right;\">\n",
       "      <th></th>\n",
       "      <th>final</th>\n",
       "      <th>rougher</th>\n",
       "    </tr>\n",
       "  </thead>\n",
       "  <tbody>\n",
       "    <tr>\n",
       "      <th>0</th>\n",
       "      <td>64.135667</td>\n",
       "      <td>81.313451</td>\n",
       "    </tr>\n",
       "    <tr>\n",
       "      <th>1</th>\n",
       "      <td>64.215148</td>\n",
       "      <td>81.423628</td>\n",
       "    </tr>\n",
       "    <tr>\n",
       "      <th>2</th>\n",
       "      <td>64.215148</td>\n",
       "      <td>81.423628</td>\n",
       "    </tr>\n",
       "    <tr>\n",
       "      <th>3</th>\n",
       "      <td>64.215148</td>\n",
       "      <td>81.423628</td>\n",
       "    </tr>\n",
       "    <tr>\n",
       "      <th>4</th>\n",
       "      <td>64.190584</td>\n",
       "      <td>81.332240</td>\n",
       "    </tr>\n",
       "  </tbody>\n",
       "</table>\n",
       "</div>"
      ],
      "text/plain": [
       "       final    rougher\n",
       "0  64.135667  81.313451\n",
       "1  64.215148  81.423628\n",
       "2  64.215148  81.423628\n",
       "3  64.215148  81.423628\n",
       "4  64.190584  81.332240"
      ]
     },
     "execution_count": 162,
     "metadata": {},
     "output_type": "execute_result"
    }
   ],
   "source": [
    "# Предскажем значения:\n",
    "pred = pd.DataFrame(model_random_forest.predict(features),columns=['final','rougher'])\n",
    "pred.head()"
   ]
  },
  {
   "cell_type": "code",
   "execution_count": 163,
   "metadata": {},
   "outputs": [
    {
     "name": "stdout",
     "output_type": "stream",
     "text": [
      "Train sMAPE: 6.713251643810763\n"
     ]
    }
   ],
   "source": [
    "smape_ = final_smape(np.array(target['rougher.output.recovery']),np.array(pred['rougher']),np.array(target['final.output.recovery']),pred['final']) \n",
    "print(f'Train sMAPE: {smape_}')"
   ]
  },
  {
   "cell_type": "code",
   "execution_count": 164,
   "metadata": {},
   "outputs": [],
   "source": [
    "# Осуществим проверку на тестовой выборке:\n",
    "test_features = df_test[df_test.columns[1:]]\n",
    "test_target = df_full[df_full['date'].isin(df_test['date'])][['final.output.recovery','rougher.output.recovery']]"
   ]
  },
  {
   "cell_type": "markdown",
   "metadata": {},
   "source": [
    "<div class=\"alert alert-block alert-info\">\n",
    "<b>Совет: </b> Безопаснее использовать merge.\n",
    "</div>"
   ]
  },
  {
   "cell_type": "code",
   "execution_count": 166,
   "metadata": {
    "scrolled": false
   },
   "outputs": [
    {
     "data": {
      "text/html": [
       "<div>\n",
       "<style scoped>\n",
       "    .dataframe tbody tr th:only-of-type {\n",
       "        vertical-align: middle;\n",
       "    }\n",
       "\n",
       "    .dataframe tbody tr th {\n",
       "        vertical-align: top;\n",
       "    }\n",
       "\n",
       "    .dataframe thead th {\n",
       "        text-align: right;\n",
       "    }\n",
       "</style>\n",
       "<table border=\"1\" class=\"dataframe\">\n",
       "  <thead>\n",
       "    <tr style=\"text-align: right;\">\n",
       "      <th></th>\n",
       "      <th>final</th>\n",
       "      <th>rougher</th>\n",
       "    </tr>\n",
       "  </thead>\n",
       "  <tbody>\n",
       "    <tr>\n",
       "      <th>0</th>\n",
       "      <td>69.827016</td>\n",
       "      <td>85.270195</td>\n",
       "    </tr>\n",
       "    <tr>\n",
       "      <th>1</th>\n",
       "      <td>69.647655</td>\n",
       "      <td>85.148926</td>\n",
       "    </tr>\n",
       "    <tr>\n",
       "      <th>2</th>\n",
       "      <td>69.647655</td>\n",
       "      <td>85.148926</td>\n",
       "    </tr>\n",
       "    <tr>\n",
       "      <th>3</th>\n",
       "      <td>69.647655</td>\n",
       "      <td>85.148926</td>\n",
       "    </tr>\n",
       "    <tr>\n",
       "      <th>4</th>\n",
       "      <td>69.601737</td>\n",
       "      <td>85.106258</td>\n",
       "    </tr>\n",
       "  </tbody>\n",
       "</table>\n",
       "</div>"
      ],
      "text/plain": [
       "       final    rougher\n",
       "0  69.827016  85.270195\n",
       "1  69.647655  85.148926\n",
       "2  69.647655  85.148926\n",
       "3  69.647655  85.148926\n",
       "4  69.601737  85.106258"
      ]
     },
     "execution_count": 166,
     "metadata": {},
     "output_type": "execute_result"
    }
   ],
   "source": [
    "test_pred = pd.DataFrame(model_random_forest.predict(test_features),columns=['final','rougher'])\n",
    "test_pred.head()"
   ]
  },
  {
   "cell_type": "code",
   "execution_count": 167,
   "metadata": {
    "scrolled": true
   },
   "outputs": [
    {
     "name": "stdout",
     "output_type": "stream",
     "text": [
      "Test sMAPE: 6.785752625106446\n"
     ]
    }
   ],
   "source": [
    "# Посчитаем значение sMAPE:\n",
    "smape_test = final_smape(np.array(test_target['rougher.output.recovery']),np.array(test_pred['rougher']),np.array(test_target['final.output.recovery']),np.array(test_pred['final']))\n",
    "print(f'Test sMAPE: {smape_test}')"
   ]
  },
  {
   "cell_type": "code",
   "execution_count": 168,
   "metadata": {},
   "outputs": [
    {
     "name": "stdout",
     "output_type": "stream",
     "text": [
      "Test sMAPE: 7.371427476603999\n"
     ]
    }
   ],
   "source": [
    "# Сравним с константной моделью:\n",
    "const = DummyRegressor()\n",
    "const.fit(features, target)\n",
    "const_pred = pd.DataFrame(const.predict(test_features),columns=['final','rougher'])\n",
    "\n",
    "smape_const = final_smape(np.array(test_target['rougher.output.recovery']),np.array(const_pred['rougher']),np.array(test_target['final.output.recovery']),np.array(const_pred['final']))\n",
    "\n",
    "print(f'Test sMAPE: {smape_const}')"
   ]
  },
  {
   "cell_type": "markdown",
   "metadata": {},
   "source": [
    "Вывод: из моделей линейной регрессии была выбрана модель случайного леса, так как на кроссвалидации она показала лучший результат. При подсчёте ключевой метрики sMAPE на обучающей выборке было получено значение 6.71, и 6.78 на тестовой выборке. Таким образром, модель случайного леса лучше всего подошла для решения поставленной задачи."
   ]
  },
  {
   "cell_type": "markdown",
   "metadata": {},
   "source": [
    "<div class=\"alert alert-block alert-success\">\n",
    "<b>Успех:</b> Радует, что ты не забыл про дамми проверку!\n",
    "</div>"
   ]
  },
  {
   "cell_type": "markdown",
   "metadata": {},
   "source": [
    "## Чек-лист готовности проекта"
   ]
  },
  {
   "cell_type": "markdown",
   "metadata": {},
   "source": [
    "- [x]  Jupyter Notebook открыт\n",
    "- [ ]  Весь код выполняется без ошибок\n",
    "- [ ]  Ячейки с кодом расположены в порядке выполнения\n",
    "- [ ]  Выполнен шаг 1: данные подготовлены\n",
    "    - [ ]  Проверена формула вычисления эффективности обогащения\n",
    "    - [ ]  Проанализированы признаки, недоступные в тестовой выборке\n",
    "    - [ ]  Проведена предобработка данных\n",
    "- [ ]  Выполнен шаг 2: данные проанализированы\n",
    "    - [ ]  Исследовано изменение концентрации элементов на каждом этапе\n",
    "    - [ ]  Проанализированы распределения размеров гранул на обучающей и тестовой выборках\n",
    "    - [ ]  Исследованы суммарные концентрации\n",
    "- [ ]  Выполнен шаг 3: построена модель прогнозирования\n",
    "    - [ ]  Написана функция для вычисления итогового *sMAPE*\n",
    "    - [ ]  Обучено и проверено несколько моделей\n",
    "    - [ ]  Выбрана лучшая модель, её качество проверено на тестовой выборке"
   ]
  }
 ],
 "metadata": {
  "ExecuteTimeLog": [
   {
    "duration": 460,
    "start_time": "2022-11-24T21:08:13.262Z"
   },
   {
    "duration": 2,
    "start_time": "2022-11-24T21:08:19.834Z"
   },
   {
    "duration": 1305,
    "start_time": "2022-11-24T21:11:25.638Z"
   },
   {
    "duration": 2211,
    "start_time": "2022-11-24T21:11:47.478Z"
   },
   {
    "duration": 698,
    "start_time": "2022-11-24T21:12:33.314Z"
   },
   {
    "duration": 45,
    "start_time": "2022-11-24T21:12:57.167Z"
   },
   {
    "duration": 48,
    "start_time": "2022-11-25T20:37:02.593Z"
   },
   {
    "duration": 7,
    "start_time": "2022-11-25T20:37:04.477Z"
   },
   {
    "duration": 369,
    "start_time": "2022-11-25T20:37:08.360Z"
   },
   {
    "duration": 2393,
    "start_time": "2022-11-25T20:37:08.731Z"
   },
   {
    "duration": 67,
    "start_time": "2022-11-25T20:37:11.126Z"
   },
   {
    "duration": 32,
    "start_time": "2022-11-25T20:37:28.238Z"
   },
   {
    "duration": 30,
    "start_time": "2022-11-25T20:37:47.988Z"
   },
   {
    "duration": 27,
    "start_time": "2022-11-25T20:38:13.167Z"
   },
   {
    "duration": 30,
    "start_time": "2022-11-25T20:38:59.791Z"
   },
   {
    "duration": 52,
    "start_time": "2022-11-25T20:39:06.888Z"
   },
   {
    "duration": 95,
    "start_time": "2022-11-25T20:39:23.340Z"
   },
   {
    "duration": 26,
    "start_time": "2022-11-25T20:42:07.997Z"
   },
   {
    "duration": 1158,
    "start_time": "2022-11-25T20:42:22.408Z"
   },
   {
    "duration": 3,
    "start_time": "2022-11-25T20:42:33.366Z"
   },
   {
    "duration": 4,
    "start_time": "2022-11-25T20:42:46.627Z"
   },
   {
    "duration": 7,
    "start_time": "2022-11-25T20:42:56.029Z"
   },
   {
    "duration": 5,
    "start_time": "2022-11-25T20:42:59.598Z"
   },
   {
    "duration": 694,
    "start_time": "2022-11-25T20:45:56.007Z"
   },
   {
    "duration": 1230,
    "start_time": "2022-11-25T20:47:25.426Z"
   },
   {
    "duration": 1167,
    "start_time": "2022-11-25T20:47:46.868Z"
   },
   {
    "duration": 5,
    "start_time": "2022-11-25T20:47:49.628Z"
   },
   {
    "duration": 2,
    "start_time": "2022-11-25T20:48:01.035Z"
   },
   {
    "duration": 3,
    "start_time": "2022-11-25T20:48:30.511Z"
   },
   {
    "duration": 1111,
    "start_time": "2022-11-25T20:50:08.158Z"
   },
   {
    "duration": 5,
    "start_time": "2022-11-25T20:50:12.738Z"
   },
   {
    "duration": 6,
    "start_time": "2022-11-25T20:50:16.648Z"
   },
   {
    "duration": 8,
    "start_time": "2022-11-25T20:54:01.841Z"
   },
   {
    "duration": 7,
    "start_time": "2022-11-25T20:55:32.132Z"
   },
   {
    "duration": 7,
    "start_time": "2022-11-25T20:55:35.791Z"
   },
   {
    "duration": 7,
    "start_time": "2022-11-25T20:55:39.974Z"
   },
   {
    "duration": 6,
    "start_time": "2022-11-25T20:59:46.542Z"
   },
   {
    "duration": 3,
    "start_time": "2022-11-25T20:59:49.732Z"
   },
   {
    "duration": 693,
    "start_time": "2022-11-25T20:59:50.222Z"
   },
   {
    "duration": 122,
    "start_time": "2022-11-25T20:59:57.782Z"
   },
   {
    "duration": 7,
    "start_time": "2022-11-25T21:00:01.812Z"
   },
   {
    "duration": 7,
    "start_time": "2022-11-25T21:00:02.942Z"
   },
   {
    "duration": 9,
    "start_time": "2022-11-25T21:00:03.542Z"
   },
   {
    "duration": 3,
    "start_time": "2022-11-25T21:13:14.905Z"
   },
   {
    "duration": 87,
    "start_time": "2022-11-25T21:14:02.109Z"
   },
   {
    "duration": 69,
    "start_time": "2022-11-25T21:14:05.239Z"
   },
   {
    "duration": 20,
    "start_time": "2022-11-25T21:16:12.019Z"
   },
   {
    "duration": 27,
    "start_time": "2022-11-25T21:16:34.940Z"
   },
   {
    "duration": 42,
    "start_time": "2022-11-25T21:16:52.698Z"
   },
   {
    "duration": 39,
    "start_time": "2022-11-25T21:17:07.939Z"
   },
   {
    "duration": 24,
    "start_time": "2022-11-25T21:17:22.280Z"
   },
   {
    "duration": 26,
    "start_time": "2022-11-25T21:17:26.570Z"
   },
   {
    "duration": 81,
    "start_time": "2022-11-25T21:17:37.019Z"
   },
   {
    "duration": 25,
    "start_time": "2022-11-25T21:17:41.381Z"
   },
   {
    "duration": 79,
    "start_time": "2022-11-25T21:19:57.968Z"
   },
   {
    "duration": 121,
    "start_time": "2022-11-25T21:20:10.299Z"
   },
   {
    "duration": 5,
    "start_time": "2022-11-25T21:20:16.277Z"
   },
   {
    "duration": 3,
    "start_time": "2022-11-25T21:20:19.779Z"
   },
   {
    "duration": 75,
    "start_time": "2022-11-25T21:20:22.350Z"
   },
   {
    "duration": 3,
    "start_time": "2022-11-25T21:20:25.374Z"
   },
   {
    "duration": 3,
    "start_time": "2022-11-25T21:20:58.730Z"
   },
   {
    "duration": 20,
    "start_time": "2022-11-25T21:21:48.739Z"
   },
   {
    "duration": 32,
    "start_time": "2022-11-25T21:23:31.020Z"
   },
   {
    "duration": 3,
    "start_time": "2022-11-25T21:24:37.495Z"
   },
   {
    "duration": 32,
    "start_time": "2022-11-25T21:24:37.734Z"
   },
   {
    "duration": 3,
    "start_time": "2022-11-25T21:29:55.184Z"
   },
   {
    "duration": 4,
    "start_time": "2022-11-25T21:32:00.087Z"
   },
   {
    "duration": 402,
    "start_time": "2022-11-25T21:32:32.057Z"
   },
   {
    "duration": 182,
    "start_time": "2022-11-25T21:39:49.077Z"
   },
   {
    "duration": 148,
    "start_time": "2022-11-25T21:40:37.737Z"
   },
   {
    "duration": 143,
    "start_time": "2022-11-25T21:40:48.124Z"
   },
   {
    "duration": 194,
    "start_time": "2022-11-25T21:43:22.594Z"
   },
   {
    "duration": 91,
    "start_time": "2022-11-25T21:43:40.964Z"
   },
   {
    "duration": 162,
    "start_time": "2022-11-25T21:43:46.276Z"
   },
   {
    "duration": 254,
    "start_time": "2022-11-25T21:44:11.513Z"
   },
   {
    "duration": 175,
    "start_time": "2022-11-25T21:44:26.793Z"
   },
   {
    "duration": 180,
    "start_time": "2022-11-25T21:44:31.796Z"
   },
   {
    "duration": 170,
    "start_time": "2022-11-25T21:44:42.717Z"
   },
   {
    "duration": 175,
    "start_time": "2022-11-25T21:45:20.364Z"
   },
   {
    "duration": 182,
    "start_time": "2022-11-25T21:45:37.514Z"
   },
   {
    "duration": 173,
    "start_time": "2022-11-25T21:46:04.677Z"
   },
   {
    "duration": 168,
    "start_time": "2022-11-25T21:47:15.468Z"
   },
   {
    "duration": 1207,
    "start_time": "2022-11-25T21:53:41.116Z"
   },
   {
    "duration": 1093,
    "start_time": "2022-11-25T21:54:38.929Z"
   },
   {
    "duration": 4,
    "start_time": "2022-11-25T21:56:11.214Z"
   },
   {
    "duration": 17,
    "start_time": "2022-11-25T21:57:12.501Z"
   },
   {
    "duration": 190,
    "start_time": "2022-11-25T22:00:04.265Z"
   },
   {
    "duration": 189,
    "start_time": "2022-11-25T22:00:25.129Z"
   },
   {
    "duration": 183,
    "start_time": "2022-11-25T22:00:38.288Z"
   },
   {
    "duration": 234,
    "start_time": "2022-11-25T22:00:54.383Z"
   },
   {
    "duration": 208,
    "start_time": "2022-11-25T22:01:00.353Z"
   },
   {
    "duration": 199,
    "start_time": "2022-11-25T22:01:05.340Z"
   },
   {
    "duration": 199,
    "start_time": "2022-11-25T22:01:32.201Z"
   },
   {
    "duration": 185,
    "start_time": "2022-11-25T22:01:59.045Z"
   },
   {
    "duration": 333,
    "start_time": "2022-11-25T22:02:06.923Z"
   },
   {
    "duration": 160,
    "start_time": "2022-11-25T22:06:56.127Z"
   },
   {
    "duration": 166,
    "start_time": "2022-11-25T22:07:08.960Z"
   },
   {
    "duration": 141,
    "start_time": "2022-11-25T22:07:13.171Z"
   },
   {
    "duration": 145,
    "start_time": "2022-11-25T22:10:34.755Z"
   },
   {
    "duration": 128,
    "start_time": "2022-11-25T22:13:24.481Z"
   },
   {
    "duration": 12,
    "start_time": "2022-11-25T22:14:44.155Z"
   },
   {
    "duration": 132,
    "start_time": "2022-11-25T22:15:02.366Z"
   },
   {
    "duration": 130,
    "start_time": "2022-11-25T22:15:06.665Z"
   },
   {
    "duration": 146,
    "start_time": "2022-11-25T22:18:11.835Z"
   },
   {
    "duration": 133,
    "start_time": "2022-11-25T22:18:12.656Z"
   },
   {
    "duration": 144,
    "start_time": "2022-11-25T22:18:13.263Z"
   },
   {
    "duration": 12,
    "start_time": "2022-11-25T22:20:07.209Z"
   },
   {
    "duration": 22,
    "start_time": "2022-11-25T22:20:56.734Z"
   },
   {
    "duration": 13,
    "start_time": "2022-11-25T22:23:21.556Z"
   },
   {
    "duration": 11,
    "start_time": "2022-11-25T22:23:23.966Z"
   },
   {
    "duration": 189,
    "start_time": "2022-11-25T22:23:34.296Z"
   },
   {
    "duration": 176,
    "start_time": "2022-11-25T22:24:29.687Z"
   },
   {
    "duration": 325,
    "start_time": "2022-11-25T22:24:57.875Z"
   },
   {
    "duration": 186,
    "start_time": "2022-11-25T22:25:04.282Z"
   },
   {
    "duration": 190,
    "start_time": "2022-11-25T22:25:09.272Z"
   },
   {
    "duration": 185,
    "start_time": "2022-11-25T22:26:32.472Z"
   },
   {
    "duration": 7,
    "start_time": "2022-11-25T22:27:20.132Z"
   },
   {
    "duration": 15,
    "start_time": "2022-11-25T22:28:06.064Z"
   },
   {
    "duration": 19,
    "start_time": "2022-11-25T22:28:29.928Z"
   },
   {
    "duration": 12,
    "start_time": "2022-11-25T22:28:42.237Z"
   },
   {
    "duration": 11,
    "start_time": "2022-11-25T22:29:02.293Z"
   },
   {
    "duration": 19,
    "start_time": "2022-11-25T22:32:25.860Z"
   },
   {
    "duration": 4,
    "start_time": "2022-11-25T22:35:33.130Z"
   },
   {
    "duration": 9,
    "start_time": "2022-11-25T22:39:26.689Z"
   },
   {
    "duration": 56,
    "start_time": "2022-11-25T22:40:04.871Z"
   },
   {
    "duration": 3,
    "start_time": "2022-11-25T22:40:16.968Z"
   },
   {
    "duration": 3,
    "start_time": "2022-11-25T22:41:01.571Z"
   },
   {
    "duration": 20,
    "start_time": "2022-11-25T22:41:16.392Z"
   },
   {
    "duration": 6,
    "start_time": "2022-11-25T22:41:20.380Z"
   },
   {
    "duration": 6,
    "start_time": "2022-11-25T22:43:05.382Z"
   },
   {
    "duration": 4,
    "start_time": "2022-11-25T22:43:34.912Z"
   },
   {
    "duration": 95032,
    "start_time": "2022-11-25T22:46:27.360Z"
   },
   {
    "duration": 2,
    "start_time": "2022-11-25T22:49:48.727Z"
   },
   {
    "duration": 0,
    "start_time": "2022-11-25T22:54:09.749Z"
   },
   {
    "duration": 25984,
    "start_time": "2022-11-25T22:54:37.677Z"
   },
   {
    "duration": 52,
    "start_time": "2022-11-25T22:56:17.778Z"
   },
   {
    "duration": 4,
    "start_time": "2022-11-25T22:57:03.695Z"
   },
   {
    "duration": 9,
    "start_time": "2022-11-25T22:59:58.154Z"
   },
   {
    "duration": 20,
    "start_time": "2022-11-25T23:00:51.041Z"
   },
   {
    "duration": 9,
    "start_time": "2022-11-25T23:01:10.762Z"
   },
   {
    "duration": 14,
    "start_time": "2022-11-25T23:01:21.231Z"
   },
   {
    "duration": 5,
    "start_time": "2022-11-25T23:01:28.401Z"
   },
   {
    "duration": 8,
    "start_time": "2022-11-25T23:01:28.956Z"
   },
   {
    "duration": 15,
    "start_time": "2022-11-25T23:01:29.400Z"
   },
   {
    "duration": 10,
    "start_time": "2022-11-25T23:03:14.912Z"
   },
   {
    "duration": 14,
    "start_time": "2022-11-25T23:03:15.353Z"
   },
   {
    "duration": 9,
    "start_time": "2022-11-25T23:03:38.033Z"
   },
   {
    "duration": 5,
    "start_time": "2022-11-25T23:03:41.571Z"
   },
   {
    "duration": 47,
    "start_time": "2022-11-25T23:03:44.283Z"
   },
   {
    "duration": 12,
    "start_time": "2022-11-25T23:05:26.181Z"
   },
   {
    "duration": 8,
    "start_time": "2022-11-25T23:05:27.161Z"
   },
   {
    "duration": 4,
    "start_time": "2022-11-25T23:05:28.529Z"
   },
   {
    "duration": 3,
    "start_time": "2022-11-25T23:05:28.781Z"
   },
   {
    "duration": 6,
    "start_time": "2022-11-25T23:05:29.293Z"
   },
   {
    "duration": 3,
    "start_time": "2022-11-25T23:05:31.243Z"
   },
   {
    "duration": 49,
    "start_time": "2022-11-25T23:05:36.673Z"
   },
   {
    "duration": 5,
    "start_time": "2022-11-25T23:05:38.152Z"
   },
   {
    "duration": 8,
    "start_time": "2022-11-25T23:05:38.631Z"
   },
   {
    "duration": 15,
    "start_time": "2022-11-25T23:05:39.129Z"
   },
   {
    "duration": 9,
    "start_time": "2022-11-25T23:06:43.781Z"
   },
   {
    "duration": 19,
    "start_time": "2022-11-25T23:06:52.053Z"
   },
   {
    "duration": 14,
    "start_time": "2022-11-25T23:09:06.185Z"
   },
   {
    "duration": 7,
    "start_time": "2022-11-25T23:10:58.041Z"
   },
   {
    "duration": 4,
    "start_time": "2022-11-25T23:11:00.729Z"
   },
   {
    "duration": 66482,
    "start_time": "2022-11-25T23:11:02.718Z"
   },
   {
    "duration": 15344,
    "start_time": "2022-11-25T23:12:19.180Z"
   },
   {
    "duration": 40,
    "start_time": "2022-11-25T23:12:45.666Z"
   },
   {
    "duration": 5,
    "start_time": "2022-11-25T23:12:47.792Z"
   },
   {
    "duration": 8,
    "start_time": "2022-11-25T23:12:50.602Z"
   },
   {
    "duration": 35,
    "start_time": "2022-11-25T23:12:52.321Z"
   },
   {
    "duration": 25,
    "start_time": "2022-11-25T23:13:52.681Z"
   },
   {
    "duration": 5,
    "start_time": "2022-11-25T23:14:05.581Z"
   },
   {
    "duration": 8,
    "start_time": "2022-11-25T23:15:22.129Z"
   },
   {
    "duration": 2072,
    "start_time": "2022-11-26T17:25:25.981Z"
   },
   {
    "duration": 1792,
    "start_time": "2022-11-26T17:25:28.055Z"
   },
   {
    "duration": 92,
    "start_time": "2022-11-26T17:25:29.848Z"
   },
   {
    "duration": 5,
    "start_time": "2022-11-26T17:25:29.942Z"
   },
   {
    "duration": 137,
    "start_time": "2022-11-26T17:25:29.948Z"
   },
   {
    "duration": 0,
    "start_time": "2022-11-26T17:25:30.087Z"
   },
   {
    "duration": 0,
    "start_time": "2022-11-26T17:25:30.088Z"
   },
   {
    "duration": 0,
    "start_time": "2022-11-26T17:25:30.089Z"
   },
   {
    "duration": 0,
    "start_time": "2022-11-26T17:25:30.090Z"
   },
   {
    "duration": 0,
    "start_time": "2022-11-26T17:25:30.091Z"
   },
   {
    "duration": 0,
    "start_time": "2022-11-26T17:25:30.092Z"
   },
   {
    "duration": 0,
    "start_time": "2022-11-26T17:25:30.093Z"
   },
   {
    "duration": 0,
    "start_time": "2022-11-26T17:25:30.094Z"
   },
   {
    "duration": 0,
    "start_time": "2022-11-26T17:25:30.095Z"
   },
   {
    "duration": 0,
    "start_time": "2022-11-26T17:25:30.096Z"
   },
   {
    "duration": 0,
    "start_time": "2022-11-26T17:25:30.097Z"
   },
   {
    "duration": 0,
    "start_time": "2022-11-26T17:25:30.098Z"
   },
   {
    "duration": 0,
    "start_time": "2022-11-26T17:25:30.099Z"
   },
   {
    "duration": 0,
    "start_time": "2022-11-26T17:25:30.100Z"
   },
   {
    "duration": 0,
    "start_time": "2022-11-26T17:25:30.101Z"
   },
   {
    "duration": 0,
    "start_time": "2022-11-26T17:25:30.102Z"
   },
   {
    "duration": 3,
    "start_time": "2022-11-26T17:25:49.000Z"
   },
   {
    "duration": 33,
    "start_time": "2022-11-26T17:25:49.126Z"
   },
   {
    "duration": 8,
    "start_time": "2022-11-26T19:12:05.622Z"
   },
   {
    "duration": 46,
    "start_time": "2022-11-26T19:12:06.187Z"
   },
   {
    "duration": 1606,
    "start_time": "2022-11-26T19:12:11.499Z"
   },
   {
    "duration": 3547,
    "start_time": "2022-11-26T19:12:13.107Z"
   },
   {
    "duration": 120,
    "start_time": "2022-11-26T19:12:16.657Z"
   },
   {
    "duration": 5,
    "start_time": "2022-11-26T19:12:16.780Z"
   },
   {
    "duration": 6,
    "start_time": "2022-11-26T19:12:41.214Z"
   },
   {
    "duration": 9,
    "start_time": "2022-11-26T19:12:44.216Z"
   },
   {
    "duration": 4,
    "start_time": "2022-11-26T19:12:59.328Z"
   },
   {
    "duration": 125,
    "start_time": "2022-11-26T19:13:00.416Z"
   },
   {
    "duration": 44,
    "start_time": "2022-11-26T19:13:06.127Z"
   },
   {
    "duration": 3,
    "start_time": "2022-11-26T19:14:36.926Z"
   },
   {
    "duration": 11,
    "start_time": "2022-11-26T19:15:29.216Z"
   },
   {
    "duration": 4,
    "start_time": "2022-11-26T19:15:33.427Z"
   },
   {
    "duration": 2,
    "start_time": "2022-11-26T19:15:35.557Z"
   },
   {
    "duration": 274,
    "start_time": "2022-11-26T19:15:35.981Z"
   },
   {
    "duration": 245,
    "start_time": "2022-11-26T19:15:38.463Z"
   },
   {
    "duration": 213,
    "start_time": "2022-11-26T19:15:39.756Z"
   },
   {
    "duration": 190,
    "start_time": "2022-11-26T19:15:44.232Z"
   }
  ],
  "kernelspec": {
   "display_name": "Python 3 (ipykernel)",
   "language": "python",
   "name": "python3"
  },
  "language_info": {
   "codemirror_mode": {
    "name": "ipython",
    "version": 3
   },
   "file_extension": ".py",
   "mimetype": "text/x-python",
   "name": "python",
   "nbconvert_exporter": "python",
   "pygments_lexer": "ipython3",
   "version": "3.9.5"
  },
  "toc": {
   "base_numbering": 1,
   "nav_menu": {},
   "number_sections": true,
   "sideBar": true,
   "skip_h1_title": true,
   "title_cell": "Содержание",
   "title_sidebar": "Contents",
   "toc_cell": true,
   "toc_position": {},
   "toc_section_display": true,
   "toc_window_display": false
  }
 },
 "nbformat": 4,
 "nbformat_minor": 2
}
