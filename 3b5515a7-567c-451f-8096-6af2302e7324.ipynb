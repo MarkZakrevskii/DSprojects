{
 "cells": [
  {
   "cell_type": "markdown",
   "metadata": {},
   "source": [
    "<div class=\"alert alert-success\">\n",
    "  <b> ✔️Комментарий ревьюера ✔️</b>\n",
    "\n",
    "Привет, Марк! Меня зовут Михаил Майоров, я буду проверять твой проект. Предлагаю общаться на 'ты' :)\n",
    "Однако, если это неудобно - сообщи, и мы перейдем на 'Вы'. Моя главная цель —  поделиться с тобой своим опытом и помочь тебе стать аналитиком данных, а не только указать на совершенные тобой ошибки.\n",
    "\n",
    "Видно, что к проету приложен большой труд. Все ключевые этапы в работе выполнены, статистическое исследование проведено качественно. Так что в целом справиться с задачей тебе удалось.\n",
    "\n",
    "Есть несколько аспектов, которые **требуют** твоего **внимания**. Комментарии по ним помечены красным цветом и символами ❌. После их доработки проект будет принят, осталось совсем немного :) \n",
    "    \n",
    "\n",
    "Давай работать над проектом в диалоге: если **ты что-то меняешь** в проекте по моим рекомендациям — **пиши об этом**. Мне будет легче отследить изменения, если ты будешь использовать синюю форму, которую я прикреплю ниже. Пожалуйста, **не перемещай, не изменяй и не удаляй мои комментарии**. Всё это поможет выполнить повторную проверку твоего проекта оперативнее. \n",
    "\n",
    "\n",
    "\n",
    "Жду проект на повторное ревью. Успехов в изучении!\n",
    "\n",
    "\n",
    "\n",
    "</div>\n",
    "<div class=\"alert alert-block alert-danger\"> <b>❌ Комментарий ревьюера ❌</b> \n",
    "    Так я выделяю моменты, которые требуют особого внимания. Нужно будет учесть их и внести корректировки в свою работу. </div>\n",
    "<div class=\"alert alert-block alert-warning\"> <b>⚠️ Комментарий ревьюера ⚠️</b> \n",
    "    Желтым я отмечу рекомендации, которые, могут быть полезными при твоей работе. Они носят рекомендационный характер, но будет классно, если ты будешь учитывать их при работе.</div>\n",
    "<div class=\"alert alert-block alert-success\"> <b>✔️ Комментарий ревьюера ✔️</b>\n",
    "    Так я выделяю удачные и элегантные решения, на которые можно опираться в будущих проектах.</div>\n",
    "<div class=\"alert alert-block alert-info\">\n",
    "    \n",
    "А в таком блоке ты можешь оставить комментарии для меня \n",
    "    \n",
    "</div>"
   ]
  },
  {
   "cell_type": "markdown",
   "metadata": {
    "toc": true
   },
   "source": [
    "<h1>Содержание<span class=\"tocSkip\"></span></h1>\n",
    "<div class=\"toc\"><ul class=\"toc-item\"><li><span><a href=\"#Изучение-данных-из-файла\" data-toc-modified-id=\"Изучение-данных-из-файла-1\"><span class=\"toc-item-num\">1&nbsp;&nbsp;</span>Изучение данных из файла</a></span><ul class=\"toc-item\"><li><span><a href=\"#Вывод\" data-toc-modified-id=\"Вывод-1.1\"><span class=\"toc-item-num\">1.1&nbsp;&nbsp;</span>Вывод</a></span></li></ul></li><li><span><a href=\"#Предобработка-данных\" data-toc-modified-id=\"Предобработка-данных-2\"><span class=\"toc-item-num\">2&nbsp;&nbsp;</span>Предобработка данных</a></span></li><li><span><a href=\"#Расчёты-и-добавление-результатов-в-таблицу\" data-toc-modified-id=\"Расчёты-и-добавление-результатов-в-таблицу-3\"><span class=\"toc-item-num\">3&nbsp;&nbsp;</span>Расчёты и добавление результатов в таблицу</a></span></li><li><span><a href=\"#Исследовательский-анализ-данных\" data-toc-modified-id=\"Исследовательский-анализ-данных-4\"><span class=\"toc-item-num\">4&nbsp;&nbsp;</span>Исследовательский анализ данных</a></span></li><li><span><a href=\"#Общий-вывод\" data-toc-modified-id=\"Общий-вывод-5\"><span class=\"toc-item-num\">5&nbsp;&nbsp;</span>Общий вывод</a></span></li><li><span><a href=\"#Чек-лист-готовности-проекта\" data-toc-modified-id=\"Чек-лист-готовности-проекта-6\"><span class=\"toc-item-num\">6&nbsp;&nbsp;</span>Чек-лист готовности проекта</a></span></li></ul></div>"
   ]
  },
  {
   "cell_type": "markdown",
   "metadata": {},
   "source": [
    "# Исследование объявлений о продаже квартир\n",
    "\n",
    "В вашем распоряжении данные сервиса Яндекc Недвижимость — архив объявлений о продаже квартир в Санкт-Петербурге и соседних населённых пунктах за несколько лет. Нужно научиться определять рыночную стоимость объектов недвижимости. Ваша задача — установить параметры. Это позволит построить автоматизированную систему: она отследит аномалии и мошенническую деятельность. \n",
    "\n",
    "По каждой квартире на продажу доступны два вида данных. Первые вписаны пользователем, вторые получены автоматически на основе картографических данных. Например, расстояние до центра, аэропорта, ближайшего парка и водоёма. "
   ]
  },
  {
   "cell_type": "markdown",
   "metadata": {},
   "source": [
    "<div class=\"alert alert-success\">\n",
    "\n",
    "**✔️ Комментарий ревьюера ✔️**\n",
    "   \n",
    "   Очень хорошее введение в проект. Оно будет полезным, когда соберешь большое портфолио и в какой-то момент решишь освежить проект в памяти.\n",
    "\n",
    "</div>\n"
   ]
  },
  {
   "cell_type": "markdown",
   "metadata": {},
   "source": [
    "## Изучение данных из файла"
   ]
  },
  {
   "cell_type": "markdown",
   "metadata": {},
   "source": [
    "**Импортирование библиотек:**"
   ]
  },
  {
   "cell_type": "markdown",
   "metadata": {},
   "source": [
    "**Чтение файла с данными:**"
   ]
  },
  {
   "cell_type": "code",
   "execution_count": 160,
   "metadata": {},
   "outputs": [],
   "source": [
    "import pandas as pd"
   ]
  },
  {
   "cell_type": "code",
   "execution_count": 161,
   "metadata": {},
   "outputs": [],
   "source": [
    "df = pd.read_csv('/datasets/real_estate_data.csv', sep='\\t')"
   ]
  },
  {
   "cell_type": "markdown",
   "metadata": {},
   "source": [
    "**Получение краткой информации о датасете:**"
   ]
  },
  {
   "cell_type": "code",
   "execution_count": 162,
   "metadata": {},
   "outputs": [
    {
     "name": "stdout",
     "output_type": "stream",
     "text": [
      "<class 'pandas.core.frame.DataFrame'>\n",
      "RangeIndex: 23699 entries, 0 to 23698\n",
      "Data columns (total 22 columns):\n",
      " #   Column                Non-Null Count  Dtype  \n",
      "---  ------                --------------  -----  \n",
      " 0   total_images          23699 non-null  int64  \n",
      " 1   last_price            23699 non-null  float64\n",
      " 2   total_area            23699 non-null  float64\n",
      " 3   first_day_exposition  23699 non-null  object \n",
      " 4   rooms                 23699 non-null  int64  \n",
      " 5   ceiling_height        14504 non-null  float64\n",
      " 6   floors_total          23613 non-null  float64\n",
      " 7   living_area           21796 non-null  float64\n",
      " 8   floor                 23699 non-null  int64  \n",
      " 9   is_apartment          2775 non-null   object \n",
      " 10  studio                23699 non-null  bool   \n",
      " 11  open_plan             23699 non-null  bool   \n",
      " 12  kitchen_area          21421 non-null  float64\n",
      " 13  balcony               12180 non-null  float64\n",
      " 14  locality_name         23650 non-null  object \n",
      " 15  airports_nearest      18157 non-null  float64\n",
      " 16  cityCenters_nearest   18180 non-null  float64\n",
      " 17  parks_around3000      18181 non-null  float64\n",
      " 18  parks_nearest         8079 non-null   float64\n",
      " 19  ponds_around3000      18181 non-null  float64\n",
      " 20  ponds_nearest         9110 non-null   float64\n",
      " 21  days_exposition       20518 non-null  float64\n",
      "dtypes: bool(2), float64(14), int64(3), object(3)\n",
      "memory usage: 3.7+ MB\n"
     ]
    }
   ],
   "source": [
    "# Рассмотрим общую информацию о датасете:\n",
    "df.info()"
   ]
  },
  {
   "cell_type": "markdown",
   "metadata": {},
   "source": [
    "Можно заметить, что столбцы balcony, days_exposition, floors_total, parks_around3000, ponds_around3000 имеют тип float, что не соответствует описанию данных. Столбец is_apartment должен иметь булев тип данны."
   ]
  },
  {
   "cell_type": "code",
   "execution_count": 164,
   "metadata": {
    "scrolled": true
   },
   "outputs": [
    {
     "data": {
      "text/plain": [
       "array([nan, False, True], dtype=object)"
      ]
     },
     "execution_count": 164,
     "metadata": {},
     "output_type": "execute_result"
    }
   ],
   "source": [
    "# Рассмотрим уникальные значения столбца is_apartment: \n",
    "df['is_apartment'].unique()"
   ]
  },
  {
   "cell_type": "markdown",
   "metadata": {},
   "source": [
    "Столбец is_apartment имеет тип данных object так как содержить пропуски.\n",
    "Столбец last_price имеет тип данных float, но имеет целые значения.\n",
    "Стобец first_day_exposition имеет тип данных object и содержит данные о дате."
   ]
  },
  {
   "cell_type": "markdown",
   "metadata": {},
   "source": [
    "**Пропуски:**"
   ]
  },
  {
   "cell_type": "markdown",
   "metadata": {},
   "source": [
    "Столбцы ceiling_height, floors_total, living_area, is_apartment, kitchen_area, balcony, locality_name, airports_neares, cityCenters_nearest, parks_around3000, parks_nearest, ponds_around3000, ponds_nearest, days_exposition."
   ]
  },
  {
   "cell_type": "code",
   "execution_count": 165,
   "metadata": {},
   "outputs": [
    {
     "data": {
      "text/plain": [
       "0"
      ]
     },
     "execution_count": 165,
     "metadata": {},
     "output_type": "execute_result"
    }
   ],
   "source": [
    "# Проверим данные на наличие явных дубликатов:\n",
    "df.duplicated().sum()"
   ]
  },
  {
   "cell_type": "markdown",
   "metadata": {},
   "source": [
    "### Вывод"
   ]
  },
  {
   "cell_type": "markdown",
   "metadata": {},
   "source": [
    "**Можно заметить, что столбцы balcony, days_exposition, floors_total, parks_around3000, ponds_around3000 имеют тип float, что не соответствует описанию данных. Столбец is_apartment должен иметь булев тип данны. Столбец is_apartment имеет тип данных object так как содержить пропуски. Столбец last_price имеет тип данных float, но имеет целые значения. Стобец first_day_exposition имеет тип данных object и содержит данные о дате. Столбцы ceiling_height, floors_total, living_area, is_apartment, kitchen_area, balcony, locality_name, airports_neares, cityCenters_nearest, parks_around3000, parks_nearest, ponds_around3000, ponds_nearest, days_exposition.**"
   ]
  },
  {
   "cell_type": "markdown",
   "metadata": {},
   "source": [
    "<div class=\"alert alert-success\">\n",
    "\n",
    "**✔️ Комментарий ревьюера ✔️**\n",
    "   \n",
    "   Отлично👍 Приступаем к предобработке\n",
    "\n",
    "</div>\n"
   ]
  },
  {
   "cell_type": "markdown",
   "metadata": {},
   "source": [
    "## Предобработка данных"
   ]
  },
  {
   "cell_type": "markdown",
   "metadata": {},
   "source": [
    "**Изменение типов данных:**"
   ]
  },
  {
   "cell_type": "code",
   "execution_count": 166,
   "metadata": {},
   "outputs": [],
   "source": [
    "# Изменим тип данных в столбце last_price на integer, так как значения в столбце имеют нулевую дробную часть:\n",
    "df['last_price'] = df['last_price'].astype('int')"
   ]
  },
  {
   "cell_type": "code",
   "execution_count": 167,
   "metadata": {
    "scrolled": true
   },
   "outputs": [],
   "source": [
    "# Приведём столбец first_day_exposition к datetime:\n",
    "df['first_day_exposition'] = pd.to_datetime(df['first_day_exposition'], format='%Y-%m-%dT%H:%M:%S')"
   ]
  },
  {
   "cell_type": "code",
   "execution_count": 168,
   "metadata": {
    "scrolled": false
   },
   "outputs": [
    {
     "data": {
      "text/html": [
       "<div>\n",
       "<style scoped>\n",
       "    .dataframe tbody tr th:only-of-type {\n",
       "        vertical-align: middle;\n",
       "    }\n",
       "\n",
       "    .dataframe tbody tr th {\n",
       "        vertical-align: top;\n",
       "    }\n",
       "\n",
       "    .dataframe thead th {\n",
       "        text-align: right;\n",
       "    }\n",
       "</style>\n",
       "<table border=\"1\" class=\"dataframe\">\n",
       "  <thead>\n",
       "    <tr style=\"text-align: right;\">\n",
       "      <th></th>\n",
       "      <th>total_images</th>\n",
       "      <th>last_price</th>\n",
       "      <th>total_area</th>\n",
       "      <th>rooms</th>\n",
       "      <th>ceiling_height</th>\n",
       "      <th>floors_total</th>\n",
       "      <th>living_area</th>\n",
       "      <th>floor</th>\n",
       "      <th>studio</th>\n",
       "      <th>open_plan</th>\n",
       "      <th>kitchen_area</th>\n",
       "      <th>balcony</th>\n",
       "      <th>airports_nearest</th>\n",
       "      <th>cityCenters_nearest</th>\n",
       "      <th>parks_around3000</th>\n",
       "      <th>parks_nearest</th>\n",
       "      <th>ponds_around3000</th>\n",
       "      <th>ponds_nearest</th>\n",
       "      <th>days_exposition</th>\n",
       "    </tr>\n",
       "  </thead>\n",
       "  <tbody>\n",
       "    <tr>\n",
       "      <th>total_images</th>\n",
       "      <td>1.000000</td>\n",
       "      <td>0.104473</td>\n",
       "      <td>0.115352</td>\n",
       "      <td>0.099288</td>\n",
       "      <td>-0.001987</td>\n",
       "      <td>0.010427</td>\n",
       "      <td>0.104780</td>\n",
       "      <td>0.031340</td>\n",
       "      <td>-0.029303</td>\n",
       "      <td>-0.024407</td>\n",
       "      <td>0.104756</td>\n",
       "      <td>0.121693</td>\n",
       "      <td>-0.002298</td>\n",
       "      <td>-0.047666</td>\n",
       "      <td>0.021120</td>\n",
       "      <td>-0.008347</td>\n",
       "      <td>-0.011553</td>\n",
       "      <td>-0.003034</td>\n",
       "      <td>-0.026657</td>\n",
       "    </tr>\n",
       "    <tr>\n",
       "      <th>last_price</th>\n",
       "      <td>0.104473</td>\n",
       "      <td>1.000000</td>\n",
       "      <td>0.653675</td>\n",
       "      <td>0.363343</td>\n",
       "      <td>0.085430</td>\n",
       "      <td>-0.006984</td>\n",
       "      <td>0.566492</td>\n",
       "      <td>0.026576</td>\n",
       "      <td>-0.025362</td>\n",
       "      <td>-0.008802</td>\n",
       "      <td>0.519869</td>\n",
       "      <td>0.029646</td>\n",
       "      <td>-0.026239</td>\n",
       "      <td>-0.206747</td>\n",
       "      <td>0.151058</td>\n",
       "      <td>-0.016414</td>\n",
       "      <td>0.159996</td>\n",
       "      <td>-0.084809</td>\n",
       "      <td>0.081146</td>\n",
       "    </tr>\n",
       "    <tr>\n",
       "      <th>total_area</th>\n",
       "      <td>0.115352</td>\n",
       "      <td>0.653675</td>\n",
       "      <td>1.000000</td>\n",
       "      <td>0.758344</td>\n",
       "      <td>0.095490</td>\n",
       "      <td>-0.075774</td>\n",
       "      <td>0.939537</td>\n",
       "      <td>-0.024754</td>\n",
       "      <td>-0.072653</td>\n",
       "      <td>-0.034885</td>\n",
       "      <td>0.609121</td>\n",
       "      <td>0.047937</td>\n",
       "      <td>-0.030753</td>\n",
       "      <td>-0.231446</td>\n",
       "      <td>0.164689</td>\n",
       "      <td>-0.021497</td>\n",
       "      <td>0.162346</td>\n",
       "      <td>-0.097969</td>\n",
       "      <td>0.149675</td>\n",
       "    </tr>\n",
       "    <tr>\n",
       "      <th>rooms</th>\n",
       "      <td>0.099288</td>\n",
       "      <td>0.363343</td>\n",
       "      <td>0.758344</td>\n",
       "      <td>1.000000</td>\n",
       "      <td>0.054457</td>\n",
       "      <td>-0.228215</td>\n",
       "      <td>0.845977</td>\n",
       "      <td>-0.150862</td>\n",
       "      <td>-0.147286</td>\n",
       "      <td>-0.087500</td>\n",
       "      <td>0.269945</td>\n",
       "      <td>0.017991</td>\n",
       "      <td>-0.061199</td>\n",
       "      <td>-0.184864</td>\n",
       "      <td>0.137257</td>\n",
       "      <td>-0.054549</td>\n",
       "      <td>0.092693</td>\n",
       "      <td>-0.057689</td>\n",
       "      <td>0.126961</td>\n",
       "    </tr>\n",
       "    <tr>\n",
       "      <th>ceiling_height</th>\n",
       "      <td>-0.001987</td>\n",
       "      <td>0.085430</td>\n",
       "      <td>0.095490</td>\n",
       "      <td>0.054457</td>\n",
       "      <td>1.000000</td>\n",
       "      <td>-0.028732</td>\n",
       "      <td>0.090650</td>\n",
       "      <td>-0.011798</td>\n",
       "      <td>0.001674</td>\n",
       "      <td>0.042777</td>\n",
       "      <td>0.087641</td>\n",
       "      <td>0.040523</td>\n",
       "      <td>-0.023947</td>\n",
       "      <td>-0.091689</td>\n",
       "      <td>0.065915</td>\n",
       "      <td>-0.019167</td>\n",
       "      <td>0.078209</td>\n",
       "      <td>-0.059090</td>\n",
       "      <td>0.019091</td>\n",
       "    </tr>\n",
       "    <tr>\n",
       "      <th>floors_total</th>\n",
       "      <td>0.010427</td>\n",
       "      <td>-0.006984</td>\n",
       "      <td>-0.075774</td>\n",
       "      <td>-0.228215</td>\n",
       "      <td>-0.028732</td>\n",
       "      <td>1.000000</td>\n",
       "      <td>-0.169311</td>\n",
       "      <td>0.678059</td>\n",
       "      <td>0.070151</td>\n",
       "      <td>0.050791</td>\n",
       "      <td>0.163944</td>\n",
       "      <td>0.194065</td>\n",
       "      <td>0.108288</td>\n",
       "      <td>0.019774</td>\n",
       "      <td>-0.252833</td>\n",
       "      <td>0.097527</td>\n",
       "      <td>-0.122735</td>\n",
       "      <td>0.038864</td>\n",
       "      <td>-0.052234</td>\n",
       "    </tr>\n",
       "    <tr>\n",
       "      <th>living_area</th>\n",
       "      <td>0.104780</td>\n",
       "      <td>0.566492</td>\n",
       "      <td>0.939537</td>\n",
       "      <td>0.845977</td>\n",
       "      <td>0.090650</td>\n",
       "      <td>-0.169311</td>\n",
       "      <td>1.000000</td>\n",
       "      <td>-0.097210</td>\n",
       "      <td>-0.056231</td>\n",
       "      <td>-0.033711</td>\n",
       "      <td>0.428674</td>\n",
       "      <td>0.018849</td>\n",
       "      <td>-0.057912</td>\n",
       "      <td>-0.231368</td>\n",
       "      <td>0.184453</td>\n",
       "      <td>-0.050167</td>\n",
       "      <td>0.148933</td>\n",
       "      <td>-0.081674</td>\n",
       "      <td>0.142454</td>\n",
       "    </tr>\n",
       "    <tr>\n",
       "      <th>floor</th>\n",
       "      <td>0.031340</td>\n",
       "      <td>0.026576</td>\n",
       "      <td>-0.024754</td>\n",
       "      <td>-0.150862</td>\n",
       "      <td>-0.011798</td>\n",
       "      <td>0.678059</td>\n",
       "      <td>-0.097210</td>\n",
       "      <td>1.000000</td>\n",
       "      <td>0.036940</td>\n",
       "      <td>0.035824</td>\n",
       "      <td>0.135531</td>\n",
       "      <td>0.168773</td>\n",
       "      <td>0.071597</td>\n",
       "      <td>0.009084</td>\n",
       "      <td>-0.163784</td>\n",
       "      <td>0.073045</td>\n",
       "      <td>-0.076312</td>\n",
       "      <td>0.024850</td>\n",
       "      <td>-0.039463</td>\n",
       "    </tr>\n",
       "    <tr>\n",
       "      <th>studio</th>\n",
       "      <td>-0.029303</td>\n",
       "      <td>-0.025362</td>\n",
       "      <td>-0.072653</td>\n",
       "      <td>-0.147286</td>\n",
       "      <td>0.001674</td>\n",
       "      <td>0.070151</td>\n",
       "      <td>-0.056231</td>\n",
       "      <td>0.036940</td>\n",
       "      <td>1.000000</td>\n",
       "      <td>-0.004235</td>\n",
       "      <td>NaN</td>\n",
       "      <td>0.031455</td>\n",
       "      <td>-0.021876</td>\n",
       "      <td>-0.007029</td>\n",
       "      <td>-0.030202</td>\n",
       "      <td>0.009134</td>\n",
       "      <td>0.000939</td>\n",
       "      <td>0.002606</td>\n",
       "      <td>-0.022476</td>\n",
       "    </tr>\n",
       "    <tr>\n",
       "      <th>open_plan</th>\n",
       "      <td>-0.024407</td>\n",
       "      <td>-0.008802</td>\n",
       "      <td>-0.034885</td>\n",
       "      <td>-0.087500</td>\n",
       "      <td>0.042777</td>\n",
       "      <td>0.050791</td>\n",
       "      <td>-0.033711</td>\n",
       "      <td>0.035824</td>\n",
       "      <td>-0.004235</td>\n",
       "      <td>1.000000</td>\n",
       "      <td>NaN</td>\n",
       "      <td>0.019491</td>\n",
       "      <td>-0.013583</td>\n",
       "      <td>-0.004204</td>\n",
       "      <td>-0.010077</td>\n",
       "      <td>0.010612</td>\n",
       "      <td>0.008455</td>\n",
       "      <td>-0.003328</td>\n",
       "      <td>-0.024112</td>\n",
       "    </tr>\n",
       "    <tr>\n",
       "      <th>kitchen_area</th>\n",
       "      <td>0.104756</td>\n",
       "      <td>0.519869</td>\n",
       "      <td>0.609121</td>\n",
       "      <td>0.269945</td>\n",
       "      <td>0.087641</td>\n",
       "      <td>0.163944</td>\n",
       "      <td>0.428674</td>\n",
       "      <td>0.135531</td>\n",
       "      <td>NaN</td>\n",
       "      <td>NaN</td>\n",
       "      <td>1.000000</td>\n",
       "      <td>0.098634</td>\n",
       "      <td>0.008200</td>\n",
       "      <td>-0.190049</td>\n",
       "      <td>0.087503</td>\n",
       "      <td>0.029641</td>\n",
       "      <td>0.150148</td>\n",
       "      <td>-0.105223</td>\n",
       "      <td>0.100586</td>\n",
       "    </tr>\n",
       "    <tr>\n",
       "      <th>balcony</th>\n",
       "      <td>0.121693</td>\n",
       "      <td>0.029646</td>\n",
       "      <td>0.047937</td>\n",
       "      <td>0.017991</td>\n",
       "      <td>0.040523</td>\n",
       "      <td>0.194065</td>\n",
       "      <td>0.018849</td>\n",
       "      <td>0.168773</td>\n",
       "      <td>0.031455</td>\n",
       "      <td>0.019491</td>\n",
       "      <td>0.098634</td>\n",
       "      <td>1.000000</td>\n",
       "      <td>0.066834</td>\n",
       "      <td>0.051051</td>\n",
       "      <td>-0.082850</td>\n",
       "      <td>0.052328</td>\n",
       "      <td>-0.032709</td>\n",
       "      <td>0.010847</td>\n",
       "      <td>-0.032909</td>\n",
       "    </tr>\n",
       "    <tr>\n",
       "      <th>airports_nearest</th>\n",
       "      <td>-0.002298</td>\n",
       "      <td>-0.026239</td>\n",
       "      <td>-0.030753</td>\n",
       "      <td>-0.061199</td>\n",
       "      <td>-0.023947</td>\n",
       "      <td>0.108288</td>\n",
       "      <td>-0.057912</td>\n",
       "      <td>0.071597</td>\n",
       "      <td>-0.021876</td>\n",
       "      <td>-0.013583</td>\n",
       "      <td>0.008200</td>\n",
       "      <td>0.066834</td>\n",
       "      <td>1.000000</td>\n",
       "      <td>0.272184</td>\n",
       "      <td>0.000759</td>\n",
       "      <td>-0.070058</td>\n",
       "      <td>-0.049583</td>\n",
       "      <td>0.014049</td>\n",
       "      <td>-0.018271</td>\n",
       "    </tr>\n",
       "    <tr>\n",
       "      <th>cityCenters_nearest</th>\n",
       "      <td>-0.047666</td>\n",
       "      <td>-0.206747</td>\n",
       "      <td>-0.231446</td>\n",
       "      <td>-0.184864</td>\n",
       "      <td>-0.091689</td>\n",
       "      <td>0.019774</td>\n",
       "      <td>-0.231368</td>\n",
       "      <td>0.009084</td>\n",
       "      <td>-0.007029</td>\n",
       "      <td>-0.004204</td>\n",
       "      <td>-0.190049</td>\n",
       "      <td>0.051051</td>\n",
       "      <td>0.272184</td>\n",
       "      <td>1.000000</td>\n",
       "      <td>-0.161738</td>\n",
       "      <td>-0.040650</td>\n",
       "      <td>-0.074577</td>\n",
       "      <td>0.028903</td>\n",
       "      <td>-0.060714</td>\n",
       "    </tr>\n",
       "    <tr>\n",
       "      <th>parks_around3000</th>\n",
       "      <td>0.021120</td>\n",
       "      <td>0.151058</td>\n",
       "      <td>0.164689</td>\n",
       "      <td>0.137257</td>\n",
       "      <td>0.065915</td>\n",
       "      <td>-0.252833</td>\n",
       "      <td>0.184453</td>\n",
       "      <td>-0.163784</td>\n",
       "      <td>-0.030202</td>\n",
       "      <td>-0.010077</td>\n",
       "      <td>0.087503</td>\n",
       "      <td>-0.082850</td>\n",
       "      <td>0.000759</td>\n",
       "      <td>-0.161738</td>\n",
       "      <td>1.000000</td>\n",
       "      <td>-0.259514</td>\n",
       "      <td>0.304316</td>\n",
       "      <td>-0.167103</td>\n",
       "      <td>0.060491</td>\n",
       "    </tr>\n",
       "    <tr>\n",
       "      <th>parks_nearest</th>\n",
       "      <td>-0.008347</td>\n",
       "      <td>-0.016414</td>\n",
       "      <td>-0.021497</td>\n",
       "      <td>-0.054549</td>\n",
       "      <td>-0.019167</td>\n",
       "      <td>0.097527</td>\n",
       "      <td>-0.050167</td>\n",
       "      <td>0.073045</td>\n",
       "      <td>0.009134</td>\n",
       "      <td>0.010612</td>\n",
       "      <td>0.029641</td>\n",
       "      <td>0.052328</td>\n",
       "      <td>-0.070058</td>\n",
       "      <td>-0.040650</td>\n",
       "      <td>-0.259514</td>\n",
       "      <td>1.000000</td>\n",
       "      <td>0.077280</td>\n",
       "      <td>0.000692</td>\n",
       "      <td>0.023254</td>\n",
       "    </tr>\n",
       "    <tr>\n",
       "      <th>ponds_around3000</th>\n",
       "      <td>-0.011553</td>\n",
       "      <td>0.159996</td>\n",
       "      <td>0.162346</td>\n",
       "      <td>0.092693</td>\n",
       "      <td>0.078209</td>\n",
       "      <td>-0.122735</td>\n",
       "      <td>0.148933</td>\n",
       "      <td>-0.076312</td>\n",
       "      <td>0.000939</td>\n",
       "      <td>0.008455</td>\n",
       "      <td>0.150148</td>\n",
       "      <td>-0.032709</td>\n",
       "      <td>-0.049583</td>\n",
       "      <td>-0.074577</td>\n",
       "      <td>0.304316</td>\n",
       "      <td>0.077280</td>\n",
       "      <td>1.000000</td>\n",
       "      <td>-0.341840</td>\n",
       "      <td>0.073162</td>\n",
       "    </tr>\n",
       "    <tr>\n",
       "      <th>ponds_nearest</th>\n",
       "      <td>-0.003034</td>\n",
       "      <td>-0.084809</td>\n",
       "      <td>-0.097969</td>\n",
       "      <td>-0.057689</td>\n",
       "      <td>-0.059090</td>\n",
       "      <td>0.038864</td>\n",
       "      <td>-0.081674</td>\n",
       "      <td>0.024850</td>\n",
       "      <td>0.002606</td>\n",
       "      <td>-0.003328</td>\n",
       "      <td>-0.105223</td>\n",
       "      <td>0.010847</td>\n",
       "      <td>0.014049</td>\n",
       "      <td>0.028903</td>\n",
       "      <td>-0.167103</td>\n",
       "      <td>0.000692</td>\n",
       "      <td>-0.341840</td>\n",
       "      <td>1.000000</td>\n",
       "      <td>-0.077879</td>\n",
       "    </tr>\n",
       "    <tr>\n",
       "      <th>days_exposition</th>\n",
       "      <td>-0.026657</td>\n",
       "      <td>0.081146</td>\n",
       "      <td>0.149675</td>\n",
       "      <td>0.126961</td>\n",
       "      <td>0.019091</td>\n",
       "      <td>-0.052234</td>\n",
       "      <td>0.142454</td>\n",
       "      <td>-0.039463</td>\n",
       "      <td>-0.022476</td>\n",
       "      <td>-0.024112</td>\n",
       "      <td>0.100586</td>\n",
       "      <td>-0.032909</td>\n",
       "      <td>-0.018271</td>\n",
       "      <td>-0.060714</td>\n",
       "      <td>0.060491</td>\n",
       "      <td>0.023254</td>\n",
       "      <td>0.073162</td>\n",
       "      <td>-0.077879</td>\n",
       "      <td>1.000000</td>\n",
       "    </tr>\n",
       "  </tbody>\n",
       "</table>\n",
       "</div>"
      ],
      "text/plain": [
       "                     total_images  last_price  total_area     rooms  \\\n",
       "total_images             1.000000    0.104473    0.115352  0.099288   \n",
       "last_price               0.104473    1.000000    0.653675  0.363343   \n",
       "total_area               0.115352    0.653675    1.000000  0.758344   \n",
       "rooms                    0.099288    0.363343    0.758344  1.000000   \n",
       "ceiling_height          -0.001987    0.085430    0.095490  0.054457   \n",
       "floors_total             0.010427   -0.006984   -0.075774 -0.228215   \n",
       "living_area              0.104780    0.566492    0.939537  0.845977   \n",
       "floor                    0.031340    0.026576   -0.024754 -0.150862   \n",
       "studio                  -0.029303   -0.025362   -0.072653 -0.147286   \n",
       "open_plan               -0.024407   -0.008802   -0.034885 -0.087500   \n",
       "kitchen_area             0.104756    0.519869    0.609121  0.269945   \n",
       "balcony                  0.121693    0.029646    0.047937  0.017991   \n",
       "airports_nearest        -0.002298   -0.026239   -0.030753 -0.061199   \n",
       "cityCenters_nearest     -0.047666   -0.206747   -0.231446 -0.184864   \n",
       "parks_around3000         0.021120    0.151058    0.164689  0.137257   \n",
       "parks_nearest           -0.008347   -0.016414   -0.021497 -0.054549   \n",
       "ponds_around3000        -0.011553    0.159996    0.162346  0.092693   \n",
       "ponds_nearest           -0.003034   -0.084809   -0.097969 -0.057689   \n",
       "days_exposition         -0.026657    0.081146    0.149675  0.126961   \n",
       "\n",
       "                     ceiling_height  floors_total  living_area     floor  \\\n",
       "total_images              -0.001987      0.010427     0.104780  0.031340   \n",
       "last_price                 0.085430     -0.006984     0.566492  0.026576   \n",
       "total_area                 0.095490     -0.075774     0.939537 -0.024754   \n",
       "rooms                      0.054457     -0.228215     0.845977 -0.150862   \n",
       "ceiling_height             1.000000     -0.028732     0.090650 -0.011798   \n",
       "floors_total              -0.028732      1.000000    -0.169311  0.678059   \n",
       "living_area                0.090650     -0.169311     1.000000 -0.097210   \n",
       "floor                     -0.011798      0.678059    -0.097210  1.000000   \n",
       "studio                     0.001674      0.070151    -0.056231  0.036940   \n",
       "open_plan                  0.042777      0.050791    -0.033711  0.035824   \n",
       "kitchen_area               0.087641      0.163944     0.428674  0.135531   \n",
       "balcony                    0.040523      0.194065     0.018849  0.168773   \n",
       "airports_nearest          -0.023947      0.108288    -0.057912  0.071597   \n",
       "cityCenters_nearest       -0.091689      0.019774    -0.231368  0.009084   \n",
       "parks_around3000           0.065915     -0.252833     0.184453 -0.163784   \n",
       "parks_nearest             -0.019167      0.097527    -0.050167  0.073045   \n",
       "ponds_around3000           0.078209     -0.122735     0.148933 -0.076312   \n",
       "ponds_nearest             -0.059090      0.038864    -0.081674  0.024850   \n",
       "days_exposition            0.019091     -0.052234     0.142454 -0.039463   \n",
       "\n",
       "                       studio  open_plan  kitchen_area   balcony  \\\n",
       "total_images        -0.029303  -0.024407      0.104756  0.121693   \n",
       "last_price          -0.025362  -0.008802      0.519869  0.029646   \n",
       "total_area          -0.072653  -0.034885      0.609121  0.047937   \n",
       "rooms               -0.147286  -0.087500      0.269945  0.017991   \n",
       "ceiling_height       0.001674   0.042777      0.087641  0.040523   \n",
       "floors_total         0.070151   0.050791      0.163944  0.194065   \n",
       "living_area         -0.056231  -0.033711      0.428674  0.018849   \n",
       "floor                0.036940   0.035824      0.135531  0.168773   \n",
       "studio               1.000000  -0.004235           NaN  0.031455   \n",
       "open_plan           -0.004235   1.000000           NaN  0.019491   \n",
       "kitchen_area              NaN        NaN      1.000000  0.098634   \n",
       "balcony              0.031455   0.019491      0.098634  1.000000   \n",
       "airports_nearest    -0.021876  -0.013583      0.008200  0.066834   \n",
       "cityCenters_nearest -0.007029  -0.004204     -0.190049  0.051051   \n",
       "parks_around3000    -0.030202  -0.010077      0.087503 -0.082850   \n",
       "parks_nearest        0.009134   0.010612      0.029641  0.052328   \n",
       "ponds_around3000     0.000939   0.008455      0.150148 -0.032709   \n",
       "ponds_nearest        0.002606  -0.003328     -0.105223  0.010847   \n",
       "days_exposition     -0.022476  -0.024112      0.100586 -0.032909   \n",
       "\n",
       "                     airports_nearest  cityCenters_nearest  parks_around3000  \\\n",
       "total_images                -0.002298            -0.047666          0.021120   \n",
       "last_price                  -0.026239            -0.206747          0.151058   \n",
       "total_area                  -0.030753            -0.231446          0.164689   \n",
       "rooms                       -0.061199            -0.184864          0.137257   \n",
       "ceiling_height              -0.023947            -0.091689          0.065915   \n",
       "floors_total                 0.108288             0.019774         -0.252833   \n",
       "living_area                 -0.057912            -0.231368          0.184453   \n",
       "floor                        0.071597             0.009084         -0.163784   \n",
       "studio                      -0.021876            -0.007029         -0.030202   \n",
       "open_plan                   -0.013583            -0.004204         -0.010077   \n",
       "kitchen_area                 0.008200            -0.190049          0.087503   \n",
       "balcony                      0.066834             0.051051         -0.082850   \n",
       "airports_nearest             1.000000             0.272184          0.000759   \n",
       "cityCenters_nearest          0.272184             1.000000         -0.161738   \n",
       "parks_around3000             0.000759            -0.161738          1.000000   \n",
       "parks_nearest               -0.070058            -0.040650         -0.259514   \n",
       "ponds_around3000            -0.049583            -0.074577          0.304316   \n",
       "ponds_nearest                0.014049             0.028903         -0.167103   \n",
       "days_exposition             -0.018271            -0.060714          0.060491   \n",
       "\n",
       "                     parks_nearest  ponds_around3000  ponds_nearest  \\\n",
       "total_images             -0.008347         -0.011553      -0.003034   \n",
       "last_price               -0.016414          0.159996      -0.084809   \n",
       "total_area               -0.021497          0.162346      -0.097969   \n",
       "rooms                    -0.054549          0.092693      -0.057689   \n",
       "ceiling_height           -0.019167          0.078209      -0.059090   \n",
       "floors_total              0.097527         -0.122735       0.038864   \n",
       "living_area              -0.050167          0.148933      -0.081674   \n",
       "floor                     0.073045         -0.076312       0.024850   \n",
       "studio                    0.009134          0.000939       0.002606   \n",
       "open_plan                 0.010612          0.008455      -0.003328   \n",
       "kitchen_area              0.029641          0.150148      -0.105223   \n",
       "balcony                   0.052328         -0.032709       0.010847   \n",
       "airports_nearest         -0.070058         -0.049583       0.014049   \n",
       "cityCenters_nearest      -0.040650         -0.074577       0.028903   \n",
       "parks_around3000         -0.259514          0.304316      -0.167103   \n",
       "parks_nearest             1.000000          0.077280       0.000692   \n",
       "ponds_around3000          0.077280          1.000000      -0.341840   \n",
       "ponds_nearest             0.000692         -0.341840       1.000000   \n",
       "days_exposition           0.023254          0.073162      -0.077879   \n",
       "\n",
       "                     days_exposition  \n",
       "total_images               -0.026657  \n",
       "last_price                  0.081146  \n",
       "total_area                  0.149675  \n",
       "rooms                       0.126961  \n",
       "ceiling_height              0.019091  \n",
       "floors_total               -0.052234  \n",
       "living_area                 0.142454  \n",
       "floor                      -0.039463  \n",
       "studio                     -0.022476  \n",
       "open_plan                  -0.024112  \n",
       "kitchen_area                0.100586  \n",
       "balcony                    -0.032909  \n",
       "airports_nearest           -0.018271  \n",
       "cityCenters_nearest        -0.060714  \n",
       "parks_around3000            0.060491  \n",
       "parks_nearest               0.023254  \n",
       "ponds_around3000            0.073162  \n",
       "ponds_nearest              -0.077879  \n",
       "days_exposition             1.000000  "
      ]
     },
     "execution_count": 168,
     "metadata": {},
     "output_type": "execute_result"
    }
   ],
   "source": [
    "# Чтобы определить какими значениями заполнить столбец ceiling_height рассмотрим корреляцию значений этого столбца с дргуими столбцами:\n",
    "df.corr()"
   ]
  },
  {
   "cell_type": "markdown",
   "metadata": {},
   "source": [
    "Как видно из матрицы корреляций, значения столбца ceiling_height не имеют линейной зависимости с другими данными."
   ]
  },
  {
   "cell_type": "code",
   "execution_count": 169,
   "metadata": {
    "scrolled": false
   },
   "outputs": [
    {
     "data": {
      "text/plain": [
       "<AxesSubplot:ylabel='Frequency'>"
      ]
     },
     "execution_count": 169,
     "metadata": {},
     "output_type": "execute_result"
    },
    {
     "data": {
      "image/png": "[encoded data removed]",
      "text/plain": [
       "<Figure size 432x288 with 1 Axes>"
      ]
     },
     "metadata": {
      "needs_background": "light"
     },
     "output_type": "display_data"
    }
   ],
   "source": [
    "df['ceiling_height'].plot(kind='hist', bins=10, range=(0,5), grid=True)"
   ]
  },
  {
   "cell_type": "markdown",
   "metadata": {},
   "source": [
    "Как видно из гистограммы большинство квартир имеют высоту потолков от 2,5 до 3 м. Заменим пропуски этим значением."
   ]
  },
  {
   "cell_type": "code",
   "execution_count": 170,
   "metadata": {
    "scrolled": false
   },
   "outputs": [],
   "source": [
    "# Найдём среднее значение высоты потолков и заполним им пропуски:\n",
    "avg_ceiling_height = df['ceiling_height'].median().round(2)\n",
    "df['ceiling_height'] = df['ceiling_height'].fillna(avg_ceiling_height)"
   ]
  },
  {
   "cell_type": "code",
   "execution_count": 171,
   "metadata": {},
   "outputs": [],
   "source": [
    "# Удалим строки с проаусками в столбце floors_total, так как отсутсвие информации о количестве этажей в доме может означать одноэтажность дома:\n",
    "df.dropna(subset=['floors_total'], inplace=True)"
   ]
  },
  {
   "cell_type": "code",
   "execution_count": 172,
   "metadata": {},
   "outputs": [
    {
     "data": {
      "text/plain": [
       "<AxesSubplot:>"
      ]
     },
     "execution_count": 172,
     "metadata": {},
     "output_type": "execute_result"
    },
    {
     "data": {
      "image/png": "[encoded data removed]",
      "text/plain": [
       "<Figure size 432x288 with 1 Axes>"
      ]
     },
     "metadata": {
      "needs_background": "light"
     },
     "output_type": "display_data"
    }
   ],
   "source": [
    "# Рассмотрим распределение квартир по их площадям на гистограмме:\n",
    "df['total_area'].hist(range=(0,400), bins=10)"
   ]
  },
  {
   "cell_type": "markdown",
   "metadata": {},
   "source": [
    "Исходя из гистограммы категоризируем квартиры по площади на большие(=>150), средние(50-150) и маленькие(<=50)."
   ]
  },
  {
   "cell_type": "code",
   "execution_count": 173,
   "metadata": {
    "scrolled": false
   },
   "outputs": [
    {
     "data": {
      "text/html": [
       "<div>\n",
       "<style scoped>\n",
       "    .dataframe tbody tr th:only-of-type {\n",
       "        vertical-align: middle;\n",
       "    }\n",
       "\n",
       "    .dataframe tbody tr th {\n",
       "        vertical-align: top;\n",
       "    }\n",
       "\n",
       "    .dataframe thead th {\n",
       "        text-align: right;\n",
       "    }\n",
       "</style>\n",
       "<table border=\"1\" class=\"dataframe\">\n",
       "  <thead>\n",
       "    <tr style=\"text-align: right;\">\n",
       "      <th></th>\n",
       "      <th>total_images</th>\n",
       "      <th>last_price</th>\n",
       "      <th>total_area</th>\n",
       "      <th>first_day_exposition</th>\n",
       "      <th>rooms</th>\n",
       "      <th>ceiling_height</th>\n",
       "      <th>floors_total</th>\n",
       "      <th>living_area</th>\n",
       "      <th>floor</th>\n",
       "      <th>is_apartment</th>\n",
       "      <th>...</th>\n",
       "      <th>balcony</th>\n",
       "      <th>locality_name</th>\n",
       "      <th>airports_nearest</th>\n",
       "      <th>cityCenters_nearest</th>\n",
       "      <th>parks_around3000</th>\n",
       "      <th>parks_nearest</th>\n",
       "      <th>ponds_around3000</th>\n",
       "      <th>ponds_nearest</th>\n",
       "      <th>days_exposition</th>\n",
       "      <th>area_categor</th>\n",
       "    </tr>\n",
       "  </thead>\n",
       "  <tbody>\n",
       "    <tr>\n",
       "      <th>0</th>\n",
       "      <td>20</td>\n",
       "      <td>13000000</td>\n",
       "      <td>108.00</td>\n",
       "      <td>2019-03-07</td>\n",
       "      <td>3</td>\n",
       "      <td>2.70</td>\n",
       "      <td>16.0</td>\n",
       "      <td>51.0</td>\n",
       "      <td>8</td>\n",
       "      <td>NaN</td>\n",
       "      <td>...</td>\n",
       "      <td>NaN</td>\n",
       "      <td>Санкт-Петербург</td>\n",
       "      <td>18863.0</td>\n",
       "      <td>16028.0</td>\n",
       "      <td>1.0</td>\n",
       "      <td>482.0</td>\n",
       "      <td>2.0</td>\n",
       "      <td>755.0</td>\n",
       "      <td>NaN</td>\n",
       "      <td>средняя</td>\n",
       "    </tr>\n",
       "    <tr>\n",
       "      <th>1</th>\n",
       "      <td>7</td>\n",
       "      <td>3350000</td>\n",
       "      <td>40.40</td>\n",
       "      <td>2018-12-04</td>\n",
       "      <td>1</td>\n",
       "      <td>2.65</td>\n",
       "      <td>11.0</td>\n",
       "      <td>18.6</td>\n",
       "      <td>1</td>\n",
       "      <td>NaN</td>\n",
       "      <td>...</td>\n",
       "      <td>2.0</td>\n",
       "      <td>посёлок Шушары</td>\n",
       "      <td>12817.0</td>\n",
       "      <td>18603.0</td>\n",
       "      <td>0.0</td>\n",
       "      <td>NaN</td>\n",
       "      <td>0.0</td>\n",
       "      <td>NaN</td>\n",
       "      <td>81.0</td>\n",
       "      <td>маленькая</td>\n",
       "    </tr>\n",
       "    <tr>\n",
       "      <th>2</th>\n",
       "      <td>10</td>\n",
       "      <td>5196000</td>\n",
       "      <td>56.00</td>\n",
       "      <td>2015-08-20</td>\n",
       "      <td>2</td>\n",
       "      <td>2.65</td>\n",
       "      <td>5.0</td>\n",
       "      <td>34.3</td>\n",
       "      <td>4</td>\n",
       "      <td>NaN</td>\n",
       "      <td>...</td>\n",
       "      <td>0.0</td>\n",
       "      <td>Санкт-Петербург</td>\n",
       "      <td>21741.0</td>\n",
       "      <td>13933.0</td>\n",
       "      <td>1.0</td>\n",
       "      <td>90.0</td>\n",
       "      <td>2.0</td>\n",
       "      <td>574.0</td>\n",
       "      <td>558.0</td>\n",
       "      <td>средняя</td>\n",
       "    </tr>\n",
       "    <tr>\n",
       "      <th>3</th>\n",
       "      <td>0</td>\n",
       "      <td>64900000</td>\n",
       "      <td>159.00</td>\n",
       "      <td>2015-07-24</td>\n",
       "      <td>3</td>\n",
       "      <td>2.65</td>\n",
       "      <td>14.0</td>\n",
       "      <td>NaN</td>\n",
       "      <td>9</td>\n",
       "      <td>NaN</td>\n",
       "      <td>...</td>\n",
       "      <td>0.0</td>\n",
       "      <td>Санкт-Петербург</td>\n",
       "      <td>28098.0</td>\n",
       "      <td>6800.0</td>\n",
       "      <td>2.0</td>\n",
       "      <td>84.0</td>\n",
       "      <td>3.0</td>\n",
       "      <td>234.0</td>\n",
       "      <td>424.0</td>\n",
       "      <td>большая</td>\n",
       "    </tr>\n",
       "    <tr>\n",
       "      <th>4</th>\n",
       "      <td>2</td>\n",
       "      <td>10000000</td>\n",
       "      <td>100.00</td>\n",
       "      <td>2018-06-19</td>\n",
       "      <td>2</td>\n",
       "      <td>3.03</td>\n",
       "      <td>14.0</td>\n",
       "      <td>32.0</td>\n",
       "      <td>13</td>\n",
       "      <td>NaN</td>\n",
       "      <td>...</td>\n",
       "      <td>NaN</td>\n",
       "      <td>Санкт-Петербург</td>\n",
       "      <td>31856.0</td>\n",
       "      <td>8098.0</td>\n",
       "      <td>2.0</td>\n",
       "      <td>112.0</td>\n",
       "      <td>1.0</td>\n",
       "      <td>48.0</td>\n",
       "      <td>121.0</td>\n",
       "      <td>средняя</td>\n",
       "    </tr>\n",
       "    <tr>\n",
       "      <th>...</th>\n",
       "      <td>...</td>\n",
       "      <td>...</td>\n",
       "      <td>...</td>\n",
       "      <td>...</td>\n",
       "      <td>...</td>\n",
       "      <td>...</td>\n",
       "      <td>...</td>\n",
       "      <td>...</td>\n",
       "      <td>...</td>\n",
       "      <td>...</td>\n",
       "      <td>...</td>\n",
       "      <td>...</td>\n",
       "      <td>...</td>\n",
       "      <td>...</td>\n",
       "      <td>...</td>\n",
       "      <td>...</td>\n",
       "      <td>...</td>\n",
       "      <td>...</td>\n",
       "      <td>...</td>\n",
       "      <td>...</td>\n",
       "      <td>...</td>\n",
       "    </tr>\n",
       "    <tr>\n",
       "      <th>23694</th>\n",
       "      <td>9</td>\n",
       "      <td>9700000</td>\n",
       "      <td>133.81</td>\n",
       "      <td>2017-03-21</td>\n",
       "      <td>3</td>\n",
       "      <td>3.70</td>\n",
       "      <td>5.0</td>\n",
       "      <td>73.3</td>\n",
       "      <td>3</td>\n",
       "      <td>NaN</td>\n",
       "      <td>...</td>\n",
       "      <td>NaN</td>\n",
       "      <td>Санкт-Петербург</td>\n",
       "      <td>24665.0</td>\n",
       "      <td>4232.0</td>\n",
       "      <td>1.0</td>\n",
       "      <td>796.0</td>\n",
       "      <td>3.0</td>\n",
       "      <td>381.0</td>\n",
       "      <td>NaN</td>\n",
       "      <td>средняя</td>\n",
       "    </tr>\n",
       "    <tr>\n",
       "      <th>23695</th>\n",
       "      <td>14</td>\n",
       "      <td>3100000</td>\n",
       "      <td>59.00</td>\n",
       "      <td>2018-01-15</td>\n",
       "      <td>3</td>\n",
       "      <td>2.65</td>\n",
       "      <td>5.0</td>\n",
       "      <td>38.0</td>\n",
       "      <td>4</td>\n",
       "      <td>NaN</td>\n",
       "      <td>...</td>\n",
       "      <td>NaN</td>\n",
       "      <td>Тосно</td>\n",
       "      <td>NaN</td>\n",
       "      <td>NaN</td>\n",
       "      <td>NaN</td>\n",
       "      <td>NaN</td>\n",
       "      <td>NaN</td>\n",
       "      <td>NaN</td>\n",
       "      <td>45.0</td>\n",
       "      <td>средняя</td>\n",
       "    </tr>\n",
       "    <tr>\n",
       "      <th>23696</th>\n",
       "      <td>18</td>\n",
       "      <td>2500000</td>\n",
       "      <td>56.70</td>\n",
       "      <td>2018-02-11</td>\n",
       "      <td>2</td>\n",
       "      <td>2.65</td>\n",
       "      <td>3.0</td>\n",
       "      <td>29.7</td>\n",
       "      <td>1</td>\n",
       "      <td>NaN</td>\n",
       "      <td>...</td>\n",
       "      <td>NaN</td>\n",
       "      <td>село Рождествено</td>\n",
       "      <td>NaN</td>\n",
       "      <td>NaN</td>\n",
       "      <td>NaN</td>\n",
       "      <td>NaN</td>\n",
       "      <td>NaN</td>\n",
       "      <td>NaN</td>\n",
       "      <td>NaN</td>\n",
       "      <td>средняя</td>\n",
       "    </tr>\n",
       "    <tr>\n",
       "      <th>23697</th>\n",
       "      <td>13</td>\n",
       "      <td>11475000</td>\n",
       "      <td>76.75</td>\n",
       "      <td>2017-03-28</td>\n",
       "      <td>2</td>\n",
       "      <td>3.00</td>\n",
       "      <td>17.0</td>\n",
       "      <td>NaN</td>\n",
       "      <td>12</td>\n",
       "      <td>NaN</td>\n",
       "      <td>...</td>\n",
       "      <td>2.0</td>\n",
       "      <td>Санкт-Петербург</td>\n",
       "      <td>39140.0</td>\n",
       "      <td>10364.0</td>\n",
       "      <td>2.0</td>\n",
       "      <td>173.0</td>\n",
       "      <td>3.0</td>\n",
       "      <td>196.0</td>\n",
       "      <td>602.0</td>\n",
       "      <td>средняя</td>\n",
       "    </tr>\n",
       "    <tr>\n",
       "      <th>23698</th>\n",
       "      <td>4</td>\n",
       "      <td>1350000</td>\n",
       "      <td>32.30</td>\n",
       "      <td>2017-07-21</td>\n",
       "      <td>1</td>\n",
       "      <td>2.50</td>\n",
       "      <td>5.0</td>\n",
       "      <td>12.3</td>\n",
       "      <td>1</td>\n",
       "      <td>NaN</td>\n",
       "      <td>...</td>\n",
       "      <td>NaN</td>\n",
       "      <td>поселок Новый Учхоз</td>\n",
       "      <td>NaN</td>\n",
       "      <td>NaN</td>\n",
       "      <td>NaN</td>\n",
       "      <td>NaN</td>\n",
       "      <td>NaN</td>\n",
       "      <td>NaN</td>\n",
       "      <td>NaN</td>\n",
       "      <td>маленькая</td>\n",
       "    </tr>\n",
       "  </tbody>\n",
       "</table>\n",
       "<p>23613 rows × 23 columns</p>\n",
       "</div>"
      ],
      "text/plain": [
       "       total_images  last_price  total_area first_day_exposition  rooms  \\\n",
       "0                20    13000000      108.00           2019-03-07      3   \n",
       "1                 7     3350000       40.40           2018-12-04      1   \n",
       "2                10     5196000       56.00           2015-08-20      2   \n",
       "3                 0    64900000      159.00           2015-07-24      3   \n",
       "4                 2    10000000      100.00           2018-06-19      2   \n",
       "...             ...         ...         ...                  ...    ...   \n",
       "23694             9     9700000      133.81           2017-03-21      3   \n",
       "23695            14     3100000       59.00           2018-01-15      3   \n",
       "23696            18     2500000       56.70           2018-02-11      2   \n",
       "23697            13    11475000       76.75           2017-03-28      2   \n",
       "23698             4     1350000       32.30           2017-07-21      1   \n",
       "\n",
       "       ceiling_height  floors_total  living_area  floor is_apartment  ...  \\\n",
       "0                2.70          16.0         51.0      8          NaN  ...   \n",
       "1                2.65          11.0         18.6      1          NaN  ...   \n",
       "2                2.65           5.0         34.3      4          NaN  ...   \n",
       "3                2.65          14.0          NaN      9          NaN  ...   \n",
       "4                3.03          14.0         32.0     13          NaN  ...   \n",
       "...               ...           ...          ...    ...          ...  ...   \n",
       "23694            3.70           5.0         73.3      3          NaN  ...   \n",
       "23695            2.65           5.0         38.0      4          NaN  ...   \n",
       "23696            2.65           3.0         29.7      1          NaN  ...   \n",
       "23697            3.00          17.0          NaN     12          NaN  ...   \n",
       "23698            2.50           5.0         12.3      1          NaN  ...   \n",
       "\n",
       "       balcony        locality_name  airports_nearest  cityCenters_nearest  \\\n",
       "0          NaN      Санкт-Петербург           18863.0              16028.0   \n",
       "1          2.0       посёлок Шушары           12817.0              18603.0   \n",
       "2          0.0      Санкт-Петербург           21741.0              13933.0   \n",
       "3          0.0      Санкт-Петербург           28098.0               6800.0   \n",
       "4          NaN      Санкт-Петербург           31856.0               8098.0   \n",
       "...        ...                  ...               ...                  ...   \n",
       "23694      NaN      Санкт-Петербург           24665.0               4232.0   \n",
       "23695      NaN                Тосно               NaN                  NaN   \n",
       "23696      NaN     село Рождествено               NaN                  NaN   \n",
       "23697      2.0      Санкт-Петербург           39140.0              10364.0   \n",
       "23698      NaN  поселок Новый Учхоз               NaN                  NaN   \n",
       "\n",
       "      parks_around3000  parks_nearest  ponds_around3000  ponds_nearest  \\\n",
       "0                  1.0          482.0               2.0          755.0   \n",
       "1                  0.0            NaN               0.0            NaN   \n",
       "2                  1.0           90.0               2.0          574.0   \n",
       "3                  2.0           84.0               3.0          234.0   \n",
       "4                  2.0          112.0               1.0           48.0   \n",
       "...                ...            ...               ...            ...   \n",
       "23694              1.0          796.0               3.0          381.0   \n",
       "23695              NaN            NaN               NaN            NaN   \n",
       "23696              NaN            NaN               NaN            NaN   \n",
       "23697              2.0          173.0               3.0          196.0   \n",
       "23698              NaN            NaN               NaN            NaN   \n",
       "\n",
       "       days_exposition  area_categor  \n",
       "0                  NaN       средняя  \n",
       "1                 81.0     маленькая  \n",
       "2                558.0       средняя  \n",
       "3                424.0       большая  \n",
       "4                121.0       средняя  \n",
       "...                ...           ...  \n",
       "23694              NaN       средняя  \n",
       "23695             45.0       средняя  \n",
       "23696              NaN       средняя  \n",
       "23697            602.0       средняя  \n",
       "23698              NaN     маленькая  \n",
       "\n",
       "[23613 rows x 23 columns]"
      ]
     },
     "execution_count": 173,
     "metadata": {},
     "output_type": "execute_result"
    }
   ],
   "source": [
    "# Создадим функицю для категоризации квартир по площади:\n",
    "def total_area_categor(row):\n",
    "    total_area = row['total_area']\n",
    "    if total_area >= 150:\n",
    "        return 'большая'\n",
    "    elif 50 < total_area < 150:\n",
    "        return 'средняя'\n",
    "    elif total_area <= 50:\n",
    "        return 'маленькая'\n",
    "\n",
    "df['area_categor'] = df.apply(total_area_categor, axis=1)\n",
    "df\n",
    "        \n",
    "            "
   ]
  },
  {
   "cell_type": "markdown",
   "metadata": {},
   "source": [
    "Столбец days_exposition имеет пропуски, однако возможно, что эти пропуски свидетельсвуют об актуальности объявлений, поэтому целесообразно оставить пропуски без изменений"
   ]
  },
  {
   "cell_type": "code",
   "execution_count": 174,
   "metadata": {},
   "outputs": [
    {
     "data": {
      "text/html": [
       "<div>\n",
       "<style scoped>\n",
       "    .dataframe tbody tr th:only-of-type {\n",
       "        vertical-align: middle;\n",
       "    }\n",
       "\n",
       "    .dataframe tbody tr th {\n",
       "        vertical-align: top;\n",
       "    }\n",
       "\n",
       "    .dataframe thead th {\n",
       "        text-align: right;\n",
       "    }\n",
       "</style>\n",
       "<table border=\"1\" class=\"dataframe\">\n",
       "  <thead>\n",
       "    <tr style=\"text-align: right;\">\n",
       "      <th></th>\n",
       "      <th>kitchen_area</th>\n",
       "      <th>living_area</th>\n",
       "    </tr>\n",
       "    <tr>\n",
       "      <th>area_categor</th>\n",
       "      <th></th>\n",
       "      <th></th>\n",
       "    </tr>\n",
       "  </thead>\n",
       "  <tbody>\n",
       "    <tr>\n",
       "      <th>большая</th>\n",
       "      <td>21.15</td>\n",
       "      <td>111.0</td>\n",
       "    </tr>\n",
       "    <tr>\n",
       "      <th>маленькая</th>\n",
       "      <td>8.00</td>\n",
       "      <td>18.4</td>\n",
       "    </tr>\n",
       "    <tr>\n",
       "      <th>средняя</th>\n",
       "      <td>10.20</td>\n",
       "      <td>41.0</td>\n",
       "    </tr>\n",
       "  </tbody>\n",
       "</table>\n",
       "</div>"
      ],
      "text/plain": [
       "              kitchen_area  living_area\n",
       "area_categor                           \n",
       "большая              21.15        111.0\n",
       "маленькая             8.00         18.4\n",
       "средняя              10.20         41.0"
      ]
     },
     "execution_count": 174,
     "metadata": {},
     "output_type": "execute_result"
    }
   ],
   "source": [
    "#\n",
    "living_kitchen_area_median_pivot = df.pivot_table(index='area_categor', values=['living_area', 'kitchen_area'], aggfunc='median')\n",
    "living_kitchen_area_median_pivot"
   ]
  },
  {
   "cell_type": "code",
   "execution_count": 227,
   "metadata": {},
   "outputs": [],
   "source": [
    "# Заполним пропуски в living_area и kitchen_area соответствующими медианными данными для каждой категории, таким образом добьёмся большей точности:\n",
    "df['living_area'].where((df['living_area'].isna()) & (df['area_categor'] == 'большая') , df['living_area'].fillna(living_kitchen_area_median_pivot['living_area'][2]), inplace=True)\n",
    "df['living_area'].where((df['living_area'].isna()) & (df['area_categor'] == 'средняя') , df['living_area'].fillna(living_kitchen_area_median_pivot['living_area'][0]), inplace=True)\n",
    "df['living_area'].where((df['living_area'].isna()) & (df['area_categor'] == 'маленькая') , df['living_area'].fillna(living_kitchen_area_median_pivot['living_area'][1]), inplace=True)\n",
    "\n",
    "df['kitchen_area'].where((df['kitchen_area'].isna()) & (df['area_categor'] == 'большая') , df['kitchen_area'].fillna(living_kitchen_area_median_pivot['kitchen_area'][2]), inplace=True)\n",
    "df['kitchen_area'].where((df['kitchen_area'].isna()) & (df['area_categor'] == 'средняя') , df['kitchen_area'].fillna(living_kitchen_area_median_pivot['kitchen_area'][0]), inplace=True)\n",
    "df['kitchen_area'].where((df['kitchen_area'].isna()) & (df['area_categor'] == 'маленькая') , df['kitchen_area'].fillna(living_kitchen_area_median_pivot['kitchen_area'][1]), inplace=True)"
   ]
  },
  {
   "cell_type": "code",
   "execution_count": 176,
   "metadata": {
    "scrolled": true
   },
   "outputs": [],
   "source": [
    "#Заполним пропуски столбца is_apartment значениями False, так как отсутсвие значений скорее всего свидетельствует о не принадлежности квартиры к типу апартаменты, тем самым переводим его в тип bool:\n",
    "df['is_apartment'] = df['is_apartment'].fillna(False)"
   ]
  },
  {
   "cell_type": "code",
   "execution_count": 228,
   "metadata": {},
   "outputs": [],
   "source": [
    "# Заполним пропуски столбца balcony нулями - кто не указал наличие балкона скорее всего его не имеет.\n",
    "df['balcony'] = df['balcony'].fillna(0)"
   ]
  },
  {
   "cell_type": "code",
   "execution_count": 178,
   "metadata": {},
   "outputs": [
    {
     "name": "stdout",
     "output_type": "stream",
     "text": [
      "<class 'pandas.core.frame.DataFrame'>\n",
      "Int64Index: 23613 entries, 0 to 23698\n",
      "Data columns (total 23 columns):\n",
      " #   Column                Non-Null Count  Dtype         \n",
      "---  ------                --------------  -----         \n",
      " 0   total_images          23613 non-null  int64         \n",
      " 1   last_price            23613 non-null  int64         \n",
      " 2   total_area            23613 non-null  float64       \n",
      " 3   first_day_exposition  23613 non-null  datetime64[ns]\n",
      " 4   rooms                 23613 non-null  int64         \n",
      " 5   ceiling_height        23613 non-null  float64       \n",
      " 6   floors_total          23613 non-null  float64       \n",
      " 7   living_area           23613 non-null  float64       \n",
      " 8   floor                 23613 non-null  int64         \n",
      " 9   is_apartment          23613 non-null  bool          \n",
      " 10  studio                23613 non-null  bool          \n",
      " 11  open_plan             23613 non-null  bool          \n",
      " 12  kitchen_area          23613 non-null  float64       \n",
      " 13  balcony               23613 non-null  float64       \n",
      " 14  locality_name         23565 non-null  object        \n",
      " 15  airports_nearest      18081 non-null  float64       \n",
      " 16  cityCenters_nearest   18104 non-null  float64       \n",
      " 17  parks_around3000      18105 non-null  float64       \n",
      " 18  parks_nearest         8045 non-null   float64       \n",
      " 19  ponds_around3000      18105 non-null  float64       \n",
      " 20  ponds_nearest         9061 non-null   float64       \n",
      " 21  days_exposition       20441 non-null  float64       \n",
      " 22  area_categor          23613 non-null  object        \n",
      "dtypes: bool(3), datetime64[ns](1), float64(13), int64(4), object(2)\n",
      "memory usage: 3.9+ MB\n"
     ]
    }
   ],
   "source": [
    "df.info()"
   ]
  },
  {
   "cell_type": "markdown",
   "metadata": {},
   "source": [
    "<div class=\"alert alert-danger\">\n",
    "\n",
    "**❌ Комментарий ревьюера ❌**\n",
    "   \n",
    "   В целом, хорошая предобработка, только мало обоснований. Аргументируй подробнее, почему ты удаляешь или заменяешь данные в каждом случае.\n",
    "Например: \"Есть предположение, что пропуски в столбце `days_exposition` - это актуальные объявления, которые еще не закончились сделкой, поэтому у них нет значения сколько дней было размещено объявление. Так как характер пропусков не случаен, лучше оставить их как есть, во избежание нарушения характера связи между величинами.\"\n",
    "    \n",
    "   Можно еще сэкономить память, изменяя типы данных. Например, дополнительно изменить их у площадей квартир с float64 на float32.\n",
    "\n",
    "</div>"
   ]
  },
  {
   "cell_type": "markdown",
   "metadata": {},
   "source": [
    "## Расчёты и добавление результатов в таблицу"
   ]
  },
  {
   "cell_type": "code",
   "execution_count": 179,
   "metadata": {},
   "outputs": [],
   "source": [
    "# Добавим в датафрейм столбец sqare_meter_price с ценой за квадратный метр:\n",
    "df['sqare_meter_price'] = df['last_price'] / df['total_area']"
   ]
  },
  {
   "cell_type": "code",
   "execution_count": 247,
   "metadata": {},
   "outputs": [],
   "source": [
    "# Добавим столбцы с днем недели, месяцем и годом:\n",
    "df['day_week'] = df['first_day_exposition'].dt.weekday\n",
    "df['month'] = df['first_day_exposition'].dt.month\n",
    "df['year'] = df['first_day_exposition'].dt.year"
   ]
  },
  {
   "cell_type": "code",
   "execution_count": null,
   "metadata": {
    "scrolled": true
   },
   "outputs": [],
   "source": [
    "def flat_floot_func(row):\n",
    "    floors_total = row['floors_total']\n",
    "    floor = row['floor']\n",
    "    if floor == 1:\n",
    "        return 'первый'\n",
    "    elif floors_total == floor:\n",
    "        return 'последний'\n",
    "    else:\n",
    "        return 'другой'\n",
    "\n",
    "df['flat_floor'] = df.apply(flat_floot_func, axis=1)     "
   ]
  },
  {
   "cell_type": "code",
   "execution_count": 230,
   "metadata": {
    "scrolled": true
   },
   "outputs": [],
   "source": [
    "df['living_area_total_area_ratio'] = df['living_area'] / df['total_area']\n",
    "df['kitchen_area_total_area_ratio'] = df['kitchen_area'] / df['total_area']"
   ]
  },
  {
   "cell_type": "markdown",
   "metadata": {},
   "source": [
    "<div class=\"alert alert-success\">\n",
    "\n",
    "**✔️ Комментарий ревьюера ✔️**\n",
    "   \n",
    "   В данном блоке все верно👍\n",
    "\n",
    "</div>\n"
   ]
  },
  {
   "cell_type": "markdown",
   "metadata": {},
   "source": [
    "## Исследовательский анализ данных"
   ]
  },
  {
   "cell_type": "code",
   "execution_count": 250,
   "metadata": {
    "scrolled": false
   },
   "outputs": [
    {
     "data": {
      "text/plain": [
       "<AxesSubplot:>"
      ]
     },
     "execution_count": 250,
     "metadata": {},
     "output_type": "execute_result"
    },
    {
     "data": {
      "image/png": "[encoded data removed]",
      "text/plain": [
       "<Figure size 1440x720 with 1 Axes>"
      ]
     },
     "metadata": {
      "needs_background": "light"
     },
     "output_type": "display_data"
    }
   ],
   "source": [
    "df['last_price'].hist(figsize=(20,10), bins=30)"
   ]
  },
  {
   "cell_type": "code",
   "execution_count": 249,
   "metadata": {},
   "outputs": [
    {
     "data": {
      "text/plain": [
       "<AxesSubplot:>"
      ]
     },
     "execution_count": 249,
     "metadata": {},
     "output_type": "execute_result"
    },
    {
     "data": {
      "image/png": "[encoded data removed]",
      "text/plain": [
       "<Figure size 432x288 with 1 Axes>"
      ]
     },
     "metadata": {
      "needs_background": "light"
     },
     "output_type": "display_data"
    }
   ],
   "source": [
    "df['total_area'].hist()"
   ]
  },
  {
   "cell_type": "code",
   "execution_count": 248,
   "metadata": {
    "scrolled": true
   },
   "outputs": [
    {
     "data": {
      "text/plain": [
       "<AxesSubplot:>"
      ]
     },
     "execution_count": 248,
     "metadata": {},
     "output_type": "execute_result"
    },
    {
     "data": {
      "image/png": "[encoded data removed]",
      "text/plain": [
       "<Figure size 432x288 with 1 Axes>"
      ]
     },
     "metadata": {
      "needs_background": "light"
     },
     "output_type": "display_data"
    }
   ],
   "source": [
    "df['rooms'].hist()"
   ]
  },
  {
   "cell_type": "code",
   "execution_count": null,
   "metadata": {
    "scrolled": true
   },
   "outputs": [],
   "source": [
    "df['ceiling_height'].plot(kind='hist', bins=10, range=(0,5), grid=True)"
   ]
  },
  {
   "cell_type": "code",
   "execution_count": 231,
   "metadata": {
    "scrolled": false
   },
   "outputs": [
    {
     "data": {
      "text/plain": [
       "<AxesSubplot:>"
      ]
     },
     "execution_count": 231,
     "metadata": {},
     "output_type": "execute_result"
    },
    {
     "data": {
      "image/png": "[encoded data removed]",
      "text/plain": [
       "<Figure size 1440x720 with 1 Axes>"
      ]
     },
     "metadata": {
      "needs_background": "light"
     },
     "output_type": "display_data"
    }
   ],
   "source": [
    "# Анализ времени продажи квартир:\n",
    "df['days_exposition'].hist(bins=100, figsize=(20, 10))"
   ]
  },
  {
   "cell_type": "markdown",
   "metadata": {},
   "source": [
    "<div class=\"alert alert-success\">\n",
    "✔️ Комментарий ревьюера ✔️ \n",
    "\n",
    "Хороший результат. Хочу добавить, что обычно размеры двухкомнатных квартир составляют от 50 до 100 квадратных метров, что и соответствует проведенному анализу.\n",
    "    \n",
    "Могу посоветовать на будущее хорошую статью по оформлению графиков:\n",
    "    https://devpractice.ru/matplotlib-lesson-3-3-text-elements/    \n",
    "        \n",
    "    \n",
    "    \n",
    "</div>"
   ]
  },
  {
   "cell_type": "code",
   "execution_count": 232,
   "metadata": {},
   "outputs": [
    {
     "data": {
      "text/plain": [
       "<AxesSubplot:>"
      ]
     },
     "execution_count": 232,
     "metadata": {},
     "output_type": "execute_result"
    },
    {
     "data": {
      "image/png": "[encoded data removed]",
      "text/plain": [
       "<Figure size 432x288 with 1 Axes>"
      ]
     },
     "metadata": {
      "needs_background": "light"
     },
     "output_type": "display_data"
    }
   ],
   "source": [
    "df.boxplot('days_exposition')"
   ]
  },
  {
   "cell_type": "code",
   "execution_count": 233,
   "metadata": {},
   "outputs": [
    {
     "data": {
      "text/plain": [
       "count    20441.000000\n",
       "mean       180.884839\n",
       "std        219.685543\n",
       "min          1.000000\n",
       "25%         45.000000\n",
       "50%         95.000000\n",
       "75%        232.000000\n",
       "max       1580.000000\n",
       "Name: days_exposition, dtype: float64"
      ]
     },
     "execution_count": 233,
     "metadata": {},
     "output_type": "execute_result"
    }
   ],
   "source": [
    "df['days_exposition'].describe()"
   ]
  },
  {
   "cell_type": "markdown",
   "metadata": {},
   "source": [
    "Можно заметить множество выбросов, поэтому целесообразнее считать среднее значение и медиану по значениям без выбросов"
   ]
  },
  {
   "cell_type": "code",
   "execution_count": 234,
   "metadata": {
    "scrolled": true
   },
   "outputs": [
    {
     "name": "stdout",
     "output_type": "stream",
     "text": [
      "127.06959452230662\n",
      "84.0\n"
     ]
    }
   ],
   "source": [
    "print(df[df['days_exposition'] < 500]['days_exposition'].mean())\n",
    "print(df[df['days_exposition'] < 500]['days_exposition'].median())"
   ]
  },
  {
   "cell_type": "markdown",
   "metadata": {},
   "source": [
    "Таким образом, можно сделать вывод, что квартиры обычно продаются за 127 дней.\n",
    "Все значения попавшие в выбросы, а именно значения >= 500 являются необычно долгими.\n",
    "Квартиры проданные менее чем за 45 дней (что соответствует границе первого квартиля) можно считать необычно быстрыми продажами."
   ]
  },
  {
   "cell_type": "markdown",
   "metadata": {},
   "source": [
    "<div class=\"alert alert-danger\">\n",
    "\n",
    "**❌ Комментарий ревьюера ❌**\n",
    "   \n",
    "   А какие быстрыми?\n",
    "    <div class=\"alert alert-success\">\n",
    "\n",
    "**✔️ Комментарий ревьюера v2 ✔️**\n",
    "   \n",
    "   👍\n",
    "\n",
    "</div>\n",
    "\n",
    "\n",
    "</div>\n"
   ]
  },
  {
   "cell_type": "markdown",
   "metadata": {},
   "source": [
    "<div class=\"alert alert-warning\">\n",
    "\n",
    "**⚠️ Комментарий ревьюера ⚠️**\n",
    "   \n",
    "   Попробуй дополнительно отфильтровать данные. Например, ограничь цену 20 млн, высоту потолков от 2.2 до 4х метров и общую площадь до 200. \n",
    "\n",
    "</div>\n"
   ]
  },
  {
   "cell_type": "markdown",
   "metadata": {},
   "source": [
    "**Определим какие факторы больше всего влияют на стоимость квартир:**"
   ]
  },
  {
   "cell_type": "code",
   "execution_count": 251,
   "metadata": {},
   "outputs": [
    {
     "data": {
      "text/html": [
       "<div>\n",
       "<style scoped>\n",
       "    .dataframe tbody tr th:only-of-type {\n",
       "        vertical-align: middle;\n",
       "    }\n",
       "\n",
       "    .dataframe tbody tr th {\n",
       "        vertical-align: top;\n",
       "    }\n",
       "\n",
       "    .dataframe thead th {\n",
       "        text-align: right;\n",
       "    }\n",
       "</style>\n",
       "<table border=\"1\" class=\"dataframe\">\n",
       "  <thead>\n",
       "    <tr style=\"text-align: right;\">\n",
       "      <th></th>\n",
       "      <th>total_images</th>\n",
       "      <th>last_price</th>\n",
       "      <th>total_area</th>\n",
       "      <th>rooms</th>\n",
       "      <th>ceiling_height</th>\n",
       "      <th>floors_total</th>\n",
       "      <th>living_area</th>\n",
       "      <th>floor</th>\n",
       "      <th>is_apartment</th>\n",
       "      <th>studio</th>\n",
       "      <th>...</th>\n",
       "      <th>ponds_around3000</th>\n",
       "      <th>ponds_nearest</th>\n",
       "      <th>days_exposition</th>\n",
       "      <th>sqare_meter_price</th>\n",
       "      <th>k</th>\n",
       "      <th>living_area_total_area_ratio</th>\n",
       "      <th>kitchen_area_total_area_ratio</th>\n",
       "      <th>day_week</th>\n",
       "      <th>month</th>\n",
       "      <th>year</th>\n",
       "    </tr>\n",
       "  </thead>\n",
       "  <tbody>\n",
       "    <tr>\n",
       "      <th>total_images</th>\n",
       "      <td>1.000000</td>\n",
       "      <td>0.104940</td>\n",
       "      <td>0.116425</td>\n",
       "      <td>0.099385</td>\n",
       "      <td>0.004411</td>\n",
       "      <td>0.010427</td>\n",
       "      <td>0.090838</td>\n",
       "      <td>0.033286</td>\n",
       "      <td>0.010423</td>\n",
       "      <td>-0.028116</td>\n",
       "      <td>...</td>\n",
       "      <td>-0.011154</td>\n",
       "      <td>-0.003601</td>\n",
       "      <td>-0.026578</td>\n",
       "      <td>0.133320</td>\n",
       "      <td>-0.004702</td>\n",
       "      <td>-0.061121</td>\n",
       "      <td>-0.055273</td>\n",
       "      <td>-0.009252</td>\n",
       "      <td>0.004693</td>\n",
       "      <td>0.138778</td>\n",
       "    </tr>\n",
       "    <tr>\n",
       "      <th>last_price</th>\n",
       "      <td>0.104940</td>\n",
       "      <td>1.000000</td>\n",
       "      <td>0.653581</td>\n",
       "      <td>0.363124</td>\n",
       "      <td>0.064447</td>\n",
       "      <td>-0.006984</td>\n",
       "      <td>0.562120</td>\n",
       "      <td>0.026644</td>\n",
       "      <td>0.026974</td>\n",
       "      <td>-0.025083</td>\n",
       "      <td>...</td>\n",
       "      <td>0.160479</td>\n",
       "      <td>-0.085450</td>\n",
       "      <td>0.081063</td>\n",
       "      <td>0.736746</td>\n",
       "      <td>-0.259398</td>\n",
       "      <td>-0.053695</td>\n",
       "      <td>-0.116929</td>\n",
       "      <td>0.001295</td>\n",
       "      <td>0.002765</td>\n",
       "      <td>-0.043023</td>\n",
       "    </tr>\n",
       "    <tr>\n",
       "      <th>total_area</th>\n",
       "      <td>0.116425</td>\n",
       "      <td>0.653581</td>\n",
       "      <td>1.000000</td>\n",
       "      <td>0.758324</td>\n",
       "      <td>0.080777</td>\n",
       "      <td>-0.075774</td>\n",
       "      <td>0.906623</td>\n",
       "      <td>-0.024927</td>\n",
       "      <td>0.029702</td>\n",
       "      <td>-0.071983</td>\n",
       "      <td>...</td>\n",
       "      <td>0.163245</td>\n",
       "      <td>-0.099495</td>\n",
       "      <td>0.150130</td>\n",
       "      <td>0.302397</td>\n",
       "      <td>-0.338186</td>\n",
       "      <td>-0.027182</td>\n",
       "      <td>-0.366562</td>\n",
       "      <td>-0.005680</td>\n",
       "      <td>0.004948</td>\n",
       "      <td>-0.079495</td>\n",
       "    </tr>\n",
       "    <tr>\n",
       "      <th>rooms</th>\n",
       "      <td>0.099385</td>\n",
       "      <td>0.363124</td>\n",
       "      <td>0.758324</td>\n",
       "      <td>1.000000</td>\n",
       "      <td>0.048052</td>\n",
       "      <td>-0.228215</td>\n",
       "      <td>0.814133</td>\n",
       "      <td>-0.151586</td>\n",
       "      <td>0.000378</td>\n",
       "      <td>-0.145983</td>\n",
       "      <td>...</td>\n",
       "      <td>0.093411</td>\n",
       "      <td>-0.059096</td>\n",
       "      <td>0.127470</td>\n",
       "      <td>0.055669</td>\n",
       "      <td>-0.294343</td>\n",
       "      <td>0.189608</td>\n",
       "      <td>-0.611245</td>\n",
       "      <td>-0.004991</td>\n",
       "      <td>-0.004004</td>\n",
       "      <td>-0.055295</td>\n",
       "    </tr>\n",
       "    <tr>\n",
       "      <th>ceiling_height</th>\n",
       "      <td>0.004411</td>\n",
       "      <td>0.064447</td>\n",
       "      <td>0.080777</td>\n",
       "      <td>0.048052</td>\n",
       "      <td>1.000000</td>\n",
       "      <td>-0.026843</td>\n",
       "      <td>0.078106</td>\n",
       "      <td>-0.012699</td>\n",
       "      <td>0.146543</td>\n",
       "      <td>0.000377</td>\n",
       "      <td>...</td>\n",
       "      <td>0.063652</td>\n",
       "      <td>-0.047173</td>\n",
       "      <td>0.018136</td>\n",
       "      <td>0.099911</td>\n",
       "      <td>-0.108411</td>\n",
       "      <td>-0.002402</td>\n",
       "      <td>0.005271</td>\n",
       "      <td>-0.009887</td>\n",
       "      <td>-0.002699</td>\n",
       "      <td>-0.000370</td>\n",
       "    </tr>\n",
       "    <tr>\n",
       "      <th>floors_total</th>\n",
       "      <td>0.010427</td>\n",
       "      <td>-0.006984</td>\n",
       "      <td>-0.075774</td>\n",
       "      <td>-0.228215</td>\n",
       "      <td>-0.026843</td>\n",
       "      <td>1.000000</td>\n",
       "      <td>-0.159786</td>\n",
       "      <td>0.678059</td>\n",
       "      <td>-0.026351</td>\n",
       "      <td>0.070151</td>\n",
       "      <td>...</td>\n",
       "      <td>-0.122735</td>\n",
       "      <td>0.038864</td>\n",
       "      <td>-0.052234</td>\n",
       "      <td>0.148098</td>\n",
       "      <td>0.360046</td>\n",
       "      <td>-0.215481</td>\n",
       "      <td>0.334968</td>\n",
       "      <td>0.013151</td>\n",
       "      <td>0.016651</td>\n",
       "      <td>0.007845</td>\n",
       "    </tr>\n",
       "    <tr>\n",
       "      <th>living_area</th>\n",
       "      <td>0.090838</td>\n",
       "      <td>0.562120</td>\n",
       "      <td>0.906623</td>\n",
       "      <td>0.814133</td>\n",
       "      <td>0.078106</td>\n",
       "      <td>-0.159786</td>\n",
       "      <td>1.000000</td>\n",
       "      <td>-0.090951</td>\n",
       "      <td>0.027863</td>\n",
       "      <td>-0.055236</td>\n",
       "      <td>...</td>\n",
       "      <td>0.147189</td>\n",
       "      <td>-0.084351</td>\n",
       "      <td>0.131543</td>\n",
       "      <td>0.222930</td>\n",
       "      <td>-0.342966</td>\n",
       "      <td>0.304426</td>\n",
       "      <td>-0.454703</td>\n",
       "      <td>-0.002549</td>\n",
       "      <td>-0.003596</td>\n",
       "      <td>-0.064000</td>\n",
       "    </tr>\n",
       "    <tr>\n",
       "      <th>floor</th>\n",
       "      <td>0.033286</td>\n",
       "      <td>0.026644</td>\n",
       "      <td>-0.024927</td>\n",
       "      <td>-0.151586</td>\n",
       "      <td>-0.012699</td>\n",
       "      <td>0.678059</td>\n",
       "      <td>-0.090951</td>\n",
       "      <td>1.000000</td>\n",
       "      <td>-0.013208</td>\n",
       "      <td>0.035908</td>\n",
       "      <td>...</td>\n",
       "      <td>-0.076067</td>\n",
       "      <td>0.025381</td>\n",
       "      <td>-0.039018</td>\n",
       "      <td>0.129113</td>\n",
       "      <td>0.227635</td>\n",
       "      <td>-0.161781</td>\n",
       "      <td>0.231053</td>\n",
       "      <td>0.011610</td>\n",
       "      <td>0.020641</td>\n",
       "      <td>0.005045</td>\n",
       "    </tr>\n",
       "    <tr>\n",
       "      <th>is_apartment</th>\n",
       "      <td>0.010423</td>\n",
       "      <td>0.026974</td>\n",
       "      <td>0.029702</td>\n",
       "      <td>0.000378</td>\n",
       "      <td>0.146543</td>\n",
       "      <td>-0.026351</td>\n",
       "      <td>0.027863</td>\n",
       "      <td>-0.013208</td>\n",
       "      <td>1.000000</td>\n",
       "      <td>-0.003633</td>\n",
       "      <td>...</td>\n",
       "      <td>0.024028</td>\n",
       "      <td>0.003317</td>\n",
       "      <td>0.015294</td>\n",
       "      <td>0.044784</td>\n",
       "      <td>0.009685</td>\n",
       "      <td>0.001482</td>\n",
       "      <td>0.013170</td>\n",
       "      <td>-0.009479</td>\n",
       "      <td>0.002373</td>\n",
       "      <td>0.009391</td>\n",
       "    </tr>\n",
       "    <tr>\n",
       "      <th>studio</th>\n",
       "      <td>-0.028116</td>\n",
       "      <td>-0.025083</td>\n",
       "      <td>-0.071983</td>\n",
       "      <td>-0.145983</td>\n",
       "      <td>0.000377</td>\n",
       "      <td>0.070151</td>\n",
       "      <td>-0.055236</td>\n",
       "      <td>0.035908</td>\n",
       "      <td>-0.003633</td>\n",
       "      <td>1.000000</td>\n",
       "      <td>...</td>\n",
       "      <td>0.000765</td>\n",
       "      <td>0.001858</td>\n",
       "      <td>-0.021604</td>\n",
       "      <td>0.015536</td>\n",
       "      <td>0.017892</td>\n",
       "      <td>0.072638</td>\n",
       "      <td>0.198650</td>\n",
       "      <td>-0.000886</td>\n",
       "      <td>-0.000682</td>\n",
       "      <td>0.011049</td>\n",
       "    </tr>\n",
       "    <tr>\n",
       "      <th>open_plan</th>\n",
       "      <td>-0.024607</td>\n",
       "      <td>-0.008801</td>\n",
       "      <td>-0.034941</td>\n",
       "      <td>-0.087687</td>\n",
       "      <td>0.017670</td>\n",
       "      <td>0.050791</td>\n",
       "      <td>-0.027193</td>\n",
       "      <td>0.036140</td>\n",
       "      <td>-0.002457</td>\n",
       "      <td>-0.004208</td>\n",
       "      <td>...</td>\n",
       "      <td>0.008473</td>\n",
       "      <td>-0.003377</td>\n",
       "      <td>-0.024161</td>\n",
       "      <td>0.008298</td>\n",
       "      <td>0.006642</td>\n",
       "      <td>0.047206</td>\n",
       "      <td>0.114812</td>\n",
       "      <td>0.011103</td>\n",
       "      <td>0.025800</td>\n",
       "      <td>-0.021190</td>\n",
       "    </tr>\n",
       "    <tr>\n",
       "      <th>kitchen_area</th>\n",
       "      <td>0.101965</td>\n",
       "      <td>0.462813</td>\n",
       "      <td>0.593597</td>\n",
       "      <td>0.266117</td>\n",
       "      <td>0.068635</td>\n",
       "      <td>0.150674</td>\n",
       "      <td>0.430840</td>\n",
       "      <td>0.126239</td>\n",
       "      <td>0.041808</td>\n",
       "      <td>-0.005051</td>\n",
       "      <td>...</td>\n",
       "      <td>0.146261</td>\n",
       "      <td>-0.101095</td>\n",
       "      <td>0.100976</td>\n",
       "      <td>0.372892</td>\n",
       "      <td>-0.224853</td>\n",
       "      <td>-0.228194</td>\n",
       "      <td>0.372738</td>\n",
       "      <td>-0.008044</td>\n",
       "      <td>0.003479</td>\n",
       "      <td>-0.054999</td>\n",
       "    </tr>\n",
       "    <tr>\n",
       "      <th>balcony</th>\n",
       "      <td>0.047212</td>\n",
       "      <td>0.008598</td>\n",
       "      <td>0.010104</td>\n",
       "      <td>-0.015759</td>\n",
       "      <td>0.032687</td>\n",
       "      <td>0.172812</td>\n",
       "      <td>-0.021706</td>\n",
       "      <td>0.171005</td>\n",
       "      <td>0.032952</td>\n",
       "      <td>0.030050</td>\n",
       "      <td>...</td>\n",
       "      <td>-0.039659</td>\n",
       "      <td>0.020194</td>\n",
       "      <td>-0.027933</td>\n",
       "      <td>0.023631</td>\n",
       "      <td>0.144154</td>\n",
       "      <td>-0.093059</td>\n",
       "      <td>0.024423</td>\n",
       "      <td>-0.000906</td>\n",
       "      <td>0.009309</td>\n",
       "      <td>0.003993</td>\n",
       "    </tr>\n",
       "    <tr>\n",
       "      <th>airports_nearest</th>\n",
       "      <td>-0.002632</td>\n",
       "      <td>-0.026098</td>\n",
       "      <td>-0.030124</td>\n",
       "      <td>-0.061269</td>\n",
       "      <td>-0.018843</td>\n",
       "      <td>0.108288</td>\n",
       "      <td>-0.053586</td>\n",
       "      <td>0.072878</td>\n",
       "      <td>0.016532</td>\n",
       "      <td>-0.021643</td>\n",
       "      <td>...</td>\n",
       "      <td>-0.050370</td>\n",
       "      <td>0.014568</td>\n",
       "      <td>-0.018981</td>\n",
       "      <td>-0.039040</td>\n",
       "      <td>0.171971</td>\n",
       "      <td>-0.062371</td>\n",
       "      <td>0.036945</td>\n",
       "      <td>0.001844</td>\n",
       "      <td>0.005694</td>\n",
       "      <td>0.008770</td>\n",
       "    </tr>\n",
       "    <tr>\n",
       "      <th>cityCenters_nearest</th>\n",
       "      <td>-0.047935</td>\n",
       "      <td>-0.206213</td>\n",
       "      <td>-0.230872</td>\n",
       "      <td>-0.184750</td>\n",
       "      <td>-0.075529</td>\n",
       "      <td>0.019774</td>\n",
       "      <td>-0.227901</td>\n",
       "      <td>0.008963</td>\n",
       "      <td>0.003772</td>\n",
       "      <td>-0.006793</td>\n",
       "      <td>...</td>\n",
       "      <td>-0.074719</td>\n",
       "      <td>0.030158</td>\n",
       "      <td>-0.060491</td>\n",
       "      <td>-0.317356</td>\n",
       "      <td>0.998178</td>\n",
       "      <td>-0.017593</td>\n",
       "      <td>0.030790</td>\n",
       "      <td>0.009462</td>\n",
       "      <td>-0.009613</td>\n",
       "      <td>0.032190</td>\n",
       "    </tr>\n",
       "    <tr>\n",
       "      <th>parks_around3000</th>\n",
       "      <td>0.020989</td>\n",
       "      <td>0.151657</td>\n",
       "      <td>0.166048</td>\n",
       "      <td>0.138306</td>\n",
       "      <td>0.056807</td>\n",
       "      <td>-0.252833</td>\n",
       "      <td>0.179726</td>\n",
       "      <td>-0.163942</td>\n",
       "      <td>0.020806</td>\n",
       "      <td>-0.030808</td>\n",
       "      <td>...</td>\n",
       "      <td>0.304655</td>\n",
       "      <td>-0.168208</td>\n",
       "      <td>0.060884</td>\n",
       "      <td>0.185459</td>\n",
       "      <td>-0.347463</td>\n",
       "      <td>0.043521</td>\n",
       "      <td>-0.097723</td>\n",
       "      <td>-0.011198</td>\n",
       "      <td>-0.004905</td>\n",
       "      <td>-0.038914</td>\n",
       "    </tr>\n",
       "    <tr>\n",
       "      <th>parks_nearest</th>\n",
       "      <td>-0.006209</td>\n",
       "      <td>-0.016633</td>\n",
       "      <td>-0.021394</td>\n",
       "      <td>-0.054034</td>\n",
       "      <td>-0.018947</td>\n",
       "      <td>0.097527</td>\n",
       "      <td>-0.050104</td>\n",
       "      <td>0.072874</td>\n",
       "      <td>-0.033541</td>\n",
       "      <td>0.006925</td>\n",
       "      <td>...</td>\n",
       "      <td>0.074919</td>\n",
       "      <td>0.001880</td>\n",
       "      <td>0.022231</td>\n",
       "      <td>0.005773</td>\n",
       "      <td>0.045441</td>\n",
       "      <td>-0.070448</td>\n",
       "      <td>0.055722</td>\n",
       "      <td>-0.006980</td>\n",
       "      <td>0.020644</td>\n",
       "      <td>-0.017868</td>\n",
       "    </tr>\n",
       "    <tr>\n",
       "      <th>ponds_around3000</th>\n",
       "      <td>-0.011154</td>\n",
       "      <td>0.160479</td>\n",
       "      <td>0.163245</td>\n",
       "      <td>0.093411</td>\n",
       "      <td>0.063652</td>\n",
       "      <td>-0.122735</td>\n",
       "      <td>0.147189</td>\n",
       "      <td>-0.076067</td>\n",
       "      <td>0.024028</td>\n",
       "      <td>0.000765</td>\n",
       "      <td>...</td>\n",
       "      <td>1.000000</td>\n",
       "      <td>-0.342583</td>\n",
       "      <td>0.072693</td>\n",
       "      <td>0.191507</td>\n",
       "      <td>-0.244949</td>\n",
       "      <td>-0.021603</td>\n",
       "      <td>-0.014399</td>\n",
       "      <td>0.001630</td>\n",
       "      <td>-0.008569</td>\n",
       "      <td>-0.037803</td>\n",
       "    </tr>\n",
       "    <tr>\n",
       "      <th>ponds_nearest</th>\n",
       "      <td>-0.003601</td>\n",
       "      <td>-0.085450</td>\n",
       "      <td>-0.099495</td>\n",
       "      <td>-0.059096</td>\n",
       "      <td>-0.047173</td>\n",
       "      <td>0.038864</td>\n",
       "      <td>-0.084351</td>\n",
       "      <td>0.025381</td>\n",
       "      <td>0.003317</td>\n",
       "      <td>0.001858</td>\n",
       "      <td>...</td>\n",
       "      <td>-0.342583</td>\n",
       "      <td>1.000000</td>\n",
       "      <td>-0.079589</td>\n",
       "      <td>-0.105599</td>\n",
       "      <td>0.122416</td>\n",
       "      <td>0.018099</td>\n",
       "      <td>-0.008343</td>\n",
       "      <td>-0.003494</td>\n",
       "      <td>0.012732</td>\n",
       "      <td>0.038335</td>\n",
       "    </tr>\n",
       "    <tr>\n",
       "      <th>days_exposition</th>\n",
       "      <td>-0.026578</td>\n",
       "      <td>0.081063</td>\n",
       "      <td>0.150130</td>\n",
       "      <td>0.127470</td>\n",
       "      <td>0.018136</td>\n",
       "      <td>-0.052234</td>\n",
       "      <td>0.131543</td>\n",
       "      <td>-0.039018</td>\n",
       "      <td>0.015294</td>\n",
       "      <td>-0.021604</td>\n",
       "      <td>...</td>\n",
       "      <td>0.072693</td>\n",
       "      <td>-0.079589</td>\n",
       "      <td>1.000000</td>\n",
       "      <td>0.047558</td>\n",
       "      <td>-0.136680</td>\n",
       "      <td>-0.043697</td>\n",
       "      <td>-0.063881</td>\n",
       "      <td>-0.025057</td>\n",
       "      <td>-0.030656</td>\n",
       "      <td>-0.611793</td>\n",
       "    </tr>\n",
       "    <tr>\n",
       "      <th>sqare_meter_price</th>\n",
       "      <td>0.133320</td>\n",
       "      <td>0.736746</td>\n",
       "      <td>0.302397</td>\n",
       "      <td>0.055669</td>\n",
       "      <td>0.099911</td>\n",
       "      <td>0.148098</td>\n",
       "      <td>0.222930</td>\n",
       "      <td>0.129113</td>\n",
       "      <td>0.044784</td>\n",
       "      <td>0.015536</td>\n",
       "      <td>...</td>\n",
       "      <td>0.191507</td>\n",
       "      <td>-0.105599</td>\n",
       "      <td>0.047558</td>\n",
       "      <td>1.000000</td>\n",
       "      <td>-0.312572</td>\n",
       "      <td>-0.118620</td>\n",
       "      <td>0.121682</td>\n",
       "      <td>-0.007287</td>\n",
       "      <td>-0.001915</td>\n",
       "      <td>0.008275</td>\n",
       "    </tr>\n",
       "    <tr>\n",
       "      <th>k</th>\n",
       "      <td>-0.004702</td>\n",
       "      <td>-0.259398</td>\n",
       "      <td>-0.338186</td>\n",
       "      <td>-0.294343</td>\n",
       "      <td>-0.108411</td>\n",
       "      <td>0.360046</td>\n",
       "      <td>-0.342966</td>\n",
       "      <td>0.227635</td>\n",
       "      <td>0.009685</td>\n",
       "      <td>0.017892</td>\n",
       "      <td>...</td>\n",
       "      <td>-0.244949</td>\n",
       "      <td>0.122416</td>\n",
       "      <td>-0.136680</td>\n",
       "      <td>-0.312572</td>\n",
       "      <td>1.000000</td>\n",
       "      <td>-0.039196</td>\n",
       "      <td>0.132033</td>\n",
       "      <td>0.000287</td>\n",
       "      <td>0.007534</td>\n",
       "      <td>0.084644</td>\n",
       "    </tr>\n",
       "    <tr>\n",
       "      <th>living_area_total_area_ratio</th>\n",
       "      <td>-0.061121</td>\n",
       "      <td>-0.053695</td>\n",
       "      <td>-0.027182</td>\n",
       "      <td>0.189608</td>\n",
       "      <td>-0.002402</td>\n",
       "      <td>-0.215481</td>\n",
       "      <td>0.304426</td>\n",
       "      <td>-0.161781</td>\n",
       "      <td>0.001482</td>\n",
       "      <td>0.072638</td>\n",
       "      <td>...</td>\n",
       "      <td>-0.021603</td>\n",
       "      <td>0.018099</td>\n",
       "      <td>-0.043697</td>\n",
       "      <td>-0.118620</td>\n",
       "      <td>-0.039196</td>\n",
       "      <td>1.000000</td>\n",
       "      <td>-0.183808</td>\n",
       "      <td>0.019519</td>\n",
       "      <td>-0.026727</td>\n",
       "      <td>0.044234</td>\n",
       "    </tr>\n",
       "    <tr>\n",
       "      <th>kitchen_area_total_area_ratio</th>\n",
       "      <td>-0.055273</td>\n",
       "      <td>-0.116929</td>\n",
       "      <td>-0.366562</td>\n",
       "      <td>-0.611245</td>\n",
       "      <td>0.005271</td>\n",
       "      <td>0.334968</td>\n",
       "      <td>-0.454703</td>\n",
       "      <td>0.231053</td>\n",
       "      <td>0.013170</td>\n",
       "      <td>0.198650</td>\n",
       "      <td>...</td>\n",
       "      <td>-0.014399</td>\n",
       "      <td>-0.008343</td>\n",
       "      <td>-0.063881</td>\n",
       "      <td>0.121682</td>\n",
       "      <td>0.132033</td>\n",
       "      <td>-0.183808</td>\n",
       "      <td>1.000000</td>\n",
       "      <td>0.000812</td>\n",
       "      <td>0.004824</td>\n",
       "      <td>0.027802</td>\n",
       "    </tr>\n",
       "    <tr>\n",
       "      <th>day_week</th>\n",
       "      <td>-0.009252</td>\n",
       "      <td>0.001295</td>\n",
       "      <td>-0.005680</td>\n",
       "      <td>-0.004991</td>\n",
       "      <td>-0.009887</td>\n",
       "      <td>0.013151</td>\n",
       "      <td>-0.002549</td>\n",
       "      <td>0.011610</td>\n",
       "      <td>-0.009479</td>\n",
       "      <td>-0.000886</td>\n",
       "      <td>...</td>\n",
       "      <td>0.001630</td>\n",
       "      <td>-0.003494</td>\n",
       "      <td>-0.025057</td>\n",
       "      <td>-0.007287</td>\n",
       "      <td>0.000287</td>\n",
       "      <td>0.019519</td>\n",
       "      <td>0.000812</td>\n",
       "      <td>1.000000</td>\n",
       "      <td>0.012166</td>\n",
       "      <td>-0.003927</td>\n",
       "    </tr>\n",
       "    <tr>\n",
       "      <th>month</th>\n",
       "      <td>0.004693</td>\n",
       "      <td>0.002765</td>\n",
       "      <td>0.004948</td>\n",
       "      <td>-0.004004</td>\n",
       "      <td>-0.002699</td>\n",
       "      <td>0.016651</td>\n",
       "      <td>-0.003596</td>\n",
       "      <td>0.020641</td>\n",
       "      <td>0.002373</td>\n",
       "      <td>-0.000682</td>\n",
       "      <td>...</td>\n",
       "      <td>-0.008569</td>\n",
       "      <td>0.012732</td>\n",
       "      <td>-0.030656</td>\n",
       "      <td>-0.001915</td>\n",
       "      <td>0.007534</td>\n",
       "      <td>-0.026727</td>\n",
       "      <td>0.004824</td>\n",
       "      <td>0.012166</td>\n",
       "      <td>1.000000</td>\n",
       "      <td>-0.270031</td>\n",
       "    </tr>\n",
       "    <tr>\n",
       "      <th>year</th>\n",
       "      <td>0.138778</td>\n",
       "      <td>-0.043023</td>\n",
       "      <td>-0.079495</td>\n",
       "      <td>-0.055295</td>\n",
       "      <td>-0.000370</td>\n",
       "      <td>0.007845</td>\n",
       "      <td>-0.064000</td>\n",
       "      <td>0.005045</td>\n",
       "      <td>0.009391</td>\n",
       "      <td>0.011049</td>\n",
       "      <td>...</td>\n",
       "      <td>-0.037803</td>\n",
       "      <td>0.038335</td>\n",
       "      <td>-0.611793</td>\n",
       "      <td>0.008275</td>\n",
       "      <td>0.084644</td>\n",
       "      <td>0.044234</td>\n",
       "      <td>0.027802</td>\n",
       "      <td>-0.003927</td>\n",
       "      <td>-0.270031</td>\n",
       "      <td>1.000000</td>\n",
       "    </tr>\n",
       "  </tbody>\n",
       "</table>\n",
       "<p>27 rows × 27 columns</p>\n",
       "</div>"
      ],
      "text/plain": [
       "                               total_images  last_price  total_area     rooms  \\\n",
       "total_images                       1.000000    0.104940    0.116425  0.099385   \n",
       "last_price                         0.104940    1.000000    0.653581  0.363124   \n",
       "total_area                         0.116425    0.653581    1.000000  0.758324   \n",
       "rooms                              0.099385    0.363124    0.758324  1.000000   \n",
       "ceiling_height                     0.004411    0.064447    0.080777  0.048052   \n",
       "floors_total                       0.010427   -0.006984   -0.075774 -0.228215   \n",
       "living_area                        0.090838    0.562120    0.906623  0.814133   \n",
       "floor                              0.033286    0.026644   -0.024927 -0.151586   \n",
       "is_apartment                       0.010423    0.026974    0.029702  0.000378   \n",
       "studio                            -0.028116   -0.025083   -0.071983 -0.145983   \n",
       "open_plan                         -0.024607   -0.008801   -0.034941 -0.087687   \n",
       "kitchen_area                       0.101965    0.462813    0.593597  0.266117   \n",
       "balcony                            0.047212    0.008598    0.010104 -0.015759   \n",
       "airports_nearest                  -0.002632   -0.026098   -0.030124 -0.061269   \n",
       "cityCenters_nearest               -0.047935   -0.206213   -0.230872 -0.184750   \n",
       "parks_around3000                   0.020989    0.151657    0.166048  0.138306   \n",
       "parks_nearest                     -0.006209   -0.016633   -0.021394 -0.054034   \n",
       "ponds_around3000                  -0.011154    0.160479    0.163245  0.093411   \n",
       "ponds_nearest                     -0.003601   -0.085450   -0.099495 -0.059096   \n",
       "days_exposition                   -0.026578    0.081063    0.150130  0.127470   \n",
       "sqare_meter_price                  0.133320    0.736746    0.302397  0.055669   \n",
       "k                                 -0.004702   -0.259398   -0.338186 -0.294343   \n",
       "living_area_total_area_ratio      -0.061121   -0.053695   -0.027182  0.189608   \n",
       "kitchen_area_total_area_ratio     -0.055273   -0.116929   -0.366562 -0.611245   \n",
       "day_week                          -0.009252    0.001295   -0.005680 -0.004991   \n",
       "month                              0.004693    0.002765    0.004948 -0.004004   \n",
       "year                               0.138778   -0.043023   -0.079495 -0.055295   \n",
       "\n",
       "                               ceiling_height  floors_total  living_area  \\\n",
       "total_images                         0.004411      0.010427     0.090838   \n",
       "last_price                           0.064447     -0.006984     0.562120   \n",
       "total_area                           0.080777     -0.075774     0.906623   \n",
       "rooms                                0.048052     -0.228215     0.814133   \n",
       "ceiling_height                       1.000000     -0.026843     0.078106   \n",
       "floors_total                        -0.026843      1.000000    -0.159786   \n",
       "living_area                          0.078106     -0.159786     1.000000   \n",
       "floor                               -0.012699      0.678059    -0.090951   \n",
       "is_apartment                         0.146543     -0.026351     0.027863   \n",
       "studio                               0.000377      0.070151    -0.055236   \n",
       "open_plan                            0.017670      0.050791    -0.027193   \n",
       "kitchen_area                         0.068635      0.150674     0.430840   \n",
       "balcony                              0.032687      0.172812    -0.021706   \n",
       "airports_nearest                    -0.018843      0.108288    -0.053586   \n",
       "cityCenters_nearest                 -0.075529      0.019774    -0.227901   \n",
       "parks_around3000                     0.056807     -0.252833     0.179726   \n",
       "parks_nearest                       -0.018947      0.097527    -0.050104   \n",
       "ponds_around3000                     0.063652     -0.122735     0.147189   \n",
       "ponds_nearest                       -0.047173      0.038864    -0.084351   \n",
       "days_exposition                      0.018136     -0.052234     0.131543   \n",
       "sqare_meter_price                    0.099911      0.148098     0.222930   \n",
       "k                                   -0.108411      0.360046    -0.342966   \n",
       "living_area_total_area_ratio        -0.002402     -0.215481     0.304426   \n",
       "kitchen_area_total_area_ratio        0.005271      0.334968    -0.454703   \n",
       "day_week                            -0.009887      0.013151    -0.002549   \n",
       "month                               -0.002699      0.016651    -0.003596   \n",
       "year                                -0.000370      0.007845    -0.064000   \n",
       "\n",
       "                                  floor  is_apartment    studio  ...  \\\n",
       "total_images                   0.033286      0.010423 -0.028116  ...   \n",
       "last_price                     0.026644      0.026974 -0.025083  ...   \n",
       "total_area                    -0.024927      0.029702 -0.071983  ...   \n",
       "rooms                         -0.151586      0.000378 -0.145983  ...   \n",
       "ceiling_height                -0.012699      0.146543  0.000377  ...   \n",
       "floors_total                   0.678059     -0.026351  0.070151  ...   \n",
       "living_area                   -0.090951      0.027863 -0.055236  ...   \n",
       "floor                          1.000000     -0.013208  0.035908  ...   \n",
       "is_apartment                  -0.013208      1.000000 -0.003633  ...   \n",
       "studio                         0.035908     -0.003633  1.000000  ...   \n",
       "open_plan                      0.036140     -0.002457 -0.004208  ...   \n",
       "kitchen_area                   0.126239      0.041808 -0.005051  ...   \n",
       "balcony                        0.171005      0.032952  0.030050  ...   \n",
       "airports_nearest               0.072878      0.016532 -0.021643  ...   \n",
       "cityCenters_nearest            0.008963      0.003772 -0.006793  ...   \n",
       "parks_around3000              -0.163942      0.020806 -0.030808  ...   \n",
       "parks_nearest                  0.072874     -0.033541  0.006925  ...   \n",
       "ponds_around3000              -0.076067      0.024028  0.000765  ...   \n",
       "ponds_nearest                  0.025381      0.003317  0.001858  ...   \n",
       "days_exposition               -0.039018      0.015294 -0.021604  ...   \n",
       "sqare_meter_price              0.129113      0.044784  0.015536  ...   \n",
       "k                              0.227635      0.009685  0.017892  ...   \n",
       "living_area_total_area_ratio  -0.161781      0.001482  0.072638  ...   \n",
       "kitchen_area_total_area_ratio  0.231053      0.013170  0.198650  ...   \n",
       "day_week                       0.011610     -0.009479 -0.000886  ...   \n",
       "month                          0.020641      0.002373 -0.000682  ...   \n",
       "year                           0.005045      0.009391  0.011049  ...   \n",
       "\n",
       "                               ponds_around3000  ponds_nearest  \\\n",
       "total_images                          -0.011154      -0.003601   \n",
       "last_price                             0.160479      -0.085450   \n",
       "total_area                             0.163245      -0.099495   \n",
       "rooms                                  0.093411      -0.059096   \n",
       "ceiling_height                         0.063652      -0.047173   \n",
       "floors_total                          -0.122735       0.038864   \n",
       "living_area                            0.147189      -0.084351   \n",
       "floor                                 -0.076067       0.025381   \n",
       "is_apartment                           0.024028       0.003317   \n",
       "studio                                 0.000765       0.001858   \n",
       "open_plan                              0.008473      -0.003377   \n",
       "kitchen_area                           0.146261      -0.101095   \n",
       "balcony                               -0.039659       0.020194   \n",
       "airports_nearest                      -0.050370       0.014568   \n",
       "cityCenters_nearest                   -0.074719       0.030158   \n",
       "parks_around3000                       0.304655      -0.168208   \n",
       "parks_nearest                          0.074919       0.001880   \n",
       "ponds_around3000                       1.000000      -0.342583   \n",
       "ponds_nearest                         -0.342583       1.000000   \n",
       "days_exposition                        0.072693      -0.079589   \n",
       "sqare_meter_price                      0.191507      -0.105599   \n",
       "k                                     -0.244949       0.122416   \n",
       "living_area_total_area_ratio          -0.021603       0.018099   \n",
       "kitchen_area_total_area_ratio         -0.014399      -0.008343   \n",
       "day_week                               0.001630      -0.003494   \n",
       "month                                 -0.008569       0.012732   \n",
       "year                                  -0.037803       0.038335   \n",
       "\n",
       "                               days_exposition  sqare_meter_price         k  \\\n",
       "total_images                         -0.026578           0.133320 -0.004702   \n",
       "last_price                            0.081063           0.736746 -0.259398   \n",
       "total_area                            0.150130           0.302397 -0.338186   \n",
       "rooms                                 0.127470           0.055669 -0.294343   \n",
       "ceiling_height                        0.018136           0.099911 -0.108411   \n",
       "floors_total                         -0.052234           0.148098  0.360046   \n",
       "living_area                           0.131543           0.222930 -0.342966   \n",
       "floor                                -0.039018           0.129113  0.227635   \n",
       "is_apartment                          0.015294           0.044784  0.009685   \n",
       "studio                               -0.021604           0.015536  0.017892   \n",
       "open_plan                            -0.024161           0.008298  0.006642   \n",
       "kitchen_area                          0.100976           0.372892 -0.224853   \n",
       "balcony                              -0.027933           0.023631  0.144154   \n",
       "airports_nearest                     -0.018981          -0.039040  0.171971   \n",
       "cityCenters_nearest                  -0.060491          -0.317356  0.998178   \n",
       "parks_around3000                      0.060884           0.185459 -0.347463   \n",
       "parks_nearest                         0.022231           0.005773  0.045441   \n",
       "ponds_around3000                      0.072693           0.191507 -0.244949   \n",
       "ponds_nearest                        -0.079589          -0.105599  0.122416   \n",
       "days_exposition                       1.000000           0.047558 -0.136680   \n",
       "sqare_meter_price                     0.047558           1.000000 -0.312572   \n",
       "k                                    -0.136680          -0.312572  1.000000   \n",
       "living_area_total_area_ratio         -0.043697          -0.118620 -0.039196   \n",
       "kitchen_area_total_area_ratio        -0.063881           0.121682  0.132033   \n",
       "day_week                             -0.025057          -0.007287  0.000287   \n",
       "month                                -0.030656          -0.001915  0.007534   \n",
       "year                                 -0.611793           0.008275  0.084644   \n",
       "\n",
       "                               living_area_total_area_ratio  \\\n",
       "total_images                                      -0.061121   \n",
       "last_price                                        -0.053695   \n",
       "total_area                                        -0.027182   \n",
       "rooms                                              0.189608   \n",
       "ceiling_height                                    -0.002402   \n",
       "floors_total                                      -0.215481   \n",
       "living_area                                        0.304426   \n",
       "floor                                             -0.161781   \n",
       "is_apartment                                       0.001482   \n",
       "studio                                             0.072638   \n",
       "open_plan                                          0.047206   \n",
       "kitchen_area                                      -0.228194   \n",
       "balcony                                           -0.093059   \n",
       "airports_nearest                                  -0.062371   \n",
       "cityCenters_nearest                               -0.017593   \n",
       "parks_around3000                                   0.043521   \n",
       "parks_nearest                                     -0.070448   \n",
       "ponds_around3000                                  -0.021603   \n",
       "ponds_nearest                                      0.018099   \n",
       "days_exposition                                   -0.043697   \n",
       "sqare_meter_price                                 -0.118620   \n",
       "k                                                 -0.039196   \n",
       "living_area_total_area_ratio                       1.000000   \n",
       "kitchen_area_total_area_ratio                     -0.183808   \n",
       "day_week                                           0.019519   \n",
       "month                                             -0.026727   \n",
       "year                                               0.044234   \n",
       "\n",
       "                               kitchen_area_total_area_ratio  day_week  \\\n",
       "total_images                                       -0.055273 -0.009252   \n",
       "last_price                                         -0.116929  0.001295   \n",
       "total_area                                         -0.366562 -0.005680   \n",
       "rooms                                              -0.611245 -0.004991   \n",
       "ceiling_height                                      0.005271 -0.009887   \n",
       "floors_total                                        0.334968  0.013151   \n",
       "living_area                                        -0.454703 -0.002549   \n",
       "floor                                               0.231053  0.011610   \n",
       "is_apartment                                        0.013170 -0.009479   \n",
       "studio                                              0.198650 -0.000886   \n",
       "open_plan                                           0.114812  0.011103   \n",
       "kitchen_area                                        0.372738 -0.008044   \n",
       "balcony                                             0.024423 -0.000906   \n",
       "airports_nearest                                    0.036945  0.001844   \n",
       "cityCenters_nearest                                 0.030790  0.009462   \n",
       "parks_around3000                                   -0.097723 -0.011198   \n",
       "parks_nearest                                       0.055722 -0.006980   \n",
       "ponds_around3000                                   -0.014399  0.001630   \n",
       "ponds_nearest                                      -0.008343 -0.003494   \n",
       "days_exposition                                    -0.063881 -0.025057   \n",
       "sqare_meter_price                                   0.121682 -0.007287   \n",
       "k                                                   0.132033  0.000287   \n",
       "living_area_total_area_ratio                       -0.183808  0.019519   \n",
       "kitchen_area_total_area_ratio                       1.000000  0.000812   \n",
       "day_week                                            0.000812  1.000000   \n",
       "month                                               0.004824  0.012166   \n",
       "year                                                0.027802 -0.003927   \n",
       "\n",
       "                                  month      year  \n",
       "total_images                   0.004693  0.138778  \n",
       "last_price                     0.002765 -0.043023  \n",
       "total_area                     0.004948 -0.079495  \n",
       "rooms                         -0.004004 -0.055295  \n",
       "ceiling_height                -0.002699 -0.000370  \n",
       "floors_total                   0.016651  0.007845  \n",
       "living_area                   -0.003596 -0.064000  \n",
       "floor                          0.020641  0.005045  \n",
       "is_apartment                   0.002373  0.009391  \n",
       "studio                        -0.000682  0.011049  \n",
       "open_plan                      0.025800 -0.021190  \n",
       "kitchen_area                   0.003479 -0.054999  \n",
       "balcony                        0.009309  0.003993  \n",
       "airports_nearest               0.005694  0.008770  \n",
       "cityCenters_nearest           -0.009613  0.032190  \n",
       "parks_around3000              -0.004905 -0.038914  \n",
       "parks_nearest                  0.020644 -0.017868  \n",
       "ponds_around3000              -0.008569 -0.037803  \n",
       "ponds_nearest                  0.012732  0.038335  \n",
       "days_exposition               -0.030656 -0.611793  \n",
       "sqare_meter_price             -0.001915  0.008275  \n",
       "k                              0.007534  0.084644  \n",
       "living_area_total_area_ratio  -0.026727  0.044234  \n",
       "kitchen_area_total_area_ratio  0.004824  0.027802  \n",
       "day_week                       0.012166 -0.003927  \n",
       "month                          1.000000 -0.270031  \n",
       "year                          -0.270031  1.000000  \n",
       "\n",
       "[27 rows x 27 columns]"
      ]
     },
     "execution_count": 251,
     "metadata": {},
     "output_type": "execute_result"
    }
   ],
   "source": [
    "df.corr()"
   ]
  },
  {
   "cell_type": "markdown",
   "metadata": {},
   "source": [
    "Можно заметить довольно сильную корреляцию цены с площадью, что в целом логично, так же видно, что кол-во комнат и цена тоже связаны пусть и слабее, так же стоит отметить отрицательный коэф. корреляции с удаленностью от центра города, т.е чем дальше от центра, тем меньше цена."
   ]
  },
  {
   "cell_type": "code",
   "execution_count": 269,
   "metadata": {
    "scrolled": true
   },
   "outputs": [
    {
     "data": {
      "text/plain": [
       "<AxesSubplot:xlabel='day_week'>"
      ]
     },
     "execution_count": 269,
     "metadata": {},
     "output_type": "execute_result"
    },
    {
     "data": {
      "image/png": "[encoded data removed]",
      "text/plain": [
       "<Figure size 432x288 with 1 Axes>"
      ]
     },
     "metadata": {
      "needs_background": "light"
     },
     "output_type": "display_data"
    }
   ],
   "source": [
    "df.groupby('day_week')['last_price'].mean().plot()"
   ]
  },
  {
   "cell_type": "code",
   "execution_count": 268,
   "metadata": {
    "scrolled": true
   },
   "outputs": [
    {
     "data": {
      "text/plain": [
       "<AxesSubplot:xlabel='month'>"
      ]
     },
     "execution_count": 268,
     "metadata": {},
     "output_type": "execute_result"
    },
    {
     "data": {
      "image/png": "[encoded data removed]",
      "text/plain": [
       "<Figure size 432x288 with 1 Axes>"
      ]
     },
     "metadata": {
      "needs_background": "light"
     },
     "output_type": "display_data"
    }
   ],
   "source": [
    "df.groupby('month')['last_price'].mean().plot()"
   ]
  },
  {
   "cell_type": "code",
   "execution_count": 272,
   "metadata": {},
   "outputs": [
    {
     "data": {
      "text/plain": [
       "<AxesSubplot:xlabel='year'>"
      ]
     },
     "execution_count": 272,
     "metadata": {},
     "output_type": "execute_result"
    },
    {
     "data": {
      "image/png": "[encoded data removed]",
      "text/plain": [
       "<Figure size 432x288 with 1 Axes>"
      ]
     },
     "metadata": {
      "needs_background": "light"
     },
     "output_type": "display_data"
    }
   ],
   "source": [
    "df.groupby('year')['last_price'].mean().plot()"
   ]
  },
  {
   "cell_type": "markdown",
   "metadata": {},
   "source": [
    "Не смотря на полученные графики столбцы year, month, day_week не коррелируют со столбцом last_price."
   ]
  },
  {
   "cell_type": "markdown",
   "metadata": {},
   "source": [
    "<div class=\"alert alert-success\">\n",
    "\n",
    "**✔️ Комментарий ревьюера ✔️**\n",
    "   \n",
    "   Хорошо, попробуй для наглядности использовать градиент для фона. Так корреляция будет еще более заметна.\n",
    "Полезная ссылка: https://pandas.pydata.org/docs/reference/api/pandas.io.formats.style.Styler.background_gradient.html.\n",
    "\n",
    "</div>\n"
   ]
  },
  {
   "cell_type": "markdown",
   "metadata": {},
   "source": [
    "**Выберем населенные пункты с наибольшим числом объявлений:**"
   ]
  },
  {
   "cell_type": "code",
   "execution_count": 209,
   "metadata": {
    "scrolled": false
   },
   "outputs": [
    {
     "data": {
      "text/html": [
       "<div>\n",
       "<style scoped>\n",
       "    .dataframe tbody tr th:only-of-type {\n",
       "        vertical-align: middle;\n",
       "    }\n",
       "\n",
       "    .dataframe tbody tr th {\n",
       "        vertical-align: top;\n",
       "    }\n",
       "\n",
       "    .dataframe thead th {\n",
       "        text-align: right;\n",
       "    }\n",
       "</style>\n",
       "<table border=\"1\" class=\"dataframe\">\n",
       "  <thead>\n",
       "    <tr style=\"text-align: right;\">\n",
       "      <th></th>\n",
       "      <th>count</th>\n",
       "      <th>square_meter_price_mean</th>\n",
       "    </tr>\n",
       "    <tr>\n",
       "      <th>locality_name</th>\n",
       "      <th></th>\n",
       "      <th></th>\n",
       "    </tr>\n",
       "  </thead>\n",
       "  <tbody>\n",
       "    <tr>\n",
       "      <th>Санкт-Петербург</th>\n",
       "      <td>15651</td>\n",
       "      <td>114868.877341</td>\n",
       "    </tr>\n",
       "    <tr>\n",
       "      <th>посёлок Мурино</th>\n",
       "      <td>520</td>\n",
       "      <td>85673.259928</td>\n",
       "    </tr>\n",
       "    <tr>\n",
       "      <th>посёлок Шушары</th>\n",
       "      <td>439</td>\n",
       "      <td>78551.344545</td>\n",
       "    </tr>\n",
       "    <tr>\n",
       "      <th>Всеволожск</th>\n",
       "      <td>398</td>\n",
       "      <td>68654.473986</td>\n",
       "    </tr>\n",
       "    <tr>\n",
       "      <th>Пушкин</th>\n",
       "      <td>369</td>\n",
       "      <td>103125.819291</td>\n",
       "    </tr>\n",
       "    <tr>\n",
       "      <th>Колпино</th>\n",
       "      <td>338</td>\n",
       "      <td>75424.579098</td>\n",
       "    </tr>\n",
       "    <tr>\n",
       "      <th>посёлок Парголово</th>\n",
       "      <td>327</td>\n",
       "      <td>90175.913458</td>\n",
       "    </tr>\n",
       "    <tr>\n",
       "      <th>Гатчина</th>\n",
       "      <td>307</td>\n",
       "      <td>68746.146763</td>\n",
       "    </tr>\n",
       "    <tr>\n",
       "      <th>деревня Кудрово</th>\n",
       "      <td>299</td>\n",
       "      <td>92473.547576</td>\n",
       "    </tr>\n",
       "    <tr>\n",
       "      <th>Выборг</th>\n",
       "      <td>237</td>\n",
       "      <td>58141.909153</td>\n",
       "    </tr>\n",
       "  </tbody>\n",
       "</table>\n",
       "</div>"
      ],
      "text/plain": [
       "                   count  square_meter_price_mean\n",
       "locality_name                                    \n",
       "Санкт-Петербург    15651            114868.877341\n",
       "посёлок Мурино       520             85673.259928\n",
       "посёлок Шушары       439             78551.344545\n",
       "Всеволожск           398             68654.473986\n",
       "Пушкин               369            103125.819291\n",
       "Колпино              338             75424.579098\n",
       "посёлок Парголово    327             90175.913458\n",
       "Гатчина              307             68746.146763\n",
       "деревня Кудрово      299             92473.547576\n",
       "Выборг               237             58141.909153"
      ]
     },
     "execution_count": 209,
     "metadata": {},
     "output_type": "execute_result"
    }
   ],
   "source": [
    "df_locality_name = pd.DataFrame(columns=['count'])\n",
    "df_locality_name['count'] = df.groupby('locality_name')['last_price'].count().sort_values(ascending=False).head(10)\n",
    "df_locality_name['square_meter_price_mean'] = df[df['locality_name'].isin(df_locality_name.index)].groupby('locality_name')['sqare_meter_price'].mean()\n",
    "df_locality_name"
   ]
  },
  {
   "cell_type": "markdown",
   "metadata": {},
   "source": [
    "**Выделим населенные пункты с самой низкой и высокой стоимостью жилья:**"
   ]
  },
  {
   "cell_type": "code",
   "execution_count": null,
   "metadata": {
    "scrolled": true
   },
   "outputs": [],
   "source": [
    "# С самой высокой стоимостью жилья:\n",
    "df.groupby('locality_name')['last_price'].mean().sort_values(ascending=False).head(5)"
   ]
  },
  {
   "cell_type": "code",
   "execution_count": null,
   "metadata": {
    "scrolled": true
   },
   "outputs": [],
   "source": [
    "# С самой низкой стоимостью жилья:\n",
    "df.groupby('locality_name')['last_price'].mean().sort_values().head(5)"
   ]
  },
  {
   "cell_type": "markdown",
   "metadata": {},
   "source": [
    "<div class=\"alert alert-success\">\n",
    "\n",
    "**✔️ Комментарий ревьюера ✔️**\n",
    "   \n",
    "   Верно👍 И очень наглядно\n",
    "\n",
    "</div>\n"
   ]
  },
  {
   "cell_type": "markdown",
   "metadata": {},
   "source": [
    "**Изучим как цена зависит от расстояния до центра:**"
   ]
  },
  {
   "cell_type": "code",
   "execution_count": 182,
   "metadata": {
    "scrolled": true
   },
   "outputs": [
    {
     "data": {
      "text/plain": [
       "<AxesSubplot:xlabel='k'>"
      ]
     },
     "execution_count": 182,
     "metadata": {},
     "output_type": "execute_result"
    },
    {
     "data": {
      "image/png": "[encoded data removed]",
      "text/plain": [
       "<Figure size 432x288 with 1 Axes>"
      ]
     },
     "metadata": {
      "needs_background": "light"
     },
     "output_type": "display_data"
    }
   ],
   "source": [
    "\n",
    "k = df[(df['locality_name'] == 'Санкт-Петербург') & (df['cityCenters_nearest'].notna())]['cityCenters_nearest'] / 1000\n",
    "k = k.astype('int')\n",
    "df['k'] = k\n",
    "df[(df['locality_name'] == 'Санкт-Петербург') & (df['cityCenters_nearest'].notna())].groupby('k')['sqare_meter_price'].mean().plot(x='k'.index, y='k')"
   ]
  },
  {
   "cell_type": "markdown",
   "metadata": {},
   "source": [
    "Исходя из полученного графика, что пределы центра заканчиваются на расстоянии 5-6 км от центра"
   ]
  },
  {
   "cell_type": "markdown",
   "metadata": {},
   "source": [
    "<div class=\"alert alert-success\">\n",
    "✔️ Комментарий ревьюера ✔️\n",
    "\n",
    "👍 6 км - отличный результат для выявления центра 👍\n",
    "    \n",
    "Если интересно, то самый дорогой по стоимости жилья район в Санкт-Петербурге риелторы назвали \"Золотой треугольник\". Дома \"Золотого треугольника\" находятся в пределах Невского проспекта, набережной реки Фонтанки и Дворцовой набережной.\n",
    "Для географической справки: https://zen.yandex.ru/media/id/5cb4ebcc0a51a300b5b1f60d/zolotoi-treugolnik-sanktpeterburga-chto-eto-i-gde-nahoditsia-5edf942db1204610073e88b2 \n",
    "\n",
    "</div>"
   ]
  },
  {
   "cell_type": "markdown",
   "metadata": {},
   "source": [
    "**Выделим сегмент квартир в центре:**"
   ]
  },
  {
   "cell_type": "code",
   "execution_count": 216,
   "metadata": {
    "scrolled": true
   },
   "outputs": [],
   "source": [
    "\n",
    "center_flats = df[(df['locality_name'] == 'Санкт-Петербург') & (df[df['cityCenters_nearest'].notna()]['cityCenters_nearest'].astype('int') < 6000)]\n",
    "not_center_flats = df[(df['locality_name'] == 'Санкт-Петербург') & (df[df['cityCenters_nearest'].notna()]['cityCenters_nearest'].astype('int') >= 6000)]"
   ]
  },
  {
   "cell_type": "code",
   "execution_count": 197,
   "metadata": {},
   "outputs": [
    {
     "data": {
      "text/plain": [
       "<AxesSubplot:>"
      ]
     },
     "execution_count": 197,
     "metadata": {},
     "output_type": "execute_result"
    },
    {
     "data": {
      "image/png": "[encoded data removed]",
      "text/plain": [
       "<Figure size 432x288 with 1 Axes>"
      ]
     },
     "metadata": {
      "needs_background": "light"
     },
     "output_type": "display_data"
    }
   ],
   "source": [
    "center_flats['total_area'].hist()"
   ]
  },
  {
   "cell_type": "markdown",
   "metadata": {},
   "source": [
    "Сравнивая эту гистограмму с гистограммой для значений площади для всех квартир можно сказать, что в среднем площадь квартир продаваемых в центре выше."
   ]
  },
  {
   "cell_type": "code",
   "execution_count": 217,
   "metadata": {},
   "outputs": [
    {
     "name": "stdout",
     "output_type": "stream",
     "text": [
      "Средняя площадь всех квартир 57.712124108751865\n",
      "Средняя площадь квартир в центре 95.9656683168317\n"
     ]
    }
   ],
   "source": [
    "print('Средняя площадь всех квартир', not_center_flats['total_area'].mean())\n",
    "print('Средняя площадь квартир в центре', center_flats['total_area'].mean())"
   ]
  },
  {
   "cell_type": "markdown",
   "metadata": {},
   "source": [
    "Можно заметить, что средняя площадь квартир в центре более чем в 1,5 раза выше."
   ]
  },
  {
   "cell_type": "code",
   "execution_count": 205,
   "metadata": {},
   "outputs": [
    {
     "data": {
      "text/plain": [
       "<AxesSubplot:>"
      ]
     },
     "execution_count": 205,
     "metadata": {},
     "output_type": "execute_result"
    },
    {
     "data": {
      "image/png": "[encoded data removed]",
      "text/plain": [
       "<Figure size 432x288 with 1 Axes>"
      ]
     },
     "metadata": {
      "needs_background": "light"
     },
     "output_type": "display_data"
    }
   ],
   "source": [
    "center_flats['sqare_meter_price'].hist()"
   ]
  },
  {
   "cell_type": "code",
   "execution_count": 218,
   "metadata": {
    "scrolled": true
   },
   "outputs": [
    {
     "name": "stdout",
     "output_type": "stream",
     "text": [
      "Средняя цена за квадратный метр всех квартир 108317.73048928494\n",
      "Средняя цена за квадратный метр квартир в центре 143548.8185442649\n"
     ]
    }
   ],
   "source": [
    "print('Средняя цена за квадратный метр всех квартир', not_center_flats['sqare_meter_price'].mean())\n",
    "print('Средняя цена за квадратный метр квартир в центре', center_flats['sqare_meter_price'].mean())"
   ]
  },
  {
   "cell_type": "markdown",
   "metadata": {},
   "source": [
    "Касательно цены за квадратный метр можно сдлеать вывод аналогичный площади."
   ]
  },
  {
   "cell_type": "code",
   "execution_count": 208,
   "metadata": {},
   "outputs": [
    {
     "data": {
      "text/plain": [
       "<AxesSubplot:>"
      ]
     },
     "execution_count": 208,
     "metadata": {},
     "output_type": "execute_result"
    },
    {
     "data": {
      "image/png": "[encoded data removed]",
      "text/plain": [
       "<Figure size 432x288 with 1 Axes>"
      ]
     },
     "metadata": {
      "needs_background": "light"
     },
     "output_type": "display_data"
    }
   ],
   "source": [
    "center_flats['rooms'].hist()"
   ]
  },
  {
   "cell_type": "code",
   "execution_count": 219,
   "metadata": {
    "scrolled": false
   },
   "outputs": [
    {
     "name": "stdout",
     "output_type": "stream",
     "text": [
      "Средняя кол-во комнат для всех квартир 1.9998432970304787\n",
      "Средняя кол-во комнат для квартир в центре 2.9476661951909477\n"
     ]
    }
   ],
   "source": [
    "print('Средняя кол-во комнат для всех квартир', not_center_flats['rooms'].mean())\n",
    "print('Средняя кол-во комнат для квартир в центре', center_flats['rooms'].mean())"
   ]
  },
  {
   "cell_type": "markdown",
   "metadata": {},
   "source": [
    "В центре комнат в среднем в 1,5 раза больше."
   ]
  },
  {
   "cell_type": "code",
   "execution_count": 213,
   "metadata": {},
   "outputs": [
    {
     "data": {
      "text/plain": [
       "<AxesSubplot:>"
      ]
     },
     "execution_count": 213,
     "metadata": {},
     "output_type": "execute_result"
    },
    {
     "data": {
      "image/png": "[encoded data removed]",
      "text/plain": [
       "<Figure size 432x288 with 1 Axes>"
      ]
     },
     "metadata": {
      "needs_background": "light"
     },
     "output_type": "display_data"
    }
   ],
   "source": [
    "center_flats['ceiling_height'].hist(range=(0,10))"
   ]
  },
  {
   "cell_type": "code",
   "execution_count": 220,
   "metadata": {
    "scrolled": true
   },
   "outputs": [
    {
     "name": "stdout",
     "output_type": "stream",
     "text": [
      "Средняя высота потолков для всех квартир квартир 2.6958951657133903\n",
      "Средняя высота потолков для квартир в центре 2.9880162659123055\n"
     ]
    }
   ],
   "source": [
    "print('Средняя высота потолков для всех квартир квартир', not_center_flats['ceiling_height'].mean())\n",
    "print('Средняя высота потолков для квартир в центре', center_flats['ceiling_height'].mean())"
   ]
  },
  {
   "cell_type": "markdown",
   "metadata": {},
   "source": [
    "Потолки в квартирах, расположенных в центре в среднем чуть выше, чем в остальных квартирах"
   ]
  },
  {
   "cell_type": "code",
   "execution_count": 226,
   "metadata": {},
   "outputs": [
    {
     "data": {
      "text/plain": [
       "array([[<AxesSubplot:xlabel='cityCenters_nearest', ylabel='cityCenters_nearest'>,\n",
       "        <AxesSubplot:xlabel='floor', ylabel='cityCenters_nearest'>,\n",
       "        <AxesSubplot:xlabel='last_price', ylabel='cityCenters_nearest'>,\n",
       "        <AxesSubplot:xlabel='rooms', ylabel='cityCenters_nearest'>],\n",
       "       [<AxesSubplot:xlabel='cityCenters_nearest', ylabel='floor'>,\n",
       "        <AxesSubplot:xlabel='floor', ylabel='floor'>,\n",
       "        <AxesSubplot:xlabel='last_price', ylabel='floor'>,\n",
       "        <AxesSubplot:xlabel='rooms', ylabel='floor'>],\n",
       "       [<AxesSubplot:xlabel='cityCenters_nearest', ylabel='last_price'>,\n",
       "        <AxesSubplot:xlabel='floor', ylabel='last_price'>,\n",
       "        <AxesSubplot:xlabel='last_price', ylabel='last_price'>,\n",
       "        <AxesSubplot:xlabel='rooms', ylabel='last_price'>],\n",
       "       [<AxesSubplot:xlabel='cityCenters_nearest', ylabel='rooms'>,\n",
       "        <AxesSubplot:xlabel='floor', ylabel='rooms'>,\n",
       "        <AxesSubplot:xlabel='last_price', ylabel='rooms'>,\n",
       "        <AxesSubplot:xlabel='rooms', ylabel='rooms'>]], dtype=object)"
      ]
     },
     "execution_count": 226,
     "metadata": {},
     "output_type": "execute_result"
    },
    {
     "data": {
      "image/png": "[encoded data removed]",
      "text/plain": [
       "<Figure size 648x648 with 16 Axes>"
      ]
     },
     "metadata": {
      "needs_background": "light"
     },
     "output_type": "display_data"
    }
   ],
   "source": [
    "pd.plotting.scatter_matrix(df.pivot_table(index=df.index, values=['rooms', 'floor', 'cityCenters_nearest', 'first_day_exposition', 'last_price']), figsize=(9,9))"
   ]
  },
  {
   "cell_type": "markdown",
   "metadata": {},
   "source": [
    "Таким образом можно сдлеать вывод: чем меньше расстояние от центра и этаж, тем больше цена. Так же стоит отметить, что квартиры в центре имеют отличия от остальных квартир, поэтому для них справедливы другие выводы."
   ]
  },
  {
   "cell_type": "markdown",
   "metadata": {},
   "source": [
    "## Общий вывод"
   ]
  },
  {
   "cell_type": "markdown",
   "metadata": {},
   "source": [
    "Таким образом, была продела работа по предобработке данных: изменены типы данных столбцов last_price, first_day_exposition.\n",
    "Заполнены пропуски в столбцах ceiling_height, living_area, kitchen_area, is_apartment, balcony.\n",
    "Добавлены столбцы sqare_meter_price, day_week, month, year, living_area_total_area_ratio, kitchen_area_total_area_ratio.\n",
    "Проведя исследовательский анализ данных можео сделать вывод:  чем меньше расстояние от центра и этаж, тем больше цена. Так же стоит отметить, что квартиры в центре имеют отличия от остальных квартир, поэтому для них справедливы другие выводы."
   ]
  },
  {
   "cell_type": "markdown",
   "metadata": {},
   "source": [
    "<div class=\"alert alert-success\">\n",
    "\n",
    "**✔️ Комментарий ревьюера ✔️**\n",
    "   \n",
    "   Марк, ты провел основательный и подробный анализ. Все наглядно - графики и гистограммы отличные, дал совет, как их улучшить. Учти мои замечания касательно работы с пропусками и дополнительной фильтрацией. Лучше немного подправить и дополнить выводы. Жду твой проект на повторное ревью. Успехов!\n",
    "\n",
    "</div>\n"
   ]
  },
  {
   "cell_type": "markdown",
   "metadata": {},
   "source": [
    "<div class=\"alert alert-success\">\n",
    "\n",
    "**✔️ Комментарий ревьюера v2✔️**\n",
    "   \n",
    "   Марк, замечания устранены 👍. Уверен, мои советы пригодятся тебе в новых проектах. Успехов в обучении! 😉 \n",
    "\n",
    "</div>"
   ]
  },
  {
   "cell_type": "markdown",
   "metadata": {},
   "source": []
  },
  {
   "cell_type": "markdown",
   "metadata": {},
   "source": [
    "## Чек-лист готовности проекта\n",
    "\n",
    "Поставьте 'x' в выполненных пунктах. Далее нажмите Shift+Enter."
   ]
  },
  {
   "cell_type": "markdown",
   "metadata": {},
   "source": [
    "- [x]  открыт файл\n",
    "- [ ]  файлы изучены (выведены первые строки, метод `info()`)\n",
    "- [ ]  определены пропущенные значения\n",
    "- [ ]  заполнены пропущенные значения\n",
    "- [ ]  есть пояснение, какие пропущенные значения обнаружены\n",
    "- [ ]  изменены типы данных\n",
    "- [ ]  есть пояснение, в каких столбцах изменены типы и почему\n",
    "- [ ]  посчитано и добавлено в таблицу: цена квадратного метра\n",
    "- [ ]  посчитано и добавлено в таблицу: день недели, месяц и год публикации объявления\n",
    "- [ ]  посчитано и добавлено в таблицу: этаж квартиры; варианты — первый, последний, другой\n",
    "- [ ]  посчитано и добавлено в таблицу: соотношение жилой и общей площади, а также отношение площади кухни к общей\n",
    "- [ ]  изучены следующие параметры: площадь, цена, число комнат, высота потолков\n",
    "- [ ]  построены гистограммы для каждого параметра\n",
    "- [ ]  выполнено задание: «Изучите время продажи квартиры. Постройте гистограмму. Посчитайте среднее и медиану. Опишите, сколько обычно занимает продажа. Когда можно считать, что продажи прошли очень быстро, а когда необычно долго?»\n",
    "- [ ]  выполнено задание: «Уберите редкие и выбивающиеся значения. Опишите, какие особенности обнаружили».\n",
    "- [ ]  выполнено задание: «Какие факторы больше всего влияют на стоимость квартиры? Изучите, зависит ли цена от квадратного метра, числа комнат, этажа (первого или последнего), удалённости от центра. Также изучите зависимость от даты размещения: дня недели, месяца и года». \n",
    "- [ ]  выполнено задание: «Выберите 10 населённых пунктов с наибольшим числом объявлений. Посчитайте среднюю цену квадратного метра в этих населённых пунктах. Выделите населённые пункты с самой высокой и низкой стоимостью жилья. Эти данные можно найти по имени в столбце `locality_name`».\n",
    "- [ ]  выполнено задание: «Изучите предложения квартир: для каждой квартиры есть информация о расстоянии до центра. Выделите квартиры в Санкт-Петербурге (`locality_name`). Ваша задача — выяснить, какая область входит в центр. Создайте столбец с расстоянием до центра в километрах: округлите до целых значений. После этого посчитайте среднюю цену для каждого километра. Постройте график: он должен показывать, как цена зависит от удалённости от центра. Определите границу, где график сильно меняется — это и будет центральная зона».\n",
    "- [ ]  выполнено задание: «Выделите сегмент квартир в центре. Проанализируйте эту территорию и изучите следующие параметры: площадь, цена, число комнат, высота потолков. Также выделите факторы, которые влияют на стоимость квартиры (число комнат, этаж, удалённость от центра, дата размещения объявления). Сделайте выводы. Отличаются ли они от общих выводов по всей базе?»\n",
    "- [ ]  в каждом этапе есть выводы\n",
    "- [ ]  есть общий вывод"
   ]
  }
 ],
 "metadata": {
  "ExecuteTimeLog": [
   {
    "duration": 46,
    "start_time": "2022-04-24T10:38:33.895Z"
   },
   {
    "duration": 436,
    "start_time": "2022-04-24T10:38:38.838Z"
   },
   {
    "duration": 74,
    "start_time": "2022-04-24T10:38:40.439Z"
   },
   {
    "duration": 13,
    "start_time": "2022-04-24T10:39:28.990Z"
   },
   {
    "duration": 21,
    "start_time": "2022-04-24T10:39:53.425Z"
   },
   {
    "duration": 77,
    "start_time": "2022-04-24T10:40:24.076Z"
   },
   {
    "duration": 3,
    "start_time": "2022-04-24T10:40:26.181Z"
   },
   {
    "duration": 71,
    "start_time": "2022-04-24T10:40:28.282Z"
   },
   {
    "duration": 15,
    "start_time": "2022-04-24T10:40:29.762Z"
   },
   {
    "duration": 40,
    "start_time": "2022-04-24T10:40:33.251Z"
   },
   {
    "duration": 5,
    "start_time": "2022-04-24T10:48:26.655Z"
   },
   {
    "duration": 28,
    "start_time": "2022-04-24T10:57:07.180Z"
   },
   {
    "duration": 8,
    "start_time": "2022-04-24T11:45:53.893Z"
   },
   {
    "duration": 10,
    "start_time": "2022-04-24T13:57:31.154Z"
   },
   {
    "duration": 32,
    "start_time": "2022-04-24T13:57:44.983Z"
   },
   {
    "duration": 3,
    "start_time": "2022-04-24T13:58:01.218Z"
   },
   {
    "duration": 95,
    "start_time": "2022-04-24T13:58:01.223Z"
   },
   {
    "duration": 19,
    "start_time": "2022-04-24T13:58:01.321Z"
   },
   {
    "duration": 48,
    "start_time": "2022-04-24T13:58:01.342Z"
   },
   {
    "duration": 7,
    "start_time": "2022-04-24T13:58:01.392Z"
   },
   {
    "duration": 35,
    "start_time": "2022-04-24T13:58:01.400Z"
   },
   {
    "duration": 6,
    "start_time": "2022-04-24T14:00:18.420Z"
   },
   {
    "duration": 5,
    "start_time": "2022-04-24T14:03:23.593Z"
   },
   {
    "duration": 57,
    "start_time": "2022-04-24T14:03:26.798Z"
   },
   {
    "duration": 22,
    "start_time": "2022-04-24T14:03:34.191Z"
   },
   {
    "duration": 25,
    "start_time": "2022-04-24T14:03:40.790Z"
   },
   {
    "duration": 52,
    "start_time": "2022-04-24T14:03:53.054Z"
   },
   {
    "duration": 14,
    "start_time": "2022-04-24T14:04:36.591Z"
   },
   {
    "duration": 6,
    "start_time": "2022-04-24T14:05:16.090Z"
   },
   {
    "duration": 3,
    "start_time": "2022-04-24T14:05:18.084Z"
   },
   {
    "duration": 124,
    "start_time": "2022-04-24T14:05:18.090Z"
   },
   {
    "duration": 22,
    "start_time": "2022-04-24T14:05:18.216Z"
   },
   {
    "duration": 70,
    "start_time": "2022-04-24T14:05:18.240Z"
   },
   {
    "duration": 7,
    "start_time": "2022-04-24T14:05:18.313Z"
   },
   {
    "duration": 11,
    "start_time": "2022-04-24T14:05:18.322Z"
   },
   {
    "duration": 7,
    "start_time": "2022-04-24T14:05:44.553Z"
   },
   {
    "duration": 4,
    "start_time": "2022-04-24T14:06:09.432Z"
   },
   {
    "duration": 0,
    "start_time": "2022-04-24T14:06:17.649Z"
   },
   {
    "duration": 0,
    "start_time": "2022-04-24T14:06:22.329Z"
   },
   {
    "duration": 1715,
    "start_time": "2022-04-24T14:06:23.657Z"
   },
   {
    "duration": 7,
    "start_time": "2022-04-24T14:06:36.765Z"
   },
   {
    "duration": 92,
    "start_time": "2022-04-24T14:06:36.774Z"
   },
   {
    "duration": 19,
    "start_time": "2022-04-24T14:06:36.868Z"
   },
   {
    "duration": 38,
    "start_time": "2022-04-24T14:06:36.889Z"
   },
   {
    "duration": 6,
    "start_time": "2022-04-24T14:06:36.928Z"
   },
   {
    "duration": 13,
    "start_time": "2022-04-24T14:06:36.954Z"
   },
   {
    "duration": 1864,
    "start_time": "2022-04-24T14:06:51.852Z"
   },
   {
    "duration": 2,
    "start_time": "2022-04-24T14:06:58.739Z"
   },
   {
    "duration": 94,
    "start_time": "2022-04-24T14:06:58.743Z"
   },
   {
    "duration": 24,
    "start_time": "2022-04-24T14:06:58.839Z"
   },
   {
    "duration": 50,
    "start_time": "2022-04-24T14:06:58.865Z"
   },
   {
    "duration": 6,
    "start_time": "2022-04-24T14:06:58.916Z"
   },
   {
    "duration": 10,
    "start_time": "2022-04-24T14:06:58.923Z"
   },
   {
    "duration": 1829,
    "start_time": "2022-04-24T14:07:09.667Z"
   },
   {
    "duration": 1819,
    "start_time": "2022-04-24T14:07:26.747Z"
   },
   {
    "duration": 3,
    "start_time": "2022-04-24T14:07:32.928Z"
   },
   {
    "duration": 99,
    "start_time": "2022-04-24T14:07:32.933Z"
   },
   {
    "duration": 14,
    "start_time": "2022-04-24T14:07:33.033Z"
   },
   {
    "duration": 65,
    "start_time": "2022-04-24T14:07:33.049Z"
   },
   {
    "duration": 6,
    "start_time": "2022-04-24T14:07:33.115Z"
   },
   {
    "duration": 22,
    "start_time": "2022-04-24T14:07:33.122Z"
   },
   {
    "duration": 3,
    "start_time": "2022-04-24T14:07:59.160Z"
   },
   {
    "duration": 87,
    "start_time": "2022-04-24T14:07:59.166Z"
   },
   {
    "duration": 19,
    "start_time": "2022-04-24T14:07:59.259Z"
   },
   {
    "duration": 42,
    "start_time": "2022-04-24T14:07:59.279Z"
   },
   {
    "duration": 7,
    "start_time": "2022-04-24T14:07:59.324Z"
   },
   {
    "duration": 31,
    "start_time": "2022-04-24T14:07:59.332Z"
   },
   {
    "duration": 8,
    "start_time": "2022-04-24T14:08:17.876Z"
   },
   {
    "duration": 14,
    "start_time": "2022-04-24T14:09:50.750Z"
   },
   {
    "duration": 6,
    "start_time": "2022-04-24T14:11:23.582Z"
   },
   {
    "duration": 60,
    "start_time": "2022-04-24T14:11:26.784Z"
   },
   {
    "duration": 9,
    "start_time": "2022-04-24T14:11:34.204Z"
   },
   {
    "duration": 5,
    "start_time": "2022-04-24T14:14:19.095Z"
   },
   {
    "duration": 50,
    "start_time": "2022-04-24T14:14:22.714Z"
   },
   {
    "duration": 4,
    "start_time": "2022-04-24T14:14:26.739Z"
   },
   {
    "duration": 15,
    "start_time": "2022-04-24T14:19:54.529Z"
   },
   {
    "duration": 63,
    "start_time": "2022-04-24T14:20:11.696Z"
   },
   {
    "duration": 8,
    "start_time": "2022-04-24T14:20:37.147Z"
   },
   {
    "duration": 71,
    "start_time": "2022-04-24T14:20:39.293Z"
   },
   {
    "duration": 7,
    "start_time": "2022-04-24T14:22:59.425Z"
   },
   {
    "duration": 47,
    "start_time": "2022-04-24T14:23:14.072Z"
   },
   {
    "duration": 8,
    "start_time": "2022-04-24T14:26:11.109Z"
   },
   {
    "duration": 7,
    "start_time": "2022-04-24T14:26:19.331Z"
   },
   {
    "duration": 56,
    "start_time": "2022-04-24T14:27:17.429Z"
   },
   {
    "duration": 6,
    "start_time": "2022-04-24T16:10:43.387Z"
   },
   {
    "duration": 5,
    "start_time": "2022-04-24T16:10:47.535Z"
   },
   {
    "duration": 4,
    "start_time": "2022-04-24T16:10:57.128Z"
   },
   {
    "duration": 5,
    "start_time": "2022-04-24T16:11:04.019Z"
   },
   {
    "duration": 100,
    "start_time": "2022-04-24T16:16:10.600Z"
   },
   {
    "duration": 126,
    "start_time": "2022-04-24T16:16:18.351Z"
   },
   {
    "duration": 205,
    "start_time": "2022-04-24T16:16:28.761Z"
   },
   {
    "duration": 325,
    "start_time": "2022-04-24T16:17:00.396Z"
   },
   {
    "duration": 211,
    "start_time": "2022-04-24T16:19:20.666Z"
   },
   {
    "duration": 299,
    "start_time": "2022-04-24T16:19:33.576Z"
   },
   {
    "duration": 219,
    "start_time": "2022-04-24T16:19:46.185Z"
   },
   {
    "duration": 205,
    "start_time": "2022-04-24T16:19:52.378Z"
   },
   {
    "duration": 192,
    "start_time": "2022-04-24T16:19:55.967Z"
   },
   {
    "duration": 18,
    "start_time": "2022-04-24T16:23:50.868Z"
   },
   {
    "duration": 9,
    "start_time": "2022-04-24T16:24:06.718Z"
   },
   {
    "duration": 10,
    "start_time": "2022-04-24T16:24:12.120Z"
   },
   {
    "duration": 15,
    "start_time": "2022-04-24T16:24:33.826Z"
   },
   {
    "duration": 35,
    "start_time": "2022-04-24T16:24:43.881Z"
   },
   {
    "duration": 4,
    "start_time": "2022-04-24T16:32:42.801Z"
   },
   {
    "duration": 9,
    "start_time": "2022-04-24T16:32:51.014Z"
   },
   {
    "duration": 9,
    "start_time": "2022-04-24T16:35:17.253Z"
   },
   {
    "duration": 14,
    "start_time": "2022-04-24T16:35:23.862Z"
   },
   {
    "duration": 33,
    "start_time": "2022-04-24T16:35:41.835Z"
   },
   {
    "duration": 16,
    "start_time": "2022-04-24T16:38:41.959Z"
   },
   {
    "duration": 10,
    "start_time": "2022-04-24T16:39:08.025Z"
   },
   {
    "duration": 186,
    "start_time": "2022-04-24T16:40:06.049Z"
   },
   {
    "duration": 6,
    "start_time": "2022-04-24T16:41:31.383Z"
   },
   {
    "duration": 4,
    "start_time": "2022-04-24T16:41:40.140Z"
   },
   {
    "duration": 4,
    "start_time": "2022-04-24T16:41:42.734Z"
   },
   {
    "duration": 6,
    "start_time": "2022-04-24T16:41:47.076Z"
   },
   {
    "duration": 5,
    "start_time": "2022-04-24T16:41:50.253Z"
   },
   {
    "duration": 7,
    "start_time": "2022-04-24T16:41:54.444Z"
   },
   {
    "duration": 169,
    "start_time": "2022-04-24T16:42:25.839Z"
   },
   {
    "duration": 4,
    "start_time": "2022-04-24T16:42:31.848Z"
   },
   {
    "duration": 7,
    "start_time": "2022-04-24T16:43:05.499Z"
   },
   {
    "duration": 3,
    "start_time": "2022-04-24T16:43:09.847Z"
   },
   {
    "duration": 3,
    "start_time": "2022-04-24T16:43:13.574Z"
   },
   {
    "duration": 137,
    "start_time": "2022-04-24T16:43:20.270Z"
   },
   {
    "duration": 4,
    "start_time": "2022-04-24T16:43:39.814Z"
   },
   {
    "duration": 3,
    "start_time": "2022-04-24T16:43:41.717Z"
   },
   {
    "duration": 128,
    "start_time": "2022-04-24T16:43:44.633Z"
   },
   {
    "duration": 4,
    "start_time": "2022-04-24T16:43:50.150Z"
   },
   {
    "duration": 4,
    "start_time": "2022-04-24T16:43:56.307Z"
   },
   {
    "duration": 5,
    "start_time": "2022-04-24T16:43:59.194Z"
   },
   {
    "duration": 142,
    "start_time": "2022-04-24T16:44:20.047Z"
   },
   {
    "duration": 4,
    "start_time": "2022-04-24T16:45:26.316Z"
   },
   {
    "duration": 6,
    "start_time": "2022-04-24T20:46:37.164Z"
   },
   {
    "duration": 13,
    "start_time": "2022-04-24T20:46:49.981Z"
   },
   {
    "duration": 4,
    "start_time": "2022-04-24T20:47:04.269Z"
   },
   {
    "duration": 13,
    "start_time": "2022-04-24T20:47:08.472Z"
   },
   {
    "duration": 6,
    "start_time": "2022-04-24T20:48:23.549Z"
   },
   {
    "duration": 4,
    "start_time": "2022-04-24T20:48:25.858Z"
   },
   {
    "duration": 4,
    "start_time": "2022-04-24T20:48:36.453Z"
   },
   {
    "duration": 4,
    "start_time": "2022-04-24T20:48:46.440Z"
   },
   {
    "duration": 5,
    "start_time": "2022-04-24T20:48:48.843Z"
   },
   {
    "duration": 2,
    "start_time": "2022-04-24T20:48:59.862Z"
   },
   {
    "duration": 83,
    "start_time": "2022-04-24T20:48:59.866Z"
   },
   {
    "duration": 14,
    "start_time": "2022-04-24T20:48:59.951Z"
   },
   {
    "duration": 37,
    "start_time": "2022-04-24T20:48:59.966Z"
   },
   {
    "duration": 5,
    "start_time": "2022-04-24T20:49:00.005Z"
   },
   {
    "duration": 7,
    "start_time": "2022-04-24T20:49:00.012Z"
   },
   {
    "duration": 34,
    "start_time": "2022-04-24T20:49:00.021Z"
   },
   {
    "duration": 49,
    "start_time": "2022-04-24T20:49:00.056Z"
   },
   {
    "duration": 122,
    "start_time": "2022-04-24T20:49:00.106Z"
   },
   {
    "duration": 4,
    "start_time": "2022-04-24T20:49:00.230Z"
   },
   {
    "duration": 8,
    "start_time": "2022-04-24T20:49:00.236Z"
   },
   {
    "duration": 13,
    "start_time": "2022-04-24T20:49:00.254Z"
   },
   {
    "duration": 5,
    "start_time": "2022-04-24T20:49:39.739Z"
   },
   {
    "duration": 5,
    "start_time": "2022-04-24T20:49:51.657Z"
   },
   {
    "duration": 3,
    "start_time": "2022-04-24T20:49:55.874Z"
   },
   {
    "duration": 77,
    "start_time": "2022-04-24T20:49:55.878Z"
   },
   {
    "duration": 12,
    "start_time": "2022-04-24T20:49:55.957Z"
   },
   {
    "duration": 37,
    "start_time": "2022-04-24T20:49:55.970Z"
   },
   {
    "duration": 5,
    "start_time": "2022-04-24T20:49:56.009Z"
   },
   {
    "duration": 11,
    "start_time": "2022-04-24T20:49:56.015Z"
   },
   {
    "duration": 29,
    "start_time": "2022-04-24T20:49:56.027Z"
   },
   {
    "duration": 47,
    "start_time": "2022-04-24T20:49:56.057Z"
   },
   {
    "duration": 127,
    "start_time": "2022-04-24T20:49:56.105Z"
   },
   {
    "duration": 4,
    "start_time": "2022-04-24T20:49:56.234Z"
   },
   {
    "duration": 16,
    "start_time": "2022-04-24T20:49:56.240Z"
   },
   {
    "duration": 4,
    "start_time": "2022-04-24T20:49:56.258Z"
   },
   {
    "duration": 5,
    "start_time": "2022-04-24T20:49:56.263Z"
   },
   {
    "duration": 13,
    "start_time": "2022-04-24T20:49:56.269Z"
   },
   {
    "duration": 12,
    "start_time": "2022-04-24T20:50:23.389Z"
   },
   {
    "duration": 10,
    "start_time": "2022-04-24T20:50:38.800Z"
   },
   {
    "duration": 4,
    "start_time": "2022-04-24T20:52:45.456Z"
   },
   {
    "duration": 4,
    "start_time": "2022-04-24T20:52:47.967Z"
   },
   {
    "duration": 14,
    "start_time": "2022-04-24T20:52:51.301Z"
   },
   {
    "duration": 3,
    "start_time": "2022-04-24T20:53:40.498Z"
   },
   {
    "duration": 4,
    "start_time": "2022-04-24T20:53:42.421Z"
   },
   {
    "duration": 12,
    "start_time": "2022-04-24T20:54:23.442Z"
   },
   {
    "duration": 7,
    "start_time": "2022-04-24T20:54:49.764Z"
   },
   {
    "duration": 7,
    "start_time": "2022-04-24T20:54:52.368Z"
   },
   {
    "duration": 4,
    "start_time": "2022-04-24T20:54:54.624Z"
   },
   {
    "duration": 13,
    "start_time": "2022-04-24T20:55:08.697Z"
   },
   {
    "duration": 8,
    "start_time": "2022-04-24T20:55:51.458Z"
   },
   {
    "duration": 24,
    "start_time": "2022-04-24T21:03:32.489Z"
   },
   {
    "duration": 25,
    "start_time": "2022-04-24T21:03:38.445Z"
   },
   {
    "duration": 6,
    "start_time": "2022-04-24T21:09:17.637Z"
   },
   {
    "duration": 5,
    "start_time": "2022-04-24T21:09:29.273Z"
   },
   {
    "duration": 213,
    "start_time": "2022-04-24T21:13:49.823Z"
   },
   {
    "duration": 101,
    "start_time": "2022-04-24T21:14:09.785Z"
   },
   {
    "duration": 129,
    "start_time": "2022-04-24T21:14:26.907Z"
   },
   {
    "duration": 137,
    "start_time": "2022-04-24T21:14:37.582Z"
   },
   {
    "duration": 146,
    "start_time": "2022-04-24T21:14:49.898Z"
   },
   {
    "duration": 129,
    "start_time": "2022-04-24T21:14:57.183Z"
   },
   {
    "duration": 115,
    "start_time": "2022-04-24T21:15:03.346Z"
   },
   {
    "duration": 132,
    "start_time": "2022-04-24T21:15:09.990Z"
   },
   {
    "duration": 8,
    "start_time": "2022-04-24T21:29:40.960Z"
   },
   {
    "duration": 77,
    "start_time": "2022-04-24T21:31:16.236Z"
   },
   {
    "duration": 13,
    "start_time": "2022-04-24T21:31:25.853Z"
   },
   {
    "duration": 11,
    "start_time": "2022-04-24T21:31:28.985Z"
   },
   {
    "duration": 13,
    "start_time": "2022-04-24T21:31:42.122Z"
   },
   {
    "duration": 80,
    "start_time": "2022-04-24T21:36:04.059Z"
   },
   {
    "duration": 14,
    "start_time": "2022-04-24T21:36:09.860Z"
   },
   {
    "duration": 144,
    "start_time": "2022-04-24T21:51:26.134Z"
   },
   {
    "duration": 134,
    "start_time": "2022-04-24T21:52:37.808Z"
   },
   {
    "duration": 136,
    "start_time": "2022-04-24T21:52:54.705Z"
   },
   {
    "duration": 133,
    "start_time": "2022-04-24T21:52:59.425Z"
   },
   {
    "duration": 19,
    "start_time": "2022-04-24T21:53:04.752Z"
   },
   {
    "duration": 20,
    "start_time": "2022-04-24T21:54:21.167Z"
   },
   {
    "duration": 18,
    "start_time": "2022-04-24T21:59:21.395Z"
   },
   {
    "duration": 131,
    "start_time": "2022-04-24T21:59:38.751Z"
   },
   {
    "duration": 46,
    "start_time": "2022-04-24T21:59:52.497Z"
   },
   {
    "duration": 5,
    "start_time": "2022-04-24T22:00:25.890Z"
   },
   {
    "duration": 5,
    "start_time": "2022-04-24T22:00:46.185Z"
   },
   {
    "duration": 5,
    "start_time": "2022-04-24T22:00:48.421Z"
   },
   {
    "duration": 19,
    "start_time": "2022-04-24T22:00:50.534Z"
   },
   {
    "duration": 5,
    "start_time": "2022-04-24T22:00:52.560Z"
   },
   {
    "duration": 8,
    "start_time": "2022-04-24T22:03:40.259Z"
   },
   {
    "duration": 8,
    "start_time": "2022-04-24T22:03:45.468Z"
   },
   {
    "duration": 139,
    "start_time": "2022-04-24T22:07:13.733Z"
   },
   {
    "duration": 139,
    "start_time": "2022-04-24T22:07:17.929Z"
   },
   {
    "duration": 7,
    "start_time": "2022-04-24T22:07:24.835Z"
   },
   {
    "duration": 4,
    "start_time": "2022-04-24T22:07:53.416Z"
   },
   {
    "duration": 20,
    "start_time": "2022-04-24T22:09:41.317Z"
   },
   {
    "duration": 20,
    "start_time": "2022-04-24T22:10:16.331Z"
   },
   {
    "duration": 4,
    "start_time": "2022-04-24T22:10:50.128Z"
   },
   {
    "duration": 21,
    "start_time": "2022-04-24T22:11:05.719Z"
   },
   {
    "duration": 150,
    "start_time": "2022-04-24T22:11:46.761Z"
   },
   {
    "duration": 4,
    "start_time": "2022-04-24T22:11:50.596Z"
   },
   {
    "duration": 5,
    "start_time": "2022-04-24T22:11:52.594Z"
   },
   {
    "duration": 148,
    "start_time": "2022-04-24T22:11:54.689Z"
   },
   {
    "duration": 4,
    "start_time": "2022-04-24T22:11:58.048Z"
   },
   {
    "duration": 19,
    "start_time": "2022-04-24T22:12:23.700Z"
   },
   {
    "duration": 7,
    "start_time": "2022-04-24T22:12:57.471Z"
   },
   {
    "duration": 19,
    "start_time": "2022-04-24T22:14:35.477Z"
   },
   {
    "duration": 21,
    "start_time": "2022-04-24T22:15:11.528Z"
   },
   {
    "duration": 19,
    "start_time": "2022-04-24T22:15:16.402Z"
   },
   {
    "duration": 2,
    "start_time": "2022-04-24T22:18:50.007Z"
   },
   {
    "duration": 400,
    "start_time": "2022-04-25T06:37:09.500Z"
   },
   {
    "duration": 78,
    "start_time": "2022-04-25T06:37:11.139Z"
   },
   {
    "duration": 14,
    "start_time": "2022-04-25T06:37:11.678Z"
   },
   {
    "duration": 3,
    "start_time": "2022-04-25T06:37:20.811Z"
   },
   {
    "duration": 84,
    "start_time": "2022-04-25T06:37:20.826Z"
   },
   {
    "duration": 14,
    "start_time": "2022-04-25T06:37:20.912Z"
   },
   {
    "duration": 66,
    "start_time": "2022-04-25T06:37:20.930Z"
   },
   {
    "duration": 6,
    "start_time": "2022-04-25T06:37:20.998Z"
   },
   {
    "duration": 33,
    "start_time": "2022-04-25T06:37:21.006Z"
   },
   {
    "duration": 5,
    "start_time": "2022-04-25T06:37:21.040Z"
   },
   {
    "duration": 23,
    "start_time": "2022-04-25T06:37:21.046Z"
   },
   {
    "duration": 51,
    "start_time": "2022-04-25T06:37:21.071Z"
   },
   {
    "duration": 603,
    "start_time": "2022-04-25T06:37:21.126Z"
   },
   {
    "duration": 13,
    "start_time": "2022-04-25T06:37:21.730Z"
   },
   {
    "duration": 26,
    "start_time": "2022-04-25T06:37:21.745Z"
   },
   {
    "duration": 143,
    "start_time": "2022-04-25T06:37:21.773Z"
   },
   {
    "duration": 0,
    "start_time": "2022-04-25T07:05:14.468Z"
   },
   {
    "duration": 0,
    "start_time": "2022-04-25T07:05:14.469Z"
   },
   {
    "duration": 0,
    "start_time": "2022-04-25T07:05:14.471Z"
   },
   {
    "duration": 0,
    "start_time": "2022-04-25T07:05:14.474Z"
   },
   {
    "duration": 0,
    "start_time": "2022-04-25T07:05:14.476Z"
   },
   {
    "duration": 1,
    "start_time": "2022-04-25T07:05:14.479Z"
   },
   {
    "duration": 0,
    "start_time": "2022-04-25T07:05:14.482Z"
   },
   {
    "duration": 0,
    "start_time": "2022-04-25T07:05:14.485Z"
   },
   {
    "duration": 0,
    "start_time": "2022-04-25T07:05:14.488Z"
   },
   {
    "duration": 0,
    "start_time": "2022-04-25T07:05:14.491Z"
   },
   {
    "duration": 0,
    "start_time": "2022-04-25T07:05:14.494Z"
   },
   {
    "duration": 0,
    "start_time": "2022-04-25T07:05:14.525Z"
   },
   {
    "duration": 0,
    "start_time": "2022-04-25T07:05:14.526Z"
   },
   {
    "duration": 0,
    "start_time": "2022-04-25T07:05:14.530Z"
   },
   {
    "duration": 0,
    "start_time": "2022-04-25T07:05:14.532Z"
   },
   {
    "duration": 0,
    "start_time": "2022-04-25T07:05:14.535Z"
   },
   {
    "duration": 408,
    "start_time": "2022-04-25T12:56:48.535Z"
   },
   {
    "duration": 80,
    "start_time": "2022-04-25T12:57:06.443Z"
   },
   {
    "duration": 14,
    "start_time": "2022-04-25T12:57:12.195Z"
   },
   {
    "duration": 66,
    "start_time": "2022-04-25T12:57:22.106Z"
   },
   {
    "duration": 2,
    "start_time": "2022-04-25T12:57:30.870Z"
   },
   {
    "duration": 68,
    "start_time": "2022-04-25T12:57:32.026Z"
   },
   {
    "duration": 14,
    "start_time": "2022-04-25T12:57:34.470Z"
   },
   {
    "duration": 46,
    "start_time": "2022-04-25T12:57:39.226Z"
   },
   {
    "duration": 5,
    "start_time": "2022-04-25T12:57:45.334Z"
   },
   {
    "duration": 19,
    "start_time": "2022-04-25T12:57:47.917Z"
   },
   {
    "duration": 4,
    "start_time": "2022-04-25T12:57:54.624Z"
   },
   {
    "duration": 7,
    "start_time": "2022-04-25T12:57:55.496Z"
   },
   {
    "duration": 46,
    "start_time": "2022-04-25T12:57:57.856Z"
   },
   {
    "duration": 510,
    "start_time": "2022-04-25T12:58:03.005Z"
   },
   {
    "duration": 5,
    "start_time": "2022-04-25T12:58:10.907Z"
   },
   {
    "duration": 11,
    "start_time": "2022-04-25T12:58:11.474Z"
   },
   {
    "duration": 120,
    "start_time": "2022-04-25T12:58:11.858Z"
   },
   {
    "duration": 70,
    "start_time": "2022-04-25T12:58:24.649Z"
   },
   {
    "duration": 1853,
    "start_time": "2022-04-25T12:59:20.237Z"
   },
   {
    "duration": 1738,
    "start_time": "2022-04-25T12:59:51.067Z"
   },
   {
    "duration": 17,
    "start_time": "2022-04-25T13:00:25.400Z"
   },
   {
    "duration": 1855,
    "start_time": "2022-04-25T13:00:47.917Z"
   },
   {
    "duration": 2778,
    "start_time": "2022-04-25T13:05:01.493Z"
   },
   {
    "duration": 1956,
    "start_time": "2022-04-25T13:06:55.830Z"
   },
   {
    "duration": 8,
    "start_time": "2022-04-25T13:07:34.478Z"
   },
   {
    "duration": 2284,
    "start_time": "2022-04-25T13:08:00.505Z"
   },
   {
    "duration": 2129,
    "start_time": "2022-04-25T13:09:34.557Z"
   },
   {
    "duration": 20,
    "start_time": "2022-04-25T13:11:12.555Z"
   },
   {
    "duration": 17,
    "start_time": "2022-04-25T13:12:38.692Z"
   },
   {
    "duration": 18,
    "start_time": "2022-04-25T13:23:12.152Z"
   },
   {
    "duration": 139,
    "start_time": "2022-04-25T13:23:57.429Z"
   },
   {
    "duration": 309,
    "start_time": "2022-04-25T13:26:53.816Z"
   },
   {
    "duration": 311,
    "start_time": "2022-04-25T13:27:27.496Z"
   },
   {
    "duration": 301,
    "start_time": "2022-04-25T13:28:12.485Z"
   },
   {
    "duration": 531,
    "start_time": "2022-04-25T13:29:33.933Z"
   },
   {
    "duration": 30,
    "start_time": "2022-04-25T13:29:56.441Z"
   },
   {
    "duration": 26,
    "start_time": "2022-04-25T13:30:42.485Z"
   },
   {
    "duration": 28,
    "start_time": "2022-04-25T13:31:37.344Z"
   },
   {
    "duration": 26,
    "start_time": "2022-04-25T13:32:26.045Z"
   },
   {
    "duration": 19,
    "start_time": "2022-04-25T13:32:51.993Z"
   },
   {
    "duration": 108,
    "start_time": "2022-04-25T13:33:52.170Z"
   },
   {
    "duration": 29,
    "start_time": "2022-04-25T13:33:57.985Z"
   },
   {
    "duration": 19,
    "start_time": "2022-04-25T13:34:39.619Z"
   },
   {
    "duration": 3,
    "start_time": "2022-04-25T13:35:00.890Z"
   },
   {
    "duration": 3,
    "start_time": "2022-04-25T13:35:05.741Z"
   },
   {
    "duration": 78,
    "start_time": "2022-04-25T13:35:11.451Z"
   },
   {
    "duration": 82,
    "start_time": "2022-04-25T13:35:21.657Z"
   },
   {
    "duration": 7,
    "start_time": "2022-04-25T13:35:44.102Z"
   },
   {
    "duration": 81,
    "start_time": "2022-04-25T13:36:32.202Z"
   },
   {
    "duration": 158,
    "start_time": "2022-04-25T13:36:44.566Z"
   },
   {
    "duration": 79,
    "start_time": "2022-04-25T13:36:56.345Z"
   },
   {
    "duration": 11,
    "start_time": "2022-04-25T13:37:12.364Z"
   },
   {
    "duration": 8,
    "start_time": "2022-04-25T13:37:17.301Z"
   },
   {
    "duration": 10,
    "start_time": "2022-04-25T13:37:24.384Z"
   },
   {
    "duration": 386,
    "start_time": "2022-04-25T13:40:16.794Z"
   },
   {
    "duration": 366,
    "start_time": "2022-04-25T13:40:52.346Z"
   },
   {
    "duration": 3,
    "start_time": "2022-04-25T13:41:07.388Z"
   },
   {
    "duration": 116,
    "start_time": "2022-04-25T13:41:07.394Z"
   },
   {
    "duration": 20,
    "start_time": "2022-04-25T13:41:07.514Z"
   },
   {
    "duration": 57,
    "start_time": "2022-04-25T13:41:07.536Z"
   },
   {
    "duration": 7,
    "start_time": "2022-04-25T13:41:07.596Z"
   },
   {
    "duration": 28,
    "start_time": "2022-04-25T13:41:07.605Z"
   },
   {
    "duration": 7,
    "start_time": "2022-04-25T13:41:07.648Z"
   },
   {
    "duration": 18,
    "start_time": "2022-04-25T13:41:07.656Z"
   },
   {
    "duration": 50,
    "start_time": "2022-04-25T13:41:07.677Z"
   },
   {
    "duration": 190,
    "start_time": "2022-04-25T13:41:07.728Z"
   },
   {
    "duration": 4,
    "start_time": "2022-04-25T13:41:07.920Z"
   },
   {
    "duration": 21,
    "start_time": "2022-04-25T13:41:07.926Z"
   },
   {
    "duration": 214,
    "start_time": "2022-04-25T13:41:07.949Z"
   },
   {
    "duration": 369,
    "start_time": "2022-04-25T13:41:08.166Z"
   },
   {
    "duration": 12,
    "start_time": "2022-04-25T13:41:08.537Z"
   },
   {
    "duration": 11,
    "start_time": "2022-04-25T13:41:08.550Z"
   },
   {
    "duration": 8,
    "start_time": "2022-04-25T13:42:55.875Z"
   },
   {
    "duration": 234,
    "start_time": "2022-04-25T13:43:03.689Z"
   },
   {
    "duration": 10,
    "start_time": "2022-04-25T13:43:07.051Z"
   },
   {
    "duration": 20,
    "start_time": "2022-04-25T13:43:16.561Z"
   },
   {
    "duration": 6,
    "start_time": "2022-04-25T13:46:14.841Z"
   },
   {
    "duration": 12,
    "start_time": "2022-04-25T13:46:34.405Z"
   },
   {
    "duration": 12,
    "start_time": "2022-04-25T13:47:34.598Z"
   },
   {
    "duration": 12,
    "start_time": "2022-04-25T13:47:50.756Z"
   },
   {
    "duration": 48,
    "start_time": "2022-04-25T16:25:32.760Z"
   },
   {
    "duration": 432,
    "start_time": "2022-04-25T16:25:38.276Z"
   },
   {
    "duration": 89,
    "start_time": "2022-04-25T16:25:38.711Z"
   },
   {
    "duration": 18,
    "start_time": "2022-04-25T16:25:38.802Z"
   },
   {
    "duration": 70,
    "start_time": "2022-04-25T16:25:38.822Z"
   },
   {
    "duration": 5,
    "start_time": "2022-04-25T16:25:38.895Z"
   },
   {
    "duration": 29,
    "start_time": "2022-04-25T16:25:38.902Z"
   },
   {
    "duration": 5,
    "start_time": "2022-04-25T16:25:38.933Z"
   },
   {
    "duration": 35,
    "start_time": "2022-04-25T16:25:38.940Z"
   },
   {
    "duration": 55,
    "start_time": "2022-04-25T16:25:38.977Z"
   },
   {
    "duration": 611,
    "start_time": "2022-04-25T16:25:39.033Z"
   },
   {
    "duration": 6,
    "start_time": "2022-04-25T16:25:39.646Z"
   },
   {
    "duration": 26,
    "start_time": "2022-04-25T16:25:39.654Z"
   },
   {
    "duration": 162,
    "start_time": "2022-04-25T16:25:39.682Z"
   },
   {
    "duration": 343,
    "start_time": "2022-04-25T16:25:39.848Z"
   },
   {
    "duration": 17,
    "start_time": "2022-04-25T16:25:40.193Z"
   },
   {
    "duration": 119,
    "start_time": "2022-04-25T16:25:40.212Z"
   },
   {
    "duration": 16,
    "start_time": "2022-04-25T16:36:53.352Z"
   },
   {
    "duration": 37,
    "start_time": "2022-04-25T16:42:56.130Z"
   },
   {
    "duration": 8,
    "start_time": "2022-04-25T16:43:01.430Z"
   },
   {
    "duration": 8,
    "start_time": "2022-04-25T16:43:08.772Z"
   },
   {
    "duration": 18,
    "start_time": "2022-04-25T16:43:13.509Z"
   },
   {
    "duration": 4,
    "start_time": "2022-04-25T16:43:16.436Z"
   },
   {
    "duration": 1330,
    "start_time": "2022-04-25T16:49:11.805Z"
   },
   {
    "duration": 1750,
    "start_time": "2022-04-25T16:49:37.234Z"
   },
   {
    "duration": 6,
    "start_time": "2022-04-25T16:49:51.434Z"
   },
   {
    "duration": 5,
    "start_time": "2022-04-25T16:55:15.797Z"
   },
   {
    "duration": 90,
    "start_time": "2022-04-25T16:55:18.399Z"
   },
   {
    "duration": 5,
    "start_time": "2022-04-25T16:55:36.810Z"
   },
   {
    "duration": 82,
    "start_time": "2022-04-25T16:55:38.699Z"
   },
   {
    "duration": 5,
    "start_time": "2022-04-25T16:57:49.994Z"
   },
   {
    "duration": 84,
    "start_time": "2022-04-25T16:57:53.597Z"
   },
   {
    "duration": 9,
    "start_time": "2022-04-25T17:00:00.074Z"
   },
   {
    "duration": 7,
    "start_time": "2022-04-25T17:00:17.524Z"
   },
   {
    "duration": 10,
    "start_time": "2022-04-25T17:00:24.702Z"
   },
   {
    "duration": 7,
    "start_time": "2022-04-25T17:00:39.301Z"
   },
   {
    "duration": 9,
    "start_time": "2022-04-25T17:00:44.642Z"
   },
   {
    "duration": 5,
    "start_time": "2022-04-25T17:03:08.112Z"
   },
   {
    "duration": 177,
    "start_time": "2022-04-25T17:03:10.313Z"
   },
   {
    "duration": 7,
    "start_time": "2022-04-25T17:04:10.461Z"
   },
   {
    "duration": 6,
    "start_time": "2022-04-25T17:04:58.961Z"
   },
   {
    "duration": 112548,
    "start_time": "2022-04-25T17:05:05.961Z"
   },
   {
    "duration": 5,
    "start_time": "2022-04-25T17:09:21.576Z"
   },
   {
    "duration": 5,
    "start_time": "2022-04-25T17:09:36.903Z"
   },
   {
    "duration": 5,
    "start_time": "2022-04-25T17:09:44.603Z"
   },
   {
    "duration": 112683,
    "start_time": "2022-04-25T17:10:40.017Z"
   },
   {
    "duration": 5,
    "start_time": "2022-04-25T17:14:37.825Z"
   },
   {
    "duration": 112805,
    "start_time": "2022-04-25T17:14:40.918Z"
   },
   {
    "duration": 109,
    "start_time": "2022-04-25T17:19:15.223Z"
   },
   {
    "duration": 111,
    "start_time": "2022-04-25T17:22:45.752Z"
   },
   {
    "duration": 825,
    "start_time": "2022-04-25T17:22:50.588Z"
   },
   {
    "duration": 5,
    "start_time": "2022-04-25T17:23:02.398Z"
   },
   {
    "duration": 6,
    "start_time": "2022-04-25T17:23:08.180Z"
   },
   {
    "duration": 14,
    "start_time": "2022-04-25T17:25:06.925Z"
   },
   {
    "duration": 12,
    "start_time": "2022-04-25T17:25:13.954Z"
   },
   {
    "duration": 21,
    "start_time": "2022-04-25T17:25:17.243Z"
   },
   {
    "duration": 11,
    "start_time": "2022-04-25T17:28:13.696Z"
   },
   {
    "duration": 9,
    "start_time": "2022-04-25T17:28:18.447Z"
   },
   {
    "duration": 23,
    "start_time": "2022-04-25T17:28:21.247Z"
   },
   {
    "duration": 1823,
    "start_time": "2022-04-25T17:34:05.086Z"
   },
   {
    "duration": 6,
    "start_time": "2022-04-25T17:35:14.432Z"
   },
   {
    "duration": 45,
    "start_time": "2022-04-25T17:35:27.578Z"
   },
   {
    "duration": 983,
    "start_time": "2022-04-25T17:41:07.204Z"
   },
   {
    "duration": 6,
    "start_time": "2022-04-25T17:43:56.610Z"
   },
   {
    "duration": 52,
    "start_time": "2022-04-25T17:44:11.003Z"
   },
   {
    "duration": 10,
    "start_time": "2022-04-25T17:45:32.590Z"
   },
   {
    "duration": 11,
    "start_time": "2022-04-25T17:46:06.625Z"
   },
   {
    "duration": 104,
    "start_time": "2022-04-25T17:46:13.556Z"
   },
   {
    "duration": 7,
    "start_time": "2022-04-25T17:46:22.611Z"
   },
   {
    "duration": 43,
    "start_time": "2022-04-25T17:46:39.163Z"
   },
   {
    "duration": 15,
    "start_time": "2022-04-25T17:47:32.522Z"
   },
   {
    "duration": 52,
    "start_time": "2022-04-25T17:48:10.664Z"
   },
   {
    "duration": 10,
    "start_time": "2022-04-25T17:49:38.715Z"
   },
   {
    "duration": 14,
    "start_time": "2022-04-25T17:50:22.073Z"
   },
   {
    "duration": 50,
    "start_time": "2022-04-25T17:50:28.083Z"
   },
   {
    "duration": 11,
    "start_time": "2022-04-25T17:50:58.812Z"
   },
   {
    "duration": 6,
    "start_time": "2022-04-25T17:51:49.690Z"
   },
   {
    "duration": 6,
    "start_time": "2022-04-25T17:52:01.248Z"
   },
   {
    "duration": 41,
    "start_time": "2022-04-25T17:52:14.595Z"
   },
   {
    "duration": 12,
    "start_time": "2022-04-25T17:53:06.818Z"
   },
   {
    "duration": 14,
    "start_time": "2022-04-25T17:53:08.940Z"
   },
   {
    "duration": 5,
    "start_time": "2022-04-25T17:53:11.437Z"
   },
   {
    "duration": 42,
    "start_time": "2022-04-25T17:53:12.932Z"
   },
   {
    "duration": 18,
    "start_time": "2022-04-25T17:54:57.259Z"
   },
   {
    "duration": 28,
    "start_time": "2022-04-25T17:56:51.891Z"
   },
   {
    "duration": 4,
    "start_time": "2022-04-25T17:56:56.856Z"
   },
   {
    "duration": 5,
    "start_time": "2022-04-25T17:57:04.376Z"
   },
   {
    "duration": 48,
    "start_time": "2022-04-25T17:57:06.484Z"
   },
   {
    "duration": 3,
    "start_time": "2022-04-25T18:00:19.846Z"
   },
   {
    "duration": 84,
    "start_time": "2022-04-25T18:00:19.853Z"
   },
   {
    "duration": 16,
    "start_time": "2022-04-25T18:00:19.939Z"
   },
   {
    "duration": 44,
    "start_time": "2022-04-25T18:00:19.974Z"
   },
   {
    "duration": 6,
    "start_time": "2022-04-25T18:00:20.020Z"
   },
   {
    "duration": 29,
    "start_time": "2022-04-25T18:00:20.027Z"
   },
   {
    "duration": 5,
    "start_time": "2022-04-25T18:00:20.074Z"
   },
   {
    "duration": 10,
    "start_time": "2022-04-25T18:00:20.080Z"
   },
   {
    "duration": 54,
    "start_time": "2022-04-25T18:00:20.091Z"
   },
   {
    "duration": 146,
    "start_time": "2022-04-25T18:00:20.147Z"
   },
   {
    "duration": 5,
    "start_time": "2022-04-25T18:00:20.295Z"
   },
   {
    "duration": 11,
    "start_time": "2022-04-25T18:00:20.301Z"
   },
   {
    "duration": 154,
    "start_time": "2022-04-25T18:00:20.313Z"
   },
   {
    "duration": 255,
    "start_time": "2022-04-25T18:00:20.473Z"
   },
   {
    "duration": 28,
    "start_time": "2022-04-25T18:00:20.730Z"
   },
   {
    "duration": 14,
    "start_time": "2022-04-25T18:00:20.760Z"
   },
   {
    "duration": 48,
    "start_time": "2022-04-25T18:00:20.776Z"
   },
   {
    "duration": 6,
    "start_time": "2022-04-25T18:00:51.402Z"
   },
   {
    "duration": 6,
    "start_time": "2022-04-25T18:00:57.462Z"
   },
   {
    "duration": 5,
    "start_time": "2022-04-25T18:01:08.873Z"
   },
   {
    "duration": 32,
    "start_time": "2022-04-25T18:02:16.635Z"
   },
   {
    "duration": 42,
    "start_time": "2022-04-25T18:02:18.771Z"
   },
   {
    "duration": 99,
    "start_time": "2022-04-25T18:03:34.860Z"
   },
   {
    "duration": 254,
    "start_time": "2022-04-25T18:03:40.185Z"
   },
   {
    "duration": 30,
    "start_time": "2022-04-25T18:03:47.037Z"
   },
   {
    "duration": 5,
    "start_time": "2022-04-25T18:03:50.272Z"
   },
   {
    "duration": 63,
    "start_time": "2022-04-25T18:03:52.262Z"
   },
   {
    "duration": 30,
    "start_time": "2022-04-25T18:05:21.225Z"
   },
   {
    "duration": 16,
    "start_time": "2022-04-25T18:05:27.742Z"
   },
   {
    "duration": 5,
    "start_time": "2022-04-25T18:05:33.556Z"
   },
   {
    "duration": 29,
    "start_time": "2022-04-25T18:06:24.022Z"
   },
   {
    "duration": 16,
    "start_time": "2022-04-25T18:06:30.258Z"
   },
   {
    "duration": 17,
    "start_time": "2022-04-25T18:06:56.807Z"
   },
   {
    "duration": 18,
    "start_time": "2022-04-25T18:07:05.947Z"
   },
   {
    "duration": 318,
    "start_time": "2022-04-25T18:07:13.124Z"
   },
   {
    "duration": 17,
    "start_time": "2022-04-25T18:07:19.545Z"
   },
   {
    "duration": 4,
    "start_time": "2022-04-25T18:07:35.334Z"
   },
   {
    "duration": 75,
    "start_time": "2022-04-25T18:07:36.636Z"
   },
   {
    "duration": 15,
    "start_time": "2022-04-25T18:07:37.078Z"
   },
   {
    "duration": 42,
    "start_time": "2022-04-25T18:07:37.234Z"
   },
   {
    "duration": 6,
    "start_time": "2022-04-25T18:07:38.324Z"
   },
   {
    "duration": 22,
    "start_time": "2022-04-25T18:07:40.160Z"
   },
   {
    "duration": 5,
    "start_time": "2022-04-25T18:07:41.644Z"
   },
   {
    "duration": 9,
    "start_time": "2022-04-25T18:07:42.057Z"
   },
   {
    "duration": 51,
    "start_time": "2022-04-25T18:07:42.346Z"
   },
   {
    "duration": 135,
    "start_time": "2022-04-25T18:07:45.316Z"
   },
   {
    "duration": 6,
    "start_time": "2022-04-25T18:07:46.602Z"
   },
   {
    "duration": 9,
    "start_time": "2022-04-25T18:07:47.189Z"
   },
   {
    "duration": 144,
    "start_time": "2022-04-25T18:07:47.908Z"
   },
   {
    "duration": 262,
    "start_time": "2022-04-25T18:07:50.669Z"
   },
   {
    "duration": 19,
    "start_time": "2022-04-25T18:07:51.964Z"
   },
   {
    "duration": 30,
    "start_time": "2022-04-25T18:07:57.265Z"
   },
   {
    "duration": 5,
    "start_time": "2022-04-25T18:07:59.855Z"
   },
   {
    "duration": 6,
    "start_time": "2022-04-25T18:08:00.883Z"
   },
   {
    "duration": 43,
    "start_time": "2022-04-25T18:08:33.465Z"
   },
   {
    "duration": 5,
    "start_time": "2022-04-25T18:08:57.635Z"
   },
   {
    "duration": 31,
    "start_time": "2022-04-25T18:09:25.517Z"
   },
   {
    "duration": 6,
    "start_time": "2022-04-25T18:09:27.310Z"
   },
   {
    "duration": 6,
    "start_time": "2022-04-25T18:09:28.202Z"
   },
   {
    "duration": 43,
    "start_time": "2022-04-25T18:09:35.258Z"
   },
   {
    "duration": 19,
    "start_time": "2022-04-25T18:09:45.560Z"
   },
   {
    "duration": 37,
    "start_time": "2022-04-25T18:09:47.544Z"
   },
   {
    "duration": 4,
    "start_time": "2022-04-25T18:09:48.568Z"
   },
   {
    "duration": 46,
    "start_time": "2022-04-25T18:09:50.863Z"
   },
   {
    "duration": 6,
    "start_time": "2022-04-25T18:10:04.573Z"
   },
   {
    "duration": 17,
    "start_time": "2022-04-25T18:10:24.191Z"
   },
   {
    "duration": 48,
    "start_time": "2022-04-25T18:10:25.518Z"
   },
   {
    "duration": 6,
    "start_time": "2022-04-25T18:10:27.445Z"
   },
   {
    "duration": 47,
    "start_time": "2022-04-25T18:10:28.031Z"
   },
   {
    "duration": 5,
    "start_time": "2022-04-25T18:10:31.573Z"
   },
   {
    "duration": 43,
    "start_time": "2022-04-25T18:10:34.619Z"
   },
   {
    "duration": 30,
    "start_time": "2022-04-25T18:10:39.217Z"
   },
   {
    "duration": 6,
    "start_time": "2022-04-25T18:10:40.495Z"
   },
   {
    "duration": 44,
    "start_time": "2022-04-25T18:10:40.875Z"
   },
   {
    "duration": 29,
    "start_time": "2022-04-25T18:10:49.265Z"
   },
   {
    "duration": 44,
    "start_time": "2022-04-25T18:10:49.645Z"
   },
   {
    "duration": 33,
    "start_time": "2022-04-25T18:12:41.057Z"
   },
   {
    "duration": 55,
    "start_time": "2022-04-25T18:12:42.992Z"
   },
   {
    "duration": 20,
    "start_time": "2022-04-25T18:12:48.845Z"
   },
   {
    "duration": 24,
    "start_time": "2022-04-25T18:12:55.287Z"
   },
   {
    "duration": 42,
    "start_time": "2022-04-25T18:12:56.387Z"
   },
   {
    "duration": 4,
    "start_time": "2022-04-25T18:12:59.925Z"
   },
   {
    "duration": 3,
    "start_time": "2022-04-25T18:13:15.996Z"
   },
   {
    "duration": 104,
    "start_time": "2022-04-25T18:13:16.001Z"
   },
   {
    "duration": 15,
    "start_time": "2022-04-25T18:13:16.107Z"
   },
   {
    "duration": 55,
    "start_time": "2022-04-25T18:13:16.124Z"
   },
   {
    "duration": 8,
    "start_time": "2022-04-25T18:13:16.181Z"
   },
   {
    "duration": 34,
    "start_time": "2022-04-25T18:13:16.191Z"
   },
   {
    "duration": 5,
    "start_time": "2022-04-25T18:13:16.226Z"
   },
   {
    "duration": 13,
    "start_time": "2022-04-25T18:13:16.233Z"
   },
   {
    "duration": 77,
    "start_time": "2022-04-25T18:13:16.248Z"
   },
   {
    "duration": 165,
    "start_time": "2022-04-25T18:13:16.327Z"
   },
   {
    "duration": 5,
    "start_time": "2022-04-25T18:13:16.494Z"
   },
   {
    "duration": 13,
    "start_time": "2022-04-25T18:13:16.501Z"
   },
   {
    "duration": 176,
    "start_time": "2022-04-25T18:13:16.516Z"
   },
   {
    "duration": 269,
    "start_time": "2022-04-25T18:13:16.694Z"
   },
   {
    "duration": 26,
    "start_time": "2022-04-25T18:13:16.964Z"
   },
   {
    "duration": 25,
    "start_time": "2022-04-25T18:13:16.992Z"
   },
   {
    "duration": 69,
    "start_time": "2022-04-25T18:13:17.019Z"
   },
   {
    "duration": 4,
    "start_time": "2022-04-25T18:14:43.525Z"
   },
   {
    "duration": 93,
    "start_time": "2022-04-25T18:14:43.531Z"
   },
   {
    "duration": 16,
    "start_time": "2022-04-25T18:14:43.626Z"
   },
   {
    "duration": 53,
    "start_time": "2022-04-25T18:14:43.644Z"
   },
   {
    "duration": 6,
    "start_time": "2022-04-25T18:14:43.700Z"
   },
   {
    "duration": 24,
    "start_time": "2022-04-25T18:14:43.708Z"
   },
   {
    "duration": 5,
    "start_time": "2022-04-25T18:14:43.734Z"
   },
   {
    "duration": 35,
    "start_time": "2022-04-25T18:14:43.741Z"
   },
   {
    "duration": 53,
    "start_time": "2022-04-25T18:14:43.778Z"
   },
   {
    "duration": 155,
    "start_time": "2022-04-25T18:14:43.833Z"
   },
   {
    "duration": 5,
    "start_time": "2022-04-25T18:14:43.990Z"
   },
   {
    "duration": 9,
    "start_time": "2022-04-25T18:14:43.997Z"
   },
   {
    "duration": 234,
    "start_time": "2022-04-25T18:14:44.008Z"
   },
   {
    "duration": 250,
    "start_time": "2022-04-25T18:14:44.244Z"
   },
   {
    "duration": 17,
    "start_time": "2022-04-25T18:14:44.496Z"
   },
   {
    "duration": 24,
    "start_time": "2022-04-25T18:14:44.515Z"
   },
   {
    "duration": 64,
    "start_time": "2022-04-25T18:14:44.541Z"
   },
   {
    "duration": 24,
    "start_time": "2022-04-25T18:16:10.061Z"
   },
   {
    "duration": 44,
    "start_time": "2022-04-25T18:16:10.941Z"
   },
   {
    "duration": 3,
    "start_time": "2022-04-25T18:16:17.883Z"
   },
   {
    "duration": 76,
    "start_time": "2022-04-25T18:16:17.888Z"
   },
   {
    "duration": 21,
    "start_time": "2022-04-25T18:16:17.966Z"
   },
   {
    "duration": 43,
    "start_time": "2022-04-25T18:16:17.989Z"
   },
   {
    "duration": 5,
    "start_time": "2022-04-25T18:16:18.034Z"
   },
   {
    "duration": 49,
    "start_time": "2022-04-25T18:16:18.041Z"
   },
   {
    "duration": 5,
    "start_time": "2022-04-25T18:16:18.092Z"
   },
   {
    "duration": 9,
    "start_time": "2022-04-25T18:16:18.099Z"
   },
   {
    "duration": 70,
    "start_time": "2022-04-25T18:16:18.111Z"
   },
   {
    "duration": 160,
    "start_time": "2022-04-25T18:16:18.183Z"
   },
   {
    "duration": 5,
    "start_time": "2022-04-25T18:16:18.344Z"
   },
   {
    "duration": 9,
    "start_time": "2022-04-25T18:16:18.351Z"
   },
   {
    "duration": 170,
    "start_time": "2022-04-25T18:16:18.362Z"
   },
   {
    "duration": 256,
    "start_time": "2022-04-25T18:16:18.535Z"
   },
   {
    "duration": 18,
    "start_time": "2022-04-25T18:16:18.793Z"
   },
   {
    "duration": 25,
    "start_time": "2022-04-25T18:16:18.812Z"
   },
   {
    "duration": 66,
    "start_time": "2022-04-25T18:16:18.839Z"
   },
   {
    "duration": 27,
    "start_time": "2022-04-25T18:16:38.693Z"
   },
   {
    "duration": 2,
    "start_time": "2022-04-25T18:16:41.802Z"
   },
   {
    "duration": 78,
    "start_time": "2022-04-25T18:16:41.806Z"
   },
   {
    "duration": 16,
    "start_time": "2022-04-25T18:16:41.885Z"
   },
   {
    "duration": 43,
    "start_time": "2022-04-25T18:16:41.903Z"
   },
   {
    "duration": 6,
    "start_time": "2022-04-25T18:16:41.948Z"
   },
   {
    "duration": 28,
    "start_time": "2022-04-25T18:16:41.974Z"
   },
   {
    "duration": 5,
    "start_time": "2022-04-25T18:16:42.004Z"
   },
   {
    "duration": 9,
    "start_time": "2022-04-25T18:16:42.011Z"
   },
   {
    "duration": 76,
    "start_time": "2022-04-25T18:16:42.023Z"
   },
   {
    "duration": 147,
    "start_time": "2022-04-25T18:16:42.102Z"
   },
   {
    "duration": 5,
    "start_time": "2022-04-25T18:16:42.250Z"
   },
   {
    "duration": 18,
    "start_time": "2022-04-25T18:16:42.257Z"
   },
   {
    "duration": 156,
    "start_time": "2022-04-25T18:16:42.278Z"
   },
   {
    "duration": 353,
    "start_time": "2022-04-25T18:16:42.436Z"
   },
   {
    "duration": 19,
    "start_time": "2022-04-25T18:16:42.791Z"
   },
   {
    "duration": 26,
    "start_time": "2022-04-25T18:16:42.811Z"
   },
   {
    "duration": 65,
    "start_time": "2022-04-25T18:16:42.838Z"
   },
   {
    "duration": 16,
    "start_time": "2022-04-25T18:17:24.301Z"
   },
   {
    "duration": 26,
    "start_time": "2022-04-25T18:17:32.977Z"
   },
   {
    "duration": 27,
    "start_time": "2022-04-25T18:17:38.569Z"
   },
   {
    "duration": 2,
    "start_time": "2022-04-25T18:17:46.430Z"
   },
   {
    "duration": 80,
    "start_time": "2022-04-25T18:17:46.434Z"
   },
   {
    "duration": 15,
    "start_time": "2022-04-25T18:17:46.516Z"
   },
   {
    "duration": 51,
    "start_time": "2022-04-25T18:17:46.532Z"
   },
   {
    "duration": 6,
    "start_time": "2022-04-25T18:17:46.585Z"
   },
   {
    "duration": 25,
    "start_time": "2022-04-25T18:17:46.593Z"
   },
   {
    "duration": 4,
    "start_time": "2022-04-25T18:17:46.620Z"
   },
   {
    "duration": 10,
    "start_time": "2022-04-25T18:17:46.626Z"
   },
   {
    "duration": 78,
    "start_time": "2022-04-25T18:17:46.638Z"
   },
   {
    "duration": 143,
    "start_time": "2022-04-25T18:17:46.718Z"
   },
   {
    "duration": 13,
    "start_time": "2022-04-25T18:17:46.862Z"
   },
   {
    "duration": 8,
    "start_time": "2022-04-25T18:17:46.877Z"
   },
   {
    "duration": 168,
    "start_time": "2022-04-25T18:17:46.888Z"
   },
   {
    "duration": 263,
    "start_time": "2022-04-25T18:17:47.058Z"
   },
   {
    "duration": 19,
    "start_time": "2022-04-25T18:17:47.323Z"
   },
   {
    "duration": 50,
    "start_time": "2022-04-25T18:17:47.344Z"
   },
   {
    "duration": 44,
    "start_time": "2022-04-25T18:17:47.396Z"
   },
   {
    "duration": 106,
    "start_time": "2022-04-25T18:18:54.605Z"
   },
   {
    "duration": 25,
    "start_time": "2022-04-25T18:19:36.039Z"
   },
   {
    "duration": 3,
    "start_time": "2022-04-25T18:19:39.685Z"
   },
   {
    "duration": 84,
    "start_time": "2022-04-25T18:19:39.690Z"
   },
   {
    "duration": 16,
    "start_time": "2022-04-25T18:19:39.776Z"
   },
   {
    "duration": 41,
    "start_time": "2022-04-25T18:19:39.794Z"
   },
   {
    "duration": 5,
    "start_time": "2022-04-25T18:19:39.837Z"
   },
   {
    "duration": 45,
    "start_time": "2022-04-25T18:19:39.844Z"
   },
   {
    "duration": 6,
    "start_time": "2022-04-25T18:19:39.891Z"
   },
   {
    "duration": 9,
    "start_time": "2022-04-25T18:19:39.898Z"
   },
   {
    "duration": 77,
    "start_time": "2022-04-25T18:19:39.910Z"
   },
   {
    "duration": 141,
    "start_time": "2022-04-25T18:19:39.989Z"
   },
   {
    "duration": 5,
    "start_time": "2022-04-25T18:19:40.132Z"
   },
   {
    "duration": 10,
    "start_time": "2022-04-25T18:19:40.139Z"
   },
   {
    "duration": 175,
    "start_time": "2022-04-25T18:19:40.150Z"
   },
   {
    "duration": 360,
    "start_time": "2022-04-25T18:19:40.327Z"
   },
   {
    "duration": 18,
    "start_time": "2022-04-25T18:19:40.689Z"
   },
   {
    "duration": 26,
    "start_time": "2022-04-25T18:19:40.709Z"
   },
   {
    "duration": 67,
    "start_time": "2022-04-25T18:19:40.737Z"
   },
   {
    "duration": 31,
    "start_time": "2022-04-25T18:21:01.716Z"
   },
   {
    "duration": 3,
    "start_time": "2022-04-25T18:21:04.788Z"
   },
   {
    "duration": 85,
    "start_time": "2022-04-25T18:21:04.793Z"
   },
   {
    "duration": 16,
    "start_time": "2022-04-25T18:21:04.880Z"
   },
   {
    "duration": 43,
    "start_time": "2022-04-25T18:21:04.898Z"
   },
   {
    "duration": 30,
    "start_time": "2022-04-25T18:21:04.943Z"
   },
   {
    "duration": 23,
    "start_time": "2022-04-25T18:21:04.975Z"
   },
   {
    "duration": 6,
    "start_time": "2022-04-25T18:21:05.000Z"
   },
   {
    "duration": 29,
    "start_time": "2022-04-25T18:21:05.008Z"
   },
   {
    "duration": 58,
    "start_time": "2022-04-25T18:21:05.039Z"
   },
   {
    "duration": 149,
    "start_time": "2022-04-25T18:21:05.098Z"
   },
   {
    "duration": 5,
    "start_time": "2022-04-25T18:21:05.250Z"
   },
   {
    "duration": 17,
    "start_time": "2022-04-25T18:21:05.256Z"
   },
   {
    "duration": 160,
    "start_time": "2022-04-25T18:21:05.275Z"
   },
   {
    "duration": 265,
    "start_time": "2022-04-25T18:21:05.437Z"
   },
   {
    "duration": 17,
    "start_time": "2022-04-25T18:21:05.704Z"
   },
   {
    "duration": 25,
    "start_time": "2022-04-25T18:21:05.723Z"
   },
   {
    "duration": 64,
    "start_time": "2022-04-25T18:21:05.750Z"
   },
   {
    "duration": 26,
    "start_time": "2022-04-25T18:21:56.243Z"
   },
   {
    "duration": 42,
    "start_time": "2022-04-25T18:21:58.082Z"
   },
   {
    "duration": 3,
    "start_time": "2022-04-25T18:22:02.788Z"
   },
   {
    "duration": 88,
    "start_time": "2022-04-25T18:22:02.794Z"
   },
   {
    "duration": 17,
    "start_time": "2022-04-25T18:22:02.884Z"
   },
   {
    "duration": 47,
    "start_time": "2022-04-25T18:22:02.904Z"
   },
   {
    "duration": 22,
    "start_time": "2022-04-25T18:22:02.953Z"
   },
   {
    "duration": 27,
    "start_time": "2022-04-25T18:22:02.977Z"
   },
   {
    "duration": 6,
    "start_time": "2022-04-25T18:22:03.005Z"
   },
   {
    "duration": 14,
    "start_time": "2022-04-25T18:22:03.012Z"
   },
   {
    "duration": 69,
    "start_time": "2022-04-25T18:22:03.029Z"
   },
   {
    "duration": 154,
    "start_time": "2022-04-25T18:22:03.100Z"
   },
   {
    "duration": 18,
    "start_time": "2022-04-25T18:22:03.256Z"
   },
   {
    "duration": 9,
    "start_time": "2022-04-25T18:22:03.276Z"
   },
   {
    "duration": 173,
    "start_time": "2022-04-25T18:22:03.287Z"
   },
   {
    "duration": 384,
    "start_time": "2022-04-25T18:22:03.463Z"
   },
   {
    "duration": 29,
    "start_time": "2022-04-25T18:22:03.848Z"
   },
   {
    "duration": 28,
    "start_time": "2022-04-25T18:22:03.879Z"
   },
   {
    "duration": 65,
    "start_time": "2022-04-25T18:22:03.909Z"
   },
   {
    "duration": 3,
    "start_time": "2022-04-25T18:22:17.783Z"
   },
   {
    "duration": 82,
    "start_time": "2022-04-25T18:22:17.788Z"
   },
   {
    "duration": 15,
    "start_time": "2022-04-25T18:22:17.872Z"
   },
   {
    "duration": 43,
    "start_time": "2022-04-25T18:22:17.890Z"
   },
   {
    "duration": 5,
    "start_time": "2022-04-25T18:22:17.935Z"
   },
   {
    "duration": 60,
    "start_time": "2022-04-25T18:22:17.942Z"
   },
   {
    "duration": 6,
    "start_time": "2022-04-25T18:22:18.004Z"
   },
   {
    "duration": 10,
    "start_time": "2022-04-25T18:22:18.012Z"
   },
   {
    "duration": 72,
    "start_time": "2022-04-25T18:22:18.024Z"
   },
   {
    "duration": 154,
    "start_time": "2022-04-25T18:22:18.098Z"
   },
   {
    "duration": 5,
    "start_time": "2022-04-25T18:22:18.254Z"
   },
   {
    "duration": 10,
    "start_time": "2022-04-25T18:22:18.272Z"
   },
   {
    "duration": 169,
    "start_time": "2022-04-25T18:22:18.284Z"
   },
   {
    "duration": 272,
    "start_time": "2022-04-25T18:22:18.455Z"
   },
   {
    "duration": 20,
    "start_time": "2022-04-25T18:22:18.729Z"
   },
   {
    "duration": 43,
    "start_time": "2022-04-25T18:22:18.751Z"
   },
   {
    "duration": 53,
    "start_time": "2022-04-25T18:22:18.796Z"
   },
   {
    "duration": 3,
    "start_time": "2022-04-25T18:23:28.782Z"
   },
   {
    "duration": 80,
    "start_time": "2022-04-25T18:23:28.787Z"
   },
   {
    "duration": 15,
    "start_time": "2022-04-25T18:23:28.872Z"
   },
   {
    "duration": 42,
    "start_time": "2022-04-25T18:23:28.889Z"
   },
   {
    "duration": 6,
    "start_time": "2022-04-25T18:23:28.934Z"
   },
   {
    "duration": 49,
    "start_time": "2022-04-25T18:23:28.942Z"
   },
   {
    "duration": 5,
    "start_time": "2022-04-25T18:23:28.993Z"
   },
   {
    "duration": 9,
    "start_time": "2022-04-25T18:23:29.000Z"
   },
   {
    "duration": 78,
    "start_time": "2022-04-25T18:23:29.010Z"
   },
   {
    "duration": 149,
    "start_time": "2022-04-25T18:23:29.090Z"
   },
   {
    "duration": 5,
    "start_time": "2022-04-25T18:23:29.241Z"
   },
   {
    "duration": 9,
    "start_time": "2022-04-25T18:23:29.248Z"
   },
   {
    "duration": 167,
    "start_time": "2022-04-25T18:23:29.259Z"
   },
   {
    "duration": 268,
    "start_time": "2022-04-25T18:23:29.428Z"
   },
   {
    "duration": 17,
    "start_time": "2022-04-25T18:23:29.697Z"
   },
   {
    "duration": 25,
    "start_time": "2022-04-25T18:23:29.717Z"
   },
   {
    "duration": 71,
    "start_time": "2022-04-25T18:23:29.744Z"
   },
   {
    "duration": 25,
    "start_time": "2022-04-25T18:23:53.762Z"
   },
   {
    "duration": 3,
    "start_time": "2022-04-25T18:23:59.628Z"
   },
   {
    "duration": 85,
    "start_time": "2022-04-25T18:23:59.634Z"
   },
   {
    "duration": 17,
    "start_time": "2022-04-25T18:23:59.721Z"
   },
   {
    "duration": 53,
    "start_time": "2022-04-25T18:23:59.740Z"
   },
   {
    "duration": 6,
    "start_time": "2022-04-25T18:23:59.795Z"
   },
   {
    "duration": 26,
    "start_time": "2022-04-25T18:23:59.802Z"
   },
   {
    "duration": 5,
    "start_time": "2022-04-25T18:23:59.830Z"
   },
   {
    "duration": 38,
    "start_time": "2022-04-25T18:23:59.837Z"
   },
   {
    "duration": 51,
    "start_time": "2022-04-25T18:23:59.877Z"
   },
   {
    "duration": 257,
    "start_time": "2022-04-25T18:23:59.931Z"
   },
   {
    "duration": 5,
    "start_time": "2022-04-25T18:24:00.190Z"
   },
   {
    "duration": 18,
    "start_time": "2022-04-25T18:24:00.197Z"
   },
   {
    "duration": 176,
    "start_time": "2022-04-25T18:24:00.217Z"
   },
   {
    "duration": 271,
    "start_time": "2022-04-25T18:24:00.394Z"
   },
   {
    "duration": 21,
    "start_time": "2022-04-25T18:24:00.666Z"
   },
   {
    "duration": 24,
    "start_time": "2022-04-25T18:24:00.689Z"
   },
   {
    "duration": 67,
    "start_time": "2022-04-25T18:24:00.714Z"
   },
   {
    "duration": 40,
    "start_time": "2022-04-25T18:24:38.342Z"
   },
   {
    "duration": 40,
    "start_time": "2022-04-25T18:25:20.173Z"
   },
   {
    "duration": 55,
    "start_time": "2022-04-25T18:25:30.411Z"
   },
   {
    "duration": 16,
    "start_time": "2022-04-25T18:27:07.212Z"
   },
   {
    "duration": 6,
    "start_time": "2022-04-25T18:28:29.491Z"
   },
   {
    "duration": 5,
    "start_time": "2022-04-25T18:28:34.075Z"
   },
   {
    "duration": 22,
    "start_time": "2022-04-25T18:28:36.302Z"
   },
   {
    "duration": 4,
    "start_time": "2022-04-25T18:29:29.168Z"
   },
   {
    "duration": 14,
    "start_time": "2022-04-25T18:29:30.883Z"
   },
   {
    "duration": 419,
    "start_time": "2022-04-28T13:00:51.954Z"
   },
   {
    "duration": 1803,
    "start_time": "2022-04-28T13:00:52.375Z"
   },
   {
    "duration": 18,
    "start_time": "2022-04-28T13:00:54.180Z"
   },
   {
    "duration": 79,
    "start_time": "2022-04-28T13:00:54.201Z"
   },
   {
    "duration": 6,
    "start_time": "2022-04-28T13:00:54.282Z"
   },
   {
    "duration": 31,
    "start_time": "2022-04-28T13:00:54.289Z"
   },
   {
    "duration": 17,
    "start_time": "2022-04-28T13:00:54.322Z"
   },
   {
    "duration": 22,
    "start_time": "2022-04-28T13:00:54.345Z"
   },
   {
    "duration": 59,
    "start_time": "2022-04-28T13:00:54.370Z"
   },
   {
    "duration": 681,
    "start_time": "2022-04-28T13:00:54.431Z"
   },
   {
    "duration": 6,
    "start_time": "2022-04-28T13:00:55.114Z"
   },
   {
    "duration": 33,
    "start_time": "2022-04-28T13:00:55.122Z"
   },
   {
    "duration": 179,
    "start_time": "2022-04-28T13:00:55.157Z"
   },
   {
    "duration": 354,
    "start_time": "2022-04-28T13:00:55.340Z"
   },
   {
    "duration": 18,
    "start_time": "2022-04-28T13:00:55.696Z"
   },
   {
    "duration": 35,
    "start_time": "2022-04-28T13:00:55.735Z"
   },
   {
    "duration": 7,
    "start_time": "2022-04-28T13:00:55.771Z"
   },
   {
    "duration": 6,
    "start_time": "2022-04-28T13:00:55.780Z"
   },
   {
    "duration": 22,
    "start_time": "2022-04-28T13:00:55.788Z"
   },
   {
    "duration": 68,
    "start_time": "2022-04-28T13:01:25.003Z"
   },
   {
    "duration": 11,
    "start_time": "2022-04-28T13:03:12.065Z"
   },
   {
    "duration": 9,
    "start_time": "2022-04-28T13:03:25.871Z"
   },
   {
    "duration": 9,
    "start_time": "2022-04-28T13:03:35.587Z"
   },
   {
    "duration": 5,
    "start_time": "2022-04-28T13:08:03.837Z"
   },
   {
    "duration": 46,
    "start_time": "2022-04-28T13:08:08.353Z"
   },
   {
    "duration": 439,
    "start_time": "2022-04-28T13:14:09.864Z"
   },
   {
    "duration": 4,
    "start_time": "2022-04-28T13:14:50.793Z"
   },
   {
    "duration": 337,
    "start_time": "2022-04-28T13:14:53.232Z"
   },
   {
    "duration": 4,
    "start_time": "2022-04-28T13:17:04.711Z"
   },
   {
    "duration": 8,
    "start_time": "2022-04-28T13:17:13.864Z"
   },
   {
    "duration": 6,
    "start_time": "2022-04-28T13:17:32.799Z"
   },
   {
    "duration": 45,
    "start_time": "2022-04-28T13:17:36.562Z"
   },
   {
    "duration": 9,
    "start_time": "2022-04-28T13:17:58.242Z"
   },
   {
    "duration": 5,
    "start_time": "2022-04-28T13:18:33.035Z"
   },
   {
    "duration": 158,
    "start_time": "2022-04-28T13:20:20.192Z"
   },
   {
    "duration": 173,
    "start_time": "2022-04-28T13:20:57.170Z"
   },
   {
    "duration": 1319,
    "start_time": "2022-04-28T13:21:02.255Z"
   },
   {
    "duration": 195,
    "start_time": "2022-04-28T13:21:17.015Z"
   },
   {
    "duration": 201,
    "start_time": "2022-04-28T13:21:24.103Z"
   },
   {
    "duration": 9,
    "start_time": "2022-04-28T13:21:45.785Z"
   },
   {
    "duration": 314,
    "start_time": "2022-04-28T13:21:51.775Z"
   },
   {
    "duration": 158,
    "start_time": "2022-04-28T13:22:35.714Z"
   },
   {
    "duration": 313,
    "start_time": "2022-04-28T13:22:39.255Z"
   },
   {
    "duration": 220,
    "start_time": "2022-04-28T13:22:47.936Z"
   },
   {
    "duration": 219,
    "start_time": "2022-04-28T13:23:12.154Z"
   },
   {
    "duration": 230,
    "start_time": "2022-04-28T13:23:20.195Z"
   },
   {
    "duration": 254,
    "start_time": "2022-04-28T13:24:09.406Z"
   },
   {
    "duration": 276,
    "start_time": "2022-04-28T13:24:15.585Z"
   },
   {
    "duration": 272,
    "start_time": "2022-04-28T13:25:16.115Z"
   },
   {
    "duration": 249,
    "start_time": "2022-04-28T13:25:22.714Z"
   },
   {
    "duration": 333,
    "start_time": "2022-04-28T13:25:31.504Z"
   },
   {
    "duration": 289,
    "start_time": "2022-04-28T13:25:41.633Z"
   },
   {
    "duration": 140,
    "start_time": "2022-04-28T13:27:46.527Z"
   },
   {
    "duration": 167,
    "start_time": "2022-04-28T13:27:59.114Z"
   },
   {
    "duration": 129,
    "start_time": "2022-04-28T13:32:14.290Z"
   },
   {
    "duration": 155,
    "start_time": "2022-04-28T13:32:47.587Z"
   },
   {
    "duration": 265,
    "start_time": "2022-04-28T13:33:04.201Z"
   },
   {
    "duration": 245,
    "start_time": "2022-04-28T13:33:12.418Z"
   },
   {
    "duration": 8,
    "start_time": "2022-04-28T13:36:44.252Z"
   },
   {
    "duration": 11,
    "start_time": "2022-04-28T13:37:52.844Z"
   },
   {
    "duration": 9,
    "start_time": "2022-04-28T13:38:22.199Z"
   },
   {
    "duration": 10,
    "start_time": "2022-04-28T13:39:51.277Z"
   },
   {
    "duration": 7,
    "start_time": "2022-04-28T13:40:06.527Z"
   },
   {
    "duration": 45,
    "start_time": "2022-04-28T19:07:13.514Z"
   },
   {
    "duration": 433,
    "start_time": "2022-04-28T19:07:19.308Z"
   },
   {
    "duration": 95,
    "start_time": "2022-04-28T19:07:19.744Z"
   },
   {
    "duration": 17,
    "start_time": "2022-04-28T19:07:19.840Z"
   },
   {
    "duration": 67,
    "start_time": "2022-04-28T19:07:19.859Z"
   },
   {
    "duration": 6,
    "start_time": "2022-04-28T19:07:19.928Z"
   },
   {
    "duration": 27,
    "start_time": "2022-04-28T19:07:19.936Z"
   },
   {
    "duration": 5,
    "start_time": "2022-04-28T19:07:19.964Z"
   },
   {
    "duration": 13,
    "start_time": "2022-04-28T19:07:19.971Z"
   },
   {
    "duration": 81,
    "start_time": "2022-04-28T19:07:19.986Z"
   },
   {
    "duration": 618,
    "start_time": "2022-04-28T19:07:20.069Z"
   },
   {
    "duration": 6,
    "start_time": "2022-04-28T19:07:20.689Z"
   },
   {
    "duration": 25,
    "start_time": "2022-04-28T19:07:20.697Z"
   },
   {
    "duration": 200,
    "start_time": "2022-04-28T19:07:20.724Z"
   },
   {
    "duration": 485,
    "start_time": "2022-04-28T19:07:20.928Z"
   },
   {
    "duration": 28,
    "start_time": "2022-04-28T19:07:21.414Z"
   },
   {
    "duration": 36,
    "start_time": "2022-04-28T19:07:21.444Z"
   },
   {
    "duration": 7,
    "start_time": "2022-04-28T19:07:21.482Z"
   },
   {
    "duration": 40,
    "start_time": "2022-04-28T19:07:21.491Z"
   },
   {
    "duration": 19,
    "start_time": "2022-04-28T19:07:21.532Z"
   },
   {
    "duration": 4,
    "start_time": "2022-04-28T19:07:21.553Z"
   },
   {
    "duration": 42,
    "start_time": "2022-04-28T19:07:21.559Z"
   },
   {
    "duration": 0,
    "start_time": "2022-04-28T19:07:21.623Z"
   },
   {
    "duration": 0,
    "start_time": "2022-04-28T19:07:21.624Z"
   },
   {
    "duration": 0,
    "start_time": "2022-04-28T19:07:21.625Z"
   },
   {
    "duration": 0,
    "start_time": "2022-04-28T19:07:21.627Z"
   },
   {
    "duration": 0,
    "start_time": "2022-04-28T19:07:21.628Z"
   },
   {
    "duration": 0,
    "start_time": "2022-04-28T19:07:21.629Z"
   },
   {
    "duration": 2,
    "start_time": "2022-04-28T19:08:44.500Z"
   },
   {
    "duration": 92,
    "start_time": "2022-04-28T19:08:44.505Z"
   },
   {
    "duration": 28,
    "start_time": "2022-04-28T19:08:44.599Z"
   },
   {
    "duration": 42,
    "start_time": "2022-04-28T19:08:44.629Z"
   },
   {
    "duration": 6,
    "start_time": "2022-04-28T19:08:44.674Z"
   },
   {
    "duration": 60,
    "start_time": "2022-04-28T19:08:44.682Z"
   },
   {
    "duration": 6,
    "start_time": "2022-04-28T19:08:44.744Z"
   },
   {
    "duration": 11,
    "start_time": "2022-04-28T19:08:44.752Z"
   },
   {
    "duration": 93,
    "start_time": "2022-04-28T19:08:44.764Z"
   },
   {
    "duration": 185,
    "start_time": "2022-04-28T19:08:44.859Z"
   },
   {
    "duration": 6,
    "start_time": "2022-04-28T19:08:45.045Z"
   },
   {
    "duration": 10,
    "start_time": "2022-04-28T19:08:45.053Z"
   },
   {
    "duration": 214,
    "start_time": "2022-04-28T19:08:45.066Z"
   },
   {
    "duration": 360,
    "start_time": "2022-04-28T19:08:45.282Z"
   },
   {
    "duration": 16,
    "start_time": "2022-04-28T19:08:45.644Z"
   },
   {
    "duration": 24,
    "start_time": "2022-04-28T19:08:45.662Z"
   },
   {
    "duration": 6,
    "start_time": "2022-04-28T19:08:45.687Z"
   },
   {
    "duration": 4,
    "start_time": "2022-04-28T19:08:45.722Z"
   },
   {
    "duration": 23,
    "start_time": "2022-04-28T19:08:45.727Z"
   },
   {
    "duration": 4,
    "start_time": "2022-04-28T19:08:45.752Z"
   },
   {
    "duration": 10,
    "start_time": "2022-04-28T19:08:45.757Z"
   },
   {
    "duration": 0,
    "start_time": "2022-04-28T19:08:45.769Z"
   },
   {
    "duration": 0,
    "start_time": "2022-04-28T19:08:45.770Z"
   },
   {
    "duration": 0,
    "start_time": "2022-04-28T19:08:45.771Z"
   },
   {
    "duration": 0,
    "start_time": "2022-04-28T19:08:45.772Z"
   },
   {
    "duration": 0,
    "start_time": "2022-04-28T19:08:45.773Z"
   },
   {
    "duration": 0,
    "start_time": "2022-04-28T19:08:45.774Z"
   },
   {
    "duration": 186,
    "start_time": "2022-04-28T19:09:00.035Z"
   },
   {
    "duration": 103,
    "start_time": "2022-04-28T19:09:02.771Z"
   },
   {
    "duration": 123,
    "start_time": "2022-04-28T19:09:03.068Z"
   },
   {
    "duration": 128,
    "start_time": "2022-04-28T19:09:03.399Z"
   },
   {
    "duration": 3,
    "start_time": "2022-04-28T19:10:19.019Z"
   },
   {
    "duration": 116,
    "start_time": "2022-04-28T19:10:59.851Z"
   },
   {
    "duration": 209,
    "start_time": "2022-04-28T19:11:09.260Z"
   },
   {
    "duration": 179,
    "start_time": "2022-04-28T19:11:18.057Z"
   },
   {
    "duration": 213,
    "start_time": "2022-04-28T19:11:25.297Z"
   },
   {
    "duration": 1139,
    "start_time": "2022-04-28T19:11:30.673Z"
   },
   {
    "duration": 207,
    "start_time": "2022-04-28T19:11:39.045Z"
   },
   {
    "duration": 250,
    "start_time": "2022-04-28T19:12:01.714Z"
   },
   {
    "duration": 6,
    "start_time": "2022-04-28T19:13:36.607Z"
   },
   {
    "duration": 9,
    "start_time": "2022-04-28T19:19:15.806Z"
   },
   {
    "duration": 125,
    "start_time": "2022-04-28T19:20:00.628Z"
   },
   {
    "duration": 10,
    "start_time": "2022-04-28T19:23:01.580Z"
   },
   {
    "duration": 136,
    "start_time": "2022-04-28T19:29:34.480Z"
   },
   {
    "duration": 5,
    "start_time": "2022-04-28T19:30:02.678Z"
   },
   {
    "duration": 115,
    "start_time": "2022-04-28T19:30:12.095Z"
   },
   {
    "duration": 5,
    "start_time": "2022-04-28T19:31:34.689Z"
   },
   {
    "duration": 43,
    "start_time": "2022-04-28T19:31:48.213Z"
   },
   {
    "duration": 8,
    "start_time": "2022-04-28T19:31:57.799Z"
   },
   {
    "duration": 7,
    "start_time": "2022-04-28T19:32:06.484Z"
   },
   {
    "duration": 11,
    "start_time": "2022-04-28T19:32:16.906Z"
   },
   {
    "duration": 12,
    "start_time": "2022-04-28T19:32:33.123Z"
   },
   {
    "duration": 400,
    "start_time": "2022-04-28T19:35:29.022Z"
   },
   {
    "duration": 226,
    "start_time": "2022-04-28T19:37:57.446Z"
   },
   {
    "duration": 9,
    "start_time": "2022-04-28T19:39:18.324Z"
   },
   {
    "duration": 207,
    "start_time": "2022-04-28T19:39:26.413Z"
   },
   {
    "duration": 12,
    "start_time": "2022-04-28T19:39:40.871Z"
   },
   {
    "duration": 385,
    "start_time": "2022-04-28T19:40:00.996Z"
   },
   {
    "duration": 62,
    "start_time": "2022-04-28T19:40:08.722Z"
   },
   {
    "duration": 387,
    "start_time": "2022-04-28T19:40:18.387Z"
   },
   {
    "duration": 14,
    "start_time": "2022-04-28T19:43:49.511Z"
   },
   {
    "duration": 10,
    "start_time": "2022-04-28T19:45:59.677Z"
   },
   {
    "duration": 2,
    "start_time": "2022-04-28T19:46:08.759Z"
   },
   {
    "duration": 94,
    "start_time": "2022-04-28T19:46:08.764Z"
   },
   {
    "duration": 14,
    "start_time": "2022-04-28T19:46:08.860Z"
   },
   {
    "duration": 60,
    "start_time": "2022-04-28T19:46:08.876Z"
   },
   {
    "duration": 6,
    "start_time": "2022-04-28T19:46:08.938Z"
   },
   {
    "duration": 43,
    "start_time": "2022-04-28T19:46:08.946Z"
   },
   {
    "duration": 4,
    "start_time": "2022-04-28T19:46:08.991Z"
   },
   {
    "duration": 36,
    "start_time": "2022-04-28T19:46:08.997Z"
   },
   {
    "duration": 60,
    "start_time": "2022-04-28T19:46:09.037Z"
   },
   {
    "duration": 146,
    "start_time": "2022-04-28T19:46:09.099Z"
   },
   {
    "duration": 5,
    "start_time": "2022-04-28T19:46:09.246Z"
   },
   {
    "duration": 27,
    "start_time": "2022-04-28T19:46:09.253Z"
   },
   {
    "duration": 160,
    "start_time": "2022-04-28T19:46:09.282Z"
   },
   {
    "duration": 280,
    "start_time": "2022-04-28T19:46:09.446Z"
   },
   {
    "duration": 19,
    "start_time": "2022-04-28T19:46:09.729Z"
   },
   {
    "duration": 35,
    "start_time": "2022-04-28T19:46:09.750Z"
   },
   {
    "duration": 8,
    "start_time": "2022-04-28T19:46:09.787Z"
   },
   {
    "duration": 43,
    "start_time": "2022-04-28T19:46:09.796Z"
   },
   {
    "duration": 19,
    "start_time": "2022-04-28T19:46:09.841Z"
   },
   {
    "duration": 3,
    "start_time": "2022-04-28T19:46:09.862Z"
   },
   {
    "duration": 13,
    "start_time": "2022-04-28T19:46:09.867Z"
   },
   {
    "duration": 0,
    "start_time": "2022-04-28T19:46:09.881Z"
   },
   {
    "duration": 0,
    "start_time": "2022-04-28T19:46:09.883Z"
   },
   {
    "duration": 0,
    "start_time": "2022-04-28T19:46:09.884Z"
   },
   {
    "duration": 0,
    "start_time": "2022-04-28T19:46:09.886Z"
   },
   {
    "duration": 0,
    "start_time": "2022-04-28T19:46:09.887Z"
   },
   {
    "duration": 0,
    "start_time": "2022-04-28T19:46:09.889Z"
   },
   {
    "duration": 0,
    "start_time": "2022-04-28T19:46:09.890Z"
   },
   {
    "duration": 0,
    "start_time": "2022-04-28T19:46:09.892Z"
   },
   {
    "duration": 0,
    "start_time": "2022-04-28T19:46:09.931Z"
   },
   {
    "duration": 0,
    "start_time": "2022-04-28T19:46:09.932Z"
   },
   {
    "duration": 0,
    "start_time": "2022-04-28T19:46:09.933Z"
   },
   {
    "duration": 12,
    "start_time": "2022-04-28T19:46:13.481Z"
   },
   {
    "duration": 24,
    "start_time": "2022-04-28T19:46:31.960Z"
   },
   {
    "duration": 469,
    "start_time": "2022-04-28T19:47:12.961Z"
   },
   {
    "duration": 717,
    "start_time": "2022-04-28T19:47:52.970Z"
   },
   {
    "duration": 16,
    "start_time": "2022-04-28T19:49:09.031Z"
   },
   {
    "duration": 14,
    "start_time": "2022-04-28T19:49:54.577Z"
   },
   {
    "duration": 182,
    "start_time": "2022-04-28T19:50:08.503Z"
   },
   {
    "duration": 201,
    "start_time": "2022-04-28T19:50:20.281Z"
   },
   {
    "duration": 16,
    "start_time": "2022-04-28T19:50:32.218Z"
   },
   {
    "duration": 8,
    "start_time": "2022-04-28T19:51:51.246Z"
   },
   {
    "duration": 46,
    "start_time": "2022-04-28T19:51:55.273Z"
   },
   {
    "duration": 15,
    "start_time": "2022-04-28T19:52:20.569Z"
   },
   {
    "duration": 1122,
    "start_time": "2022-04-28T19:53:10.593Z"
   },
   {
    "duration": 77,
    "start_time": "2022-04-28T19:53:59.344Z"
   },
   {
    "duration": 36,
    "start_time": "2022-04-28T19:59:56.554Z"
   },
   {
    "duration": 430,
    "start_time": "2022-04-28T20:00:17.751Z"
   },
   {
    "duration": 39,
    "start_time": "2022-04-28T20:00:22.461Z"
   },
   {
    "duration": 16,
    "start_time": "2022-04-28T20:01:12.099Z"
   },
   {
    "duration": 133,
    "start_time": "2022-04-28T20:01:35.719Z"
   },
   {
    "duration": 8,
    "start_time": "2022-04-28T20:05:01.266Z"
   },
   {
    "duration": 8,
    "start_time": "2022-04-28T20:05:12.570Z"
   },
   {
    "duration": 9,
    "start_time": "2022-04-28T20:05:30.921Z"
   },
   {
    "duration": 10,
    "start_time": "2022-04-28T20:05:39.559Z"
   },
   {
    "duration": 7,
    "start_time": "2022-04-28T20:06:55.605Z"
   },
   {
    "duration": 10,
    "start_time": "2022-04-28T20:06:59.508Z"
   },
   {
    "duration": 7,
    "start_time": "2022-04-28T20:10:57.357Z"
   },
   {
    "duration": 4,
    "start_time": "2022-04-28T20:11:02.456Z"
   },
   {
    "duration": 7,
    "start_time": "2022-04-28T20:11:09.936Z"
   },
   {
    "duration": 0,
    "start_time": "2022-04-28T20:11:15.693Z"
   },
   {
    "duration": 302,
    "start_time": "2022-04-28T20:11:22.687Z"
   },
   {
    "duration": 4,
    "start_time": "2022-04-28T20:11:26.061Z"
   },
   {
    "duration": 7,
    "start_time": "2022-04-28T20:11:39.568Z"
   },
   {
    "duration": 4,
    "start_time": "2022-04-28T20:11:45.348Z"
   },
   {
    "duration": 0,
    "start_time": "2022-04-28T20:12:08.491Z"
   },
   {
    "duration": 2,
    "start_time": "2022-04-28T20:12:50.304Z"
   },
   {
    "duration": 4,
    "start_time": "2022-04-28T20:12:53.991Z"
   },
   {
    "duration": 4,
    "start_time": "2022-04-28T20:12:57.952Z"
   },
   {
    "duration": 3072,
    "start_time": "2022-04-28T20:13:09.734Z"
   },
   {
    "duration": 5,
    "start_time": "2022-04-28T20:13:18.476Z"
   },
   {
    "duration": 3,
    "start_time": "2022-04-28T20:13:32.799Z"
   },
   {
    "duration": 7,
    "start_time": "2022-04-28T20:15:03.941Z"
   },
   {
    "duration": 7,
    "start_time": "2022-04-28T20:15:12.262Z"
   },
   {
    "duration": 8,
    "start_time": "2022-04-28T20:15:19.402Z"
   },
   {
    "duration": 5,
    "start_time": "2022-04-28T20:15:27.498Z"
   },
   {
    "duration": 8,
    "start_time": "2022-04-28T20:20:15.365Z"
   },
   {
    "duration": 11,
    "start_time": "2022-04-28T20:20:19.500Z"
   },
   {
    "duration": 318,
    "start_time": "2022-04-28T20:20:35.863Z"
   },
   {
    "duration": 245,
    "start_time": "2022-04-28T20:20:55.347Z"
   },
   {
    "duration": 10,
    "start_time": "2022-04-28T20:21:06.531Z"
   },
   {
    "duration": 29,
    "start_time": "2022-04-28T20:21:23.242Z"
   },
   {
    "duration": 4,
    "start_time": "2022-04-28T20:21:38.679Z"
   },
   {
    "duration": 11,
    "start_time": "2022-04-28T20:21:56.939Z"
   },
   {
    "duration": 29,
    "start_time": "2022-04-28T20:22:04.604Z"
   },
   {
    "duration": 6,
    "start_time": "2022-04-28T20:22:08.713Z"
   },
   {
    "duration": 28,
    "start_time": "2022-04-28T20:24:38.292Z"
   },
   {
    "duration": 6,
    "start_time": "2022-04-28T20:24:41.343Z"
   },
   {
    "duration": 5,
    "start_time": "2022-04-28T20:24:43.892Z"
   },
   {
    "duration": 28,
    "start_time": "2022-04-28T20:24:50.748Z"
   },
   {
    "duration": 8,
    "start_time": "2022-04-28T20:24:53.635Z"
   },
   {
    "duration": 34,
    "start_time": "2022-04-28T20:25:17.420Z"
   },
   {
    "duration": 11,
    "start_time": "2022-04-28T20:25:19.219Z"
   },
   {
    "duration": 32,
    "start_time": "2022-04-28T20:25:36.918Z"
   },
   {
    "duration": 8,
    "start_time": "2022-04-28T20:25:39.259Z"
   },
   {
    "duration": 26,
    "start_time": "2022-04-28T20:26:27.968Z"
   },
   {
    "duration": 7,
    "start_time": "2022-04-28T20:26:29.574Z"
   },
   {
    "duration": 194,
    "start_time": "2022-04-28T20:26:39.583Z"
   },
   {
    "duration": 8,
    "start_time": "2022-04-28T20:26:42.792Z"
   },
   {
    "duration": 7,
    "start_time": "2022-04-28T20:26:45.193Z"
   },
   {
    "duration": 3000,
    "start_time": "2022-04-28T20:26:51.586Z"
   },
   {
    "duration": 0,
    "start_time": "2022-04-28T20:26:54.587Z"
   },
   {
    "duration": 29,
    "start_time": "2022-04-28T20:29:27.318Z"
   },
   {
    "duration": 9,
    "start_time": "2022-04-28T20:29:31.474Z"
   },
   {
    "duration": 0,
    "start_time": "2022-04-28T20:30:09.943Z"
   },
   {
    "duration": 3124,
    "start_time": "2022-04-28T20:30:17.390Z"
   },
   {
    "duration": 8,
    "start_time": "2022-04-28T20:30:31.133Z"
   },
   {
    "duration": 26,
    "start_time": "2022-04-28T20:31:05.214Z"
   },
   {
    "duration": 194,
    "start_time": "2022-04-28T20:31:30.653Z"
   },
   {
    "duration": 10,
    "start_time": "2022-04-28T20:31:33.257Z"
   },
   {
    "duration": 8,
    "start_time": "2022-04-28T20:31:40.882Z"
   },
   {
    "duration": 13,
    "start_time": "2022-04-28T20:32:06.274Z"
   },
   {
    "duration": 9,
    "start_time": "2022-04-28T20:32:23.804Z"
   },
   {
    "duration": 8,
    "start_time": "2022-04-28T20:32:42.548Z"
   },
   {
    "duration": 8,
    "start_time": "2022-04-28T20:32:58.178Z"
   },
   {
    "duration": 11,
    "start_time": "2022-04-28T20:33:27.937Z"
   },
   {
    "duration": 6,
    "start_time": "2022-04-28T20:33:40.130Z"
   },
   {
    "duration": 8,
    "start_time": "2022-04-28T20:33:44.872Z"
   },
   {
    "duration": 7,
    "start_time": "2022-04-28T20:33:53.548Z"
   },
   {
    "duration": 6,
    "start_time": "2022-04-28T20:34:12.456Z"
   },
   {
    "duration": 5,
    "start_time": "2022-04-28T20:34:15.265Z"
   },
   {
    "duration": 2972,
    "start_time": "2022-04-28T20:34:35.965Z"
   },
   {
    "duration": 6,
    "start_time": "2022-04-28T20:34:47.911Z"
   },
   {
    "duration": 3338,
    "start_time": "2022-04-28T20:34:55.351Z"
   },
   {
    "duration": 12,
    "start_time": "2022-04-28T20:35:32.968Z"
   },
   {
    "duration": 10,
    "start_time": "2022-04-28T20:35:34.874Z"
   },
   {
    "duration": 5,
    "start_time": "2022-04-28T20:35:48.355Z"
   },
   {
    "duration": 7,
    "start_time": "2022-04-28T20:36:11.291Z"
   },
   {
    "duration": 8,
    "start_time": "2022-04-28T20:36:15.125Z"
   },
   {
    "duration": 6,
    "start_time": "2022-04-28T20:36:20.949Z"
   },
   {
    "duration": 7,
    "start_time": "2022-04-28T20:36:22.326Z"
   },
   {
    "duration": 5,
    "start_time": "2022-04-28T20:36:41.441Z"
   },
   {
    "duration": 9,
    "start_time": "2022-04-28T20:36:44.064Z"
   },
   {
    "duration": 9,
    "start_time": "2022-04-28T20:37:08.685Z"
   },
   {
    "duration": 8,
    "start_time": "2022-04-28T20:37:22.238Z"
   },
   {
    "duration": 9,
    "start_time": "2022-04-28T20:37:26.610Z"
   },
   {
    "duration": 10,
    "start_time": "2022-04-28T20:38:45.408Z"
   },
   {
    "duration": 6,
    "start_time": "2022-04-28T20:38:55.567Z"
   },
   {
    "duration": 15,
    "start_time": "2022-04-28T20:40:16.847Z"
   },
   {
    "duration": 8,
    "start_time": "2022-04-28T20:40:18.439Z"
   },
   {
    "duration": 9,
    "start_time": "2022-04-28T20:40:30.024Z"
   },
   {
    "duration": 7,
    "start_time": "2022-04-28T20:40:32.507Z"
   },
   {
    "duration": 3443,
    "start_time": "2022-04-28T20:41:01.314Z"
   },
   {
    "duration": 7,
    "start_time": "2022-04-28T20:41:10.985Z"
   },
   {
    "duration": 4,
    "start_time": "2022-04-28T20:41:47.974Z"
   },
   {
    "duration": 17,
    "start_time": "2022-04-28T20:51:07.046Z"
   },
   {
    "duration": 3,
    "start_time": "2022-04-28T20:52:24.815Z"
   },
   {
    "duration": 3,
    "start_time": "2022-04-28T20:52:27.674Z"
   },
   {
    "duration": 8,
    "start_time": "2022-04-28T20:52:50.724Z"
   },
   {
    "duration": 6,
    "start_time": "2022-04-28T20:56:42.030Z"
   },
   {
    "duration": 16,
    "start_time": "2022-04-28T20:57:56.575Z"
   },
   {
    "duration": 424,
    "start_time": "2022-04-29T14:43:50.273Z"
   },
   {
    "duration": 78,
    "start_time": "2022-04-29T14:43:50.699Z"
   },
   {
    "duration": 15,
    "start_time": "2022-04-29T14:43:50.778Z"
   },
   {
    "duration": 61,
    "start_time": "2022-04-29T14:43:50.795Z"
   },
   {
    "duration": 5,
    "start_time": "2022-04-29T14:43:50.858Z"
   },
   {
    "duration": 49,
    "start_time": "2022-04-29T14:43:50.865Z"
   },
   {
    "duration": 4,
    "start_time": "2022-04-29T14:43:50.916Z"
   },
   {
    "duration": 9,
    "start_time": "2022-04-29T14:43:50.921Z"
   },
   {
    "duration": 53,
    "start_time": "2022-04-29T14:43:50.931Z"
   },
   {
    "duration": 568,
    "start_time": "2022-04-29T14:43:51.007Z"
   },
   {
    "duration": 6,
    "start_time": "2022-04-29T14:43:51.577Z"
   },
   {
    "duration": 32,
    "start_time": "2022-04-29T14:43:51.584Z"
   },
   {
    "duration": 167,
    "start_time": "2022-04-29T14:43:51.617Z"
   },
   {
    "duration": 321,
    "start_time": "2022-04-29T14:43:51.787Z"
   },
   {
    "duration": 18,
    "start_time": "2022-04-29T14:43:52.109Z"
   },
   {
    "duration": 24,
    "start_time": "2022-04-29T14:43:52.128Z"
   },
   {
    "duration": 5,
    "start_time": "2022-04-29T14:43:52.154Z"
   },
   {
    "duration": 9,
    "start_time": "2022-04-29T14:43:52.161Z"
   },
   {
    "duration": 46,
    "start_time": "2022-04-29T14:43:52.172Z"
   },
   {
    "duration": 3,
    "start_time": "2022-04-29T14:43:52.220Z"
   },
   {
    "duration": 87,
    "start_time": "2022-04-29T14:43:52.225Z"
   },
   {
    "duration": 0,
    "start_time": "2022-04-29T14:43:52.313Z"
   },
   {
    "duration": 0,
    "start_time": "2022-04-29T14:43:52.315Z"
   },
   {
    "duration": 0,
    "start_time": "2022-04-29T14:43:52.316Z"
   },
   {
    "duration": 0,
    "start_time": "2022-04-29T14:43:52.317Z"
   },
   {
    "duration": 0,
    "start_time": "2022-04-29T14:43:52.318Z"
   },
   {
    "duration": 0,
    "start_time": "2022-04-29T14:43:52.319Z"
   },
   {
    "duration": 0,
    "start_time": "2022-04-29T14:43:52.320Z"
   },
   {
    "duration": 0,
    "start_time": "2022-04-29T14:43:52.321Z"
   },
   {
    "duration": 0,
    "start_time": "2022-04-29T14:43:52.322Z"
   },
   {
    "duration": 0,
    "start_time": "2022-04-29T14:43:52.323Z"
   },
   {
    "duration": 0,
    "start_time": "2022-04-29T14:43:52.324Z"
   },
   {
    "duration": 0,
    "start_time": "2022-04-29T14:43:52.326Z"
   },
   {
    "duration": 0,
    "start_time": "2022-04-29T14:43:52.327Z"
   },
   {
    "duration": 0,
    "start_time": "2022-04-29T14:43:52.328Z"
   },
   {
    "duration": 0,
    "start_time": "2022-04-29T14:43:52.329Z"
   },
   {
    "duration": 0,
    "start_time": "2022-04-29T14:43:52.330Z"
   },
   {
    "duration": 154,
    "start_time": "2022-04-29T14:44:22.101Z"
   },
   {
    "duration": 125,
    "start_time": "2022-04-29T14:44:24.509Z"
   },
   {
    "duration": 214,
    "start_time": "2022-04-29T14:44:26.883Z"
   },
   {
    "duration": 154,
    "start_time": "2022-04-29T14:44:36.250Z"
   },
   {
    "duration": 130,
    "start_time": "2022-04-29T14:44:39.074Z"
   },
   {
    "duration": 11,
    "start_time": "2022-04-29T14:44:39.531Z"
   },
   {
    "duration": 13,
    "start_time": "2022-04-29T14:44:42.307Z"
   },
   {
    "duration": 60,
    "start_time": "2022-04-29T14:44:44.063Z"
   },
   {
    "duration": 17,
    "start_time": "2022-04-29T14:44:45.381Z"
   },
   {
    "duration": 39,
    "start_time": "2022-04-29T14:44:45.635Z"
   },
   {
    "duration": 7,
    "start_time": "2022-04-29T14:45:04.421Z"
   },
   {
    "duration": 9,
    "start_time": "2022-04-29T14:45:08.008Z"
   },
   {
    "duration": 7,
    "start_time": "2022-04-29T14:45:10.007Z"
   },
   {
    "duration": 17,
    "start_time": "2022-04-29T14:45:14.772Z"
   },
   {
    "duration": 42,
    "start_time": "2022-04-29T14:46:54.760Z"
   },
   {
    "duration": 12,
    "start_time": "2022-04-29T14:47:59.268Z"
   },
   {
    "duration": 85,
    "start_time": "2022-04-29T14:48:37.368Z"
   },
   {
    "duration": 9,
    "start_time": "2022-04-29T14:48:42.046Z"
   },
   {
    "duration": 14,
    "start_time": "2022-04-29T14:48:51.821Z"
   },
   {
    "duration": 16,
    "start_time": "2022-04-29T14:49:08.512Z"
   },
   {
    "duration": 24,
    "start_time": "2022-04-29T14:49:16.062Z"
   },
   {
    "duration": 8,
    "start_time": "2022-04-29T14:49:39.671Z"
   },
   {
    "duration": 15,
    "start_time": "2022-04-29T14:49:40.090Z"
   },
   {
    "duration": 19,
    "start_time": "2022-04-29T14:49:56.139Z"
   },
   {
    "duration": 2,
    "start_time": "2022-04-29T14:51:59.956Z"
   },
   {
    "duration": 8,
    "start_time": "2022-04-29T14:52:06.767Z"
   },
   {
    "duration": 8,
    "start_time": "2022-04-29T14:52:33.246Z"
   },
   {
    "duration": 9,
    "start_time": "2022-04-29T14:52:50.834Z"
   },
   {
    "duration": 71,
    "start_time": "2022-04-29T14:53:03.175Z"
   },
   {
    "duration": 9,
    "start_time": "2022-04-29T14:53:07.528Z"
   },
   {
    "duration": 453,
    "start_time": "2022-04-29T14:56:06.269Z"
   },
   {
    "duration": 43,
    "start_time": "2022-04-29T14:57:32.883Z"
   },
   {
    "duration": 10,
    "start_time": "2022-04-29T15:00:54.446Z"
   },
   {
    "duration": 10,
    "start_time": "2022-04-29T15:01:03.605Z"
   },
   {
    "duration": 12,
    "start_time": "2022-04-29T15:01:19.416Z"
   },
   {
    "duration": 10,
    "start_time": "2022-04-29T15:01:28.827Z"
   },
   {
    "duration": 69,
    "start_time": "2022-04-29T15:01:40.700Z"
   },
   {
    "duration": 11,
    "start_time": "2022-04-29T15:01:45.419Z"
   },
   {
    "duration": 12,
    "start_time": "2022-04-29T15:01:53.356Z"
   },
   {
    "duration": 14,
    "start_time": "2022-04-29T15:02:20.500Z"
   },
   {
    "duration": 11,
    "start_time": "2022-04-29T15:03:02.044Z"
   },
   {
    "duration": 12,
    "start_time": "2022-04-29T15:03:09.094Z"
   },
   {
    "duration": 11,
    "start_time": "2022-04-29T15:03:16.283Z"
   },
   {
    "duration": 71,
    "start_time": "2022-04-29T15:03:45.134Z"
   },
   {
    "duration": 8,
    "start_time": "2022-04-29T15:03:50.624Z"
   },
   {
    "duration": 18,
    "start_time": "2022-04-29T15:04:03.962Z"
   },
   {
    "duration": 20,
    "start_time": "2022-04-29T15:04:17.643Z"
   },
   {
    "duration": 9,
    "start_time": "2022-04-29T15:04:33.305Z"
   },
   {
    "duration": 11,
    "start_time": "2022-04-29T15:04:44.542Z"
   },
   {
    "duration": 9,
    "start_time": "2022-04-29T15:04:50.498Z"
   },
   {
    "duration": 11,
    "start_time": "2022-04-29T15:04:55.582Z"
   },
   {
    "duration": 10,
    "start_time": "2022-04-29T15:04:59.861Z"
   },
   {
    "duration": 10,
    "start_time": "2022-04-29T15:06:26.288Z"
   },
   {
    "duration": 8,
    "start_time": "2022-04-29T15:07:02.550Z"
   },
   {
    "duration": 8,
    "start_time": "2022-04-29T15:07:05.288Z"
   },
   {
    "duration": 11,
    "start_time": "2022-04-29T15:07:15.312Z"
   },
   {
    "duration": 9,
    "start_time": "2022-04-29T15:07:32.264Z"
   },
   {
    "duration": 8,
    "start_time": "2022-04-29T15:08:03.087Z"
   },
   {
    "duration": 8,
    "start_time": "2022-04-29T15:08:07.139Z"
   },
   {
    "duration": 4,
    "start_time": "2022-04-29T15:08:15.590Z"
   },
   {
    "duration": 6,
    "start_time": "2022-04-29T15:08:21.856Z"
   },
   {
    "duration": 3,
    "start_time": "2022-04-29T15:08:25.652Z"
   },
   {
    "duration": 6,
    "start_time": "2022-04-29T15:08:52.546Z"
   },
   {
    "duration": 5,
    "start_time": "2022-04-29T15:08:56.928Z"
   },
   {
    "duration": 3,
    "start_time": "2022-04-29T15:09:15.448Z"
   },
   {
    "duration": 6,
    "start_time": "2022-04-29T15:09:20.600Z"
   },
   {
    "duration": 7,
    "start_time": "2022-04-29T15:09:28.329Z"
   },
   {
    "duration": 6,
    "start_time": "2022-04-29T15:09:33.153Z"
   },
   {
    "duration": 9,
    "start_time": "2022-04-29T15:09:35.970Z"
   },
   {
    "duration": 6,
    "start_time": "2022-04-29T15:09:38.008Z"
   },
   {
    "duration": 6,
    "start_time": "2022-04-29T15:10:11.972Z"
   },
   {
    "duration": 3,
    "start_time": "2022-04-29T15:10:15.643Z"
   },
   {
    "duration": 10,
    "start_time": "2022-04-29T15:10:29.470Z"
   },
   {
    "duration": 7,
    "start_time": "2022-04-29T15:10:30.137Z"
   },
   {
    "duration": 79,
    "start_time": "2022-04-29T15:10:30.263Z"
   },
   {
    "duration": 7,
    "start_time": "2022-04-29T15:10:40.961Z"
   },
   {
    "duration": 6,
    "start_time": "2022-04-29T15:10:57.398Z"
   },
   {
    "duration": 8,
    "start_time": "2022-04-29T15:11:12.025Z"
   },
   {
    "duration": 4,
    "start_time": "2022-04-29T15:11:12.414Z"
   },
   {
    "duration": 8,
    "start_time": "2022-04-29T15:11:12.744Z"
   },
   {
    "duration": 68,
    "start_time": "2022-04-29T15:11:43.494Z"
   },
   {
    "duration": 11,
    "start_time": "2022-04-29T15:11:52.830Z"
   },
   {
    "duration": 12,
    "start_time": "2022-04-29T15:11:59.064Z"
   },
   {
    "duration": 94,
    "start_time": "2022-04-29T15:13:00.285Z"
   },
   {
    "duration": 6,
    "start_time": "2022-04-29T15:13:03.780Z"
   },
   {
    "duration": 48,
    "start_time": "2022-04-29T15:13:06.583Z"
   },
   {
    "duration": 11,
    "start_time": "2022-04-29T15:13:13.221Z"
   },
   {
    "duration": 4,
    "start_time": "2022-04-29T15:13:13.603Z"
   },
   {
    "duration": 45,
    "start_time": "2022-04-29T15:13:14.022Z"
   },
   {
    "duration": 9,
    "start_time": "2022-04-29T15:13:33.703Z"
   },
   {
    "duration": 4,
    "start_time": "2022-04-29T15:13:33.970Z"
   },
   {
    "duration": 6,
    "start_time": "2022-04-29T15:13:34.559Z"
   },
   {
    "duration": 10,
    "start_time": "2022-04-29T15:15:32.576Z"
   },
   {
    "duration": 13,
    "start_time": "2022-04-29T15:15:42.547Z"
   },
   {
    "duration": 9,
    "start_time": "2022-04-29T15:16:03.548Z"
   },
   {
    "duration": 4,
    "start_time": "2022-04-29T15:16:04.117Z"
   },
   {
    "duration": 5,
    "start_time": "2022-04-29T15:16:04.604Z"
   },
   {
    "duration": 14,
    "start_time": "2022-04-29T15:16:04.916Z"
   },
   {
    "duration": 13,
    "start_time": "2022-04-29T15:17:09.382Z"
   },
   {
    "duration": 9,
    "start_time": "2022-04-29T15:17:17.200Z"
   },
   {
    "duration": 4,
    "start_time": "2022-04-29T15:17:17.488Z"
   },
   {
    "duration": 5,
    "start_time": "2022-04-29T15:17:17.748Z"
   },
   {
    "duration": 12,
    "start_time": "2022-04-29T15:17:17.988Z"
   },
   {
    "duration": 11,
    "start_time": "2022-04-29T15:19:10.288Z"
   },
   {
    "duration": 10,
    "start_time": "2022-04-29T15:19:26.173Z"
   },
   {
    "duration": 14,
    "start_time": "2022-04-29T15:20:33.797Z"
   },
   {
    "duration": 126,
    "start_time": "2022-04-29T15:20:54.415Z"
   },
   {
    "duration": 12,
    "start_time": "2022-04-29T15:21:33.236Z"
   },
   {
    "duration": 5,
    "start_time": "2022-04-29T15:21:38.628Z"
   },
   {
    "duration": 6,
    "start_time": "2022-04-29T15:21:48.981Z"
   },
   {
    "duration": 8,
    "start_time": "2022-04-29T15:21:58.700Z"
   },
   {
    "duration": 3,
    "start_time": "2022-04-29T15:21:59.051Z"
   },
   {
    "duration": 5,
    "start_time": "2022-04-29T15:21:59.389Z"
   },
   {
    "duration": 12,
    "start_time": "2022-04-29T15:21:59.652Z"
   },
   {
    "duration": 15,
    "start_time": "2022-04-29T15:23:50.863Z"
   },
   {
    "duration": 15,
    "start_time": "2022-04-29T15:23:55.449Z"
   },
   {
    "duration": 129,
    "start_time": "2022-04-29T15:23:58.979Z"
   },
   {
    "duration": 46,
    "start_time": "2022-04-29T15:27:19.667Z"
   },
   {
    "duration": 10,
    "start_time": "2022-04-29T15:27:47.225Z"
   },
   {
    "duration": 11,
    "start_time": "2022-04-29T15:27:55.063Z"
   },
   {
    "duration": 8,
    "start_time": "2022-04-29T15:28:03.499Z"
   },
   {
    "duration": 7,
    "start_time": "2022-04-29T15:28:16.887Z"
   },
   {
    "duration": 6,
    "start_time": "2022-04-29T15:28:20.413Z"
   },
   {
    "duration": 13,
    "start_time": "2022-04-29T15:28:30.896Z"
   },
   {
    "duration": 9,
    "start_time": "2022-04-29T15:29:20.175Z"
   },
   {
    "duration": 7,
    "start_time": "2022-04-29T15:29:21.180Z"
   },
   {
    "duration": 47,
    "start_time": "2022-04-29T15:30:18.561Z"
   },
   {
    "duration": 12,
    "start_time": "2022-04-29T15:31:50.444Z"
   },
   {
    "duration": 4,
    "start_time": "2022-04-29T15:32:22.780Z"
   },
   {
    "duration": 14,
    "start_time": "2022-04-29T15:32:26.505Z"
   },
   {
    "duration": 10,
    "start_time": "2022-04-29T15:32:32.317Z"
   },
   {
    "duration": 4,
    "start_time": "2022-04-29T15:32:32.715Z"
   },
   {
    "duration": 15,
    "start_time": "2022-04-29T15:32:33.058Z"
   },
   {
    "duration": 5,
    "start_time": "2022-04-29T15:32:59.542Z"
   },
   {
    "duration": 19,
    "start_time": "2022-04-29T15:33:00.073Z"
   },
   {
    "duration": 13,
    "start_time": "2022-04-29T15:33:07.715Z"
   },
   {
    "duration": 136,
    "start_time": "2022-04-29T15:34:19.763Z"
   },
   {
    "duration": 135,
    "start_time": "2022-04-29T15:35:40.819Z"
   },
   {
    "duration": 3,
    "start_time": "2022-04-29T15:35:55.712Z"
   },
   {
    "duration": 84,
    "start_time": "2022-04-29T15:35:55.730Z"
   },
   {
    "duration": 15,
    "start_time": "2022-04-29T15:35:55.816Z"
   },
   {
    "duration": 42,
    "start_time": "2022-04-29T15:35:55.832Z"
   },
   {
    "duration": 32,
    "start_time": "2022-04-29T15:35:55.876Z"
   },
   {
    "duration": 24,
    "start_time": "2022-04-29T15:35:55.910Z"
   },
   {
    "duration": 5,
    "start_time": "2022-04-29T15:35:55.936Z"
   },
   {
    "duration": 13,
    "start_time": "2022-04-29T15:35:55.942Z"
   },
   {
    "duration": 79,
    "start_time": "2022-04-29T15:35:55.957Z"
   },
   {
    "duration": 160,
    "start_time": "2022-04-29T15:35:56.037Z"
   },
   {
    "duration": 12,
    "start_time": "2022-04-29T15:35:56.198Z"
   },
   {
    "duration": 9,
    "start_time": "2022-04-29T15:35:56.212Z"
   },
   {
    "duration": 240,
    "start_time": "2022-04-29T15:35:56.222Z"
   },
   {
    "duration": 270,
    "start_time": "2022-04-29T15:35:56.465Z"
   },
   {
    "duration": 17,
    "start_time": "2022-04-29T15:35:56.736Z"
   },
   {
    "duration": 25,
    "start_time": "2022-04-29T15:35:56.755Z"
   },
   {
    "duration": 30,
    "start_time": "2022-04-29T15:35:56.781Z"
   },
   {
    "duration": 5,
    "start_time": "2022-04-29T15:35:56.812Z"
   },
   {
    "duration": 15,
    "start_time": "2022-04-29T15:35:56.819Z"
   },
   {
    "duration": 4,
    "start_time": "2022-04-29T15:35:56.835Z"
   },
   {
    "duration": 9,
    "start_time": "2022-04-29T15:35:56.840Z"
   },
   {
    "duration": 0,
    "start_time": "2022-04-29T15:35:56.851Z"
   },
   {
    "duration": 0,
    "start_time": "2022-04-29T15:35:56.852Z"
   },
   {
    "duration": 0,
    "start_time": "2022-04-29T15:35:56.854Z"
   },
   {
    "duration": 0,
    "start_time": "2022-04-29T15:35:56.855Z"
   },
   {
    "duration": 0,
    "start_time": "2022-04-29T15:35:56.856Z"
   },
   {
    "duration": 0,
    "start_time": "2022-04-29T15:35:56.858Z"
   },
   {
    "duration": 0,
    "start_time": "2022-04-29T15:35:56.859Z"
   },
   {
    "duration": 0,
    "start_time": "2022-04-29T15:35:56.860Z"
   },
   {
    "duration": 0,
    "start_time": "2022-04-29T15:35:56.861Z"
   },
   {
    "duration": 0,
    "start_time": "2022-04-29T15:35:56.908Z"
   },
   {
    "duration": 0,
    "start_time": "2022-04-29T15:35:56.909Z"
   },
   {
    "duration": 0,
    "start_time": "2022-04-29T15:35:56.910Z"
   },
   {
    "duration": 0,
    "start_time": "2022-04-29T15:35:56.911Z"
   },
   {
    "duration": 0,
    "start_time": "2022-04-29T15:35:56.912Z"
   },
   {
    "duration": 0,
    "start_time": "2022-04-29T15:35:56.914Z"
   },
   {
    "duration": 139,
    "start_time": "2022-04-29T15:36:03.459Z"
   },
   {
    "duration": 140,
    "start_time": "2022-04-29T15:40:10.632Z"
   },
   {
    "duration": 60,
    "start_time": "2022-04-29T15:42:37.468Z"
   },
   {
    "duration": 15,
    "start_time": "2022-04-29T15:44:14.933Z"
   },
   {
    "duration": 42,
    "start_time": "2022-04-29T15:44:30.199Z"
   },
   {
    "duration": 44,
    "start_time": "2022-04-29T15:45:07.839Z"
   },
   {
    "duration": 4,
    "start_time": "2022-04-29T15:45:50.182Z"
   },
   {
    "duration": 45,
    "start_time": "2022-04-29T15:46:23.402Z"
   },
   {
    "duration": 6,
    "start_time": "2022-04-29T15:46:48.136Z"
   },
   {
    "duration": 6,
    "start_time": "2022-04-29T15:47:32.705Z"
   },
   {
    "duration": 45,
    "start_time": "2022-04-29T15:48:07.481Z"
   },
   {
    "duration": 25,
    "start_time": "2022-04-29T15:48:51.556Z"
   },
   {
    "duration": 47,
    "start_time": "2022-04-29T15:48:55.728Z"
   },
   {
    "duration": 16,
    "start_time": "2022-04-29T15:50:56.375Z"
   },
   {
    "duration": 38,
    "start_time": "2022-04-29T15:51:10.840Z"
   },
   {
    "duration": 5,
    "start_time": "2022-04-29T15:52:09.871Z"
   },
   {
    "duration": 140,
    "start_time": "2022-04-29T15:52:16.758Z"
   },
   {
    "duration": 4,
    "start_time": "2022-04-29T15:55:14.142Z"
   },
   {
    "duration": 6,
    "start_time": "2022-04-29T15:55:43.154Z"
   },
   {
    "duration": 464,
    "start_time": "2022-04-29T15:56:51.567Z"
   },
   {
    "duration": 1241,
    "start_time": "2022-04-29T15:56:59.998Z"
   },
   {
    "duration": 818,
    "start_time": "2022-04-29T15:57:13.399Z"
   },
   {
    "duration": 61,
    "start_time": "2022-04-29T15:57:18.452Z"
   },
   {
    "duration": 146,
    "start_time": "2022-04-29T16:00:37.983Z"
   },
   {
    "duration": 149,
    "start_time": "2022-04-29T16:00:51.678Z"
   },
   {
    "duration": 6,
    "start_time": "2022-04-29T16:01:39.881Z"
   },
   {
    "duration": 5,
    "start_time": "2022-04-29T16:01:49.489Z"
   },
   {
    "duration": 162,
    "start_time": "2022-04-29T16:04:23.006Z"
   },
   {
    "duration": 20,
    "start_time": "2022-04-29T16:04:45.148Z"
   },
   {
    "duration": 6,
    "start_time": "2022-04-29T16:05:41.982Z"
   },
   {
    "duration": 2251,
    "start_time": "2022-04-29T16:07:59.778Z"
   },
   {
    "duration": 129,
    "start_time": "2022-04-29T16:08:19.078Z"
   },
   {
    "duration": 123,
    "start_time": "2022-04-29T16:08:50.868Z"
   },
   {
    "duration": 3,
    "start_time": "2022-04-29T16:09:20.254Z"
   },
   {
    "duration": 6,
    "start_time": "2022-04-29T16:10:07.506Z"
   },
   {
    "duration": 29,
    "start_time": "2022-04-29T16:12:38.549Z"
   },
   {
    "duration": 5,
    "start_time": "2022-04-29T16:12:51.418Z"
   },
   {
    "duration": 5,
    "start_time": "2022-04-29T16:13:03.553Z"
   },
   {
    "duration": 5,
    "start_time": "2022-04-29T16:13:17.994Z"
   },
   {
    "duration": 6,
    "start_time": "2022-04-29T16:13:25.420Z"
   },
   {
    "duration": 4,
    "start_time": "2022-04-29T16:16:08.190Z"
   },
   {
    "duration": 845,
    "start_time": "2022-04-29T16:17:55.791Z"
   },
   {
    "duration": 1547,
    "start_time": "2022-04-29T16:18:43.392Z"
   },
   {
    "duration": 1571,
    "start_time": "2022-04-29T16:19:21.677Z"
   },
   {
    "duration": 1556,
    "start_time": "2022-04-29T16:19:42.393Z"
   },
   {
    "duration": 1620,
    "start_time": "2022-04-29T16:19:45.622Z"
   },
   {
    "duration": 26,
    "start_time": "2022-04-29T16:31:29.637Z"
   },
   {
    "duration": 4,
    "start_time": "2022-04-29T16:32:56.967Z"
   },
   {
    "duration": 8,
    "start_time": "2022-04-29T16:35:11.490Z"
   },
   {
    "duration": 4,
    "start_time": "2022-04-29T16:35:16.267Z"
   },
   {
    "duration": 288,
    "start_time": "2022-04-29T16:35:40.231Z"
   },
   {
    "duration": 129,
    "start_time": "2022-04-29T16:35:46.288Z"
   },
   {
    "duration": 9,
    "start_time": "2022-04-29T16:35:46.567Z"
   },
   {
    "duration": 12,
    "start_time": "2022-04-29T16:35:49.902Z"
   },
   {
    "duration": 71,
    "start_time": "2022-04-29T16:35:50.947Z"
   },
   {
    "duration": 9,
    "start_time": "2022-04-29T16:36:51.650Z"
   },
   {
    "duration": 14,
    "start_time": "2022-04-29T16:36:54.297Z"
   },
   {
    "duration": 8,
    "start_time": "2022-04-29T16:36:58.609Z"
   },
   {
    "duration": 44,
    "start_time": "2022-04-29T16:37:07.956Z"
   },
   {
    "duration": 68,
    "start_time": "2022-04-29T16:37:35.160Z"
   },
   {
    "duration": 9,
    "start_time": "2022-04-29T16:37:45.608Z"
   },
   {
    "duration": 42,
    "start_time": "2022-04-29T16:37:49.146Z"
   },
   {
    "duration": 8,
    "start_time": "2022-04-29T16:38:30.947Z"
   },
   {
    "duration": 43,
    "start_time": "2022-04-29T16:38:36.815Z"
   },
   {
    "duration": 13,
    "start_time": "2022-04-29T16:39:14.168Z"
   },
   {
    "duration": 46,
    "start_time": "2022-04-29T16:39:17.539Z"
   },
   {
    "duration": 12,
    "start_time": "2022-04-29T16:39:34.660Z"
   },
   {
    "duration": 162,
    "start_time": "2022-04-29T16:41:10.807Z"
   },
   {
    "duration": 120,
    "start_time": "2022-04-29T16:41:13.850Z"
   },
   {
    "duration": 222,
    "start_time": "2022-04-29T16:41:15.522Z"
   },
   {
    "duration": 78,
    "start_time": "2022-04-29T16:41:48.795Z"
   },
   {
    "duration": 780,
    "start_time": "2022-04-29T16:43:22.809Z"
   },
   {
    "duration": 8,
    "start_time": "2022-04-29T16:43:58.752Z"
   },
   {
    "duration": 629,
    "start_time": "2022-04-29T16:44:04.900Z"
   },
   {
    "duration": 642,
    "start_time": "2022-04-29T16:44:35.235Z"
   },
   {
    "duration": 461,
    "start_time": "2022-04-29T16:44:51.442Z"
   },
   {
    "duration": 629,
    "start_time": "2022-04-29T16:45:20.347Z"
   },
   {
    "duration": 610,
    "start_time": "2022-04-29T16:45:49.343Z"
   },
   {
    "duration": 5,
    "start_time": "2022-04-29T16:45:58.792Z"
   },
   {
    "duration": 7,
    "start_time": "2022-04-29T16:46:10.447Z"
   },
   {
    "duration": 141,
    "start_time": "2022-04-29T16:46:18.793Z"
   },
   {
    "duration": 159,
    "start_time": "2022-04-29T16:46:56.665Z"
   },
   {
    "duration": 8,
    "start_time": "2022-04-29T16:47:05.629Z"
   },
   {
    "duration": 139,
    "start_time": "2022-04-29T16:48:07.689Z"
   },
   {
    "duration": 142,
    "start_time": "2022-04-29T16:48:26.265Z"
   },
   {
    "duration": 7,
    "start_time": "2022-04-29T16:48:33.100Z"
   },
   {
    "duration": 8,
    "start_time": "2022-04-29T16:49:15.725Z"
   },
   {
    "duration": 134,
    "start_time": "2022-04-29T16:49:23.054Z"
   },
   {
    "duration": 134,
    "start_time": "2022-04-29T16:49:38.623Z"
   },
   {
    "duration": 129,
    "start_time": "2022-04-29T16:50:06.067Z"
   },
   {
    "duration": 7,
    "start_time": "2022-04-29T16:50:24.869Z"
   },
   {
    "duration": 124,
    "start_time": "2022-04-29T16:50:41.576Z"
   }
  ],
  "kernelspec": {
   "display_name": "Python 3 (ipykernel)",
   "language": "python",
   "name": "python3"
  },
  "language_info": {
   "codemirror_mode": {
    "name": "ipython",
    "version": 3
   },
   "file_extension": ".py",
   "mimetype": "text/x-python",
   "name": "python",
   "nbconvert_exporter": "python",
   "pygments_lexer": "ipython3",
   "version": "3.9.5"
  },
  "toc": {
   "base_numbering": 1,
   "nav_menu": {},
   "number_sections": true,
   "sideBar": true,
   "skip_h1_title": true,
   "title_cell": "Содержание",
   "title_sidebar": "Contents",
   "toc_cell": true,
   "toc_position": {},
   "toc_section_display": true,
   "toc_window_display": true
  }
 },
 "nbformat": 4,
 "nbformat_minor": 4
}
