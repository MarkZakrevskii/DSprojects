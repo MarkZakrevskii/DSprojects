{
 "cells": [
  {
   "cell_type": "markdown",
   "id": "19896ac8",
   "metadata": {},
   "source": [
    "<div style=\"border:solid green 3px; padding: 20px\">\n",
    "\n",
    "<b>Привет!</b>\n",
    "\n",
    "Меня зовут Сороколетов Илья и я буду проверять твой проект. \n",
    "\n",
    "Предлагаю общаться на «**ты**», но если тебе будет комфортнее общаться на «**вы**», то сообщи об этом в комментариях)\n",
    "\n",
    "\n",
    "Для твоего удобства, я буду выделять свои комментарии следующим образом:\n",
    "\n",
    "<div class=\"alert alert-danger\">\n",
    "<b>❌ Комментарий ревьюера v1:</b> Самые важные замечания. Они указывают на ключевые моменты, которые влияют на конечный результат проекта. </div>\n",
    "\n",
    "<div class=\"alert alert-warning\">\n",
    "<b>⚠️ Комментарий ревьюера v1:</b> Советы или замечания, которые помогут сделать твою работу лучше, но необязательны к выполнению.\n",
    "\n",
    "</div>\n",
    "\n",
    "<div class=\"alert alert-success\">\n",
    "<b>✔️ Комментарий ревьюера v1:</b> Так я выделяю все остальные комментарии.</div>\n",
    "\n",
    "\n",
    "Пометками <b>v1-v2-v3-...</b> я буду отмечать версию проверки. Так ты сможешь быстро найти мои новые комментарии.\n",
    "\n",
    "Давай работать над проектом в диалоге: если ты что-то меняешь в проекте по моим рекомендациям — пиши об этом. Выбери для своих комментариев какой-то заметный цвет, так мне будет легче отследить изменения, например вот так:\n",
    "    \n",
    "<div class=\"alert alert-info\">\n",
    "<b>Комментарий студента:</b>\n",
    "<br>\n",
    "</div>\n",
    "\n",
    "<b>Пожалуйста, не перемещай, не изменяй и не удаляй мои комментарии.</b> Если ты оставляешь свои комментарии, то делай это под моими, чтобы сообщения были расположены в хронологическом порядке. Всё это поможет выполнить повторную проверку твоего проекта быстрее. \n",
    "\n",
    "\n",
    "Перед отправкой работы я рекомендую нажимать Kernel -> Restart & Run All. Это перезапустит ядро и по очереди выполнит все ячейки. Так ты сможешь проверить, что всё работает корректно. Кнопка Kernel находится в панели сверху\n",
    "\n",
    "Обязательно задавай вопросы если они возникнут, а я перехожу к проверке)\n",
    "\n",
    "P.S. На всякий случай, я оставлю пустой шаблон для твоих комментариев ниже. Кликни два раза на мой комментарий, скопируй последние четыре строчки кода и вставляй их в пустую ячейку там, где ты хочешь оставить комментарий. Не забудь только перед этим сменить тип ячейки на Markdown. Быстро это можно сделать так: кликнуть на ячейку - нажать ESC - нажать M. \n",
    "    \n",
    "    \n",
    "<div class=\"alert alert-info\">\n",
    "<b>Комментарий студента:</b>\n",
    "<br>Место для твоего комментария\n",
    "</div>"
   ]
  },
  {
   "cell_type": "markdown",
   "id": "967179db",
   "metadata": {},
   "source": [
    "# Исследование надежности заемщиков."
   ]
  },
  {
   "cell_type": "markdown",
   "id": "985ebdb8",
   "metadata": {},
   "source": [
    "<div class=\"alert alert-warning\">\n",
    "<b>⚠️ Комментарий ревьюера v1:</b> \n",
    "<br>Лучше оставляй перед проектом краткое описание задачи. Это поможет тебе быстро вспомнить о чем проект, если спустя время ты решишь к нему вернуться)\n",
    "</div>"
   ]
  },
  {
   "cell_type": "markdown",
   "id": "1caabbcb",
   "metadata": {},
   "source": [
    "### Шаг 1. Обзор данных"
   ]
  },
  {
   "cell_type": "code",
   "execution_count": 1,
   "id": "9830963b",
   "metadata": {},
   "outputs": [],
   "source": [
    "import pandas as pd"
   ]
  },
  {
   "cell_type": "code",
   "execution_count": 2,
   "id": "bc5216e3",
   "metadata": {},
   "outputs": [
    {
     "name": "stdout",
     "output_type": "stream",
     "text": [
      "<class 'pandas.core.frame.DataFrame'>\n",
      "RangeIndex: 21525 entries, 0 to 21524\n",
      "Data columns (total 12 columns):\n",
      " #   Column            Non-Null Count  Dtype  \n",
      "---  ------            --------------  -----  \n",
      " 0   children          21525 non-null  int64  \n",
      " 1   days_employed     19351 non-null  float64\n",
      " 2   dob_years         21525 non-null  int64  \n",
      " 3   education         21525 non-null  object \n",
      " 4   education_id      21525 non-null  int64  \n",
      " 5   family_status     21525 non-null  object \n",
      " 6   family_status_id  21525 non-null  int64  \n",
      " 7   gender            21525 non-null  object \n",
      " 8   income_type       21525 non-null  object \n",
      " 9   debt              21525 non-null  int64  \n",
      " 10  total_income      19351 non-null  float64\n",
      " 11  purpose           21525 non-null  object \n",
      "dtypes: float64(2), int64(5), object(5)\n",
      "memory usage: 2.0+ MB\n"
     ]
    }
   ],
   "source": [
    "df = pd.read_csv('/datasets/data.csv')\n",
    "df.info()"
   ]
  },
  {
   "cell_type": "code",
   "execution_count": 3,
   "id": "018de059",
   "metadata": {},
   "outputs": [
    {
     "data": {
      "text/plain": [
       "array([ 1,  0,  3,  2, -1,  4, 20,  5])"
      ]
     },
     "execution_count": 3,
     "metadata": {},
     "output_type": "execute_result"
    }
   ],
   "source": [
    "df['children'].unique()"
   ]
  },
  {
   "cell_type": "code",
   "execution_count": 4,
   "id": "f1887506",
   "metadata": {},
   "outputs": [
    {
     "data": {
      "text/html": [
       "<div>\n",
       "<style scoped>\n",
       "    .dataframe tbody tr th:only-of-type {\n",
       "        vertical-align: middle;\n",
       "    }\n",
       "\n",
       "    .dataframe tbody tr th {\n",
       "        vertical-align: top;\n",
       "    }\n",
       "\n",
       "    .dataframe thead th {\n",
       "        text-align: right;\n",
       "    }\n",
       "</style>\n",
       "<table border=\"1\" class=\"dataframe\">\n",
       "  <thead>\n",
       "    <tr style=\"text-align: right;\">\n",
       "      <th></th>\n",
       "      <th>children</th>\n",
       "      <th>days_employed</th>\n",
       "      <th>dob_years</th>\n",
       "      <th>education</th>\n",
       "      <th>education_id</th>\n",
       "      <th>family_status</th>\n",
       "      <th>family_status_id</th>\n",
       "      <th>gender</th>\n",
       "      <th>income_type</th>\n",
       "      <th>debt</th>\n",
       "      <th>total_income</th>\n",
       "      <th>purpose</th>\n",
       "    </tr>\n",
       "  </thead>\n",
       "  <tbody>\n",
       "    <tr>\n",
       "      <th>6954</th>\n",
       "      <td>0</td>\n",
       "      <td>401755.400475</td>\n",
       "      <td>56</td>\n",
       "      <td>среднее</td>\n",
       "      <td>1</td>\n",
       "      <td>вдовец / вдова</td>\n",
       "      <td>2</td>\n",
       "      <td>F</td>\n",
       "      <td>пенсионер</td>\n",
       "      <td>0</td>\n",
       "      <td>176278.441171</td>\n",
       "      <td>ремонт жилью</td>\n",
       "    </tr>\n",
       "    <tr>\n",
       "      <th>10006</th>\n",
       "      <td>0</td>\n",
       "      <td>401715.811749</td>\n",
       "      <td>69</td>\n",
       "      <td>высшее</td>\n",
       "      <td>0</td>\n",
       "      <td>Не женат / не замужем</td>\n",
       "      <td>4</td>\n",
       "      <td>F</td>\n",
       "      <td>пенсионер</td>\n",
       "      <td>0</td>\n",
       "      <td>57390.256908</td>\n",
       "      <td>получение образования</td>\n",
       "    </tr>\n",
       "    <tr>\n",
       "      <th>7664</th>\n",
       "      <td>1</td>\n",
       "      <td>401675.093434</td>\n",
       "      <td>61</td>\n",
       "      <td>среднее</td>\n",
       "      <td>1</td>\n",
       "      <td>женат / замужем</td>\n",
       "      <td>0</td>\n",
       "      <td>F</td>\n",
       "      <td>пенсионер</td>\n",
       "      <td>0</td>\n",
       "      <td>126214.519212</td>\n",
       "      <td>операции с жильем</td>\n",
       "    </tr>\n",
       "    <tr>\n",
       "      <th>2156</th>\n",
       "      <td>0</td>\n",
       "      <td>401674.466633</td>\n",
       "      <td>60</td>\n",
       "      <td>среднее</td>\n",
       "      <td>1</td>\n",
       "      <td>женат / замужем</td>\n",
       "      <td>0</td>\n",
       "      <td>M</td>\n",
       "      <td>пенсионер</td>\n",
       "      <td>0</td>\n",
       "      <td>325395.724541</td>\n",
       "      <td>автомобили</td>\n",
       "    </tr>\n",
       "    <tr>\n",
       "      <th>7794</th>\n",
       "      <td>0</td>\n",
       "      <td>401663.850046</td>\n",
       "      <td>61</td>\n",
       "      <td>среднее</td>\n",
       "      <td>1</td>\n",
       "      <td>гражданский брак</td>\n",
       "      <td>1</td>\n",
       "      <td>F</td>\n",
       "      <td>пенсионер</td>\n",
       "      <td>0</td>\n",
       "      <td>48286.441362</td>\n",
       "      <td>свадьба</td>\n",
       "    </tr>\n",
       "  </tbody>\n",
       "</table>\n",
       "</div>"
      ],
      "text/plain": [
       "       children  days_employed  dob_years education  education_id  \\\n",
       "6954          0  401755.400475         56   среднее             1   \n",
       "10006         0  401715.811749         69    высшее             0   \n",
       "7664          1  401675.093434         61   среднее             1   \n",
       "2156          0  401674.466633         60   среднее             1   \n",
       "7794          0  401663.850046         61   среднее             1   \n",
       "\n",
       "               family_status  family_status_id gender income_type  debt  \\\n",
       "6954          вдовец / вдова                 2      F   пенсионер     0   \n",
       "10006  Не женат / не замужем                 4      F   пенсионер     0   \n",
       "7664         женат / замужем                 0      F   пенсионер     0   \n",
       "2156         женат / замужем                 0      M   пенсионер     0   \n",
       "7794        гражданский брак                 1      F   пенсионер     0   \n",
       "\n",
       "        total_income                purpose  \n",
       "6954   176278.441171           ремонт жилью  \n",
       "10006   57390.256908  получение образования  \n",
       "7664   126214.519212      операции с жильем  \n",
       "2156   325395.724541             автомобили  \n",
       "7794    48286.441362                свадьба  "
      ]
     },
     "execution_count": 4,
     "metadata": {},
     "output_type": "execute_result"
    }
   ],
   "source": [
    "df.sort_values('days_employed', ascending=False).head()"
   ]
  },
  {
   "cell_type": "markdown",
   "id": "db39d46f",
   "metadata": {},
   "source": [
    "**Короткий вывод о данных:**"
   ]
  },
  {
   "cell_type": "markdown",
   "id": "3b0a93d0",
   "metadata": {},
   "source": [
    "Исходя из первичных данных можно увидеть пропуски в столбцах days_employed и total_income, также столбец days_employed содержит данные типа float, что не соответствует описанию переменной, столбец children содержит большое значение: 20. \n",
    "Максимальные значения в столбце days_employed слишком велики."
   ]
  },
  {
   "cell_type": "markdown",
   "id": "124ec7b3",
   "metadata": {},
   "source": [
    "<div class=\"alert alert-warning\">\n",
    "<b>⚠️ Комментарий ревьюера v1:</b> \n",
    "<br>Все библиотеки лучше импортировать отдельно в первой ячейке. Это позволит тебе в любой момент добавить ещё одну библиотеку без перезаписи переменных.\n",
    "</div>"
   ]
  },
  {
   "cell_type": "markdown",
   "id": "1528b3df",
   "metadata": {},
   "source": [
    "<div class=\"alert alert-danger\">\n",
    "<b>❌ Комментарий ревьюера v1:</b> \n",
    "<br>Тут необходимо написать короткий вывод о проблемах с данными (пропуски, дубликаты, неверный тип данных, странные значения и т.д.)\n",
    "</div>"
   ]
  },
  {
   "cell_type": "markdown",
   "id": "18dbea67",
   "metadata": {},
   "source": [
    "<div class=\"alert alert-success\">\n",
    "<b>✔️ Комментарий ревьюера v2:</b> \n",
    "<br>Отлично!\n",
    "<br>Во время первичного анализа данных, может помочь метод describe(). Он покажет разброс значений, максимум, минимум, среднее и медиану. \n",
    "</div>"
   ]
  },
  {
   "cell_type": "markdown",
   "id": "5f0d2cd4",
   "metadata": {},
   "source": [
    "### Шаг 2.1 Заполнение пропусков"
   ]
  },
  {
   "cell_type": "markdown",
   "id": "f8b79287",
   "metadata": {},
   "source": [
    "Из общей информации о данных следует, что столбцы days_employed и total_income имеют пропуски.     "
   ]
  },
  {
   "cell_type": "code",
   "execution_count": 5,
   "id": "07e3023b",
   "metadata": {},
   "outputs": [
    {
     "name": "stdout",
     "output_type": "stream",
     "text": [
      "0.11234561521368405\n",
      "0.11234561521368405\n"
     ]
    }
   ],
   "source": [
    "# Проверим какую долю составляют пропуски в каждом из столбцов.\n",
    "share_na_total_income = df['total_income'].isna().sum() / df['total_income'].count() # Доля пропусков в столбце total_income\n",
    "share_na_days_employed = df['days_employed'].isna().sum() / df['days_employed'].count() # Доля пропусков в столбце days_employed\n",
    "print(share_na_total_income)\n",
    "print(share_na_days_employed)"
   ]
  },
  {
   "cell_type": "markdown",
   "id": "70942e3e",
   "metadata": {},
   "source": [
    "<div class=\"alert alert-warning\">\n",
    "<b>⚠️ Комментарий ревьюера v1:</b> \n",
    "<br>Расчет не совсем верный, так как ты делишь количество заполненных значений, на количество пропусков, а нужно делить на общее количетсво значений. В этом может помочь следующая связка\n",
    "    \n",
    "    df.isna().mean()\n",
    "</div>"
   ]
  },
  {
   "cell_type": "markdown",
   "id": "89dcb9fc",
   "metadata": {},
   "source": [
    "Исходя из описания данных можно сделать вывод, что пропуски в столбце ..."
   ]
  },
  {
   "cell_type": "code",
   "execution_count": 6,
   "id": "98bf696a",
   "metadata": {},
   "outputs": [
    {
     "data": {
      "text/plain": [
       "0"
      ]
     },
     "execution_count": 6,
     "metadata": {},
     "output_type": "execute_result"
    }
   ],
   "source": [
    "# Заполним столбец total_income медианным значением:\n",
    "df['total_income'] = df['total_income'].fillna(df['total_income'].median())\n",
    "# Проверим столбец total_income на отсутствие пропусков:\n",
    "df['total_income'].isna().sum()"
   ]
  },
  {
   "cell_type": "markdown",
   "id": "159eaa76",
   "metadata": {},
   "source": [
    "<div class=\"alert alert-success\">\n",
    "<b>✔️ Комментарий ревьюера v1:</b> \n",
    "<br>Всё верно! Также здесь можно заполнить пропуски более оптимальным способом - медианой, в зависимости от типа занятости. Для этого отлично подойдёт функция transform:\n",
    "\n",
    "    df['total_income'] = df['total_income'].fillna(df.groupby('income_type')['total_income'].transform(\"median\"))\n",
    "\n",
    "<br>Она создаёт новый столбец, который содержит столько же строк, сколько и изначальный, но только вместо оригинальных значений в каждой строке содержится медиана посчитанная по заданной группе. После этого вместо пропусков в оригинальном столбце мы подставляем значения из созданного столбца, то есть медианы в зависимости от группы.\n",
    "</div>"
   ]
  },
  {
   "cell_type": "markdown",
   "id": "1d2f751a",
   "metadata": {},
   "source": [
    "Заполнить пропуски медианным значением - лучшее решение, так как в столбце days_employed встречаются очень большие значения. "
   ]
  },
  {
   "cell_type": "markdown",
   "id": "cc932c77",
   "metadata": {},
   "source": [
    "### Шаг 2.2 Проверка данных на аномалии и исправления."
   ]
  },
  {
   "cell_type": "markdown",
   "id": "0fde76b1",
   "metadata": {},
   "source": [
    "Столбец days_employed имеет отрицательные значения, из описания данных можно понять, что трудовой стаж в днях не может быть отрицательным, следовательно это аномальные данные, причиной появления отрицательных данных может быть человеческий фактор.\n",
    "Также в столбце children встречается значение -1."
   ]
  },
  {
   "cell_type": "code",
   "execution_count": 7,
   "id": "204c7541",
   "metadata": {},
   "outputs": [],
   "source": [
    "# Заменим отрицательные значения в столбце days_employed на положительные:\n",
    "df['days_employed'] = df['days_employed'].abs()\n",
    "# Заменим отрицательные значения в столбце children на положительные:\n",
    "df['children'] = df['children'].abs()\n",
    "# Заполним столбец days_employed медианными данными по столбцу:\n",
    "df['days_employed'] = df['days_employed'].fillna(df['days_employed'].median())"
   ]
  },
  {
   "cell_type": "markdown",
   "id": "78a74e7a",
   "metadata": {},
   "source": [
    "<div class=\"alert alert-warning\">\n",
    "<b>⚠️ Комментарий ревьюера v1:</b> \n",
    "<br>Как вариант, 20 детей можно было бы заменить на 2\n",
    "</div>"
   ]
  },
  {
   "cell_type": "markdown",
   "id": "ac2418a7",
   "metadata": {},
   "source": [
    "### Шаг 2.3. Изменение типов данных."
   ]
  },
  {
   "cell_type": "code",
   "execution_count": 8,
   "id": "6770b160",
   "metadata": {},
   "outputs": [],
   "source": [
    "# Заменим вещественный тип данных в столбце days_employed на целочисленный:\n",
    "df['days_employed'] = df['days_employed'].astype('int')\n",
    "# Округлим значения в столбце total_income до целого значения:\n",
    "df['total_income'] = df['total_income'].astype('int')"
   ]
  },
  {
   "cell_type": "markdown",
   "id": "71472bfa",
   "metadata": {},
   "source": [
    "<div class=\"alert alert-danger\">\n",
    "<b>❌ Комментарий ревьюера v1:</b> \n",
    "<br>Тут нужно ещё изменить тип данных в столбце total_income. В нём значения с шестью знаками после запятой и такая точность нам ни к чему)\n",
    "</div>"
   ]
  },
  {
   "cell_type": "markdown",
   "id": "74285873",
   "metadata": {},
   "source": [
    "<div class=\"alert alert-success\">\n",
    "<b>✔️ Комментарий ревьюера v2:</b>\n",
    "<br>👍\n",
    "</div>"
   ]
  },
  {
   "cell_type": "markdown",
   "id": "fd40cd17",
   "metadata": {},
   "source": [
    "### Шаг 2.4. Удаление дубликатов."
   ]
  },
  {
   "cell_type": "code",
   "execution_count": 9,
   "id": "84dda5a2",
   "metadata": {},
   "outputs": [
    {
     "data": {
      "text/plain": [
       "array(['высшее', 'среднее', 'Среднее', 'СРЕДНЕЕ', 'ВЫСШЕЕ',\n",
       "       'неоконченное высшее', 'начальное', 'Высшее',\n",
       "       'НЕОКОНЧЕННОЕ ВЫСШЕЕ', 'Неоконченное высшее', 'НАЧАЛЬНОЕ',\n",
       "       'Начальное', 'Ученая степень', 'УЧЕНАЯ СТЕПЕНЬ', 'ученая степень'],\n",
       "      dtype=object)"
      ]
     },
     "execution_count": 9,
     "metadata": {},
     "output_type": "execute_result"
    }
   ],
   "source": [
    "# Найдем неявные дубликаты в столбце education:\n",
    "df['education'].unique()"
   ]
  },
  {
   "cell_type": "code",
   "execution_count": 10,
   "id": "65cbb685",
   "metadata": {},
   "outputs": [],
   "source": [
    "# Приведём значения столбца education к нижнему регистру:\n",
    "df['education'] = df['education'].str.lower()"
   ]
  },
  {
   "cell_type": "code",
   "execution_count": 11,
   "id": "d607ad08",
   "metadata": {},
   "outputs": [],
   "source": [
    "# Найдем количество явных дубликатов в датафрейме и удалим их:\n",
    "df.duplicated().sum()\n",
    "df = df.drop_duplicates().reset_index(drop=True)"
   ]
  },
  {
   "cell_type": "code",
   "execution_count": 12,
   "id": "6575a7af",
   "metadata": {
    "scrolled": true
   },
   "outputs": [
    {
     "data": {
      "text/plain": [
       "0"
      ]
     },
     "execution_count": 12,
     "metadata": {},
     "output_type": "execute_result"
    }
   ],
   "source": [
    "df.duplicated().sum()"
   ]
  },
  {
   "cell_type": "markdown",
   "id": "3898e8de",
   "metadata": {},
   "source": [
    "1) Для поиска и удаления дубликатов в данных я использовал методы unique(), str.lower(), drop_duplicates(), reset_index().\n",
    "\n",
    "2) Причиной появления подобных дубликатов может являтся человеческий фактор."
   ]
  },
  {
   "cell_type": "markdown",
   "id": "b66b7e55",
   "metadata": {},
   "source": [
    "<div class=\"alert alert-success\">\n",
    "<b>✔️ Комментарий ревьюера v1:</b> \n",
    "<br>Супер! От дубликатов тоже избавились\n",
    "</div>"
   ]
  },
  {
   "cell_type": "markdown",
   "id": "c93f3061",
   "metadata": {},
   "source": [
    "### Шаг 2.5. Формирование дополнительных датафреймов словарей, декомпозиция исходного датафрейма."
   ]
  },
  {
   "cell_type": "code",
   "execution_count": 13,
   "id": "838e8089",
   "metadata": {},
   "outputs": [],
   "source": [
    "# Создадим датафрейм education_df:\n",
    "education_df = df[['education', 'education_id']]\n",
    "# Создадим датафрейм family_df:\n",
    "family_df = df[['family_status', 'family_status_id']]\n",
    "# Удалим столбцы education и family_status:\n",
    "df = df.drop(columns=['education', 'family_status'])"
   ]
  },
  {
   "cell_type": "markdown",
   "id": "6aafd410",
   "metadata": {},
   "source": [
    "<div class=\"alert alert-success\">\n",
    "<b>✔️ Комментарий ревьюера v1:</b> \n",
    "<br>Тут всё правильно 👌\n",
    "</div>"
   ]
  },
  {
   "cell_type": "markdown",
   "id": "c4bc00c0",
   "metadata": {},
   "source": [
    "### Шаг 2.6. Категоризация дохода."
   ]
  },
  {
   "cell_type": "code",
   "execution_count": 14,
   "id": "382ad6d8",
   "metadata": {},
   "outputs": [],
   "source": [
    "# Создадим функцию для категоризации уровня дохода:\n",
    "\n",
    "def income_category_function(df):\n",
    "    income = df['total_income']\n",
    "    if income < 30001:\n",
    "        return 'E'\n",
    "    elif income < 50001:\n",
    "        return  'D'\n",
    "    elif income < 200001:\n",
    "        return 'C'\n",
    "    elif income < 1000001:\n",
    "        return 'B'\n",
    "    else:\n",
    "        return 'A'\n",
    "\n",
    "# Создадим столбец total_income_category с помощью функции:\n",
    "df['total_income_category'] = df.apply(income_category_function, axis=1)"
   ]
  },
  {
   "cell_type": "markdown",
   "id": "ec48fef8",
   "metadata": {},
   "source": [
    "<div class=\"alert alert-success\">\n",
    "<b>✔️ Комментарий ревьюера v1:</b> \n",
    "<br>Категоризация клиентов по уровню дохода произведена верно\n",
    "</div>"
   ]
  },
  {
   "cell_type": "markdown",
   "id": "a971c2ff",
   "metadata": {},
   "source": [
    "### Шаг 2.7. Категоризация целей кредита."
   ]
  },
  {
   "cell_type": "code",
   "execution_count": 15,
   "id": "5f250463",
   "metadata": {},
   "outputs": [],
   "source": [
    "# Создадим функцию для категоризации цели кредита:\n",
    "\n",
    "def purpose_category_function(df):\n",
    "    purpose = df['purpose']\n",
    "    if 'автомоб' in purpose:\n",
    "        return 'операции с автомобилем'\n",
    "    elif 'недвиж'in purpose or 'жил' in purpose:\n",
    "        return 'операции с недвижимостью'\n",
    "    elif 'свад' in purpose:\n",
    "        return 'проведение свадьбы'\n",
    "    elif 'образ' in purpose:\n",
    "        return 'получение образования'\n",
    "\n",
    "# Создадим столбец total_income_category с помощью функции:\n",
    "df['purpose_category'] = df.apply(purpose_category_function, axis=1)"
   ]
  },
  {
   "cell_type": "code",
   "execution_count": 16,
   "id": "3f9234e1",
   "metadata": {},
   "outputs": [
    {
     "data": {
      "text/html": [
       "<div>\n",
       "<style scoped>\n",
       "    .dataframe tbody tr th:only-of-type {\n",
       "        vertical-align: middle;\n",
       "    }\n",
       "\n",
       "    .dataframe tbody tr th {\n",
       "        vertical-align: top;\n",
       "    }\n",
       "\n",
       "    .dataframe thead th {\n",
       "        text-align: right;\n",
       "    }\n",
       "</style>\n",
       "<table border=\"1\" class=\"dataframe\">\n",
       "  <thead>\n",
       "    <tr style=\"text-align: right;\">\n",
       "      <th></th>\n",
       "      <th>children</th>\n",
       "      <th>days_employed</th>\n",
       "      <th>dob_years</th>\n",
       "      <th>education_id</th>\n",
       "      <th>family_status_id</th>\n",
       "      <th>gender</th>\n",
       "      <th>income_type</th>\n",
       "      <th>debt</th>\n",
       "      <th>total_income</th>\n",
       "      <th>purpose</th>\n",
       "      <th>total_income_category</th>\n",
       "      <th>purpose_category</th>\n",
       "    </tr>\n",
       "  </thead>\n",
       "  <tbody>\n",
       "    <tr>\n",
       "      <th>0</th>\n",
       "      <td>1</td>\n",
       "      <td>8437</td>\n",
       "      <td>42</td>\n",
       "      <td>0</td>\n",
       "      <td>0</td>\n",
       "      <td>F</td>\n",
       "      <td>сотрудник</td>\n",
       "      <td>0</td>\n",
       "      <td>253875</td>\n",
       "      <td>покупка жилья</td>\n",
       "      <td>B</td>\n",
       "      <td>операции с недвижимостью</td>\n",
       "    </tr>\n",
       "    <tr>\n",
       "      <th>1</th>\n",
       "      <td>1</td>\n",
       "      <td>4024</td>\n",
       "      <td>36</td>\n",
       "      <td>1</td>\n",
       "      <td>0</td>\n",
       "      <td>F</td>\n",
       "      <td>сотрудник</td>\n",
       "      <td>0</td>\n",
       "      <td>112080</td>\n",
       "      <td>приобретение автомобиля</td>\n",
       "      <td>C</td>\n",
       "      <td>операции с автомобилем</td>\n",
       "    </tr>\n",
       "    <tr>\n",
       "      <th>2</th>\n",
       "      <td>0</td>\n",
       "      <td>5623</td>\n",
       "      <td>33</td>\n",
       "      <td>1</td>\n",
       "      <td>0</td>\n",
       "      <td>M</td>\n",
       "      <td>сотрудник</td>\n",
       "      <td>0</td>\n",
       "      <td>145885</td>\n",
       "      <td>покупка жилья</td>\n",
       "      <td>C</td>\n",
       "      <td>операции с недвижимостью</td>\n",
       "    </tr>\n",
       "    <tr>\n",
       "      <th>3</th>\n",
       "      <td>3</td>\n",
       "      <td>4124</td>\n",
       "      <td>32</td>\n",
       "      <td>1</td>\n",
       "      <td>0</td>\n",
       "      <td>M</td>\n",
       "      <td>сотрудник</td>\n",
       "      <td>0</td>\n",
       "      <td>267628</td>\n",
       "      <td>дополнительное образование</td>\n",
       "      <td>B</td>\n",
       "      <td>получение образования</td>\n",
       "    </tr>\n",
       "    <tr>\n",
       "      <th>4</th>\n",
       "      <td>0</td>\n",
       "      <td>340266</td>\n",
       "      <td>53</td>\n",
       "      <td>1</td>\n",
       "      <td>1</td>\n",
       "      <td>F</td>\n",
       "      <td>пенсионер</td>\n",
       "      <td>0</td>\n",
       "      <td>158616</td>\n",
       "      <td>сыграть свадьбу</td>\n",
       "      <td>C</td>\n",
       "      <td>проведение свадьбы</td>\n",
       "    </tr>\n",
       "    <tr>\n",
       "      <th>...</th>\n",
       "      <td>...</td>\n",
       "      <td>...</td>\n",
       "      <td>...</td>\n",
       "      <td>...</td>\n",
       "      <td>...</td>\n",
       "      <td>...</td>\n",
       "      <td>...</td>\n",
       "      <td>...</td>\n",
       "      <td>...</td>\n",
       "      <td>...</td>\n",
       "      <td>...</td>\n",
       "      <td>...</td>\n",
       "    </tr>\n",
       "    <tr>\n",
       "      <th>21449</th>\n",
       "      <td>1</td>\n",
       "      <td>4529</td>\n",
       "      <td>43</td>\n",
       "      <td>1</td>\n",
       "      <td>1</td>\n",
       "      <td>F</td>\n",
       "      <td>компаньон</td>\n",
       "      <td>0</td>\n",
       "      <td>224791</td>\n",
       "      <td>операции с жильем</td>\n",
       "      <td>B</td>\n",
       "      <td>операции с недвижимостью</td>\n",
       "    </tr>\n",
       "    <tr>\n",
       "      <th>21450</th>\n",
       "      <td>0</td>\n",
       "      <td>343937</td>\n",
       "      <td>67</td>\n",
       "      <td>1</td>\n",
       "      <td>0</td>\n",
       "      <td>F</td>\n",
       "      <td>пенсионер</td>\n",
       "      <td>0</td>\n",
       "      <td>155999</td>\n",
       "      <td>сделка с автомобилем</td>\n",
       "      <td>C</td>\n",
       "      <td>операции с автомобилем</td>\n",
       "    </tr>\n",
       "    <tr>\n",
       "      <th>21451</th>\n",
       "      <td>1</td>\n",
       "      <td>2113</td>\n",
       "      <td>38</td>\n",
       "      <td>1</td>\n",
       "      <td>1</td>\n",
       "      <td>M</td>\n",
       "      <td>сотрудник</td>\n",
       "      <td>1</td>\n",
       "      <td>89672</td>\n",
       "      <td>недвижимость</td>\n",
       "      <td>C</td>\n",
       "      <td>операции с недвижимостью</td>\n",
       "    </tr>\n",
       "    <tr>\n",
       "      <th>21452</th>\n",
       "      <td>3</td>\n",
       "      <td>3112</td>\n",
       "      <td>38</td>\n",
       "      <td>1</td>\n",
       "      <td>0</td>\n",
       "      <td>M</td>\n",
       "      <td>сотрудник</td>\n",
       "      <td>1</td>\n",
       "      <td>244093</td>\n",
       "      <td>на покупку своего автомобиля</td>\n",
       "      <td>B</td>\n",
       "      <td>операции с автомобилем</td>\n",
       "    </tr>\n",
       "    <tr>\n",
       "      <th>21453</th>\n",
       "      <td>2</td>\n",
       "      <td>1984</td>\n",
       "      <td>40</td>\n",
       "      <td>1</td>\n",
       "      <td>0</td>\n",
       "      <td>F</td>\n",
       "      <td>сотрудник</td>\n",
       "      <td>0</td>\n",
       "      <td>82047</td>\n",
       "      <td>на покупку автомобиля</td>\n",
       "      <td>C</td>\n",
       "      <td>операции с автомобилем</td>\n",
       "    </tr>\n",
       "  </tbody>\n",
       "</table>\n",
       "<p>21454 rows × 12 columns</p>\n",
       "</div>"
      ],
      "text/plain": [
       "       children  days_employed  dob_years  education_id  family_status_id  \\\n",
       "0             1           8437         42             0                 0   \n",
       "1             1           4024         36             1                 0   \n",
       "2             0           5623         33             1                 0   \n",
       "3             3           4124         32             1                 0   \n",
       "4             0         340266         53             1                 1   \n",
       "...         ...            ...        ...           ...               ...   \n",
       "21449         1           4529         43             1                 1   \n",
       "21450         0         343937         67             1                 0   \n",
       "21451         1           2113         38             1                 1   \n",
       "21452         3           3112         38             1                 0   \n",
       "21453         2           1984         40             1                 0   \n",
       "\n",
       "      gender income_type  debt  total_income                       purpose  \\\n",
       "0          F   сотрудник     0        253875                 покупка жилья   \n",
       "1          F   сотрудник     0        112080       приобретение автомобиля   \n",
       "2          M   сотрудник     0        145885                 покупка жилья   \n",
       "3          M   сотрудник     0        267628    дополнительное образование   \n",
       "4          F   пенсионер     0        158616               сыграть свадьбу   \n",
       "...      ...         ...   ...           ...                           ...   \n",
       "21449      F   компаньон     0        224791             операции с жильем   \n",
       "21450      F   пенсионер     0        155999          сделка с автомобилем   \n",
       "21451      M   сотрудник     1         89672                  недвижимость   \n",
       "21452      M   сотрудник     1        244093  на покупку своего автомобиля   \n",
       "21453      F   сотрудник     0         82047         на покупку автомобиля   \n",
       "\n",
       "      total_income_category          purpose_category  \n",
       "0                         B  операции с недвижимостью  \n",
       "1                         C    операции с автомобилем  \n",
       "2                         C  операции с недвижимостью  \n",
       "3                         B     получение образования  \n",
       "4                         C        проведение свадьбы  \n",
       "...                     ...                       ...  \n",
       "21449                     B  операции с недвижимостью  \n",
       "21450                     C    операции с автомобилем  \n",
       "21451                     C  операции с недвижимостью  \n",
       "21452                     B    операции с автомобилем  \n",
       "21453                     C    операции с автомобилем  \n",
       "\n",
       "[21454 rows x 12 columns]"
      ]
     },
     "execution_count": 16,
     "metadata": {},
     "output_type": "execute_result"
    }
   ],
   "source": [
    "# Выведем датафрейм после всех преобразований:\n",
    "df"
   ]
  },
  {
   "cell_type": "markdown",
   "id": "8218e37d",
   "metadata": {},
   "source": [
    "<div class=\"alert alert-success\">\n",
    "<b>✔️ Комментарий ревьюера v1:</b> \n",
    "<br>Основные цели кредита определены правильно! 👍\n",
    "</div>"
   ]
  },
  {
   "cell_type": "markdown",
   "id": "94ccdf3a",
   "metadata": {},
   "source": [
    "### Ответы на вопросы."
   ]
  },
  {
   "cell_type": "markdown",
   "id": "af6db853",
   "metadata": {},
   "source": [
    "##### Вопрос 1:"
   ]
  },
  {
   "cell_type": "markdown",
   "id": "e6bb3f5b",
   "metadata": {},
   "source": [
    "**Есть ли зависимость между количеством детей и возвратом кредита в срок?**"
   ]
  },
  {
   "cell_type": "code",
   "execution_count": null,
   "id": "271b53f0",
   "metadata": {},
   "outputs": [],
   "source": [
    "# Чтобы проверить гипотезу о зависимости между количеством детей и возвратом кредита в срок,\n",
    "# сгруппируем датафрейм по столбцу с кол-вом детей и выведем среднее значение для \"выплачиваемости кредита\":\n",
    "correl_children_debt = df.groupby('children')['debt'].mean()\n",
    "correl_children_debt"
   ]
  },
  {
   "cell_type": "markdown",
   "id": "a3a26760",
   "metadata": {},
   "source": [
    "Таким образом, можно сделать вывод, что кол-во детей негативно влияет на возврат кредита в срок. Однако, клиенты банка с 5 детьми не имели задолженности вовсе,это связано с тем что кол-во клиентов с 5 детьми минимально."
   ]
  },
  {
   "cell_type": "markdown",
   "id": "a1d82526",
   "metadata": {},
   "source": [
    "<div class=\"alert alert-success\">\n",
    "<b>✔️ Комментарий ревьюера v1:</b> \n",
    "<br>Верно! \n",
    "</div>"
   ]
  },
  {
   "cell_type": "markdown",
   "id": "0b5a4b17",
   "metadata": {},
   "source": [
    "**Есть ли зависимость между семейным положением и возвратом кредита в срок?**"
   ]
  },
  {
   "cell_type": "code",
   "execution_count": null,
   "id": "2ace335f",
   "metadata": {
    "scrolled": true
   },
   "outputs": [],
   "source": [
    "# Аналогично прошлому шагу рассчитаем зависимость между семейным положением и возвратом кредита в срок:\n",
    "correl_family_status_debt = df.groupby('family_status_id')['debt'].mean()\n",
    "correl_family_status_debt"
   ]
  },
  {
   "cell_type": "markdown",
   "id": "90a3e425",
   "metadata": {},
   "source": [
    "Исходя из данных, представленных выше, можно сделать вывод, что клиенты банка находящиеся в браке или разводе чаще выплачивают кредит в срок."
   ]
  },
  {
   "cell_type": "markdown",
   "id": "0a213ae2",
   "metadata": {},
   "source": [
    "<div class=\"alert alert-success\">\n",
    "<b>✔️ Комментарий ревьюера v1:</b> \n",
    "<br>Согласен! Идём дальше)\n",
    "</div>"
   ]
  },
  {
   "cell_type": "markdown",
   "id": "3fc0aaa4",
   "metadata": {},
   "source": [
    "**Есть ли зависимость между уровнем дохода и возвратом кредита в срок?**"
   ]
  },
  {
   "cell_type": "code",
   "execution_count": 19,
   "id": "571f9bdc",
   "metadata": {},
   "outputs": [
    {
     "data": {
      "text/plain": [
       "total_income_category\n",
       "A    0.080000\n",
       "B    0.070621\n",
       "C    0.084915\n",
       "D    0.060000\n",
       "E    0.090909\n",
       "Name: debt, dtype: float64"
      ]
     },
     "execution_count": 19,
     "metadata": {},
     "output_type": "execute_result"
    }
   ],
   "source": [
    "correl_income_debt = df.groupby('total_income_category')['debt'].mean()\n",
    "correl_income_debt"
   ]
  },
  {
   "cell_type": "markdown",
   "id": "74c11867",
   "metadata": {},
   "source": [
    "Можно сделать вывод, что уровень дохода благоприятно влияет на возврат кредита в срок. Однако у клиентов с высшей категорией дохода возвращаемость кредита в срок ниже, чем у некоторых категорий, имеющих меньщий доход, это связано с малым кол-вом клиентов с категорией дохода А."
   ]
  },
  {
   "cell_type": "markdown",
   "id": "8f677de3",
   "metadata": {},
   "source": [
    "<div class=\"alert alert-success\">\n",
    "<b>✔️ Комментарий ревьюера v1:</b> \n",
    "<br>Тут всё правильно\n",
    "</div>"
   ]
  },
  {
   "cell_type": "markdown",
   "id": "67a30594",
   "metadata": {},
   "source": [
    "**Как разные цели кредита влияют на его возврат в срок?**"
   ]
  },
  {
   "cell_type": "code",
   "execution_count": 20,
   "id": "99cab3fa",
   "metadata": {},
   "outputs": [
    {
     "data": {
      "text/plain": [
       "purpose_category\n",
       "операции с автомобилем      0.093590\n",
       "операции с недвижимостью    0.072334\n",
       "получение образования       0.092200\n",
       "проведение свадьбы          0.080034\n",
       "Name: debt, dtype: float64"
      ]
     },
     "execution_count": 20,
     "metadata": {},
     "output_type": "execute_result"
    }
   ],
   "source": [
    "correl_purpose_category_debt = df.groupby('purpose_category')['debt'].mean()\n",
    "correl_purpose_category_debt"
   ]
  },
  {
   "cell_type": "markdown",
   "id": "bc55a501",
   "metadata": {},
   "source": [
    "Исходя из данных выше, можно сделать выовд, что кредиты категории \"операции с недвижимостью\" реже всего оказываются неуплаченными в срок."
   ]
  },
  {
   "cell_type": "code",
   "execution_count": 21,
   "id": "049c47ba",
   "metadata": {},
   "outputs": [
    {
     "data": {
      "text/html": [
       "<div>\n",
       "<style scoped>\n",
       "    .dataframe tbody tr th:only-of-type {\n",
       "        vertical-align: middle;\n",
       "    }\n",
       "\n",
       "    .dataframe tbody tr th {\n",
       "        vertical-align: top;\n",
       "    }\n",
       "\n",
       "    .dataframe thead th {\n",
       "        text-align: right;\n",
       "    }\n",
       "</style>\n",
       "<table border=\"1\" class=\"dataframe\">\n",
       "  <thead>\n",
       "    <tr style=\"text-align: right;\">\n",
       "      <th></th>\n",
       "      <th>debt</th>\n",
       "    </tr>\n",
       "    <tr>\n",
       "      <th>purpose_category</th>\n",
       "      <th></th>\n",
       "    </tr>\n",
       "  </thead>\n",
       "  <tbody>\n",
       "    <tr>\n",
       "      <th>операции с автомобилем</th>\n",
       "      <td>0.093590</td>\n",
       "    </tr>\n",
       "    <tr>\n",
       "      <th>операции с недвижимостью</th>\n",
       "      <td>0.072334</td>\n",
       "    </tr>\n",
       "    <tr>\n",
       "      <th>получение образования</th>\n",
       "      <td>0.092200</td>\n",
       "    </tr>\n",
       "    <tr>\n",
       "      <th>проведение свадьбы</th>\n",
       "      <td>0.080034</td>\n",
       "    </tr>\n",
       "  </tbody>\n",
       "</table>\n",
       "</div>"
      ],
      "text/plain": [
       "                              debt\n",
       "purpose_category                  \n",
       "операции с автомобилем    0.093590\n",
       "операции с недвижимостью  0.072334\n",
       "получение образования     0.092200\n",
       "проведение свадьбы        0.080034"
      ]
     },
     "execution_count": 21,
     "metadata": {},
     "output_type": "execute_result"
    }
   ],
   "source": [
    "purpose_category_debt_pivot = df.pivot_table(index='purpose_category', values='debt', aggfunc='mean')\n",
    "purpose_category_debt_pivot"
   ]
  },
  {
   "cell_type": "markdown",
   "id": "1273e99b",
   "metadata": {},
   "source": [
    "<div class=\"alert alert-success\">\n",
    "<b>✔️ Комментарий ревьюера v1:</b>\n",
    "<br>Абсолютно верно!\n",
    "</div>"
   ]
  },
  {
   "cell_type": "markdown",
   "id": "4848204e",
   "metadata": {},
   "source": [
    "<div class=\"alert alert-danger\">\n",
    "<b>❌ Комментарий ревьюера v1:</b> \n",
    "<br>У тебя верные расчеты, но давай потренируемся строить сводные таблицы используя метод pivot_table. Построй её для ответа на любой из вопросов и в расчитай внутри таблицы долю должников внутри каждой группы. С этим может помочь aggfunc='mean'\n",
    "</div>"
   ]
  },
  {
   "cell_type": "markdown",
   "id": "3b3f140f",
   "metadata": {},
   "source": [
    "<div class=\"alert alert-success\">\n",
    "<b>✔️ Комментарий ревьюера v2:</b>\n",
    "<br>Сводная таблица построена верно!\n",
    "</div>"
   ]
  },
  {
   "cell_type": "markdown",
   "id": "3dc3120b",
   "metadata": {},
   "source": [
    "##### Вывод 1:"
   ]
  },
  {
   "cell_type": "markdown",
   "id": "c4cda8c0",
   "metadata": {},
   "source": [
    "## Общий вывод:"
   ]
  },
  {
   "cell_type": "markdown",
   "id": "3c553460",
   "metadata": {},
   "source": [
    "Таким образом, можно сделать вывод, что кол-во детей негативно влияет на возврат кредита в срок, клиенты банка находящиеся в браке или разводе чаще выплачивают кредит в срок, уровень дохода благоприятно влияет на возврат кредита в срок, кредиты категории \"операции с недвижимостью\" реже всего оказываются неуплаченными в срок."
   ]
  },
  {
   "cell_type": "markdown",
   "id": "5d55fc94",
   "metadata": {},
   "source": [
    "<div class=\"alert alert-success\">\n",
    "<b>✔️ Комментарий ревьюера v1:</b> \n",
    "<br>Общий вывод верный 👍\n",
    "</div>"
   ]
  },
  {
   "cell_type": "markdown",
   "id": "2ebd5ad9",
   "metadata": {},
   "source": [
    "<div class=\"alert alert-danger\">\n",
    "<b>❌ Итоговый комментарий ревьюера v1:</b> \n",
    "<br>Ты хорошо потрудился, большая часть работы сделана, но остаётся внести следующие правки:\n",
    "<br>- написать вывод после первичного анализа данных\t\n",
    "<br>- изменить тип данных в столбце total_income \n",
    "<br>- построить сводную таблицу используя метод pivot_table() для любого из вопросов в шаге 3. В таблице нужно произвести расчет доли должников внутри каждой группы клиентов. \n",
    "</div>"
   ]
  },
  {
   "cell_type": "markdown",
   "id": "3534c7ec",
   "metadata": {},
   "source": [
    "<div class=\"alert alert-success\">\n",
    "<b>✔️ Итоговый комментарий ревьюера v2:</b>\n",
    "<br>Все правки выполнены. Молодец!\n",
    "<br>Ты проделал большую работу! У тебя точные выводы с хорошей аргументацией. Здорово, что ты пишешь свои рассуждения и предположения - это помогает видеть ход твоей мысли. Отдельно хочу выделить аккуратность и структурированность твоей работы. Рад был поработать над проверкой твоего проекта! Желаю удачи в дальнейшем обучении! 😉\n",
    "</div>"
   ]
  }
 ],
 "metadata": {
  "ExecuteTimeLog": [
   {
    "duration": 817,
    "start_time": "2022-04-10T19:40:56.978Z"
   },
   {
    "duration": 69,
    "start_time": "2022-04-10T19:41:29.612Z"
   },
   {
    "duration": 87,
    "start_time": "2022-04-10T19:41:44.691Z"
   },
   {
    "duration": 6,
    "start_time": "2022-04-10T19:46:10.849Z"
   },
   {
    "duration": 6,
    "start_time": "2022-04-10T19:46:26.548Z"
   },
   {
    "duration": 5,
    "start_time": "2022-04-10T19:49:02.647Z"
   },
   {
    "duration": 7,
    "start_time": "2022-04-10T19:49:12.999Z"
   },
   {
    "duration": 12,
    "start_time": "2022-04-10T19:51:24.013Z"
   },
   {
    "duration": 16,
    "start_time": "2022-04-10T19:51:26.671Z"
   },
   {
    "duration": 7,
    "start_time": "2022-04-10T19:51:52.209Z"
   },
   {
    "duration": 32,
    "start_time": "2022-04-10T19:56:44.078Z"
   },
   {
    "duration": 106,
    "start_time": "2022-04-10T19:57:24.781Z"
   },
   {
    "duration": 8,
    "start_time": "2022-04-10T19:57:30.381Z"
   },
   {
    "duration": 7,
    "start_time": "2022-04-10T19:57:36.758Z"
   },
   {
    "duration": 10,
    "start_time": "2022-04-10T19:58:53.663Z"
   },
   {
    "duration": 37,
    "start_time": "2022-04-10T20:05:46.121Z"
   },
   {
    "duration": 8,
    "start_time": "2022-04-10T20:05:58.050Z"
   },
   {
    "duration": 9,
    "start_time": "2022-04-10T20:06:02.230Z"
   },
   {
    "duration": 84,
    "start_time": "2022-04-10T20:06:11.754Z"
   },
   {
    "duration": 9,
    "start_time": "2022-04-10T20:06:14.676Z"
   },
   {
    "duration": 10,
    "start_time": "2022-04-10T20:06:17.434Z"
   },
   {
    "duration": 32,
    "start_time": "2022-04-10T20:11:17.307Z"
   },
   {
    "duration": 5,
    "start_time": "2022-04-10T20:11:23.947Z"
   },
   {
    "duration": 36,
    "start_time": "2022-04-10T20:12:45.351Z"
   },
   {
    "duration": 1132,
    "start_time": "2022-04-10T20:23:02.965Z"
   },
   {
    "duration": 5,
    "start_time": "2022-04-10T20:23:22.174Z"
   },
   {
    "duration": 500,
    "start_time": "2022-04-10T20:23:31.450Z"
   },
   {
    "duration": 1048,
    "start_time": "2022-04-10T20:24:49.179Z"
   },
   {
    "duration": 68,
    "start_time": "2022-04-10T20:25:10.969Z"
   },
   {
    "duration": 6,
    "start_time": "2022-04-10T20:25:34.189Z"
   },
   {
    "duration": 97,
    "start_time": "2022-04-10T20:25:46.210Z"
   },
   {
    "duration": 8,
    "start_time": "2022-04-10T20:25:49.093Z"
   },
   {
    "duration": 9,
    "start_time": "2022-04-10T20:25:51.383Z"
   },
   {
    "duration": 5,
    "start_time": "2022-04-10T20:25:56.149Z"
   },
   {
    "duration": 43,
    "start_time": "2022-04-11T15:23:26.290Z"
   },
   {
    "duration": 459,
    "start_time": "2022-04-11T15:23:37.143Z"
   },
   {
    "duration": 6,
    "start_time": "2022-04-11T15:23:41.720Z"
   },
   {
    "duration": 12,
    "start_time": "2022-04-11T15:23:43.969Z"
   },
   {
    "duration": 3,
    "start_time": "2022-04-11T15:23:47.150Z"
   },
   {
    "duration": 629,
    "start_time": "2022-04-11T15:23:49.848Z"
   },
   {
    "duration": 193,
    "start_time": "2022-04-11T15:24:26.588Z"
   },
   {
    "duration": 4,
    "start_time": "2022-04-11T15:28:19.082Z"
   },
   {
    "duration": 38,
    "start_time": "2022-04-11T15:34:15.829Z"
   },
   {
    "duration": 13,
    "start_time": "2022-04-11T15:34:35.276Z"
   },
   {
    "duration": 6,
    "start_time": "2022-04-11T15:35:57.086Z"
   },
   {
    "duration": 3,
    "start_time": "2022-04-11T15:36:00.049Z"
   },
   {
    "duration": 8,
    "start_time": "2022-04-11T15:38:04.572Z"
   },
   {
    "duration": 8,
    "start_time": "2022-04-11T15:38:07.676Z"
   },
   {
    "duration": 8,
    "start_time": "2022-04-11T15:38:14.325Z"
   },
   {
    "duration": 18,
    "start_time": "2022-04-11T15:38:40.176Z"
   },
   {
    "duration": 16,
    "start_time": "2022-04-11T15:38:46.271Z"
   },
   {
    "duration": 34,
    "start_time": "2022-04-11T15:41:51.419Z"
   },
   {
    "duration": 69,
    "start_time": "2022-04-11T15:42:03.697Z"
   },
   {
    "duration": 5,
    "start_time": "2022-04-11T15:42:03.768Z"
   },
   {
    "duration": 6,
    "start_time": "2022-04-11T15:42:03.775Z"
   },
   {
    "duration": 190,
    "start_time": "2022-04-11T15:42:03.783Z"
   },
   {
    "duration": 0,
    "start_time": "2022-04-11T15:42:03.974Z"
   },
   {
    "duration": 0,
    "start_time": "2022-04-11T15:42:03.976Z"
   },
   {
    "duration": 0,
    "start_time": "2022-04-11T15:42:03.977Z"
   },
   {
    "duration": 29,
    "start_time": "2022-04-11T15:42:17.056Z"
   },
   {
    "duration": 66,
    "start_time": "2022-04-11T15:42:23.758Z"
   },
   {
    "duration": 5,
    "start_time": "2022-04-11T15:42:23.826Z"
   },
   {
    "duration": 8,
    "start_time": "2022-04-11T15:42:23.832Z"
   },
   {
    "duration": 205,
    "start_time": "2022-04-11T15:42:23.843Z"
   },
   {
    "duration": 0,
    "start_time": "2022-04-11T15:42:24.050Z"
   },
   {
    "duration": 0,
    "start_time": "2022-04-11T15:42:24.051Z"
   },
   {
    "duration": 0,
    "start_time": "2022-04-11T15:42:24.053Z"
   },
   {
    "duration": 31,
    "start_time": "2022-04-11T15:42:31.548Z"
   },
   {
    "duration": 19,
    "start_time": "2022-04-11T15:43:29.659Z"
   },
   {
    "duration": 29,
    "start_time": "2022-04-11T15:43:54.288Z"
   },
   {
    "duration": 68,
    "start_time": "2022-04-11T15:43:58.682Z"
   },
   {
    "duration": 4,
    "start_time": "2022-04-11T15:43:58.752Z"
   },
   {
    "duration": 10,
    "start_time": "2022-04-11T15:43:58.758Z"
   },
   {
    "duration": 179,
    "start_time": "2022-04-11T15:43:58.770Z"
   },
   {
    "duration": 0,
    "start_time": "2022-04-11T15:43:58.951Z"
   },
   {
    "duration": 0,
    "start_time": "2022-04-11T15:43:58.952Z"
   },
   {
    "duration": 0,
    "start_time": "2022-04-11T15:43:58.953Z"
   },
   {
    "duration": 5,
    "start_time": "2022-04-11T15:47:56.166Z"
   },
   {
    "duration": 8,
    "start_time": "2022-04-11T15:49:39.854Z"
   },
   {
    "duration": 8,
    "start_time": "2022-04-11T15:50:09.769Z"
   },
   {
    "duration": 8,
    "start_time": "2022-04-11T15:50:19.813Z"
   },
   {
    "duration": 8,
    "start_time": "2022-04-11T15:52:54.028Z"
   },
   {
    "duration": 11,
    "start_time": "2022-04-11T15:53:16.114Z"
   },
   {
    "duration": 7,
    "start_time": "2022-04-11T15:53:26.833Z"
   },
   {
    "duration": 12,
    "start_time": "2022-04-11T15:53:30.690Z"
   },
   {
    "duration": 19,
    "start_time": "2022-04-11T15:53:42.519Z"
   },
   {
    "duration": 6,
    "start_time": "2022-04-11T15:56:04.425Z"
   },
   {
    "duration": 12,
    "start_time": "2022-04-11T15:56:07.622Z"
   },
   {
    "duration": 12,
    "start_time": "2022-04-11T15:56:10.965Z"
   },
   {
    "duration": 80,
    "start_time": "2022-04-11T15:56:34.384Z"
   },
   {
    "duration": 5,
    "start_time": "2022-04-11T15:56:34.465Z"
   },
   {
    "duration": 7,
    "start_time": "2022-04-11T15:56:34.472Z"
   },
   {
    "duration": 227,
    "start_time": "2022-04-11T15:56:34.481Z"
   },
   {
    "duration": 0,
    "start_time": "2022-04-11T15:56:34.710Z"
   },
   {
    "duration": 0,
    "start_time": "2022-04-11T15:56:34.711Z"
   },
   {
    "duration": 0,
    "start_time": "2022-04-11T15:56:34.712Z"
   },
   {
    "duration": 0,
    "start_time": "2022-04-11T15:56:34.713Z"
   },
   {
    "duration": 0,
    "start_time": "2022-04-11T15:56:34.714Z"
   },
   {
    "duration": 0,
    "start_time": "2022-04-11T15:56:34.715Z"
   },
   {
    "duration": 16,
    "start_time": "2022-04-11T15:56:49.133Z"
   },
   {
    "duration": 33,
    "start_time": "2022-04-11T15:56:51.419Z"
   },
   {
    "duration": 66,
    "start_time": "2022-04-11T15:56:55.132Z"
   },
   {
    "duration": 5,
    "start_time": "2022-04-11T15:56:57.953Z"
   },
   {
    "duration": 7,
    "start_time": "2022-04-11T15:57:01.457Z"
   },
   {
    "duration": 6,
    "start_time": "2022-04-11T15:57:11.252Z"
   },
   {
    "duration": 4,
    "start_time": "2022-04-11T15:57:14.821Z"
   },
   {
    "duration": 5,
    "start_time": "2022-04-11T15:57:17.543Z"
   },
   {
    "duration": 10,
    "start_time": "2022-04-11T15:57:19.486Z"
   },
   {
    "duration": 32,
    "start_time": "2022-04-11T15:57:23.982Z"
   },
   {
    "duration": 16,
    "start_time": "2022-04-11T15:57:25.657Z"
   },
   {
    "duration": 4,
    "start_time": "2022-04-11T16:00:13.243Z"
   },
   {
    "duration": 4,
    "start_time": "2022-04-11T16:00:24.973Z"
   },
   {
    "duration": 6,
    "start_time": "2022-04-11T16:00:43.627Z"
   },
   {
    "duration": 10,
    "start_time": "2022-04-11T16:10:33.949Z"
   },
   {
    "duration": 7,
    "start_time": "2022-04-11T16:10:48.948Z"
   },
   {
    "duration": 3079,
    "start_time": "2022-04-11T16:13:14.902Z"
   },
   {
    "duration": 8,
    "start_time": "2022-04-11T16:15:03.272Z"
   },
   {
    "duration": 3024,
    "start_time": "2022-04-11T16:15:10.635Z"
   },
   {
    "duration": 5,
    "start_time": "2022-04-11T16:17:56.291Z"
   },
   {
    "duration": 15,
    "start_time": "2022-04-11T16:57:26.350Z"
   },
   {
    "duration": 14,
    "start_time": "2022-04-11T18:05:02.867Z"
   },
   {
    "duration": 13,
    "start_time": "2022-04-11T18:05:10.262Z"
   },
   {
    "duration": 8,
    "start_time": "2022-04-11T18:06:10.890Z"
   },
   {
    "duration": 11,
    "start_time": "2022-04-11T18:06:14.027Z"
   },
   {
    "duration": 12,
    "start_time": "2022-04-11T18:06:27.072Z"
   },
   {
    "duration": 97,
    "start_time": "2022-04-11T18:06:38.201Z"
   },
   {
    "duration": 6,
    "start_time": "2022-04-11T18:06:38.300Z"
   },
   {
    "duration": 7,
    "start_time": "2022-04-11T18:06:38.307Z"
   },
   {
    "duration": 5,
    "start_time": "2022-04-11T18:06:38.316Z"
   },
   {
    "duration": 5,
    "start_time": "2022-04-11T18:06:38.323Z"
   },
   {
    "duration": 8,
    "start_time": "2022-04-11T18:06:38.330Z"
   },
   {
    "duration": 42,
    "start_time": "2022-04-11T18:06:38.339Z"
   },
   {
    "duration": 28,
    "start_time": "2022-04-11T18:06:38.383Z"
   },
   {
    "duration": 15,
    "start_time": "2022-04-11T18:06:38.413Z"
   },
   {
    "duration": 6,
    "start_time": "2022-04-11T18:06:38.430Z"
   },
   {
    "duration": 16,
    "start_time": "2022-04-11T18:06:52.974Z"
   },
   {
    "duration": 3158,
    "start_time": "2022-04-11T18:18:09.293Z"
   },
   {
    "duration": 162,
    "start_time": "2022-04-11T18:18:54.259Z"
   },
   {
    "duration": 7,
    "start_time": "2022-04-11T18:27:25.072Z"
   },
   {
    "duration": 8,
    "start_time": "2022-04-11T18:27:39.897Z"
   },
   {
    "duration": 120,
    "start_time": "2022-04-11T18:39:00.306Z"
   },
   {
    "duration": 16,
    "start_time": "2022-04-11T18:39:09.598Z"
   },
   {
    "duration": 140,
    "start_time": "2022-04-11T18:41:37.773Z"
   },
   {
    "duration": 15,
    "start_time": "2022-04-11T18:41:40.365Z"
   },
   {
    "duration": 121,
    "start_time": "2022-04-11T18:43:22.722Z"
   },
   {
    "duration": 18,
    "start_time": "2022-04-11T18:43:26.642Z"
   },
   {
    "duration": 204,
    "start_time": "2022-04-11T18:43:51.030Z"
   },
   {
    "duration": 22,
    "start_time": "2022-04-11T18:43:52.731Z"
   },
   {
    "duration": 120,
    "start_time": "2022-04-11T18:43:57.338Z"
   },
   {
    "duration": 15,
    "start_time": "2022-04-11T18:43:59.275Z"
   },
   {
    "duration": 119,
    "start_time": "2022-04-11T18:44:05.947Z"
   },
   {
    "duration": 122,
    "start_time": "2022-04-11T18:44:08.341Z"
   },
   {
    "duration": 15,
    "start_time": "2022-04-11T18:44:10.215Z"
   },
   {
    "duration": 114,
    "start_time": "2022-04-11T18:44:41.440Z"
   },
   {
    "duration": 14,
    "start_time": "2022-04-11T18:44:52.760Z"
   },
   {
    "duration": 116,
    "start_time": "2022-04-11T18:45:50.726Z"
   },
   {
    "duration": 15,
    "start_time": "2022-04-11T18:45:52.413Z"
   },
   {
    "duration": 17,
    "start_time": "2022-04-11T18:54:25.571Z"
   },
   {
    "duration": 863,
    "start_time": "2022-04-11T18:57:05.789Z"
   },
   {
    "duration": 18,
    "start_time": "2022-04-11T19:05:24.629Z"
   },
   {
    "duration": 5,
    "start_time": "2022-04-11T19:05:49.466Z"
   },
   {
    "duration": 4,
    "start_time": "2022-04-11T19:06:19.978Z"
   },
   {
    "duration": 6,
    "start_time": "2022-04-11T19:06:47.056Z"
   },
   {
    "duration": 6,
    "start_time": "2022-04-11T19:06:53.913Z"
   },
   {
    "duration": 7,
    "start_time": "2022-04-11T19:10:28.059Z"
   },
   {
    "duration": 4,
    "start_time": "2022-04-11T19:12:34.034Z"
   },
   {
    "duration": 7,
    "start_time": "2022-04-11T19:12:38.671Z"
   },
   {
    "duration": 25,
    "start_time": "2022-04-11T19:14:21.197Z"
   },
   {
    "duration": 531,
    "start_time": "2022-04-12T19:09:16.158Z"
   },
   {
    "duration": 6,
    "start_time": "2022-04-12T19:09:16.691Z"
   },
   {
    "duration": 18,
    "start_time": "2022-04-12T19:09:16.699Z"
   },
   {
    "duration": 18,
    "start_time": "2022-04-12T19:09:16.719Z"
   },
   {
    "duration": 6,
    "start_time": "2022-04-12T19:09:16.740Z"
   },
   {
    "duration": 8,
    "start_time": "2022-04-12T19:09:16.747Z"
   },
   {
    "duration": 12,
    "start_time": "2022-04-12T19:09:16.757Z"
   },
   {
    "duration": 65,
    "start_time": "2022-04-12T19:09:16.771Z"
   },
   {
    "duration": 18,
    "start_time": "2022-04-12T19:09:16.838Z"
   },
   {
    "duration": 7,
    "start_time": "2022-04-12T19:09:16.858Z"
   },
   {
    "duration": 162,
    "start_time": "2022-04-12T19:09:16.867Z"
   },
   {
    "duration": 141,
    "start_time": "2022-04-12T19:09:17.031Z"
   },
   {
    "duration": 21,
    "start_time": "2022-04-12T19:09:17.174Z"
   },
   {
    "duration": 94,
    "start_time": "2022-04-12T19:09:17.198Z"
   },
   {
    "duration": 4,
    "start_time": "2022-04-12T19:09:47.362Z"
   },
   {
    "duration": 6,
    "start_time": "2022-04-12T19:09:49.834Z"
   },
   {
    "duration": 9,
    "start_time": "2022-04-12T19:09:52.877Z"
   },
   {
    "duration": 13,
    "start_time": "2022-04-12T19:16:03.695Z"
   },
   {
    "duration": 8,
    "start_time": "2022-04-12T19:16:34.325Z"
   },
   {
    "duration": 9,
    "start_time": "2022-04-12T19:18:49.555Z"
   },
   {
    "duration": 8,
    "start_time": "2022-04-12T19:19:10.061Z"
   },
   {
    "duration": 9,
    "start_time": "2022-04-12T19:21:12.130Z"
   },
   {
    "duration": 151,
    "start_time": "2022-04-12T19:28:31.629Z"
   },
   {
    "duration": 147,
    "start_time": "2022-04-12T19:32:28.348Z"
   },
   {
    "duration": 7,
    "start_time": "2022-04-12T19:37:36.337Z"
   },
   {
    "duration": 13,
    "start_time": "2022-04-12T19:37:46.680Z"
   },
   {
    "duration": 89,
    "start_time": "2022-04-12T19:37:53.478Z"
   },
   {
    "duration": 5,
    "start_time": "2022-04-12T19:37:53.570Z"
   },
   {
    "duration": 11,
    "start_time": "2022-04-12T19:37:53.577Z"
   },
   {
    "duration": 7,
    "start_time": "2022-04-12T19:37:53.590Z"
   },
   {
    "duration": 4,
    "start_time": "2022-04-12T19:37:53.599Z"
   },
   {
    "duration": 35,
    "start_time": "2022-04-12T19:37:53.605Z"
   },
   {
    "duration": 35,
    "start_time": "2022-04-12T19:37:53.642Z"
   },
   {
    "duration": 55,
    "start_time": "2022-04-12T19:37:53.679Z"
   },
   {
    "duration": 31,
    "start_time": "2022-04-12T19:37:53.737Z"
   },
   {
    "duration": 8,
    "start_time": "2022-04-12T19:37:53.770Z"
   },
   {
    "duration": 199,
    "start_time": "2022-04-12T19:37:53.779Z"
   },
   {
    "duration": 172,
    "start_time": "2022-04-12T19:37:53.979Z"
   },
   {
    "duration": 6,
    "start_time": "2022-04-12T19:37:54.154Z"
   },
   {
    "duration": 0,
    "start_time": "2022-04-12T19:37:54.162Z"
   },
   {
    "duration": 0,
    "start_time": "2022-04-12T19:37:54.163Z"
   },
   {
    "duration": 0,
    "start_time": "2022-04-12T19:37:54.164Z"
   },
   {
    "duration": 0,
    "start_time": "2022-04-12T19:37:54.166Z"
   },
   {
    "duration": 7,
    "start_time": "2022-04-12T19:38:02.700Z"
   },
   {
    "duration": 73,
    "start_time": "2022-04-12T19:38:07.454Z"
   },
   {
    "duration": 6,
    "start_time": "2022-04-12T19:38:10.565Z"
   },
   {
    "duration": 7,
    "start_time": "2022-04-12T19:38:12.807Z"
   },
   {
    "duration": 6,
    "start_time": "2022-04-12T19:38:15.648Z"
   },
   {
    "duration": 5,
    "start_time": "2022-04-12T19:38:17.216Z"
   },
   {
    "duration": 6,
    "start_time": "2022-04-12T19:38:20.212Z"
   },
   {
    "duration": 13,
    "start_time": "2022-04-12T19:38:21.667Z"
   },
   {
    "duration": 36,
    "start_time": "2022-04-12T19:38:22.178Z"
   },
   {
    "duration": 21,
    "start_time": "2022-04-12T19:38:23.071Z"
   },
   {
    "duration": 9,
    "start_time": "2022-04-12T19:38:25.925Z"
   },
   {
    "duration": 147,
    "start_time": "2022-04-12T19:38:26.747Z"
   },
   {
    "duration": 148,
    "start_time": "2022-04-12T19:38:28.169Z"
   },
   {
    "duration": 6,
    "start_time": "2022-04-12T19:38:28.340Z"
   },
   {
    "duration": 8,
    "start_time": "2022-04-12T19:38:31.726Z"
   },
   {
    "duration": 10,
    "start_time": "2022-04-12T19:38:34.946Z"
   },
   {
    "duration": 10,
    "start_time": "2022-04-12T19:38:35.648Z"
   },
   {
    "duration": 12,
    "start_time": "2022-04-12T19:38:36.626Z"
   },
   {
    "duration": 12,
    "start_time": "2022-04-12T19:38:45.076Z"
   },
   {
    "duration": 10,
    "start_time": "2022-04-12T19:38:55.571Z"
   },
   {
    "duration": 20,
    "start_time": "2022-04-12T19:39:00.332Z"
   },
   {
    "duration": 4,
    "start_time": "2022-04-12T19:39:29.793Z"
   },
   {
    "duration": 4,
    "start_time": "2022-04-12T19:39:39.218Z"
   },
   {
    "duration": 10,
    "start_time": "2022-04-12T19:39:55.150Z"
   },
   {
    "duration": 19,
    "start_time": "2022-04-12T19:48:27.258Z"
   },
   {
    "duration": 469,
    "start_time": "2022-04-22T13:48:55.300Z"
   },
   {
    "duration": 5,
    "start_time": "2022-04-22T13:48:55.771Z"
   },
   {
    "duration": 14,
    "start_time": "2022-04-22T13:48:55.778Z"
   },
   {
    "duration": 6,
    "start_time": "2022-04-22T13:48:55.794Z"
   },
   {
    "duration": 22,
    "start_time": "2022-04-22T13:48:55.802Z"
   },
   {
    "duration": 5,
    "start_time": "2022-04-22T13:48:55.826Z"
   },
   {
    "duration": 12,
    "start_time": "2022-04-22T13:48:55.833Z"
   },
   {
    "duration": 32,
    "start_time": "2022-04-22T13:48:55.847Z"
   },
   {
    "duration": 16,
    "start_time": "2022-04-22T13:48:55.881Z"
   },
   {
    "duration": 28,
    "start_time": "2022-04-22T13:48:55.899Z"
   },
   {
    "duration": 135,
    "start_time": "2022-04-22T13:48:55.928Z"
   },
   {
    "duration": 134,
    "start_time": "2022-04-22T13:48:56.065Z"
   },
   {
    "duration": 28,
    "start_time": "2022-04-22T13:48:56.200Z"
   },
   {
    "duration": 8,
    "start_time": "2022-04-22T13:48:56.230Z"
   },
   {
    "duration": 7,
    "start_time": "2022-04-22T13:48:56.239Z"
   },
   {
    "duration": 10,
    "start_time": "2022-04-22T13:48:56.248Z"
   },
   {
    "duration": 7,
    "start_time": "2022-04-22T13:48:56.260Z"
   },
   {
    "duration": 12,
    "start_time": "2022-04-22T13:50:20.175Z"
   },
   {
    "duration": 7,
    "start_time": "2022-04-22T13:50:58.165Z"
   },
   {
    "duration": 7,
    "start_time": "2022-04-22T13:51:13.067Z"
   },
   {
    "duration": 48,
    "start_time": "2022-04-23T15:58:45.975Z"
   },
   {
    "duration": 569,
    "start_time": "2022-04-23T15:58:54.652Z"
   },
   {
    "duration": 6,
    "start_time": "2022-04-23T15:58:55.224Z"
   },
   {
    "duration": 27,
    "start_time": "2022-04-23T15:58:55.232Z"
   },
   {
    "duration": 7,
    "start_time": "2022-04-23T15:58:55.262Z"
   },
   {
    "duration": 10,
    "start_time": "2022-04-23T15:58:55.271Z"
   },
   {
    "duration": 14,
    "start_time": "2022-04-23T15:58:55.283Z"
   },
   {
    "duration": 21,
    "start_time": "2022-04-23T15:58:55.299Z"
   },
   {
    "duration": 62,
    "start_time": "2022-04-23T15:58:55.322Z"
   },
   {
    "duration": 25,
    "start_time": "2022-04-23T15:58:55.386Z"
   },
   {
    "duration": 8,
    "start_time": "2022-04-23T15:58:55.414Z"
   },
   {
    "duration": 142,
    "start_time": "2022-04-23T15:58:55.424Z"
   },
   {
    "duration": 201,
    "start_time": "2022-04-23T15:58:55.568Z"
   },
   {
    "duration": 21,
    "start_time": "2022-04-23T15:58:55.771Z"
   },
   {
    "duration": 7,
    "start_time": "2022-04-23T15:58:55.794Z"
   },
   {
    "duration": 11,
    "start_time": "2022-04-23T15:58:55.802Z"
   },
   {
    "duration": 34,
    "start_time": "2022-04-23T15:58:55.815Z"
   },
   {
    "duration": 8,
    "start_time": "2022-04-23T15:58:55.851Z"
   },
   {
    "duration": 5,
    "start_time": "2022-04-23T15:59:04.777Z"
   },
   {
    "duration": 4,
    "start_time": "2022-04-23T15:59:08.814Z"
   },
   {
    "duration": 5,
    "start_time": "2022-04-23T15:59:15.732Z"
   },
   {
    "duration": 30,
    "start_time": "2022-04-23T16:02:15.305Z"
   },
   {
    "duration": 5,
    "start_time": "2022-04-23T16:04:30.296Z"
   },
   {
    "duration": 8,
    "start_time": "2022-04-23T16:04:49.253Z"
   },
   {
    "duration": 7,
    "start_time": "2022-04-23T16:20:21.589Z"
   },
   {
    "duration": 61,
    "start_time": "2022-04-23T16:20:30.698Z"
   },
   {
    "duration": 5,
    "start_time": "2022-04-23T16:20:30.762Z"
   },
   {
    "duration": 12,
    "start_time": "2022-04-23T16:20:30.768Z"
   },
   {
    "duration": 20,
    "start_time": "2022-04-23T16:20:30.783Z"
   },
   {
    "duration": 15,
    "start_time": "2022-04-23T16:20:30.806Z"
   },
   {
    "duration": 13,
    "start_time": "2022-04-23T16:20:30.823Z"
   },
   {
    "duration": 22,
    "start_time": "2022-04-23T16:20:30.839Z"
   },
   {
    "duration": 43,
    "start_time": "2022-04-23T16:20:30.863Z"
   },
   {
    "duration": 16,
    "start_time": "2022-04-23T16:20:30.908Z"
   },
   {
    "duration": 8,
    "start_time": "2022-04-23T16:20:30.927Z"
   },
   {
    "duration": 212,
    "start_time": "2022-04-23T16:20:30.947Z"
   },
   {
    "duration": 219,
    "start_time": "2022-04-23T16:20:31.161Z"
   },
   {
    "duration": 23,
    "start_time": "2022-04-23T16:20:31.382Z"
   },
   {
    "duration": 11,
    "start_time": "2022-04-23T16:20:31.407Z"
   },
   {
    "duration": 28,
    "start_time": "2022-04-23T16:20:31.420Z"
   },
   {
    "duration": 8,
    "start_time": "2022-04-23T16:20:31.450Z"
   },
   {
    "duration": 13,
    "start_time": "2022-04-23T16:20:31.460Z"
   },
   {
    "duration": 15,
    "start_time": "2022-04-23T16:20:31.474Z"
   },
   {
    "duration": 12,
    "start_time": "2022-04-23T16:20:34.002Z"
   },
   {
    "duration": 21,
    "start_time": "2022-04-23T16:20:40.129Z"
   },
   {
    "duration": 10,
    "start_time": "2022-04-23T16:59:22.013Z"
   },
   {
    "duration": 8,
    "start_time": "2022-04-23T16:59:56.175Z"
   },
   {
    "duration": 17,
    "start_time": "2022-04-23T16:59:59.339Z"
   },
   {
    "duration": 16,
    "start_time": "2022-04-23T17:00:22.317Z"
   },
   {
    "duration": 18,
    "start_time": "2022-04-23T17:00:35.031Z"
   },
   {
    "duration": 24,
    "start_time": "2022-04-23T17:00:40.397Z"
   },
   {
    "duration": 5,
    "start_time": "2022-04-23T17:04:41.916Z"
   },
   {
    "duration": 5,
    "start_time": "2022-04-23T17:04:47.378Z"
   },
   {
    "duration": 5,
    "start_time": "2022-04-23T17:08:25.297Z"
   },
   {
    "duration": 8,
    "start_time": "2022-04-23T17:09:06.333Z"
   },
   {
    "duration": 21,
    "start_time": "2022-04-23T17:09:37.741Z"
   },
   {
    "duration": 412,
    "start_time": "2022-04-24T09:36:17.772Z"
   },
   {
    "duration": 80,
    "start_time": "2022-04-24T09:36:18.186Z"
   },
   {
    "duration": 8,
    "start_time": "2022-04-24T09:36:18.267Z"
   },
   {
    "duration": 18,
    "start_time": "2022-04-24T09:36:18.276Z"
   },
   {
    "duration": 6,
    "start_time": "2022-04-24T09:36:18.295Z"
   },
   {
    "duration": 10,
    "start_time": "2022-04-24T09:36:18.302Z"
   },
   {
    "duration": 5,
    "start_time": "2022-04-24T09:36:18.313Z"
   },
   {
    "duration": 5,
    "start_time": "2022-04-24T09:36:18.319Z"
   },
   {
    "duration": 6,
    "start_time": "2022-04-24T09:36:18.325Z"
   },
   {
    "duration": 10,
    "start_time": "2022-04-24T09:36:18.332Z"
   },
   {
    "duration": 30,
    "start_time": "2022-04-24T09:36:18.344Z"
   },
   {
    "duration": 37,
    "start_time": "2022-04-24T09:36:18.376Z"
   },
   {
    "duration": 6,
    "start_time": "2022-04-24T09:36:18.414Z"
   },
   {
    "duration": 136,
    "start_time": "2022-04-24T09:36:18.423Z"
   },
   {
    "duration": 133,
    "start_time": "2022-04-24T09:36:18.560Z"
   },
   {
    "duration": 17,
    "start_time": "2022-04-24T09:36:18.695Z"
   },
   {
    "duration": 8,
    "start_time": "2022-04-24T09:36:18.730Z"
   },
   {
    "duration": 8,
    "start_time": "2022-04-24T09:36:18.739Z"
   },
   {
    "duration": 15,
    "start_time": "2022-04-24T09:36:18.748Z"
   }
  ],
  "kernelspec": {
   "display_name": "Python 3 (ipykernel)",
   "language": "python",
   "name": "python3"
  },
  "language_info": {
   "codemirror_mode": {
    "name": "ipython",
    "version": 3
   },
   "file_extension": ".py",
   "mimetype": "text/x-python",
   "name": "python",
   "nbconvert_exporter": "python",
   "pygments_lexer": "ipython3",
   "version": "3.9.5"
  },
  "toc": {
   "base_numbering": 1,
   "nav_menu": {},
   "number_sections": true,
   "sideBar": true,
   "skip_h1_title": true,
   "title_cell": "Table of Contents",
   "title_sidebar": "Contents",
   "toc_cell": false,
   "toc_position": {},
   "toc_section_display": true,
   "toc_window_display": false
  }
 },
 "nbformat": 4,
 "nbformat_minor": 5
}
