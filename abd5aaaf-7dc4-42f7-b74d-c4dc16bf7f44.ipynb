{
 "cells": [
  {
   "cell_type": "markdown",
   "metadata": {},
   "source": [
    "<div style=\"border:solid purple 2px; padding: 20px\"> \n",
    "\n",
    "Привет Марк! 👋\n",
    "\n",
    "Меня зовут Рустам Муртазин, и я буду делать ревью твоей работы. Давай будем общаться на **«ты»**. Если это неприемлемо, обязательно напиши мне в комментариях — мы перейдем на **«вы»**.\n",
    "\n",
    "Я не хочу указавать тебе на совершенные тобою ошибки, а хочу поделиться своим опытом и помочь тебе стать настоящим профессионалом и сделать проект еще лучше.\n",
    "\n",
    "Обрати внимание в первую очередь на те, что помечаны <span style=\"color:red\">красным цветом</span>. После их доработки проект будет принят. <span style=\"color:green\">Зеленым цветом</span> отмечены удачные и элегантные решения, на которые можно опираться в будущих проектах. <span style=\"color:orange\">Оранжевым цветом</span> выделено то, что в следующий раз можно сделать по-другому. Ты можешь учесть эти комментарии при выполнении будущих заданий или доработать проект сейчас (однако это не обязательно). Также в проекте могут быть небольшие «лайфхаки» по Python, не относящиеся к проекту, их я выделил фиолетовым цветом)\n",
    "\n",
    "Давай работать над проектом в диалоге: если ты **что-то меняешь** в проекте по моим рекомендациям — **пиши об этом**. Выбери для своих комментариев какой-то заметный цвет, так мне будет легче отследить изменения. Пожалуйста, **не перемещай, не изменяй и не удаляй мои комментарии**. Всё это поможет выполнить повторную проверку твоего проекта оперативнее».\n",
    "\n",
    "Мне понравился твой проект, есть пару замечаний, но их не много, я думаю ты быстро справишься. Жду твою работу на повторное ревью :)\n"
   ]
  },
  {
   "cell_type": "markdown",
   "metadata": {},
   "source": [
    "<div class=\"alert alert-success\">\n",
    "<h2> Комментарий ревьюера v2 ✔️ <a class=\"tocSkip\"> </h2>\n",
    "\n",
    "Спасибо, за быструю доработку комментариев! Все моменты были исправлены, так что работу я принимаю. Единственное просьба, при доработке проекта как-то выделять исправления (лучше цветом), чтобы нам, ревьюерам, было сразу видно, что поменялось. Это сократит время повторной проверки) \n",
    "    \n",
    "Также просьба проверять проект на работоспособность. В последней модели была опечатка, поэтому код в ячеке не выполнялся. После того как ты доделал и завершил работу, можешь перепроверять ее. Для этого кликай `Kernel - Restart & Run All`, и смотри, все ли работает.\n",
    "    \n",
    "Благодарю за старания и интерес и желаю успехов в дальнейших проектах 😊\n",
    "\n",
    "</div>"
   ]
  },
  {
   "cell_type": "markdown",
   "metadata": {
    "toc": true
   },
   "source": [
    "<h1>Содержание<span class=\"tocSkip\"></span></h1>\n",
    "<div class=\"toc\"><ul class=\"toc-item\"><li><span><a href=\"#Подготовка-данных\" data-toc-modified-id=\"Подготовка-данных-1\"><span class=\"toc-item-num\">1&nbsp;&nbsp;</span>Подготовка данных</a></span></li><li><span><a href=\"#Исследование-задачи\" data-toc-modified-id=\"Исследование-задачи-2\"><span class=\"toc-item-num\">2&nbsp;&nbsp;</span>Исследование задачи</a></span></li><li><span><a href=\"#Борьба-с-дисбалансом\" data-toc-modified-id=\"Борьба-с-дисбалансом-3\"><span class=\"toc-item-num\">3&nbsp;&nbsp;</span>Борьба с дисбалансом</a></span></li><li><span><a href=\"#Тестирование-модели\" data-toc-modified-id=\"Тестирование-модели-4\"><span class=\"toc-item-num\">4&nbsp;&nbsp;</span>Тестирование модели</a></span></li><li><span><a href=\"#Чек-лист-готовности-проекта\" data-toc-modified-id=\"Чек-лист-готовности-проекта-5\"><span class=\"toc-item-num\">5&nbsp;&nbsp;</span>Чек-лист готовности проекта</a></span></li></ul></div>"
   ]
  },
  {
   "cell_type": "markdown",
   "metadata": {},
   "source": [
    "# Отток клиентов"
   ]
  },
  {
   "cell_type": "markdown",
   "metadata": {},
   "source": [
    "Из «Бета-Банка» стали уходить клиенты. Каждый месяц. Немного, но заметно. Банковские маркетологи посчитали: сохранять текущих клиентов дешевле, чем привлекать новых.\n",
    "\n",
    "Нужно спрогнозировать, уйдёт клиент из банка в ближайшее время или нет. Вам предоставлены исторические данные о поведении клиентов и расторжении договоров с банком. \n",
    "\n",
    "Постройте модель с предельно большим значением *F1*-меры. Чтобы сдать проект успешно, нужно довести метрику до 0.59. Проверьте *F1*-меру на тестовой выборке самостоятельно.\n",
    "\n",
    "Дополнительно измеряйте *AUC-ROC*, сравнивайте её значение с *F1*-мерой.\n",
    "\n",
    "Источник данных: [https://www.kaggle.com/barelydedicated/bank-customer-churn-modeling](https://www.kaggle.com/barelydedicated/bank-customer-churn-modeling)"
   ]
  },
  {
   "cell_type": "markdown",
   "metadata": {},
   "source": [
    "# Описание данных"
   ]
  },
  {
   "cell_type": "markdown",
   "metadata": {},
   "source": [
    "**Признаки**\n",
    "\n",
    "    RowNumber — индекс строки в данных\n",
    "    CustomerId — уникальный идентификатор клиента\n",
    "    Surname — фамилия\n",
    "    CreditScore — кредитный рейтинг\n",
    "    Geography — страна проживания\n",
    "    Gender — пол\n",
    "    Age — возраст\n",
    "    Tenure — сколько лет человек является клиентом банка\n",
    "    Balance — баланс на счёте\n",
    "    NumOfProducts — количество продуктов банка, используемых клиентом\n",
    "    HasCrCard — наличие кредитной карты\n",
    "    IsActiveMember — активность клиента\n",
    "    EstimatedSalary — предполагаемая зарплата\n",
    "\n",
    "**Целевой признак**\n",
    "\n",
    "    Exited — факт ухода клиента"
   ]
  },
  {
   "cell_type": "markdown",
   "metadata": {},
   "source": [
    "## Подготовка данных"
   ]
  },
  {
   "cell_type": "code",
   "execution_count": 1,
   "metadata": {},
   "outputs": [],
   "source": [
    "# Импортирование библиотек:\n",
    "import pandas as pd\n",
    "import numpy as np\n",
    "import matplotlib.pyplot as plt\n",
    "from sklearn.model_selection import train_test_split\n",
    "from sklearn.tree import DecisionTreeClassifier\n",
    "from sklearn.ensemble import RandomForestClassifier\n",
    "from sklearn.linear_model import LogisticRegression\n",
    "from sklearn.preprocessing import OrdinalEncoder\n",
    "from sklearn.metrics import f1_score\n",
    "from sklearn.model_selection import GridSearchCV\n",
    "from sklearn.metrics import roc_curve, roc_auc_score"
   ]
  },
  {
   "cell_type": "code",
   "execution_count": 2,
   "metadata": {},
   "outputs": [],
   "source": [
    "# Загрузка датасета:\n",
    "df = pd.read_csv('/datasets/Churn.csv')"
   ]
  },
  {
   "cell_type": "code",
   "execution_count": 3,
   "metadata": {
    "scrolled": false
   },
   "outputs": [
    {
     "name": "stdout",
     "output_type": "stream",
     "text": [
      "<class 'pandas.core.frame.DataFrame'>\n",
      "RangeIndex: 10000 entries, 0 to 9999\n",
      "Data columns (total 14 columns):\n",
      " #   Column           Non-Null Count  Dtype  \n",
      "---  ------           --------------  -----  \n",
      " 0   RowNumber        10000 non-null  int64  \n",
      " 1   CustomerId       10000 non-null  int64  \n",
      " 2   Surname          10000 non-null  object \n",
      " 3   CreditScore      10000 non-null  int64  \n",
      " 4   Geography        10000 non-null  object \n",
      " 5   Gender           10000 non-null  object \n",
      " 6   Age              10000 non-null  int64  \n",
      " 7   Tenure           9091 non-null   float64\n",
      " 8   Balance          10000 non-null  float64\n",
      " 9   NumOfProducts    10000 non-null  int64  \n",
      " 10  HasCrCard        10000 non-null  int64  \n",
      " 11  IsActiveMember   10000 non-null  int64  \n",
      " 12  EstimatedSalary  10000 non-null  float64\n",
      " 13  Exited           10000 non-null  int64  \n",
      "dtypes: float64(3), int64(8), object(3)\n",
      "memory usage: 1.1+ MB\n"
     ]
    }
   ],
   "source": [
    "# Основная информация о данных:\n",
    "df.info()"
   ]
  },
  {
   "cell_type": "code",
   "execution_count": 4,
   "metadata": {
    "scrolled": false
   },
   "outputs": [
    {
     "name": "stdout",
     "output_type": "stream",
     "text": [
      "RowNumber 0\n",
      "CustomerId 0\n",
      "Surname 0\n",
      "CreditScore 0\n",
      "Geography 0\n",
      "Gender 0\n",
      "Age 0\n",
      "Tenure 909\n",
      "Balance 0\n",
      "NumOfProducts 0\n",
      "HasCrCard 0\n",
      "IsActiveMember 0\n",
      "EstimatedSalary 0\n",
      "Exited 0\n"
     ]
    }
   ],
   "source": [
    "# Проверим колонки датафрейма на пропуски:\n",
    "for i in df.columns:\n",
    "    print(i, df[i].isna().sum())"
   ]
  },
  {
   "cell_type": "markdown",
   "metadata": {},
   "source": [
    "<div class=\"alert alert-success\">\n",
    "<h2> Комментарий ревьюера ✔️ <a class=\"tocSkip\"> </h2>\n",
    "\n",
    "А можно было так\n",
    "    \n",
    "    df.isna().sum()"
   ]
  },
  {
   "cell_type": "code",
   "execution_count": 5,
   "metadata": {},
   "outputs": [],
   "source": [
    "# Приведём названия столбцов к нижнему регистру:\n",
    "df.columns = df.columns.str.lower()"
   ]
  },
  {
   "cell_type": "code",
   "execution_count": 6,
   "metadata": {},
   "outputs": [],
   "source": [
    "# Заполним столбец с пропусками:\n",
    "df = df.fillna(np.random.randint(df['tenure'].min(), df['tenure'].max()))"
   ]
  },
  {
   "cell_type": "markdown",
   "metadata": {},
   "source": [
    "<div class=\"alert alert-danger\">\n",
    "<h2> Комментарий ревьюера ❌ <a class=\"tocSkip\"> </h2>\n",
    "\n",
    "Все же удалить 9% данных, это очень много, теряем довольно большую часть данных. Как можно было поступить:\n",
    "    \n",
    "- распределение по `Tenure` ровномерное, если сейчас заменить почти 900 пропусков (9% данных) средним или медианой, то мы значительно исказим распределение. В таком случае можно заполнить пропуски случайными значениями в интервале от минимального до максимального значения по данному столбцу.\n",
    "\n",
    "- Так как значений в этом признаке ограниченное количество, можно сделать его категориальным признаком. Пропуски можно считать как за отдельную категорию (заполнить значением -1). Затем заменить тип данных `Tenure` на `object` и применить технику [OHE](https://scikit-learn.org/stable/modules/generated/sklearn.preprocessing.OneHotEncoder.html)."
   ]
  },
  {
   "cell_type": "markdown",
   "metadata": {},
   "source": [
    "<div class=\"alert alert-warning\">\n",
    "<h2> Комментарий ревьюера v2 ⚠️ <a class=\"tocSkip\"> </h2>\n",
    "\n",
    "На самом деле, при такой реализации ты заменяешь все пропуски одним числом, это ты можешь проверить вывев распределение по столбцу. Чтобы при замене использовались разные числа нужно сделать что-то похожее на это\n",
    "    \n",
    "    data.loc[data['Tenure'].isna(), 'Tenure'] = [random.randint(min(data['Tenure']), max(data['Tenure'])) for i in\n",
    "                                                 range(data['Tenure'].isna().sum())]\n",
    "\n",
    "                                                 "
   ]
  },
  {
   "cell_type": "code",
   "execution_count": 7,
   "metadata": {},
   "outputs": [
    {
     "name": "stdout",
     "output_type": "stream",
     "text": [
      "['France' 'Spain' 'Germany']\n",
      "['Female' 'Male']\n"
     ]
    }
   ],
   "source": [
    "print(df['geography'].unique())\n",
    "print(df['gender'].unique())"
   ]
  },
  {
   "cell_type": "code",
   "execution_count": 8,
   "metadata": {},
   "outputs": [],
   "source": [
    "# Удалим столбец с фамилиями клиентов, так как они только мешает и при необходимсоти информацию о клиенте можно получить через Customer ID\n",
    "df = df.drop(['rownumber', 'surname', 'customerid'], axis = 1)\n"
   ]
  },
  {
   "cell_type": "markdown",
   "metadata": {},
   "source": [
    "<div class=\"alert alert-danger\">\n",
    "<h2> Комментарий ревьюера ❌ <a class=\"tocSkip\"> </h2>\n",
    "\n",
    "Удалить неинформативные столбцы - правильное решение. Но как насчет `CustomerId`? Правильно ли, что наша модель будет зависеть от ID клиента..."
   ]
  },
  {
   "cell_type": "markdown",
   "metadata": {},
   "source": [
    "<div class=\"alert alert-success\">\n",
    "<h2> Комментарий ревьюера ✔️ <a class=\"tocSkip\"> </h2>\n",
    "\n",
    "И можно короче\n",
    "\n",
    "    df = df.drop(['RowNumber', 'Surname'], axis = 1)"
   ]
  },
  {
   "cell_type": "code",
   "execution_count": 9,
   "metadata": {},
   "outputs": [],
   "source": [
    "df = pd.get_dummies(df, drop_first=True)"
   ]
  },
  {
   "cell_type": "markdown",
   "metadata": {},
   "source": [
    "<div class=\"alert alert-success\">\n",
    "<h2> Комментарий ревьюера ✔️ <a class=\"tocSkip\"> </h2>\n",
    "\n",
    "В данном случае это наиболее подходящий способ закодировать категориальные колонки 👍 И отдельный плюс за `drop_first`. И можно было так\n",
    "    \n",
    "    df = pd.get_dummies(df, drop_first=True)"
   ]
  },
  {
   "cell_type": "code",
   "execution_count": 10,
   "metadata": {
    "scrolled": true
   },
   "outputs": [
    {
     "data": {
      "text/plain": [
       "0"
      ]
     },
     "execution_count": 10,
     "metadata": {},
     "output_type": "execute_result"
    }
   ],
   "source": [
    "# Проверка на дубликаты:\n",
    "df.duplicated().sum()"
   ]
  },
  {
   "cell_type": "code",
   "execution_count": 11,
   "metadata": {},
   "outputs": [],
   "source": [
    "# Разбиение данных на две выборки\n",
    "df_train, df_test = train_test_split(df, test_size = 0.3, random_state = 12345)"
   ]
  },
  {
   "cell_type": "markdown",
   "metadata": {},
   "source": [
    "<div class=\"alert alert-success\">\n",
    "<h2> Комментарий ревьюера ✔️ <a class=\"tocSkip\"> </h2>\n",
    "\n",
    "Круто, что ты фиксируешь `random_state`. Кстати, его можно задать один раз в начале проекта, например, используя любимый нами [numpy](https://pyprog.pro/random_sampling_functions/seed.html?)"
   ]
  },
  {
   "cell_type": "code",
   "execution_count": 12,
   "metadata": {
    "scrolled": true
   },
   "outputs": [
    {
     "name": "stdout",
     "output_type": "stream",
     "text": [
      "(7000, 12)\n",
      "(3000, 12)\n"
     ]
    }
   ],
   "source": [
    "# Проверим размеры полученных выборок:\n",
    "print(df_train.shape)\n",
    "print(df_test.shape)"
   ]
  },
  {
   "cell_type": "code",
   "execution_count": 13,
   "metadata": {},
   "outputs": [],
   "source": [
    "features_train = df_train.drop(['exited'], axis=1)\n",
    "target_train = df_train['exited']\n",
    "\n",
    "features_test = df_test.drop(['exited'], axis=1)\n",
    "target_test = df_test['exited']"
   ]
  },
  {
   "cell_type": "markdown",
   "metadata": {},
   "source": [
    "## Исследование задачи"
   ]
  },
  {
   "cell_type": "code",
   "execution_count": 14,
   "metadata": {},
   "outputs": [
    {
     "data": {
      "text/plain": [
       "<AxesSubplot:>"
      ]
     },
     "execution_count": 14,
     "metadata": {},
     "output_type": "execute_result"
    },
    {
     "data": {
      "image/png": "[encoded data removed]",
      "text/plain": [
       "<Figure size 432x288 with 1 Axes>"
      ]
     },
     "metadata": {
      "needs_background": "light"
     },
     "output_type": "display_data"
    }
   ],
   "source": [
    "df['exited'].value_counts().plot(kind='bar')"
   ]
  },
  {
   "cell_type": "markdown",
   "metadata": {},
   "source": [
    "Как видно наблюдается сильный дисбаланс классов"
   ]
  },
  {
   "cell_type": "code",
   "execution_count": 15,
   "metadata": {},
   "outputs": [
    {
     "data": {
      "text/plain": [
       "20.4"
      ]
     },
     "execution_count": 15,
     "metadata": {},
     "output_type": "execute_result"
    }
   ],
   "source": [
    "# Рассмотрим в какой пропорции распределён целевой параметр exited:\n",
    "\n",
    "(((df['exited'] == 1).sum() / df['exited'].count()) * 100).round(1)\n",
    "\n",
    "# Примерно 20% клиентов ушли, следовательно класс [0] встречается примерно в 5 раз чаще чем класс [1]"
   ]
  },
  {
   "cell_type": "code",
   "execution_count": 40,
   "metadata": {},
   "outputs": [],
   "source": [
    "# Дерево:\n",
    "\n",
    "# С помощью модуля GridSearchCV определим оптимальные значения гиперпараметров модели:\n",
    "\n",
    "model_cv_test = DecisionTreeClassifier()\n",
    "\n",
    "parametrs = { 'max_depth': range (1,31, 2),\n",
    "              'min_samples_leaf': range (1,10),\n",
    "              'min_samples_split': range (2,20,2) }\n",
    "\n",
    "grid = GridSearchCV(model_cv_test, parametrs, cv=5)\n",
    "grid.fit(features_train, target_train)\n",
    "grid.best_params_"
   ]
  },
  {
   "cell_type": "markdown",
   "metadata": {},
   "source": [
    "<div class=\"alert alert-danger\">\n",
    "<h2> Комментарий ревьюера ❌ <a class=\"tocSkip\"> </h2>\n",
    "\n",
    "GridSearchCV - шикарная штука, и очень похвально, что ты его используешь. Но только тогда нам не нужно выделять валидационную выборку, ведь внутри GridSearchCV зашита кроссвалидация, и получается мы не до конца используем потенциал наших данных, потому что меньше данных отдаем на обучение. Раз ты используешь GridSearchCV, то разбивай данные в проекте только на две выборки"
   ]
  },
  {
   "cell_type": "markdown",
   "metadata": {},
   "source": [
    "<div class=\"alert alert-success\">\n",
    "<h2> Комментарий ревьюера v2 ✔️ <a class=\"tocSkip\"> </h2>\n",
    "\n",
    "Вижу исправил, но хорошо бы отмечать свои исправления, так сразу было бы понятно, что изменилось"
   ]
  },
  {
   "cell_type": "code",
   "execution_count": 17,
   "metadata": {},
   "outputs": [
    {
     "name": "stdout",
     "output_type": "stream",
     "text": [
      "F1: 0.5476673427991887\n"
     ]
    },
    {
     "data": {
      "image/png": "[encoded data removed]",
      "text/plain": [
       "<Figure size 432x288 with 1 Axes>"
      ]
     },
     "metadata": {
      "needs_background": "light"
     },
     "output_type": "display_data"
    }
   ],
   "source": [
    "# Обучим модель без учёта дизбаланса классов:\n",
    "\n",
    "# # Обучим модель дерева:\n",
    "\n",
    "model_tree = DecisionTreeClassifier(random_state=12345, max_depth=7, min_samples_leaf=3, min_samples_split=18)\n",
    "model_tree.fit(features_train, target_train)\n",
    "predictions = model_tree.predict(features_test)\n",
    "print(\"F1:\", f1_score(target_test, predictions))\n",
    "\n",
    "probabilities = model_tree.predict_proba(features_test)\n",
    "probabilities_one_test = probabilities[:, 1]\n",
    "fpr, tpr, thresholds = roc_curve(target_test, probabilities_one_test)\n",
    "\n",
    "plt.figure()\n",
    "# Для сравнения отобразим ROC-кривую случайной модели:\n",
    "plt.plot([0, 1], [0, 1], linestyle='--')\n",
    "\n",
    "plt.plot(fpr, tpr)\n",
    "plt.xlim([0.0, 1.0])\n",
    "plt.ylim([0.0, 1.0])\n",
    "plt.xlabel('False Positive Rate')\n",
    "plt.ylabel('True Positive Rate')\n",
    "plt.title('ROC-кривая')\n",
    "plt.show()"
   ]
  },
  {
   "cell_type": "code",
   "execution_count": 39,
   "metadata": {},
   "outputs": [],
   "source": [
    "# Случайны лес:\n",
    "\n",
    "# С помощью модуля GridSearchCV определим оптимальные значения гиперпараметров модели:\n",
    "model_cv_test = RandomForestClassifier()\n",
    "\n",
    "parametrs = { 'n_estimators': range (10, 51, 10),\n",
    "              'max_depth': range (1,31, 2),\n",
    "              'min_samples_leaf': range (1,10),\n",
    "              'min_samples_split': range (2,20,2) }\n",
    "\n",
    "grid = GridSearchCV(model_cv_test, parametrs, cv=5)\n",
    "grid.fit(features_train, target_train)\n",
    "grid.best_params_"
   ]
  },
  {
   "cell_type": "code",
   "execution_count": 19,
   "metadata": {},
   "outputs": [
    {
     "name": "stdout",
     "output_type": "stream",
     "text": [
      "F1: 0.5578093306288032\n"
     ]
    },
    {
     "data": {
      "image/png": "[encoded data removed]",
      "text/plain": [
       "<Figure size 432x288 with 1 Axes>"
      ]
     },
     "metadata": {
      "needs_background": "light"
     },
     "output_type": "display_data"
    }
   ],
   "source": [
    "# Обучим модель без учёта дизбаланса классов:\n",
    "\n",
    "# Случайный лес:\n",
    "\n",
    "model_forest = RandomForestClassifier(random_state=12345, max_depth=25, n_estimators=30, min_samples_leaf=3, min_samples_split=10)\n",
    "model_forest.fit(features_train, target_train)\n",
    "predictions = model_forest.predict(features_test)\n",
    "print(\"F1:\", f1_score(target_test, predictions))\n",
    "\n",
    "probabilities = model_forest.predict_proba(features_test)\n",
    "probabilities_one_test = probabilities[:, 1]\n",
    "fpr, tpr, thresholds = roc_curve(target_test, probabilities_one_test)\n",
    "\n",
    "plt.figure()\n",
    "# Для сравнения отобразим ROC-кривую случайной модели:\n",
    "plt.plot([0, 1], [0, 1], linestyle='--')\n",
    "\n",
    "plt.plot(fpr, tpr)\n",
    "plt.xlim([0.0, 1.0])\n",
    "plt.ylim([0.0, 1.0])\n",
    "plt.xlabel('False Positive Rate')\n",
    "plt.ylabel('True Positive Rate')\n",
    "plt.title('ROC-кривая')\n",
    "plt.show()"
   ]
  },
  {
   "cell_type": "markdown",
   "metadata": {},
   "source": [
    "Как видно модель логистической регресии с сильным дизбалансом классов близка к случайной модели"
   ]
  },
  {
   "cell_type": "code",
   "execution_count": 20,
   "metadata": {
    "scrolled": false
   },
   "outputs": [
    {
     "data": {
      "text/plain": [
       "([0, 1, 2, 3, 4, 5, 6, 7, 8, 9, 10, 11],\n",
       " [Text(0, 0, ''),\n",
       "  Text(0, 0, ''),\n",
       "  Text(0, 0, ''),\n",
       "  Text(0, 0, ''),\n",
       "  Text(0, 0, ''),\n",
       "  Text(0, 0, ''),\n",
       "  Text(0, 0, ''),\n",
       "  Text(0, 0, ''),\n",
       "  Text(0, 0, ''),\n",
       "  Text(0, 0, ''),\n",
       "  Text(0, 0, ''),\n",
       "  Text(0, 0, '')])"
      ]
     },
     "execution_count": 20,
     "metadata": {},
     "output_type": "execute_result"
    },
    {
     "data": {
      "image/png": "[encoded data removed]",
      "text/plain": [
       "<Figure size 864x864 with 1 Axes>"
      ]
     },
     "metadata": {
      "needs_background": "light"
     },
     "output_type": "display_data"
    }
   ],
   "source": [
    "# Исследуем важность признаков для модели:\n",
    "X = df.copy()\n",
    "X['noise'] = np.random.randn(len(df))\n",
    "clf = RandomForestClassifier()\n",
    "clf.fit(X.drop('exited', axis=1), X['exited'])\n",
    "plt.figure(figsize=(12,12))\n",
    "plt.bar(X.drop('exited', axis=1).columns, clf.feature_importances_)\n",
    "plt.xticks(rotation=45)"
   ]
  },
  {
   "cell_type": "code",
   "execution_count": 21,
   "metadata": {},
   "outputs": [
    {
     "data": {
      "text/plain": [
       "array([0.11821019, 0.22206898, 0.06545391, 0.12061097, 0.12754102,\n",
       "       0.01548034, 0.0404014 , 0.11977443, 0.02520006, 0.01154893,\n",
       "       0.01635793, 0.11735184])"
      ]
     },
     "execution_count": 21,
     "metadata": {},
     "output_type": "execute_result"
    }
   ],
   "source": [
    "clf.feature_importances_"
   ]
  },
  {
   "cell_type": "markdown",
   "metadata": {},
   "source": [
    "По полученной гистограмме можно оценить важность признаков в сравнении с 'шумом'. Самым важным признаком является возраст."
   ]
  },
  {
   "cell_type": "code",
   "execution_count": 22,
   "metadata": {
    "scrolled": false
   },
   "outputs": [
    {
     "data": {
      "text/html": [
       "<div>\n",
       "<style scoped>\n",
       "    .dataframe tbody tr th:only-of-type {\n",
       "        vertical-align: middle;\n",
       "    }\n",
       "\n",
       "    .dataframe tbody tr th {\n",
       "        vertical-align: top;\n",
       "    }\n",
       "\n",
       "    .dataframe thead th {\n",
       "        text-align: right;\n",
       "    }\n",
       "</style>\n",
       "<table border=\"1\" class=\"dataframe\">\n",
       "  <thead>\n",
       "    <tr style=\"text-align: right;\">\n",
       "      <th></th>\n",
       "      <th>age</th>\n",
       "      <th>numofproducts</th>\n",
       "      <th>exited</th>\n",
       "    </tr>\n",
       "  </thead>\n",
       "  <tbody>\n",
       "    <tr>\n",
       "      <th>0</th>\n",
       "      <td>42</td>\n",
       "      <td>1</td>\n",
       "      <td>1</td>\n",
       "    </tr>\n",
       "    <tr>\n",
       "      <th>1</th>\n",
       "      <td>41</td>\n",
       "      <td>1</td>\n",
       "      <td>0</td>\n",
       "    </tr>\n",
       "    <tr>\n",
       "      <th>2</th>\n",
       "      <td>42</td>\n",
       "      <td>3</td>\n",
       "      <td>1</td>\n",
       "    </tr>\n",
       "    <tr>\n",
       "      <th>3</th>\n",
       "      <td>39</td>\n",
       "      <td>2</td>\n",
       "      <td>0</td>\n",
       "    </tr>\n",
       "    <tr>\n",
       "      <th>4</th>\n",
       "      <td>43</td>\n",
       "      <td>1</td>\n",
       "      <td>0</td>\n",
       "    </tr>\n",
       "    <tr>\n",
       "      <th>...</th>\n",
       "      <td>...</td>\n",
       "      <td>...</td>\n",
       "      <td>...</td>\n",
       "    </tr>\n",
       "    <tr>\n",
       "      <th>9995</th>\n",
       "      <td>39</td>\n",
       "      <td>2</td>\n",
       "      <td>0</td>\n",
       "    </tr>\n",
       "    <tr>\n",
       "      <th>9996</th>\n",
       "      <td>35</td>\n",
       "      <td>1</td>\n",
       "      <td>0</td>\n",
       "    </tr>\n",
       "    <tr>\n",
       "      <th>9997</th>\n",
       "      <td>36</td>\n",
       "      <td>1</td>\n",
       "      <td>1</td>\n",
       "    </tr>\n",
       "    <tr>\n",
       "      <th>9998</th>\n",
       "      <td>42</td>\n",
       "      <td>2</td>\n",
       "      <td>1</td>\n",
       "    </tr>\n",
       "    <tr>\n",
       "      <th>9999</th>\n",
       "      <td>28</td>\n",
       "      <td>1</td>\n",
       "      <td>0</td>\n",
       "    </tr>\n",
       "  </tbody>\n",
       "</table>\n",
       "<p>10000 rows × 3 columns</p>\n",
       "</div>"
      ],
      "text/plain": [
       "      age  numofproducts  exited\n",
       "0      42              1       1\n",
       "1      41              1       0\n",
       "2      42              3       1\n",
       "3      39              2       0\n",
       "4      43              1       0\n",
       "...   ...            ...     ...\n",
       "9995   39              2       0\n",
       "9996   35              1       0\n",
       "9997   36              1       1\n",
       "9998   42              2       1\n",
       "9999   28              1       0\n",
       "\n",
       "[10000 rows x 3 columns]"
      ]
     },
     "execution_count": 22,
     "metadata": {},
     "output_type": "execute_result"
    }
   ],
   "source": [
    "# Отбросим все признаки важность сопоставима с важностью шума:\n",
    "X_new = X.drop(['gender_Male', 'geography_Spain', 'geography_Germany', 'isactivemember', 'hascrcard', 'tenure', 'noise', 'estimatedsalary', 'balance', 'creditscore'], axis=1)\n",
    "X_new"
   ]
  },
  {
   "cell_type": "code",
   "execution_count": 23,
   "metadata": {},
   "outputs": [],
   "source": [
    "# Разбиение новых данных на выборки в пропорции 3:1:1\n",
    "df_train, df_test = train_test_split(X_new, test_size = 0.3, random_state = 12345)"
   ]
  },
  {
   "cell_type": "code",
   "execution_count": 24,
   "metadata": {},
   "outputs": [],
   "source": [
    "features_train = df_train.drop(['exited'], axis=1)\n",
    "target_train = df_train['exited']\n",
    "\n",
    "features_test = df_test.drop(['exited'], axis=1)\n",
    "target_test = df_test['exited']"
   ]
  },
  {
   "cell_type": "code",
   "execution_count": 25,
   "metadata": {},
   "outputs": [
    {
     "name": "stdout",
     "output_type": "stream",
     "text": [
      "F1: 0.5151515151515151\n"
     ]
    }
   ],
   "source": [
    "# Обучим модель без учёта дизбаланса классов:\n",
    "\n",
    "# # Обучим модель дерева:\n",
    "\n",
    "model_tree = DecisionTreeClassifier(random_state=12345, max_depth=7, min_samples_leaf=5, min_samples_split=18)\n",
    "model_tree.fit(features_train, target_train)\n",
    "predictions = model_tree.predict(features_test)\n",
    "print(\"F1:\", f1_score(target_test, predictions))"
   ]
  },
  {
   "cell_type": "markdown",
   "metadata": {},
   "source": [
    "<div style=\"border:solid purple 5px; padding: 20px\"> \n",
    "<h2 align=\"center\"> Рубрика «Питонячий лайфхакер» <a class=\"tocSkip\"> </h2>\n",
    "\n",
    "<h3> Индикаторы состояния: progress и tqdm <a class=\"tocSkip\"> </h3>\n",
    "\n",
    "Как перестать беспокоиться о том, не завис ли скрипт? Вы можете создавать свои индикаторы состояния. Это весьма увлекательное занятие. Но делать то же самое с [progress](https://pypi.org/project/progress/) (ее обычно используют для работы из консоли) или [tqdm](https://pypi.org/project/tqdm/) (отлично подойдет для тетрадок) куда быстрее и надежнее.\n",
    "\n",
    "Обычно я использую эти две библиотеки, но вот [здесь](https://habr.com/ru/post/483400/) ты можешь почитать про альтернативные варианты\n",
    "\n",
    "![](https://i.ibb.co/B4SDm8Y/68747470733a2f2f7261772e6769746875622e636f6d2f7665726967616b2f70726f67726573732f6d61737465722f64656d.gif)"
   ]
  },
  {
   "cell_type": "code",
   "execution_count": 26,
   "metadata": {
    "scrolled": true
   },
   "outputs": [
    {
     "name": "stdout",
     "output_type": "stream",
     "text": [
      "F1: 0.4750795334040297\n"
     ]
    }
   ],
   "source": [
    "# Обучим модель без учёта дизбаланса классов:\n",
    "\n",
    "# Случайный лес:\n",
    "\n",
    "model_forest = RandomForestClassifier(random_state=12345, max_depth=25, n_estimators=30, min_samples_leaf=3, min_samples_split=10)\n",
    "model_forest.fit(features_train, target_train)\n",
    "predictions = model_forest.predict(features_test)\n",
    "print(\"F1:\", f1_score(target_test, predictions))"
   ]
  },
  {
   "cell_type": "markdown",
   "metadata": {},
   "source": [
    "Как видно показатели модели ухудшились, возвращаемся к старым данным"
   ]
  },
  {
   "cell_type": "markdown",
   "metadata": {},
   "source": [
    "<div class=\"alert alert-success\">\n",
    "<h2> Комментарий ревьюера ✔️ <a class=\"tocSkip\"> </h2>\n",
    "\n",
    "Да, предсказуемо, слишком много полезной информации удаляем"
   ]
  },
  {
   "cell_type": "code",
   "execution_count": 27,
   "metadata": {},
   "outputs": [],
   "source": [
    "df_train, df_test = train_test_split(df, test_size = 0.3, random_state = 12345)\n",
    "\n",
    "features_train = df_train.drop(['exited'], axis=1)\n",
    "target_train = df_train['exited']\n",
    "\n",
    "features_test = df_test.drop(['exited'], axis=1)\n",
    "target_test = df_test['exited']"
   ]
  },
  {
   "cell_type": "markdown",
   "metadata": {},
   "source": []
  },
  {
   "cell_type": "markdown",
   "metadata": {},
   "source": [
    "## Борьба с дисбалансом"
   ]
  },
  {
   "cell_type": "code",
   "execution_count": 35,
   "metadata": {},
   "outputs": [],
   "source": [
    "# Добавим новый гиперпараметр и переберём старые:\n",
    "\n",
    "model_cv_test = DecisionTreeClassifier()\n",
    "\n",
    "parametrs = { 'max_depth': range (1,31, 2),\n",
    "              'min_samples_leaf': range (1,10),\n",
    "              'min_samples_split': range (2,20,2), \n",
    "              'class_weight':[{0: w} for w in [1, 2, 4, 6, 10]]}\n",
    "\n",
    "grid = GridSearchCV(model_cv_test, parametrs, cv=5)\n",
    "grid.fit(features_train, target_train)\n",
    "grid.best_params_"
   ]
  },
  {
   "cell_type": "code",
   "execution_count": 29,
   "metadata": {},
   "outputs": [
    {
     "name": "stdout",
     "output_type": "stream",
     "text": [
      "F1: 0.5459999999999999\n"
     ]
    },
    {
     "data": {
      "image/png": "[encoded data removed]",
      "text/plain": [
       "<Figure size 432x288 with 1 Axes>"
      ]
     },
     "metadata": {
      "needs_background": "light"
     },
     "output_type": "display_data"
    }
   ],
   "source": [
    "# Сбалансируем вес классов:\n",
    "\n",
    "model_tree = DecisionTreeClassifier(random_state=12345, max_depth=7, min_samples_leaf=9, min_samples_split=4, class_weight={0: 1})\n",
    "model_tree.fit(features_train, target_train)\n",
    "predictions = model_tree.predict(features_test)\n",
    "print(\"F1:\", f1_score(target_test, predictions))\n",
    "\n",
    "probabilities = model_tree.predict_proba(features_test)\n",
    "probabilities_one_test = probabilities[:, 1]\n",
    "fpr, tpr, thresholds = roc_curve(target_test, probabilities_one_test)\n",
    "\n",
    "plt.figure()\n",
    "# Для сравнения отобразим ROC-кривую случайной модели:\n",
    "plt.plot([0, 1], [0, 1], linestyle='--')\n",
    "\n",
    "plt.plot(fpr, tpr)\n",
    "plt.xlim([0.0, 1.0])\n",
    "plt.ylim([0.0, 1.0])\n",
    "plt.xlabel('False Positive Rate')\n",
    "plt.ylabel('True Positive Rate')\n",
    "plt.title('ROC-кривая')\n",
    "plt.show()"
   ]
  },
  {
   "cell_type": "markdown",
   "metadata": {},
   "source": [
    "<div class=\"alert alert-danger\">\n",
    "<h2> Комментарий ревьюера ❌ <a class=\"tocSkip\"> </h2>\n",
    "\n",
    "При добавлении нового гиперпараметра, остальные нужно переподбирать - ведь в этом случае модель у нас другая. То же самое и при изменении обучающей выборки, при ее изменении подбор нужно осуществлять заново"
   ]
  },
  {
   "cell_type": "code",
   "execution_count": null,
   "metadata": {},
   "outputs": [],
   "source": [
    "# Добавим новый гиперпараметр и переберём старые:\n",
    "\n",
    "model_cv_test = RandomForestClassifier()\n",
    "\n",
    "parametrs = { 'n_estimators': range (10, 51, 10),\n",
    "              'max_depth': range (1,31, 2),\n",
    "              'min_samples_leaf': range (1,10),\n",
    "              'min_samples_split': range (2,20,2),\n",
    "              'class_weight':[{0: w} for w in [1, 2, 4, 6, 10]]}\n",
    "\n",
    "grid = GridSearchCV(model_cv_test, parametrs, cv=5)\n",
    "grid.fit(features_train, target_train)\n",
    "grid.best_params_"
   ]
  },
  {
   "cell_type": "code",
   "execution_count": 30,
   "metadata": {
    "scrolled": true
   },
   "outputs": [
    {
     "name": "stdout",
     "output_type": "stream",
     "text": [
      "F1: 0.5578093306288032\n"
     ]
    },
    {
     "data": {
      "image/png": "[encoded data removed]",
      "text/plain": [
       "<Figure size 432x288 with 1 Axes>"
      ]
     },
     "metadata": {
      "needs_background": "light"
     },
     "output_type": "display_data"
    }
   ],
   "source": [
    "# Сбалансируем вес классов:\n",
    "\n",
    "model_forest = RandomForestClassifier(random_state=12345, max_depth=25, n_estimators=30, min_samples_leaf=3, min_samples_split=10, class_weight={0: 1})\n",
    "model_forest.fit(features_train, target_train)\n",
    "predictions = model_forest.predict(features_test)\n",
    "print(\"F1:\", f1_score(target_test, predictions))\n",
    "\n",
    "probabilities = model_forest.predict_proba(features_test)\n",
    "probabilities_one_test = probabilities[:, 1]\n",
    "fpr, tpr, thresholds = roc_curve(target_test, probabilities_one_test)\n",
    "\n",
    "plt.figure()\n",
    "# Для сравнения отобразим ROC-кривую случайной модели:\n",
    "plt.plot([0, 1], [0, 1], linestyle='--')\n",
    "\n",
    "plt.plot(fpr, tpr)\n",
    "plt.xlim([0.0, 1.0])\n",
    "plt.ylim([0.0, 1.0])\n",
    "plt.xlabel('False Positive Rate')\n",
    "plt.ylabel('True Positive Rate')\n",
    "plt.title('ROC-кривая')\n",
    "plt.show()"
   ]
  },
  {
   "cell_type": "code",
   "execution_count": 31,
   "metadata": {},
   "outputs": [
    {
     "data": {
      "text/plain": [
       "3.961020552799433"
      ]
     },
     "execution_count": 31,
     "metadata": {},
     "output_type": "execute_result"
    }
   ],
   "source": [
    "len(df_train.loc[df_train['exited']==0]) / len(df_train.loc[df_train['exited']==1])"
   ]
  },
  {
   "cell_type": "code",
   "execution_count": 32,
   "metadata": {},
   "outputs": [
    {
     "data": {
      "text/plain": [
       "1    5644\n",
       "0    5589\n",
       "Name: exited, dtype: int64"
      ]
     },
     "execution_count": 32,
     "metadata": {},
     "output_type": "execute_result"
    }
   ],
   "source": [
    "# Решим проблему дисбаланса классов методом upsampling:\n",
    "\n",
    "Y = df_train.loc[df_train['exited']==1]\n",
    "Y = Y.loc[Y.index.repeat(4)]\n",
    "df_train_new = pd.concat([df_train.loc[df_train['exited']==0], Y]).sample(frac=1)\n",
    "df_train_new['exited'].value_counts()"
   ]
  },
  {
   "cell_type": "markdown",
   "metadata": {},
   "source": [
    "<div class=\"alert alert-success\">\n",
    "<h2> Комментарий ревьюера v2 ✔️ <a class=\"tocSkip\"> </h2>\n",
    "\n",
    "Хорошо бы под это написать функцию отдельную"
   ]
  },
  {
   "cell_type": "code",
   "execution_count": 33,
   "metadata": {},
   "outputs": [],
   "source": [
    "features_train = df_train_new.drop(['exited'], axis=1)\n",
    "target_train = df_train_new['exited']\n",
    "\n",
    "features_test = df_test.drop(['exited'], axis=1)\n",
    "target_test = df_test['exited']"
   ]
  },
  {
   "cell_type": "code",
   "execution_count": 34,
   "metadata": {},
   "outputs": [
    {
     "data": {
      "text/plain": [
       "{'max_depth': 27, 'min_samples_leaf': 1, 'min_samples_split': 2}"
      ]
     },
     "execution_count": 34,
     "metadata": {},
     "output_type": "execute_result"
    }
   ],
   "source": [
    "model_cv_test = DecisionTreeClassifier()\n",
    "\n",
    "parametrs = { 'max_depth': range (1,31, 2),\n",
    "              'min_samples_leaf': range (1,10),\n",
    "              'min_samples_split': range (2,20,2), }\n",
    "\n",
    "grid = GridSearchCV(model_cv_test, parametrs, cv=5)\n",
    "grid.fit(features_train, target_train)\n",
    "grid.best_params_"
   ]
  },
  {
   "cell_type": "code",
   "execution_count": 36,
   "metadata": {
    "scrolled": true
   },
   "outputs": [
    {
     "name": "stdout",
     "output_type": "stream",
     "text": [
      "F1: 0.4717444717444717\n"
     ]
    },
    {
     "data": {
      "image/png": "[encoded data removed]",
      "text/plain": [
       "<Figure size 432x288 with 1 Axes>"
      ]
     },
     "metadata": {
      "needs_background": "light"
     },
     "output_type": "display_data"
    }
   ],
   "source": [
    "model_tree = DecisionTreeClassifier(random_state=12345, max_depth=27, min_samples_leaf=1, min_samples_split=2)\n",
    "model_tree.fit(features_train, target_train)\n",
    "predictions = model_tree.predict(features_test)\n",
    "print(\"F1:\", f1_score(target_test, predictions))\n",
    "\n",
    "probabilities = model_tree.predict_proba(features_test)\n",
    "probabilities_one_test = probabilities[:, 1]\n",
    "fpr, tpr, thresholds = roc_curve(target_test, probabilities_one_test)\n",
    "\n",
    "plt.figure()\n",
    "# Для сравнения отобразим ROC-кривую случайной модели:\n",
    "plt.plot([0, 1], [0, 1], linestyle='--')\n",
    "\n",
    "plt.plot(fpr, tpr)\n",
    "plt.xlim([0.0, 1.0])\n",
    "plt.ylim([0.0, 1.0])\n",
    "plt.xlabel('False Positive Rate')\n",
    "plt.ylabel('True Positive Rate')\n",
    "plt.title('ROC-кривая')\n",
    "plt.show()"
   ]
  },
  {
   "cell_type": "code",
   "execution_count": 44,
   "metadata": {},
   "outputs": [],
   "source": [
    "model_cv_test = RandomForestClassifier()\n",
    "\n",
    "parametrs = {\n",
    "    'criterion': (['gini', 'entropy']),\n",
    "    'max_depth': range (2, 10),\n",
    "    'max_features': (['log2', 'sqrt']), \n",
    "    'min_samples_leaf': range (2, 10),\n",
    "    'min_samples_split': range (2, 10), }\n",
    "\n",
    "grid = GridSearchCV(model_cv_test, parametrs, cv=5)\n",
    "grid.fit(features_train, target_train)\n",
    "grid.best_params_"
   ]
  },
  {
   "cell_type": "code",
   "execution_count": 42,
   "metadata": {},
   "outputs": [
    {
     "name": "stdout",
     "output_type": "stream",
     "text": [
      "F1: 0.603395061728395\n"
     ]
    },
    {
     "data": {
      "image/png": "[encoded data removed]",
      "text/plain": [
       "<Figure size 432x288 with 1 Axes>"
      ]
     },
     "metadata": {
      "needs_background": "light"
     },
     "output_type": "display_data"
    }
   ],
   "source": [
    "# model_forest = RandomForestClassifier(random_state=12345, criterion max_depth=25, n_estimators=30, min_samples_leaf=3, min_samples_split=10, class_weight={0: 1})\n",
    "# код ревьюера\n",
    "model_forest = RandomForestClassifier(random_state=12345, criterion='gini', max_depth=25, n_estimators=30, min_samples_leaf=3, min_samples_split=10, class_weight={0: 1})\n",
    "model_forest.fit(features_train, target_train)\n",
    "predictions = model_forest.predict(features_test)\n",
    "print(\"F1:\", f1_score(target_test, predictions))\n",
    "\n",
    "probabilities = model_forest.predict_proba(features_test)\n",
    "probabilities_one_test = probabilities[:, 1]\n",
    "fpr, tpr, thresholds = roc_curve(target_test, probabilities_one_test)\n",
    "\n",
    "plt.figure()\n",
    "# Для сравнения отобразим ROC-кривую случайной модели:\n",
    "plt.plot([0, 1], [0, 1], linestyle='--')\n",
    "\n",
    "plt.plot(fpr, tpr)\n",
    "plt.xlim([0.0, 1.0])\n",
    "plt.ylim([0.0, 1.0])\n",
    "plt.xlabel('False Positive Rate')\n",
    "plt.ylabel('True Positive Rate')\n",
    "plt.title('ROC-кривая')\n",
    "plt.show()"
   ]
  },
  {
   "cell_type": "markdown",
   "metadata": {},
   "source": [
    "<div class=\"alert alert-danger\">\n",
    "<h2> Комментарий ревьюера ❌ <a class=\"tocSkip\"> </h2>\n",
    "\n",
    "Раз проект все равно возвращается на доработку, то предлагаю попробовать еще какой-нибудь метод борьбы с дисбалансом, upsamle, downsample или еще какой-нибудь"
   ]
  },
  {
   "cell_type": "markdown",
   "metadata": {},
   "source": [
    "## Тестирование модели"
   ]
  },
  {
   "cell_type": "code",
   "execution_count": 43,
   "metadata": {},
   "outputs": [
    {
     "name": "stdout",
     "output_type": "stream",
     "text": [
      "F1: 0.603395061728395\n",
      "AUC-ROC: 0.8489907302486199\n"
     ]
    },
    {
     "data": {
      "image/png": "[encoded data removed]",
      "text/plain": [
       "<Figure size 432x288 with 1 Axes>"
      ]
     },
     "metadata": {
      "needs_background": "light"
     },
     "output_type": "display_data"
    }
   ],
   "source": [
    "# Проведём тестирование модели на тестовой выборке:\n",
    "\n",
    "predictions = model_forest.predict(features_test)\n",
    "print(\"F1:\", f1_score(target_test, predictions))\n",
    "\n",
    "probabilities = model_forest.predict_proba(features_test)\n",
    "probabilities_one_valid = probabilities[:, 1]\n",
    "fpr, tpr, thresholds = roc_curve(target_test, probabilities_one_valid)\n",
    "roc_auc_score(target_test, probabilities_one_valid)\n",
    "print(\"AUC-ROC:\", roc_auc_score(target_test, probabilities_one_valid))\n",
    "\n",
    "plt.figure()\n",
    "# Для сравнения отобразим ROC-кривую случайной модели:\n",
    "plt.plot([0, 1], [0, 1], linestyle='--')\n",
    "\n",
    "plt.plot(fpr, tpr)\n",
    "plt.xlim([0.0, 1.0])\n",
    "plt.ylim([0.0, 1.0])\n",
    "plt.xlabel('False Positive Rate')\n",
    "plt.ylabel('True Positive Rate')\n",
    "plt.title('ROC-кривая')\n",
    "plt.show()"
   ]
  },
  {
   "cell_type": "markdown",
   "metadata": {},
   "source": [
    "<div class=\"alert alert-success\">\n",
    "<h2> Комментарий ревьюера ✔️ <a class=\"tocSkip\"> </h2>\n",
    "\n",
    "По метрике проходим, шик)\n",
    "    "
   ]
  },
  {
   "cell_type": "markdown",
   "metadata": {},
   "source": [
    "<font size=10> Вывод: <font>\n",
    "<font size=6> Самые лучшие показатели метрик показала модель случайного леса, исходный датасет имел сильный дисбаланс классов что сказывалось на качестве моделей, в частности делал модель логистической регрессии бесполезной, с помощью модуля GreedSearchCV были подобраны оптимальные гиперпараметры для моделей классификации. После исправления дисбаланса классов качество моделей улучшилось Полученная модель показала неплохие показатели метрик F1 и AUC-ROC на тестовой выборке."
   ]
  },
  {
   "cell_type": "markdown",
   "metadata": {},
   "source": [
    "## Чек-лист готовности проекта"
   ]
  },
  {
   "cell_type": "markdown",
   "metadata": {},
   "source": [
    "Поставьте 'x' в выполненных пунктах. Далее нажмите Shift+Enter."
   ]
  },
  {
   "cell_type": "markdown",
   "metadata": {},
   "source": [
    "- [x]  Jupyter Notebook открыт\n",
    "- [ ]  Весь код выполняется без ошибок\n",
    "- [ ]  Ячейки с кодом расположены в порядке исполнения\n",
    "- [ ]  Выполнен шаг 1: данные подготовлены\n",
    "- [ ]  Выполнен шаг 2: задача исследована\n",
    "    - [ ]  Исследован баланс классов\n",
    "    - [ ]  Изучены модели без учёта дисбаланса\n",
    "    - [ ]  Написаны выводы по результатам исследования\n",
    "- [ ]  Выполнен шаг 3: учтён дисбаланс\n",
    "    - [ ]  Применено несколько способов борьбы с дисбалансом\n",
    "    - [ ]  Написаны выводы по результатам исследования\n",
    "- [ ]  Выполнен шаг 4: проведено тестирование\n",
    "- [ ]  Удалось достичь *F1*-меры не менее 0.59\n",
    "- [ ]  Исследована метрика *AUC-ROC*"
   ]
  },
  {
   "cell_type": "code",
   "execution_count": null,
   "metadata": {},
   "outputs": [],
   "source": []
  }
 ],
 "metadata": {
  "ExecuteTimeLog": [
   {
    "duration": 60,
    "start_time": "2022-10-03T22:48:17.404Z"
   },
   {
    "duration": 6,
    "start_time": "2022-10-03T22:48:19.574Z"
   },
   {
    "duration": 415,
    "start_time": "2022-10-03T22:48:22.383Z"
   },
   {
    "duration": 81,
    "start_time": "2022-10-03T22:48:22.800Z"
   },
   {
    "duration": 14,
    "start_time": "2022-10-03T22:48:22.903Z"
   },
   {
    "duration": 17,
    "start_time": "2022-10-03T22:48:51.746Z"
   },
   {
    "duration": 26,
    "start_time": "2022-10-03T22:50:57.773Z"
   },
   {
    "duration": 8,
    "start_time": "2022-10-03T22:51:04.652Z"
   },
   {
    "duration": 5,
    "start_time": "2022-10-03T22:51:18.912Z"
   },
   {
    "duration": 14,
    "start_time": "2022-10-03T22:51:26.803Z"
   },
   {
    "duration": 6,
    "start_time": "2022-10-03T22:51:29.732Z"
   },
   {
    "duration": 22,
    "start_time": "2022-10-03T22:51:35.622Z"
   },
   {
    "duration": 3,
    "start_time": "2022-10-03T22:51:45.643Z"
   },
   {
    "duration": 11,
    "start_time": "2022-10-03T22:51:48.482Z"
   },
   {
    "duration": 919,
    "start_time": "2022-10-03T22:52:44.502Z"
   },
   {
    "duration": 8,
    "start_time": "2022-10-03T22:53:01.908Z"
   },
   {
    "duration": 7,
    "start_time": "2022-10-03T22:53:40.301Z"
   },
   {
    "duration": 9,
    "start_time": "2022-10-03T22:57:11.532Z"
   },
   {
    "duration": 7,
    "start_time": "2022-10-03T22:57:58.441Z"
   },
   {
    "duration": 775,
    "start_time": "2022-10-03T22:58:02.792Z"
   },
   {
    "duration": 10,
    "start_time": "2022-10-03T22:58:05.611Z"
   },
   {
    "duration": 3,
    "start_time": "2022-10-03T22:58:07.081Z"
   },
   {
    "duration": 5,
    "start_time": "2022-10-03T23:01:56.280Z"
   },
   {
    "duration": 2,
    "start_time": "2022-10-03T23:11:35.716Z"
   },
   {
    "duration": 41,
    "start_time": "2022-10-03T23:11:38.685Z"
   },
   {
    "duration": 12,
    "start_time": "2022-10-03T23:11:39.086Z"
   },
   {
    "duration": 6,
    "start_time": "2022-10-03T23:11:39.625Z"
   },
   {
    "duration": 15,
    "start_time": "2022-10-03T23:11:40.346Z"
   },
   {
    "duration": 6,
    "start_time": "2022-10-03T23:11:41.136Z"
   },
   {
    "duration": 4,
    "start_time": "2022-10-03T23:11:41.705Z"
   },
   {
    "duration": 8,
    "start_time": "2022-10-03T23:11:42.156Z"
   },
   {
    "duration": 4,
    "start_time": "2022-10-03T23:11:43.387Z"
   },
   {
    "duration": 57,
    "start_time": "2022-10-03T23:11:43.795Z"
   },
   {
    "duration": 24,
    "start_time": "2022-10-03T23:12:19.226Z"
   },
   {
    "duration": 11,
    "start_time": "2022-10-03T23:13:08.346Z"
   },
   {
    "duration": 21,
    "start_time": "2022-10-03T23:14:06.185Z"
   },
   {
    "duration": 1067,
    "start_time": "2022-10-11T12:58:34.298Z"
   },
   {
    "duration": 88,
    "start_time": "2022-10-11T12:58:35.367Z"
   },
   {
    "duration": 13,
    "start_time": "2022-10-11T12:58:35.457Z"
   },
   {
    "duration": 3,
    "start_time": "2022-10-11T12:58:36.408Z"
   },
   {
    "duration": 19,
    "start_time": "2022-10-11T12:58:36.413Z"
   },
   {
    "duration": 6,
    "start_time": "2022-10-11T12:58:36.475Z"
   },
   {
    "duration": 3,
    "start_time": "2022-10-11T12:58:38.057Z"
   },
   {
    "duration": 7,
    "start_time": "2022-10-11T12:58:38.570Z"
   },
   {
    "duration": 5,
    "start_time": "2022-10-11T12:58:39.237Z"
   },
   {
    "duration": 4,
    "start_time": "2022-10-11T13:01:21.996Z"
   },
   {
    "duration": 109,
    "start_time": "2022-10-11T13:03:17.577Z"
   },
   {
    "duration": 10,
    "start_time": "2022-10-11T13:03:21.532Z"
   },
   {
    "duration": 9,
    "start_time": "2022-10-11T13:03:56.598Z"
   },
   {
    "duration": 3,
    "start_time": "2022-10-11T13:05:44.291Z"
   },
   {
    "duration": 1043,
    "start_time": "2022-10-11T13:05:48.222Z"
   },
   {
    "duration": 3,
    "start_time": "2022-10-11T13:05:53.879Z"
   },
   {
    "duration": 39,
    "start_time": "2022-10-11T13:05:54.422Z"
   },
   {
    "duration": 16,
    "start_time": "2022-10-11T13:05:54.463Z"
   },
   {
    "duration": 18,
    "start_time": "2022-10-11T13:05:54.480Z"
   },
   {
    "duration": 3,
    "start_time": "2022-10-11T13:05:58.391Z"
   },
   {
    "duration": 6,
    "start_time": "2022-10-11T13:05:59.550Z"
   },
   {
    "duration": 11,
    "start_time": "2022-10-11T13:06:00.308Z"
   },
   {
    "duration": 99,
    "start_time": "2022-10-11T13:06:36.600Z"
   },
   {
    "duration": 7,
    "start_time": "2022-10-11T13:06:42.123Z"
   },
   {
    "duration": 18,
    "start_time": "2022-10-11T13:06:50.429Z"
   },
   {
    "duration": 2,
    "start_time": "2022-10-11T13:07:07.239Z"
   },
   {
    "duration": 36,
    "start_time": "2022-10-11T13:07:07.740Z"
   },
   {
    "duration": 12,
    "start_time": "2022-10-11T13:07:09.089Z"
   },
   {
    "duration": 3,
    "start_time": "2022-10-11T13:07:09.103Z"
   },
   {
    "duration": 3,
    "start_time": "2022-10-11T13:07:11.104Z"
   },
   {
    "duration": 4,
    "start_time": "2022-10-11T13:07:12.766Z"
   },
   {
    "duration": 9,
    "start_time": "2022-10-11T13:07:12.772Z"
   },
   {
    "duration": 22,
    "start_time": "2022-10-11T13:07:14.070Z"
   },
   {
    "duration": 4,
    "start_time": "2022-10-11T13:07:33.753Z"
   },
   {
    "duration": 47,
    "start_time": "2022-10-11T13:07:33.758Z"
   },
   {
    "duration": 11,
    "start_time": "2022-10-11T13:07:33.807Z"
   },
   {
    "duration": 4,
    "start_time": "2022-10-11T13:07:33.819Z"
   },
   {
    "duration": 9,
    "start_time": "2022-10-11T13:07:33.825Z"
   },
   {
    "duration": 4,
    "start_time": "2022-10-11T13:07:33.948Z"
   },
   {
    "duration": 9,
    "start_time": "2022-10-11T13:07:33.954Z"
   },
   {
    "duration": 20,
    "start_time": "2022-10-11T13:07:33.965Z"
   },
   {
    "duration": 10,
    "start_time": "2022-10-11T13:07:34.035Z"
   },
   {
    "duration": 9,
    "start_time": "2022-10-11T13:07:36.331Z"
   },
   {
    "duration": 9,
    "start_time": "2022-10-11T13:09:21.371Z"
   },
   {
    "duration": 2,
    "start_time": "2022-10-11T13:09:31.493Z"
   },
   {
    "duration": 64,
    "start_time": "2022-10-11T13:09:31.497Z"
   },
   {
    "duration": 13,
    "start_time": "2022-10-11T13:09:31.591Z"
   },
   {
    "duration": 3,
    "start_time": "2022-10-11T13:09:33.150Z"
   },
   {
    "duration": 4,
    "start_time": "2022-10-11T13:09:33.639Z"
   },
   {
    "duration": 8,
    "start_time": "2022-10-11T13:09:40.691Z"
   },
   {
    "duration": 9,
    "start_time": "2022-10-11T13:10:13.183Z"
   },
   {
    "duration": 1245,
    "start_time": "2022-10-11T13:10:44.544Z"
   },
   {
    "duration": 5,
    "start_time": "2022-10-11T13:10:53.434Z"
   },
   {
    "duration": 24,
    "start_time": "2022-10-11T13:10:55.962Z"
   },
   {
    "duration": 11,
    "start_time": "2022-10-11T13:12:22.540Z"
   },
   {
    "duration": 22,
    "start_time": "2022-10-11T13:12:35.570Z"
   },
   {
    "duration": 12,
    "start_time": "2022-10-11T13:13:54.209Z"
   },
   {
    "duration": 8,
    "start_time": "2022-10-11T13:14:25.823Z"
   },
   {
    "duration": 48,
    "start_time": "2022-10-11T13:14:25.833Z"
   },
   {
    "duration": 14,
    "start_time": "2022-10-11T13:14:25.884Z"
   },
   {
    "duration": 3,
    "start_time": "2022-10-11T13:14:25.899Z"
   },
   {
    "duration": 8,
    "start_time": "2022-10-11T13:14:25.903Z"
   },
   {
    "duration": 194,
    "start_time": "2022-10-11T13:14:25.912Z"
   },
   {
    "duration": 993,
    "start_time": "2022-10-11T13:14:26.108Z"
   },
   {
    "duration": 0,
    "start_time": "2022-10-11T13:14:27.103Z"
   },
   {
    "duration": 0,
    "start_time": "2022-10-11T13:14:27.103Z"
   },
   {
    "duration": 1046,
    "start_time": "2022-10-11T13:14:28.161Z"
   },
   {
    "duration": 3,
    "start_time": "2022-10-11T13:14:36.091Z"
   },
   {
    "duration": 34,
    "start_time": "2022-10-11T13:14:36.270Z"
   },
   {
    "duration": 12,
    "start_time": "2022-10-11T13:14:36.917Z"
   },
   {
    "duration": 3,
    "start_time": "2022-10-11T13:14:37.381Z"
   },
   {
    "duration": 5,
    "start_time": "2022-10-11T13:14:38.525Z"
   },
   {
    "duration": 209,
    "start_time": "2022-10-11T13:14:39.153Z"
   },
   {
    "duration": 1324,
    "start_time": "2022-10-11T13:14:41.000Z"
   },
   {
    "duration": 3,
    "start_time": "2022-10-11T13:15:05.531Z"
   },
   {
    "duration": 34,
    "start_time": "2022-10-11T13:15:05.731Z"
   },
   {
    "duration": 11,
    "start_time": "2022-10-11T13:15:05.959Z"
   },
   {
    "duration": 3,
    "start_time": "2022-10-11T13:15:06.328Z"
   },
   {
    "duration": 5,
    "start_time": "2022-10-11T13:15:06.827Z"
   },
   {
    "duration": 3,
    "start_time": "2022-10-11T13:15:07.361Z"
   },
   {
    "duration": 9,
    "start_time": "2022-10-11T13:15:08.480Z"
   },
   {
    "duration": 1539,
    "start_time": "2022-10-11T13:15:09.900Z"
   },
   {
    "duration": 9,
    "start_time": "2022-10-11T13:15:41.380Z"
   },
   {
    "duration": 5,
    "start_time": "2022-10-11T13:15:44.171Z"
   },
   {
    "duration": 6,
    "start_time": "2022-10-11T13:15:48.393Z"
   },
   {
    "duration": 6,
    "start_time": "2022-10-11T13:15:59.122Z"
   },
   {
    "duration": 15,
    "start_time": "2022-10-11T13:16:04.132Z"
   },
   {
    "duration": 17,
    "start_time": "2022-10-11T13:16:34.243Z"
   },
   {
    "duration": 5,
    "start_time": "2022-10-11T13:18:10.015Z"
   },
   {
    "duration": 5,
    "start_time": "2022-10-11T13:18:28.712Z"
   },
   {
    "duration": 8,
    "start_time": "2022-10-11T13:20:06.503Z"
   },
   {
    "duration": 8,
    "start_time": "2022-10-11T13:21:13.394Z"
   },
   {
    "duration": 1075,
    "start_time": "2022-10-11T13:21:29.944Z"
   },
   {
    "duration": 9,
    "start_time": "2022-10-11T13:21:47.923Z"
   },
   {
    "duration": 5,
    "start_time": "2022-10-11T13:21:51.675Z"
   },
   {
    "duration": 46,
    "start_time": "2022-10-11T13:21:52.023Z"
   },
   {
    "duration": 17,
    "start_time": "2022-10-11T13:21:52.417Z"
   },
   {
    "duration": 28,
    "start_time": "2022-10-11T13:21:53.833Z"
   },
   {
    "duration": 7,
    "start_time": "2022-10-11T13:22:58.147Z"
   },
   {
    "duration": 3,
    "start_time": "2022-10-11T13:24:48.242Z"
   },
   {
    "duration": 8,
    "start_time": "2022-10-11T13:24:48.247Z"
   },
   {
    "duration": 10,
    "start_time": "2022-10-11T13:24:48.257Z"
   },
   {
    "duration": 6,
    "start_time": "2022-10-11T13:24:48.269Z"
   },
   {
    "duration": 3,
    "start_time": "2022-10-11T13:24:51.518Z"
   },
   {
    "duration": 39,
    "start_time": "2022-10-11T13:24:52.084Z"
   },
   {
    "duration": 13,
    "start_time": "2022-10-11T13:24:52.462Z"
   },
   {
    "duration": 1358,
    "start_time": "2022-10-11T13:24:54.732Z"
   },
   {
    "duration": 2080,
    "start_time": "2022-10-11T13:25:30.912Z"
   },
   {
    "duration": 11,
    "start_time": "2022-10-11T13:25:43.348Z"
   },
   {
    "duration": 11,
    "start_time": "2022-10-11T13:25:55.787Z"
   },
   {
    "duration": 11,
    "start_time": "2022-10-11T13:26:16.530Z"
   },
   {
    "duration": 20,
    "start_time": "2022-10-11T13:28:48.486Z"
   },
   {
    "duration": 25,
    "start_time": "2022-10-11T13:29:04.619Z"
   },
   {
    "duration": 9,
    "start_time": "2022-10-11T13:29:42.926Z"
   },
   {
    "duration": 14,
    "start_time": "2022-10-11T13:29:45.904Z"
   },
   {
    "duration": 3,
    "start_time": "2022-10-11T13:29:48.955Z"
   },
   {
    "duration": 3,
    "start_time": "2022-10-11T13:29:53.426Z"
   },
   {
    "duration": 36,
    "start_time": "2022-10-11T13:29:53.874Z"
   },
   {
    "duration": 10,
    "start_time": "2022-10-11T13:29:55.002Z"
   },
   {
    "duration": 11,
    "start_time": "2022-10-11T13:29:55.815Z"
   },
   {
    "duration": 7,
    "start_time": "2022-10-11T13:29:56.433Z"
   },
   {
    "duration": 3,
    "start_time": "2022-10-11T13:29:57.174Z"
   },
   {
    "duration": 4,
    "start_time": "2022-10-11T13:29:58.773Z"
   },
   {
    "duration": 3,
    "start_time": "2022-10-11T13:29:59.952Z"
   },
   {
    "duration": 20,
    "start_time": "2022-10-11T13:30:01.509Z"
   },
   {
    "duration": 30,
    "start_time": "2022-10-11T13:30:01.531Z"
   },
   {
    "duration": 7,
    "start_time": "2022-10-11T13:30:03.288Z"
   },
   {
    "duration": 8,
    "start_time": "2022-10-11T13:30:03.297Z"
   },
   {
    "duration": 8,
    "start_time": "2022-10-11T13:30:04.375Z"
   },
   {
    "duration": 5,
    "start_time": "2022-10-11T13:30:11.291Z"
   },
   {
    "duration": 31,
    "start_time": "2022-10-11T13:30:12.324Z"
   },
   {
    "duration": 4,
    "start_time": "2022-10-11T13:31:25.645Z"
   },
   {
    "duration": 17,
    "start_time": "2022-10-11T13:31:30.494Z"
   },
   {
    "duration": 148,
    "start_time": "2022-10-11T13:33:26.261Z"
   },
   {
    "duration": 18,
    "start_time": "2022-10-11T13:33:33.087Z"
   },
   {
    "duration": 3,
    "start_time": "2022-10-11T13:33:40.308Z"
   },
   {
    "duration": 100,
    "start_time": "2022-10-11T13:33:40.313Z"
   },
   {
    "duration": 12,
    "start_time": "2022-10-11T13:33:40.415Z"
   },
   {
    "duration": 38,
    "start_time": "2022-10-11T13:33:40.428Z"
   },
   {
    "duration": 23,
    "start_time": "2022-10-11T13:33:40.467Z"
   },
   {
    "duration": 3,
    "start_time": "2022-10-11T13:33:41.001Z"
   },
   {
    "duration": 60,
    "start_time": "2022-10-11T13:33:41.005Z"
   },
   {
    "duration": 42,
    "start_time": "2022-10-11T13:33:41.066Z"
   },
   {
    "duration": 25,
    "start_time": "2022-10-11T13:33:41.110Z"
   },
   {
    "duration": 11,
    "start_time": "2022-10-11T13:33:41.276Z"
   },
   {
    "duration": 8,
    "start_time": "2022-10-11T13:33:41.485Z"
   },
   {
    "duration": 4,
    "start_time": "2022-10-11T13:33:41.675Z"
   },
   {
    "duration": 6,
    "start_time": "2022-10-11T13:33:41.874Z"
   },
   {
    "duration": 5,
    "start_time": "2022-10-11T13:33:42.263Z"
   },
   {
    "duration": 24,
    "start_time": "2022-10-11T13:33:42.464Z"
   },
   {
    "duration": 20,
    "start_time": "2022-10-11T13:37:51.271Z"
   },
   {
    "duration": 39,
    "start_time": "2022-10-11T13:37:52.551Z"
   },
   {
    "duration": 232,
    "start_time": "2022-10-11T13:38:08.078Z"
   },
   {
    "duration": 39,
    "start_time": "2022-10-11T13:42:27.123Z"
   },
   {
    "duration": 9,
    "start_time": "2022-10-11T13:48:46.048Z"
   },
   {
    "duration": 3,
    "start_time": "2022-10-11T13:48:52.102Z"
   },
   {
    "duration": 9,
    "start_time": "2022-10-11T13:48:57.803Z"
   },
   {
    "duration": 32,
    "start_time": "2022-10-11T13:51:18.592Z"
   },
   {
    "duration": 3,
    "start_time": "2022-10-11T14:07:02.954Z"
   },
   {
    "duration": 22,
    "start_time": "2022-10-11T14:07:02.965Z"
   },
   {
    "duration": 1115,
    "start_time": "2022-10-29T09:25:04.611Z"
   },
   {
    "duration": 4,
    "start_time": "2022-10-29T09:25:10.581Z"
   },
   {
    "duration": 92,
    "start_time": "2022-10-29T09:25:10.586Z"
   },
   {
    "duration": 14,
    "start_time": "2022-10-29T09:25:10.680Z"
   },
   {
    "duration": 13,
    "start_time": "2022-10-29T09:25:10.696Z"
   },
   {
    "duration": 11,
    "start_time": "2022-10-29T09:25:10.713Z"
   },
   {
    "duration": 3,
    "start_time": "2022-10-29T09:25:10.727Z"
   },
   {
    "duration": 11,
    "start_time": "2022-10-29T09:25:10.731Z"
   },
   {
    "duration": 5,
    "start_time": "2022-10-29T09:25:10.744Z"
   },
   {
    "duration": 13,
    "start_time": "2022-10-29T09:25:10.750Z"
   },
   {
    "duration": 15,
    "start_time": "2022-10-29T09:25:10.764Z"
   },
   {
    "duration": 8,
    "start_time": "2022-10-29T09:25:10.781Z"
   },
   {
    "duration": 4,
    "start_time": "2022-10-29T09:25:10.790Z"
   },
   {
    "duration": 46,
    "start_time": "2022-10-29T09:25:10.796Z"
   },
   {
    "duration": 6,
    "start_time": "2022-10-29T09:25:10.845Z"
   },
   {
    "duration": 0,
    "start_time": "2022-10-29T09:32:16.718Z"
   },
   {
    "duration": 0,
    "start_time": "2022-10-29T09:32:16.720Z"
   },
   {
    "duration": 0,
    "start_time": "2022-10-29T09:32:16.721Z"
   },
   {
    "duration": 5,
    "start_time": "2022-10-29T09:32:25.903Z"
   },
   {
    "duration": 31,
    "start_time": "2022-10-29T09:32:32.969Z"
   },
   {
    "duration": 216,
    "start_time": "2022-10-29T09:32:39.500Z"
   },
   {
    "duration": 33,
    "start_time": "2022-10-29T09:32:47.544Z"
   },
   {
    "duration": 226,
    "start_time": "2022-10-29T09:33:51.504Z"
   },
   {
    "duration": 4,
    "start_time": "2022-10-29T09:37:59.273Z"
   },
   {
    "duration": 9,
    "start_time": "2022-10-29T09:38:19.772Z"
   },
   {
    "duration": 4,
    "start_time": "2022-10-29T09:38:57.856Z"
   },
   {
    "duration": 3,
    "start_time": "2022-10-29T09:39:16.072Z"
   },
   {
    "duration": 24,
    "start_time": "2022-10-29T09:39:29.452Z"
   },
   {
    "duration": 31,
    "start_time": "2022-10-29T09:43:22.361Z"
   },
   {
    "duration": 250,
    "start_time": "2022-10-29T09:43:37.295Z"
   },
   {
    "duration": 34,
    "start_time": "2022-10-29T09:44:17.736Z"
   },
   {
    "duration": 219,
    "start_time": "2022-10-29T09:44:18.914Z"
   },
   {
    "duration": 21,
    "start_time": "2022-10-29T09:45:20.361Z"
   },
   {
    "duration": 452,
    "start_time": "2022-10-29T09:59:45.146Z"
   },
   {
    "duration": 105,
    "start_time": "2022-10-29T10:00:04.818Z"
   },
   {
    "duration": 177,
    "start_time": "2022-10-29T10:00:11.198Z"
   },
   {
    "duration": 3,
    "start_time": "2022-10-29T10:13:10.650Z"
   },
   {
    "duration": 27,
    "start_time": "2022-10-29T10:14:53.139Z"
   },
   {
    "duration": 23,
    "start_time": "2022-10-29T10:15:02.899Z"
   },
   {
    "duration": 803,
    "start_time": "2022-10-29T10:16:04.449Z"
   },
   {
    "duration": 3,
    "start_time": "2022-10-29T10:16:15.739Z"
   },
   {
    "duration": 42,
    "start_time": "2022-10-29T10:16:15.929Z"
   },
   {
    "duration": 12,
    "start_time": "2022-10-29T10:16:16.269Z"
   },
   {
    "duration": 13,
    "start_time": "2022-10-29T10:16:16.838Z"
   },
   {
    "duration": 7,
    "start_time": "2022-10-29T10:16:17.669Z"
   },
   {
    "duration": 3,
    "start_time": "2022-10-29T10:16:18.449Z"
   },
   {
    "duration": 4,
    "start_time": "2022-10-29T10:16:19.009Z"
   },
   {
    "duration": 4,
    "start_time": "2022-10-29T10:16:20.995Z"
   },
   {
    "duration": 10,
    "start_time": "2022-10-29T10:16:22.369Z"
   },
   {
    "duration": 11,
    "start_time": "2022-10-29T10:16:22.980Z"
   },
   {
    "duration": 8,
    "start_time": "2022-10-29T10:16:23.499Z"
   },
   {
    "duration": 4,
    "start_time": "2022-10-29T10:16:25.111Z"
   },
   {
    "duration": 7,
    "start_time": "2022-10-29T10:16:25.779Z"
   },
   {
    "duration": 107,
    "start_time": "2022-10-29T10:16:46.500Z"
   },
   {
    "duration": 5,
    "start_time": "2022-10-29T10:16:48.419Z"
   },
   {
    "duration": 4596,
    "start_time": "2022-10-29T10:16:50.418Z"
   },
   {
    "duration": 32,
    "start_time": "2022-10-29T10:17:04.599Z"
   },
   {
    "duration": 216,
    "start_time": "2022-10-29T10:17:10.239Z"
   },
   {
    "duration": 21,
    "start_time": "2022-10-29T10:17:17.710Z"
   },
   {
    "duration": 4,
    "start_time": "2022-10-29T10:18:19.999Z"
   },
   {
    "duration": 1554,
    "start_time": "2022-10-29T10:20:32.011Z"
   },
   {
    "duration": 4,
    "start_time": "2022-10-29T10:24:57.640Z"
   },
   {
    "duration": 12,
    "start_time": "2022-10-29T10:25:19.261Z"
   },
   {
    "duration": 49,
    "start_time": "2022-10-29T10:25:30.408Z"
   },
   {
    "duration": 8,
    "start_time": "2022-10-29T10:25:36.755Z"
   },
   {
    "duration": 4,
    "start_time": "2022-10-29T10:26:07.180Z"
   },
   {
    "duration": 3,
    "start_time": "2022-10-29T10:26:23.649Z"
   },
   {
    "duration": 4,
    "start_time": "2022-10-29T10:26:42.870Z"
   },
   {
    "duration": 4,
    "start_time": "2022-10-29T10:27:23.631Z"
   },
   {
    "duration": 22,
    "start_time": "2022-10-29T10:27:42.258Z"
   },
   {
    "duration": 15,
    "start_time": "2022-10-29T10:28:08.389Z"
   },
   {
    "duration": 8,
    "start_time": "2022-10-29T10:31:05.977Z"
   },
   {
    "duration": 6,
    "start_time": "2022-10-29T10:31:47.518Z"
   },
   {
    "duration": 24,
    "start_time": "2022-10-29T10:32:23.668Z"
   },
   {
    "duration": 228,
    "start_time": "2022-10-29T10:32:42.598Z"
   },
   {
    "duration": 27,
    "start_time": "2022-10-29T10:34:03.848Z"
   },
   {
    "duration": 231,
    "start_time": "2022-10-29T10:34:07.478Z"
   },
   {
    "duration": 26,
    "start_time": "2022-10-29T10:34:13.349Z"
   },
   {
    "duration": 234,
    "start_time": "2022-10-29T10:34:14.470Z"
   },
   {
    "duration": 25,
    "start_time": "2022-10-29T10:34:16.308Z"
   },
   {
    "duration": 221,
    "start_time": "2022-10-29T10:34:16.617Z"
   },
   {
    "duration": 7,
    "start_time": "2022-10-29T10:34:34.430Z"
   },
   {
    "duration": 5,
    "start_time": "2022-10-29T10:34:34.440Z"
   },
   {
    "duration": 7,
    "start_time": "2022-10-29T10:34:35.987Z"
   },
   {
    "duration": 6,
    "start_time": "2022-10-29T10:36:16.633Z"
   },
   {
    "duration": 59,
    "start_time": "2022-10-29T10:36:25.265Z"
   },
   {
    "duration": 7,
    "start_time": "2022-10-29T10:36:27.779Z"
   },
   {
    "duration": 12,
    "start_time": "2022-10-29T10:36:43.899Z"
   },
   {
    "duration": 32,
    "start_time": "2022-10-29T10:36:53.189Z"
   },
   {
    "duration": 213,
    "start_time": "2022-10-29T10:36:54.309Z"
   },
   {
    "duration": 213,
    "start_time": "2022-10-29T10:37:30.920Z"
   },
   {
    "duration": 36,
    "start_time": "2022-10-29T10:37:34.771Z"
   },
   {
    "duration": 29,
    "start_time": "2022-10-29T10:37:41.779Z"
   },
   {
    "duration": 193,
    "start_time": "2022-10-29T10:37:43.169Z"
   },
   {
    "duration": 10,
    "start_time": "2022-10-29T10:37:48.925Z"
   },
   {
    "duration": 29,
    "start_time": "2022-10-29T10:37:50.588Z"
   },
   {
    "duration": 195,
    "start_time": "2022-10-29T10:37:51.698Z"
   },
   {
    "duration": 1542,
    "start_time": "2022-10-29T10:37:59.188Z"
   },
   {
    "duration": 17,
    "start_time": "2022-10-29T10:38:02.197Z"
   },
   {
    "duration": 9,
    "start_time": "2022-10-29T10:38:03.568Z"
   },
   {
    "duration": 7,
    "start_time": "2022-10-29T10:38:04.438Z"
   },
   {
    "duration": 26,
    "start_time": "2022-10-29T10:38:05.150Z"
   },
   {
    "duration": 236,
    "start_time": "2022-10-29T10:38:05.978Z"
   },
   {
    "duration": 10,
    "start_time": "2022-10-29T10:38:08.988Z"
   },
   {
    "duration": 29,
    "start_time": "2022-10-29T10:38:10.798Z"
   },
   {
    "duration": 200,
    "start_time": "2022-10-29T10:38:11.260Z"
   },
   {
    "duration": 23,
    "start_time": "2022-10-29T10:38:15.738Z"
   },
   {
    "duration": 18,
    "start_time": "2022-10-29T10:41:49.548Z"
   },
   {
    "duration": 13,
    "start_time": "2022-10-29T10:45:48.298Z"
   },
   {
    "duration": 7,
    "start_time": "2022-10-29T10:45:52.018Z"
   },
   {
    "duration": 7,
    "start_time": "2022-10-29T10:45:52.846Z"
   },
   {
    "duration": 23,
    "start_time": "2022-10-29T10:45:54.519Z"
   },
   {
    "duration": 227,
    "start_time": "2022-10-29T10:45:56.718Z"
   },
   {
    "duration": 12,
    "start_time": "2022-10-29T10:47:33.419Z"
   },
   {
    "duration": 11,
    "start_time": "2022-10-29T10:47:59.418Z"
   },
   {
    "duration": 6,
    "start_time": "2022-10-29T10:48:02.798Z"
   },
   {
    "duration": 6,
    "start_time": "2022-10-29T10:48:04.128Z"
   },
   {
    "duration": 12,
    "start_time": "2022-10-29T10:48:05.258Z"
   },
   {
    "duration": 99,
    "start_time": "2022-10-29T10:48:06.494Z"
   },
   {
    "duration": 9,
    "start_time": "2022-10-29T10:48:31.578Z"
   },
   {
    "duration": 7,
    "start_time": "2022-10-29T10:48:32.807Z"
   },
   {
    "duration": 6,
    "start_time": "2022-10-29T10:48:33.638Z"
   },
   {
    "duration": 10,
    "start_time": "2022-10-29T10:48:35.636Z"
   },
   {
    "duration": 96,
    "start_time": "2022-10-29T10:48:36.816Z"
   },
   {
    "duration": 9,
    "start_time": "2022-10-29T10:48:46.318Z"
   },
   {
    "duration": 7,
    "start_time": "2022-10-29T10:48:49.007Z"
   },
   {
    "duration": 7,
    "start_time": "2022-10-29T10:48:49.079Z"
   },
   {
    "duration": 12,
    "start_time": "2022-10-29T10:48:50.118Z"
   },
   {
    "duration": 98,
    "start_time": "2022-10-29T10:48:50.618Z"
   },
   {
    "duration": 10,
    "start_time": "2022-10-29T10:49:13.359Z"
   },
   {
    "duration": 6,
    "start_time": "2022-10-29T10:49:14.706Z"
   },
   {
    "duration": 6,
    "start_time": "2022-10-29T10:49:15.934Z"
   },
   {
    "duration": 12,
    "start_time": "2022-10-29T10:49:16.529Z"
   },
   {
    "duration": 87,
    "start_time": "2022-10-29T10:49:21.377Z"
   },
   {
    "duration": 10,
    "start_time": "2022-10-29T10:49:22.878Z"
   },
   {
    "duration": 29,
    "start_time": "2022-10-29T10:49:24.204Z"
   },
   {
    "duration": 210,
    "start_time": "2022-10-29T10:49:25.558Z"
   },
   {
    "duration": 20,
    "start_time": "2022-10-29T10:49:29.418Z"
   },
   {
    "duration": 5,
    "start_time": "2022-10-29T10:50:07.368Z"
   },
   {
    "duration": 41,
    "start_time": "2022-10-29T10:50:07.718Z"
   },
   {
    "duration": 19,
    "start_time": "2022-10-29T10:50:08.239Z"
   },
   {
    "duration": 17,
    "start_time": "2022-10-29T10:50:08.708Z"
   },
   {
    "duration": 7,
    "start_time": "2022-10-29T10:50:09.308Z"
   },
   {
    "duration": 3,
    "start_time": "2022-10-29T10:50:10.038Z"
   },
   {
    "duration": 4,
    "start_time": "2022-10-29T10:50:10.568Z"
   },
   {
    "duration": 2,
    "start_time": "2022-10-29T10:50:11.139Z"
   },
   {
    "duration": 170,
    "start_time": "2022-10-29T10:50:12.298Z"
   },
   {
    "duration": 764,
    "start_time": "2022-10-29T10:50:12.848Z"
   },
   {
    "duration": 100,
    "start_time": "2022-10-29T10:50:13.614Z"
   },
   {
    "duration": 4,
    "start_time": "2022-10-29T10:50:14.408Z"
   },
   {
    "duration": 32,
    "start_time": "2022-10-29T10:50:15.118Z"
   },
   {
    "duration": 144,
    "start_time": "2022-10-29T10:50:17.239Z"
   },
   {
    "duration": 5,
    "start_time": "2022-10-29T10:50:18.768Z"
   },
   {
    "duration": 6040,
    "start_time": "2022-10-29T10:50:19.269Z"
   },
   {
    "duration": 343,
    "start_time": "2022-10-29T10:50:28.879Z"
   },
   {
    "duration": 5608,
    "start_time": "2022-10-29T10:50:31.058Z"
   },
   {
    "duration": 459,
    "start_time": "2022-10-29T10:50:39.568Z"
   },
   {
    "duration": 58139,
    "start_time": "2022-10-29T10:50:50.008Z"
   },
   {
    "duration": 4,
    "start_time": "2022-10-29T10:52:06.930Z"
   },
   {
    "duration": 45,
    "start_time": "2022-10-29T10:52:07.228Z"
   },
   {
    "duration": 13,
    "start_time": "2022-10-29T10:52:07.538Z"
   },
   {
    "duration": 12,
    "start_time": "2022-10-29T10:52:07.998Z"
   },
   {
    "duration": 8,
    "start_time": "2022-10-29T10:52:08.627Z"
   },
   {
    "duration": 3,
    "start_time": "2022-10-29T10:52:09.428Z"
   },
   {
    "duration": 6,
    "start_time": "2022-10-29T10:52:10.038Z"
   },
   {
    "duration": 4,
    "start_time": "2022-10-29T10:52:10.578Z"
   },
   {
    "duration": 10,
    "start_time": "2022-10-29T10:52:11.218Z"
   },
   {
    "duration": 11,
    "start_time": "2022-10-29T10:52:11.598Z"
   },
   {
    "duration": 9,
    "start_time": "2022-10-29T10:52:12.008Z"
   },
   {
    "duration": 3,
    "start_time": "2022-10-29T10:52:12.428Z"
   },
   {
    "duration": 7,
    "start_time": "2022-10-29T10:52:12.881Z"
   },
   {
    "duration": 102,
    "start_time": "2022-10-29T10:52:14.398Z"
   },
   {
    "duration": 6,
    "start_time": "2022-10-29T10:52:15.685Z"
   },
   {
    "duration": 7469,
    "start_time": "2022-10-29T10:52:16.208Z"
   },
   {
    "duration": 0,
    "start_time": "2022-10-29T10:52:23.679Z"
   },
   {
    "duration": 27,
    "start_time": "2022-10-29T10:52:26.858Z"
   },
   {
    "duration": 214,
    "start_time": "2022-10-29T10:52:31.278Z"
   },
   {
    "duration": 211,
    "start_time": "2022-10-29T10:52:33.878Z"
   },
   {
    "duration": 1492,
    "start_time": "2022-10-29T10:52:35.098Z"
   },
   {
    "duration": 15,
    "start_time": "2022-10-29T10:52:46.109Z"
   },
   {
    "duration": 9,
    "start_time": "2022-10-29T10:52:46.919Z"
   },
   {
    "duration": 6,
    "start_time": "2022-10-29T10:52:48.588Z"
   },
   {
    "duration": 7,
    "start_time": "2022-10-29T10:52:48.897Z"
   },
   {
    "duration": 11,
    "start_time": "2022-10-29T10:52:49.508Z"
   },
   {
    "duration": 107,
    "start_time": "2022-10-29T10:52:50.960Z"
   },
   {
    "duration": 12,
    "start_time": "2022-10-29T10:52:54.720Z"
   },
   {
    "duration": 32,
    "start_time": "2022-10-29T10:52:55.628Z"
   },
   {
    "duration": 237,
    "start_time": "2022-10-29T10:52:56.979Z"
   },
   {
    "duration": 123,
    "start_time": "2022-10-29T10:55:22.718Z"
   },
   {
    "duration": 50,
    "start_time": "2022-10-29T10:55:32.908Z"
   },
   {
    "duration": 29,
    "start_time": "2022-10-29T10:55:47.327Z"
   },
   {
    "duration": 109,
    "start_time": "2022-10-29T10:57:14.230Z"
   },
   {
    "duration": 7,
    "start_time": "2022-10-29T10:57:56.448Z"
   },
   {
    "duration": 4,
    "start_time": "2022-10-29T10:57:56.828Z"
   },
   {
    "duration": 9,
    "start_time": "2022-10-29T10:57:57.558Z"
   },
   {
    "duration": 110,
    "start_time": "2022-10-29T10:58:00.788Z"
   },
   {
    "duration": 6,
    "start_time": "2022-10-29T10:58:01.908Z"
   },
   {
    "duration": 31,
    "start_time": "2022-10-29T10:58:06.249Z"
   },
   {
    "duration": 211,
    "start_time": "2022-10-29T10:58:09.442Z"
   },
   {
    "duration": 21,
    "start_time": "2022-10-29T10:58:13.518Z"
   },
   {
    "duration": 19,
    "start_time": "2022-10-29T10:59:05.339Z"
   },
   {
    "duration": 1524,
    "start_time": "2022-10-29T10:59:06.729Z"
   },
   {
    "duration": 16,
    "start_time": "2022-10-29T10:59:10.168Z"
   },
   {
    "duration": 12,
    "start_time": "2022-10-29T10:59:11.819Z"
   },
   {
    "duration": 7,
    "start_time": "2022-10-29T10:59:13.340Z"
   },
   {
    "duration": 6,
    "start_time": "2022-10-29T10:59:14.559Z"
   },
   {
    "duration": 12,
    "start_time": "2022-10-29T10:59:16.676Z"
   },
   {
    "duration": 86,
    "start_time": "2022-10-29T10:59:17.778Z"
   },
   {
    "duration": 14,
    "start_time": "2022-10-29T10:59:19.227Z"
   },
   {
    "duration": 16,
    "start_time": "2022-10-29T10:59:33.448Z"
   },
   {
    "duration": 29,
    "start_time": "2022-10-29T10:59:34.696Z"
   },
   {
    "duration": 196,
    "start_time": "2022-10-29T10:59:34.937Z"
   },
   {
    "duration": 48,
    "start_time": "2022-10-29T11:00:18.034Z"
   },
   {
    "duration": 54,
    "start_time": "2022-10-29T11:01:06.592Z"
   },
   {
    "duration": 21,
    "start_time": "2022-10-29T11:01:15.116Z"
   },
   {
    "duration": 216,
    "start_time": "2022-10-29T11:01:21.618Z"
   },
   {
    "duration": 27,
    "start_time": "2022-10-29T11:01:24.342Z"
   },
   {
    "duration": 24,
    "start_time": "2022-10-29T11:01:46.659Z"
   },
   {
    "duration": 1427,
    "start_time": "2022-10-29T11:01:48.677Z"
   },
   {
    "duration": 16,
    "start_time": "2022-10-29T11:01:51.898Z"
   },
   {
    "duration": 24,
    "start_time": "2022-10-29T11:02:34.189Z"
   },
   {
    "duration": 71,
    "start_time": "2022-10-29T11:02:51.471Z"
   },
   {
    "duration": 54,
    "start_time": "2022-10-29T11:02:57.818Z"
   },
   {
    "duration": 210,
    "start_time": "2022-10-29T11:03:00.249Z"
   },
   {
    "duration": 29,
    "start_time": "2022-10-29T11:03:04.398Z"
   },
   {
    "duration": 40,
    "start_time": "2022-10-29T11:14:26.116Z"
   },
   {
    "duration": 4,
    "start_time": "2022-10-29T11:14:39.124Z"
   },
   {
    "duration": 138,
    "start_time": "2022-10-29T11:14:44.054Z"
   },
   {
    "duration": 334,
    "start_time": "2022-10-29T11:15:15.804Z"
   },
   {
    "duration": 379,
    "start_time": "2022-10-29T11:16:05.773Z"
   },
   {
    "duration": 145,
    "start_time": "2022-10-29T11:17:38.064Z"
   },
   {
    "duration": 336,
    "start_time": "2022-10-29T11:17:54.594Z"
   },
   {
    "duration": 50,
    "start_time": "2022-10-29T11:18:15.294Z"
   },
   {
    "duration": 390,
    "start_time": "2022-10-29T11:18:36.455Z"
   },
   {
    "duration": 145,
    "start_time": "2022-10-29T11:19:35.754Z"
   },
   {
    "duration": 176,
    "start_time": "2022-10-29T11:23:06.583Z"
   },
   {
    "duration": 47,
    "start_time": "2022-10-29T20:30:02.895Z"
   },
   {
    "duration": 1694,
    "start_time": "2022-10-29T20:30:10.123Z"
   },
   {
    "duration": 39,
    "start_time": "2022-10-29T20:30:11.820Z"
   },
   {
    "duration": 11,
    "start_time": "2022-10-29T20:30:11.861Z"
   },
   {
    "duration": 10,
    "start_time": "2022-10-29T20:30:11.875Z"
   },
   {
    "duration": 8,
    "start_time": "2022-10-29T20:30:11.886Z"
   },
   {
    "duration": 3,
    "start_time": "2022-10-29T20:30:11.896Z"
   },
   {
    "duration": 9,
    "start_time": "2022-10-29T20:30:11.900Z"
   },
   {
    "duration": 5,
    "start_time": "2022-10-29T20:30:11.911Z"
   },
   {
    "duration": 10,
    "start_time": "2022-10-29T20:30:11.917Z"
   },
   {
    "duration": 9,
    "start_time": "2022-10-29T20:30:11.930Z"
   },
   {
    "duration": 5,
    "start_time": "2022-10-29T20:30:11.940Z"
   },
   {
    "duration": 3,
    "start_time": "2022-10-29T20:30:11.947Z"
   },
   {
    "duration": 6,
    "start_time": "2022-10-29T20:30:11.951Z"
   },
   {
    "duration": 129,
    "start_time": "2022-10-29T20:30:11.959Z"
   },
   {
    "duration": 5,
    "start_time": "2022-10-29T20:30:12.089Z"
   },
   {
    "duration": 109757,
    "start_time": "2022-10-29T20:30:12.095Z"
   },
   {
    "duration": 191,
    "start_time": "2022-10-29T20:32:01.854Z"
   },
   {
    "duration": 1325463,
    "start_time": "2022-10-29T20:32:02.046Z"
   },
   {
    "duration": 0,
    "start_time": "2022-10-29T20:54:07.511Z"
   },
   {
    "duration": 0,
    "start_time": "2022-10-29T20:54:07.512Z"
   },
   {
    "duration": 0,
    "start_time": "2022-10-29T20:54:07.513Z"
   },
   {
    "duration": 0,
    "start_time": "2022-10-29T20:54:07.514Z"
   },
   {
    "duration": 0,
    "start_time": "2022-10-29T20:54:07.515Z"
   },
   {
    "duration": 0,
    "start_time": "2022-10-29T20:54:07.516Z"
   },
   {
    "duration": 1,
    "start_time": "2022-10-29T20:54:07.516Z"
   },
   {
    "duration": 0,
    "start_time": "2022-10-29T20:54:07.518Z"
   },
   {
    "duration": 0,
    "start_time": "2022-10-29T20:54:07.519Z"
   },
   {
    "duration": 0,
    "start_time": "2022-10-29T20:54:07.519Z"
   },
   {
    "duration": 0,
    "start_time": "2022-10-29T20:54:07.520Z"
   },
   {
    "duration": 0,
    "start_time": "2022-10-29T20:54:07.521Z"
   },
   {
    "duration": 0,
    "start_time": "2022-10-29T20:54:07.522Z"
   },
   {
    "duration": 0,
    "start_time": "2022-10-29T20:54:07.523Z"
   },
   {
    "duration": 338,
    "start_time": "2022-10-29T20:54:10.571Z"
   },
   {
    "duration": 289,
    "start_time": "2022-10-29T20:54:13.377Z"
   },
   {
    "duration": 1243,
    "start_time": "2022-10-29T20:54:19.726Z"
   },
   {
    "duration": 14,
    "start_time": "2022-10-29T20:54:20.971Z"
   },
   {
    "duration": 10,
    "start_time": "2022-10-29T20:54:28.606Z"
   },
   {
    "duration": 7,
    "start_time": "2022-10-29T20:54:28.887Z"
   },
   {
    "duration": 6,
    "start_time": "2022-10-29T20:54:29.419Z"
   },
   {
    "duration": 11,
    "start_time": "2022-10-29T20:54:29.759Z"
   },
   {
    "duration": 93,
    "start_time": "2022-10-29T20:54:36.556Z"
   },
   {
    "duration": 13,
    "start_time": "2022-10-29T20:54:37.114Z"
   },
   {
    "duration": 8,
    "start_time": "2022-10-29T20:54:39.484Z"
   },
   {
    "duration": 127,
    "start_time": "2022-10-29T20:54:42.854Z"
   },
   {
    "duration": 285,
    "start_time": "2022-10-29T20:54:50.230Z"
   },
   {
    "duration": 127,
    "start_time": "2022-10-29T20:54:55.353Z"
   },
   {
    "duration": 47,
    "start_time": "2022-10-30T08:55:51.638Z"
   },
   {
    "duration": 41,
    "start_time": "2022-10-30T08:56:05.728Z"
   },
   {
    "duration": 48,
    "start_time": "2022-10-30T08:56:18.407Z"
   },
   {
    "duration": 1506,
    "start_time": "2022-10-30T08:56:33.374Z"
   },
   {
    "duration": 75,
    "start_time": "2022-10-30T08:56:34.882Z"
   },
   {
    "duration": 13,
    "start_time": "2022-10-30T08:56:34.959Z"
   },
   {
    "duration": 11,
    "start_time": "2022-10-30T08:56:34.974Z"
   },
   {
    "duration": 8,
    "start_time": "2022-10-30T08:56:36.530Z"
   },
   {
    "duration": 3,
    "start_time": "2022-10-30T08:56:38.970Z"
   },
   {
    "duration": 5,
    "start_time": "2022-10-30T08:56:39.531Z"
   },
   {
    "duration": 5,
    "start_time": "2022-10-30T08:56:40.180Z"
   },
   {
    "duration": 13,
    "start_time": "2022-10-30T08:56:42.991Z"
   },
   {
    "duration": 14,
    "start_time": "2022-10-30T08:56:44.111Z"
   },
   {
    "duration": 7,
    "start_time": "2022-10-30T08:56:44.590Z"
   },
   {
    "duration": 4,
    "start_time": "2022-10-30T08:56:46.013Z"
   },
   {
    "duration": 7,
    "start_time": "2022-10-30T08:56:46.480Z"
   },
   {
    "duration": 130,
    "start_time": "2022-10-30T08:56:50.170Z"
   },
   {
    "duration": 5,
    "start_time": "2022-10-30T08:56:51.361Z"
   },
   {
    "duration": 8194,
    "start_time": "2022-10-30T08:56:51.880Z"
   },
   {
    "duration": 131,
    "start_time": "2022-10-30T08:57:06.219Z"
   },
   {
    "duration": 4789,
    "start_time": "2022-10-30T08:57:22.178Z"
   },
   {
    "duration": 390,
    "start_time": "2022-10-30T08:57:29.620Z"
   },
   {
    "duration": 11,
    "start_time": "2022-10-30T08:57:58.489Z"
   },
   {
    "duration": 11,
    "start_time": "2022-10-30T08:58:17.646Z"
   },
   {
    "duration": 44,
    "start_time": "2022-10-30T08:58:39.557Z"
   },
   {
    "duration": 4,
    "start_time": "2022-10-30T09:00:37.450Z"
   },
   {
    "duration": 621017,
    "start_time": "2022-10-30T09:00:42.535Z"
   },
   {
    "duration": 5,
    "start_time": "2022-10-30T09:11:03.555Z"
   },
   {
    "duration": 144,
    "start_time": "2022-10-30T09:12:20.721Z"
   },
   {
    "duration": 133,
    "start_time": "2022-10-30T09:12:42.389Z"
   },
   {
    "duration": 6,
    "start_time": "2022-10-30T09:13:14.271Z"
   },
   {
    "duration": 96,
    "start_time": "2022-10-30T09:13:17.641Z"
   },
   {
    "duration": 7,
    "start_time": "2022-10-30T09:13:22.850Z"
   },
   {
    "duration": 10,
    "start_time": "2022-10-30T09:14:01.460Z"
   },
   {
    "duration": 40,
    "start_time": "2022-10-30T09:14:03.132Z"
   },
   {
    "duration": 12,
    "start_time": "2022-10-30T09:14:03.403Z"
   },
   {
    "duration": 10,
    "start_time": "2022-10-30T09:14:05.117Z"
   },
   {
    "duration": 3,
    "start_time": "2022-10-30T09:14:25.566Z"
   },
   {
    "duration": 5,
    "start_time": "2022-10-30T09:14:35.977Z"
   },
   {
    "duration": 5,
    "start_time": "2022-10-30T09:14:53.903Z"
   },
   {
    "duration": 8,
    "start_time": "2022-10-30T09:17:40.483Z"
   },
   {
    "duration": 6,
    "start_time": "2022-10-30T09:18:24.244Z"
   },
   {
    "duration": 6,
    "start_time": "2022-10-30T09:18:28.020Z"
   },
   {
    "duration": 5,
    "start_time": "2022-10-30T09:18:28.613Z"
   },
   {
    "duration": 12,
    "start_time": "2022-10-30T09:18:31.333Z"
   },
   {
    "duration": 10,
    "start_time": "2022-10-30T09:18:33.326Z"
   },
   {
    "duration": 6,
    "start_time": "2022-10-30T09:18:33.870Z"
   },
   {
    "duration": 3,
    "start_time": "2022-10-30T09:18:35.451Z"
   },
   {
    "duration": 4,
    "start_time": "2022-10-30T09:18:45.850Z"
   },
   {
    "duration": 38,
    "start_time": "2022-10-30T09:18:46.546Z"
   },
   {
    "duration": 14,
    "start_time": "2022-10-30T09:18:48.293Z"
   },
   {
    "duration": 17,
    "start_time": "2022-10-30T09:18:48.309Z"
   },
   {
    "duration": 3,
    "start_time": "2022-10-30T09:18:50.883Z"
   },
   {
    "duration": 8,
    "start_time": "2022-10-30T09:18:51.465Z"
   },
   {
    "duration": 6,
    "start_time": "2022-10-30T09:18:52.434Z"
   },
   {
    "duration": 5,
    "start_time": "2022-10-30T09:18:54.225Z"
   },
   {
    "duration": 9,
    "start_time": "2022-10-30T09:18:56.782Z"
   },
   {
    "duration": 8,
    "start_time": "2022-10-30T09:18:58.474Z"
   },
   {
    "duration": 6,
    "start_time": "2022-10-30T09:19:08.882Z"
   },
   {
    "duration": 4,
    "start_time": "2022-10-30T09:19:15.017Z"
   },
   {
    "duration": 3,
    "start_time": "2022-10-30T09:19:23.083Z"
   },
   {
    "duration": 6,
    "start_time": "2022-10-30T09:19:28.637Z"
   },
   {
    "duration": 97,
    "start_time": "2022-10-30T09:19:30.295Z"
   },
   {
    "duration": 6,
    "start_time": "2022-10-30T09:19:32.263Z"
   },
   {
    "duration": 187,
    "start_time": "2022-10-30T09:20:50.898Z"
   },
   {
    "duration": 356,
    "start_time": "2022-10-30T09:21:49.821Z"
   },
   {
    "duration": 1579,
    "start_time": "2022-10-30T09:22:23.269Z"
   },
   {
    "duration": 13,
    "start_time": "2022-10-30T09:22:33.579Z"
   },
   {
    "duration": 17,
    "start_time": "2022-10-30T09:22:36.230Z"
   },
   {
    "duration": 12,
    "start_time": "2022-10-30T09:22:54.421Z"
   },
   {
    "duration": 5,
    "start_time": "2022-10-30T09:23:11.260Z"
   },
   {
    "duration": 5,
    "start_time": "2022-10-30T09:23:20.709Z"
   },
   {
    "duration": 11,
    "start_time": "2022-10-30T09:23:37.699Z"
   },
   {
    "duration": 96,
    "start_time": "2022-10-30T09:23:58.290Z"
   },
   {
    "duration": 15,
    "start_time": "2022-10-30T09:24:17.049Z"
   },
   {
    "duration": 9,
    "start_time": "2022-10-30T09:24:41.737Z"
   },
   {
    "duration": 144,
    "start_time": "2022-10-30T09:24:49.352Z"
   },
   {
    "duration": 0,
    "start_time": "2022-10-30T09:48:57.209Z"
   },
   {
    "duration": 358,
    "start_time": "2022-10-30T09:49:14.026Z"
   },
   {
    "duration": 6,
    "start_time": "2022-10-30T09:49:17.974Z"
   },
   {
    "duration": 148,
    "start_time": "2022-10-30T09:49:36.129Z"
   },
   {
    "duration": 6,
    "start_time": "2022-10-30T09:50:12.178Z"
   },
   {
    "duration": 5,
    "start_time": "2022-10-30T09:50:14.313Z"
   },
   {
    "duration": 15,
    "start_time": "2022-10-30T09:50:14.319Z"
   },
   {
    "duration": 7,
    "start_time": "2022-10-30T09:50:16.959Z"
   },
   {
    "duration": 113,
    "start_time": "2022-10-30T09:50:17.513Z"
   },
   {
    "duration": 5,
    "start_time": "2022-10-30T09:50:20.771Z"
   },
   {
    "duration": 51,
    "start_time": "2022-10-30T09:52:06.606Z"
   },
   {
    "duration": 1372,
    "start_time": "2022-10-30T09:52:13.255Z"
   },
   {
    "duration": 41,
    "start_time": "2022-10-30T09:52:14.628Z"
   },
   {
    "duration": 13,
    "start_time": "2022-10-30T09:52:14.670Z"
   },
   {
    "duration": 9,
    "start_time": "2022-10-30T09:52:14.685Z"
   },
   {
    "duration": 4,
    "start_time": "2022-10-30T09:52:14.735Z"
   },
   {
    "duration": 5,
    "start_time": "2022-10-30T09:52:16.056Z"
   },
   {
    "duration": 5,
    "start_time": "2022-10-30T09:52:17.245Z"
   },
   {
    "duration": 5,
    "start_time": "2022-10-30T09:52:17.606Z"
   },
   {
    "duration": 9,
    "start_time": "2022-10-30T09:52:19.476Z"
   },
   {
    "duration": 9,
    "start_time": "2022-10-30T09:52:22.105Z"
   },
   {
    "duration": 6,
    "start_time": "2022-10-30T09:52:23.685Z"
   },
   {
    "duration": 3,
    "start_time": "2022-10-30T09:52:24.027Z"
   },
   {
    "duration": 5,
    "start_time": "2022-10-30T09:52:25.856Z"
   },
   {
    "duration": 111,
    "start_time": "2022-10-30T09:52:26.845Z"
   },
   {
    "duration": 7,
    "start_time": "2022-10-30T09:52:28.165Z"
   },
   {
    "duration": 145912,
    "start_time": "2022-10-30T09:52:29.439Z"
   },
   {
    "duration": 5,
    "start_time": "2022-10-30T09:56:05.000Z"
   },
   {
    "duration": 6,
    "start_time": "2022-10-30T09:56:33.370Z"
   },
   {
    "duration": 184,
    "start_time": "2022-10-30T09:56:58.364Z"
   },
   {
    "duration": 5,
    "start_time": "2022-10-30T09:57:39.315Z"
   },
   {
    "duration": 8,
    "start_time": "2022-10-30T09:57:51.922Z"
   },
   {
    "duration": 7,
    "start_time": "2022-10-30T09:57:53.891Z"
   },
   {
    "duration": 3,
    "start_time": "2022-10-30T09:57:54.500Z"
   },
   {
    "duration": 5,
    "start_time": "2022-10-30T09:57:56.592Z"
   },
   {
    "duration": 97,
    "start_time": "2022-10-30T09:57:59.371Z"
   },
   {
    "duration": 6,
    "start_time": "2022-10-30T09:58:01.870Z"
   },
   {
    "duration": 5,
    "start_time": "2022-10-30T09:58:12.061Z"
   },
   {
    "duration": 29,
    "start_time": "2022-10-30T09:59:13.091Z"
   },
   {
    "duration": 14,
    "start_time": "2022-10-30T09:59:25.031Z"
   },
   {
    "duration": 5,
    "start_time": "2022-10-30T09:59:36.790Z"
   },
   {
    "duration": 12,
    "start_time": "2022-10-30T09:59:43.322Z"
   },
   {
    "duration": 80,
    "start_time": "2022-10-30T10:00:36.639Z"
   },
   {
    "duration": 6,
    "start_time": "2022-10-30T10:00:45.851Z"
   },
   {
    "duration": 12,
    "start_time": "2022-10-30T10:00:52.921Z"
   },
   {
    "duration": 9,
    "start_time": "2022-10-30T10:00:56.095Z"
   },
   {
    "duration": 13,
    "start_time": "2022-10-30T10:00:58.891Z"
   },
   {
    "duration": 12,
    "start_time": "2022-10-30T10:01:14.881Z"
   },
   {
    "duration": 4,
    "start_time": "2022-10-30T10:01:30.461Z"
   },
   {
    "duration": 21,
    "start_time": "2022-10-30T10:01:50.471Z"
   },
   {
    "duration": 7,
    "start_time": "2022-10-30T10:02:09.728Z"
   },
   {
    "duration": 6,
    "start_time": "2022-10-30T10:04:32.021Z"
   },
   {
    "duration": 201408,
    "start_time": "2022-10-30T10:05:07.870Z"
   },
   {
    "duration": 161,
    "start_time": "2022-10-30T10:08:44.416Z"
   },
   {
    "duration": 18,
    "start_time": "2022-10-30T10:12:41.225Z"
   },
   {
    "duration": 10,
    "start_time": "2022-10-30T10:17:23.562Z"
   },
   {
    "duration": 4,
    "start_time": "2022-10-30T10:17:30.334Z"
   },
   {
    "duration": 15,
    "start_time": "2022-10-30T10:18:48.132Z"
   },
   {
    "duration": 13,
    "start_time": "2022-10-30T10:19:12.592Z"
   },
   {
    "duration": 0,
    "start_time": "2022-10-30T10:34:57.641Z"
   },
   {
    "duration": 0,
    "start_time": "2022-10-30T10:51:07.798Z"
   },
   {
    "duration": 7607,
    "start_time": "2022-10-30T10:51:09.727Z"
   },
   {
    "duration": 0,
    "start_time": "2022-10-30T12:03:56.746Z"
   },
   {
    "duration": 0,
    "start_time": "2022-10-30T13:24:57.026Z"
   },
   {
    "duration": 11,
    "start_time": "2022-10-30T13:25:03.374Z"
   },
   {
    "duration": 1968,
    "start_time": "2022-10-30T19:57:23.054Z"
   },
   {
    "duration": 40,
    "start_time": "2022-10-30T19:57:25.024Z"
   },
   {
    "duration": 11,
    "start_time": "2022-10-30T19:57:25.066Z"
   },
   {
    "duration": 9,
    "start_time": "2022-10-30T19:57:25.079Z"
   },
   {
    "duration": 3,
    "start_time": "2022-10-30T19:57:25.090Z"
   },
   {
    "duration": 13,
    "start_time": "2022-10-30T19:57:25.094Z"
   },
   {
    "duration": 5,
    "start_time": "2022-10-30T19:57:25.109Z"
   },
   {
    "duration": 12,
    "start_time": "2022-10-30T19:57:25.115Z"
   },
   {
    "duration": 13,
    "start_time": "2022-10-30T19:57:25.128Z"
   },
   {
    "duration": 12,
    "start_time": "2022-10-30T19:57:25.143Z"
   },
   {
    "duration": 5,
    "start_time": "2022-10-30T19:57:25.157Z"
   },
   {
    "duration": 4,
    "start_time": "2022-10-30T19:57:25.163Z"
   },
   {
    "duration": 14,
    "start_time": "2022-10-30T19:57:25.168Z"
   },
   {
    "duration": 114,
    "start_time": "2022-10-30T19:57:25.183Z"
   },
   {
    "duration": 6,
    "start_time": "2022-10-30T19:57:25.300Z"
   },
   {
    "duration": 33646,
    "start_time": "2022-10-30T19:57:25.322Z"
   },
   {
    "duration": 0,
    "start_time": "2022-10-30T19:57:58.970Z"
   },
   {
    "duration": 0,
    "start_time": "2022-10-30T19:57:58.971Z"
   },
   {
    "duration": 0,
    "start_time": "2022-10-30T19:57:58.973Z"
   },
   {
    "duration": 0,
    "start_time": "2022-10-30T19:57:58.974Z"
   },
   {
    "duration": 0,
    "start_time": "2022-10-30T19:57:58.975Z"
   },
   {
    "duration": 0,
    "start_time": "2022-10-30T19:57:58.976Z"
   },
   {
    "duration": 0,
    "start_time": "2022-10-30T19:57:58.976Z"
   },
   {
    "duration": 0,
    "start_time": "2022-10-30T19:57:58.977Z"
   },
   {
    "duration": 0,
    "start_time": "2022-10-30T19:57:58.978Z"
   },
   {
    "duration": 0,
    "start_time": "2022-10-30T19:57:58.979Z"
   },
   {
    "duration": 0,
    "start_time": "2022-10-30T19:57:58.980Z"
   },
   {
    "duration": 0,
    "start_time": "2022-10-30T19:57:58.981Z"
   },
   {
    "duration": 0,
    "start_time": "2022-10-30T19:57:58.982Z"
   },
   {
    "duration": 0,
    "start_time": "2022-10-30T19:57:58.983Z"
   },
   {
    "duration": 0,
    "start_time": "2022-10-30T19:57:58.984Z"
   },
   {
    "duration": 0,
    "start_time": "2022-10-30T19:57:58.984Z"
   },
   {
    "duration": 0,
    "start_time": "2022-10-30T19:57:58.986Z"
   },
   {
    "duration": 0,
    "start_time": "2022-10-30T19:57:58.987Z"
   },
   {
    "duration": 0,
    "start_time": "2022-10-30T19:57:58.987Z"
   },
   {
    "duration": 0,
    "start_time": "2022-10-30T19:57:58.988Z"
   },
   {
    "duration": 0,
    "start_time": "2022-10-30T19:57:58.989Z"
   },
   {
    "duration": 0,
    "start_time": "2022-10-30T19:57:58.990Z"
   },
   {
    "duration": 0,
    "start_time": "2022-10-30T19:57:58.991Z"
   },
   {
    "duration": 124,
    "start_time": "2022-10-30T19:58:14.906Z"
   },
   {
    "duration": 12215,
    "start_time": "2022-10-30T19:58:16.414Z"
   },
   {
    "duration": 368,
    "start_time": "2022-10-30T19:58:33.156Z"
   },
   {
    "duration": 1301,
    "start_time": "2022-10-30T19:58:35.806Z"
   },
   {
    "duration": 15,
    "start_time": "2022-10-30T19:58:39.627Z"
   },
   {
    "duration": 13,
    "start_time": "2022-10-30T19:58:42.103Z"
   },
   {
    "duration": 6,
    "start_time": "2022-10-30T19:58:42.371Z"
   },
   {
    "duration": 5,
    "start_time": "2022-10-30T19:58:42.752Z"
   },
   {
    "duration": 14,
    "start_time": "2022-10-30T19:58:43.111Z"
   },
   {
    "duration": 91,
    "start_time": "2022-10-30T19:58:44.304Z"
   },
   {
    "duration": 8,
    "start_time": "2022-10-30T19:58:46.705Z"
   },
   {
    "duration": 13834,
    "start_time": "2022-10-30T19:58:48.546Z"
   },
   {
    "duration": 136,
    "start_time": "2022-10-30T19:59:06.472Z"
   },
   {
    "duration": 332,
    "start_time": "2022-10-30T19:59:14.707Z"
   },
   {
    "duration": 7,
    "start_time": "2022-10-30T19:59:16.897Z"
   },
   {
    "duration": 13,
    "start_time": "2022-10-30T19:59:16.906Z"
   },
   {
    "duration": 5,
    "start_time": "2022-10-30T19:59:19.159Z"
   },
   {
    "duration": 157071,
    "start_time": "2022-10-30T19:59:19.444Z"
   },
   {
    "duration": 4,
    "start_time": "2022-10-30T20:01:56.517Z"
   },
   {
    "duration": 174,
    "start_time": "2022-10-30T20:02:05.995Z"
   },
   {
    "duration": 77,
    "start_time": "2022-10-30T20:02:13.602Z"
   },
   {
    "duration": 153,
    "start_time": "2022-10-30T20:02:18.391Z"
   },
   {
    "duration": 3,
    "start_time": "2022-10-30T20:02:45.611Z"
   },
   {
    "duration": 2,
    "start_time": "2022-10-30T20:03:00.687Z"
   },
   {
    "duration": 25282,
    "start_time": "2022-10-30T20:03:41.688Z"
   },
   {
    "duration": 0,
    "start_time": "2022-10-30T20:04:06.971Z"
   },
   {
    "duration": 411,
    "start_time": "2022-10-30T20:04:10.511Z"
   },
   {
    "duration": 153,
    "start_time": "2022-10-30T20:04:19.783Z"
   },
   {
    "duration": 3,
    "start_time": "2022-10-30T20:04:28.180Z"
   }
  ],
  "kernelspec": {
   "display_name": "Python 3 (ipykernel)",
   "language": "python",
   "name": "python3"
  },
  "language_info": {
   "codemirror_mode": {
    "name": "ipython",
    "version": 3
   },
   "file_extension": ".py",
   "mimetype": "text/x-python",
   "name": "python",
   "nbconvert_exporter": "python",
   "pygments_lexer": "ipython3",
   "version": "3.9.5"
  },
  "toc": {
   "base_numbering": 1,
   "nav_menu": {},
   "number_sections": true,
   "sideBar": true,
   "skip_h1_title": true,
   "title_cell": "Содержание",
   "title_sidebar": "Contents",
   "toc_cell": true,
   "toc_position": {
    "height": "calc(100% - 180px)",
    "left": "10px",
    "top": "150px",
    "width": "213.383px"
   },
   "toc_section_display": true,
   "toc_window_display": false
  }
 },
 "nbformat": 4,
 "nbformat_minor": 2
}
