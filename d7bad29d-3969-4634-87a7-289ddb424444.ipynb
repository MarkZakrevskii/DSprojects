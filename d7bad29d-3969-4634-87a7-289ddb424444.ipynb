{
 "cells": [
  {
   "cell_type": "markdown",
   "metadata": {},
   "source": [
    "<div class=\"alert alert-info\">\n",
    "<font size=\"5\"><b>Комментарий ревьюера</b></font>\n",
    "\n",
    "Привет Марк! Меня зовут Марат, и я буду твоим ревьюером. Спешу сообщить что все ключевые этапы в работе выполнены,  с задачей тебе удалось справиться. По поводу обращения - в IT сфере принято общаться на «ты» :) Но, если привычней на «вы», дай знать. Как ревьюера моя задача помочь тебе в развитии, дав хорошие советы. Я внимательно посмотрю твой код, ознакомлюсь с твоими выводами и оставлю комментарии. Где то могу предложить небольшие исправление в коде, но ненавязчиво. Где потребуются уточнения, я оставлю много наводящих вопросов. Они помогут тебя с поиском верного решения.\n",
    "\n",
    "Все мои комментарии размечены по цветам, для лучшего восприятия. \n",
    "    \n",
    "<div class=\"alert alert-success\">Зеленым цветом и словом «Успех» отмечены особо удачные и элегантные решения, которыми ты можешь гордиться. </div>\n",
    "        \n",
    "<div class=\"alert alert-warning\">Желтым и значком словом «Совет», помечены решения у которых есть альтернативные решения, более оптимальные. Ты можешь найти их сразу и доработать проект, или отложить это на потом, для будущих проектах. Проект будет принят и без их доработки. </div>\n",
    "        \n",
    "<div class=\"alert alert-danger\"> Красным цветом и значком словом «Ошибка» помечу твои решения, на которые стоит обратить внимание прежде всего. После их доработки проект будет принят. </div>\n",
    "        \n",
    "Залог успеха - работа сообща, взаимное уважение и работа в диалоге. Поэтому, помечай свои ответные комментарии на мои реплики заметным цветом или курсивом, так мне будет легче их отслеживать. Пожалуйста, не изменяй и не удаляй мои комментарии. Все это поможет выполнить повторную проверку быстрей.\n",
    "\n",
    "</div>"
   ]
  },
  {
   "cell_type": "markdown",
   "metadata": {},
   "source": [
    "# Рекомендация тарифов"
   ]
  },
  {
   "cell_type": "markdown",
   "metadata": {},
   "source": [
    "В вашем распоряжении данные о поведении клиентов, которые уже перешли на эти тарифы (из проекта курса «Статистический анализ данных»). Нужно построить модель для задачи классификации, которая выберет подходящий тариф. Предобработка данных не понадобится — вы её уже сделали.\n",
    "\n",
    "Постройте модель с максимально большим значением *accuracy*. Чтобы сдать проект успешно, нужно довести долю правильных ответов по крайней мере до 0.75. Проверьте *accuracy* на тестовой выборке самостоятельно."
   ]
  },
  {
   "cell_type": "markdown",
   "metadata": {},
   "source": [
    "<div class=\"alert alert-success\">\n",
    "<font size=\"5\"><b>Комментарий ревьюера</b></font>\n",
    "\n",
    "Успех:\n",
    "\n",
    "\n",
    "Вступление в работу очень важно, так человек, который смотрит твой проект (и на работе в том числе) будет сразу введен в курс дела.\n",
    "\n",
    "\n",
    "\n",
    "\n",
    "\n",
    "</div>"
   ]
  },
  {
   "cell_type": "markdown",
   "metadata": {},
   "source": [
    "## Откройте и изучите файл"
   ]
  },
  {
   "cell_type": "code",
   "execution_count": 11,
   "metadata": {},
   "outputs": [],
   "source": [
    "# Импортирование библиотек:\n",
    "import pandas as pd\n",
    "from sklearn.model_selection import train_test_split\n",
    "from sklearn.tree import DecisionTreeClassifier\n",
    "from sklearn.ensemble import RandomForestClassifier\n",
    "from sklearn.metrics import accuracy_score\n",
    "from sklearn.linear_model import LogisticRegression\n",
    "from sklearn.model_selection import GridSearchCV\n",
    "from sklearn.dummy import DummyClassifier"
   ]
  },
  {
   "cell_type": "code",
   "execution_count": null,
   "metadata": {},
   "outputs": [],
   "source": [
    "# Чтение файла:\n",
    "df = pd.read_csv('/datasets/users_behavior.csv')"
   ]
  },
  {
   "cell_type": "code",
   "execution_count": 19,
   "metadata": {},
   "outputs": [
    {
     "name": "stdout",
     "output_type": "stream",
     "text": [
      "<class 'pandas.core.frame.DataFrame'>\n",
      "RangeIndex: 3214 entries, 0 to 3213\n",
      "Data columns (total 5 columns):\n",
      " #   Column    Non-Null Count  Dtype  \n",
      "---  ------    --------------  -----  \n",
      " 0   calls     3214 non-null   float64\n",
      " 1   minutes   3214 non-null   float64\n",
      " 2   messages  3214 non-null   float64\n",
      " 3   mb_used   3214 non-null   float64\n",
      " 4   is_ultra  3214 non-null   int64  \n",
      "dtypes: float64(4), int64(1)\n",
      "memory usage: 125.7 KB\n"
     ]
    }
   ],
   "source": [
    "# Рассмотрим общую информацию о датафрейме:\n",
    "df.info()"
   ]
  },
  {
   "cell_type": "code",
   "execution_count": 27,
   "metadata": {},
   "outputs": [
    {
     "data": {
      "text/plain": [
       "0"
      ]
     },
     "execution_count": 27,
     "metadata": {},
     "output_type": "execute_result"
    }
   ],
   "source": [
    "# Данные не имеют дубликатов, хотя единичные случаи могли бы быть, так как данные не имеют записей с уникальными идентификаторами:\n",
    "\n",
    "df.duplicated().sum()"
   ]
  },
  {
   "cell_type": "code",
   "execution_count": 36,
   "metadata": {},
   "outputs": [
    {
     "data": {
      "text/plain": [
       "30.6"
      ]
     },
     "execution_count": 36,
     "metadata": {},
     "output_type": "execute_result"
    }
   ],
   "source": [
    "# Рассмотрем в какой пропорции распределён целевой параметр Exited:\n",
    "\n",
    "(((df['is_ultra'] == 1).sum() / df['is_ultra'].count()) * 100).round(1)\n",
    "\n",
    "# Примерно 30% клиентов используют тариф ультра."
   ]
  },
  {
   "cell_type": "markdown",
   "metadata": {},
   "source": [
    "<div class=\"alert alert-success\">\n",
    "<font size=\"5\"><b>Комментарий ревьюераV2</b></font>\n",
    "\n",
    "Успех:\n",
    "\n",
    "👍\n",
    "</div>\n"
   ]
  },
  {
   "cell_type": "markdown",
   "metadata": {},
   "source": [
    "<div class=\"alert alert-success\">\n",
    "<font size=\"5\"><b>Комментарий ревьюера</b></font>\n",
    "\n",
    "Успех:\n",
    "\n",
    "Собираем все импорты в верхней части, чтобы легче было ориентироваться и добавлять новые по необходимости. \n",
    "\n",
    "\n",
    "<div class=\"alert alert-warning\">\n",
    "\n",
    "Совет:     \n",
    "    \n",
    "- все-таки стоит импорт библиотек и выгрузку данных разнести в разные ячейки, так стилистически более правильно.\n",
    "\n",
    "\n",
    "- кстати есть рекомендации PEP-8 при написании кода, в том числе и для импортов. Если интересно можешь почитать [тут](https://pythonworld.ru/osnovy/pep-8-rukovodstvo-po-napisaniyu-koda-na-python.html), в будущем пригодится )  \n"
   ]
  },
  {
   "cell_type": "markdown",
   "metadata": {},
   "source": [
    "\n",
    "<div class=\"alert alert-danger\">\n",
    "<font size=\"5\"><b>Комментарий ревьюера</b></font>\n",
    "\n",
    "Ошибка: \n",
    "    \n",
    "Небольшой EDA не помешает, так как это аналитический проект. В данном проекте датасет \"чистенький\", но кто знает какой датасет нас будет ждать завтра, надо быть готовым. Хотя бы info() и вывод по увиденному.\n",
    "Плюс проверить датасет на сбалансированность таргетов, это бы дало информацию для train_test_split и помогло решить бонусное задание сразу. \n",
    "\n",
    "\n",
    "</div>"
   ]
  },
  {
   "cell_type": "markdown",
   "metadata": {},
   "source": [
    "## Разбейте данные на выборки"
   ]
  },
  {
   "cell_type": "code",
   "execution_count": 12,
   "metadata": {},
   "outputs": [],
   "source": [
    "# Разделим данные в пропорции 3:1:1\n",
    "df_train, df_valid_test = train_test_split(df, test_size = 0.4, random_state = 12345)\n",
    "df_valid, df_test = train_test_split(df_valid_test, test_size = 0.5, random_state = 12345)"
   ]
  },
  {
   "cell_type": "code",
   "execution_count": 8,
   "metadata": {},
   "outputs": [
    {
     "name": "stdout",
     "output_type": "stream",
     "text": [
      "(1928, 5)\n",
      "(643, 5)\n",
      "(643, 5)\n"
     ]
    }
   ],
   "source": [
    "# Проверим размеры получившмхся выборок:\n",
    "\n",
    "print(df_train.shape)\n",
    "print(df_valid.shape)\n",
    "print(df_test.shape)"
   ]
  },
  {
   "cell_type": "markdown",
   "metadata": {},
   "source": [
    "<div class=\"alert alert-success\">\n",
    "<font size=\"5\"><b>Комментарий ревьюераV2</b></font>\n",
    "\n",
    "Успех:\n",
    "\n",
    "👍\n",
    "</div>\n"
   ]
  },
  {
   "cell_type": "markdown",
   "metadata": {},
   "source": [
    "<div class=\"alert alert-success\">\n",
    "<font size=\"5\"><b>Комментарий ревьюера</b></font>\n",
    "\n",
    "Успех:\n",
    "\n",
    "Все правильно!\n",
    "\n",
    "\n",
    "<div class=\"alert alert-warning\">\n",
    "\n",
    "\n",
    "\n",
    "Совет: \n",
    "\n",
    "\n",
    "- Обрати внимание на аргумент stratify, он позволит сохранить изначальное распределение таргетов во всех новых датасетах.  Существующий дисбаланс никуда не денется, но в каждом датасете он будет одинаковым\n",
    "\n",
    "\n",
    "- После разбиения лучше перестраховаться и использовать .shape, для контроля за корректностью разбиения\n",
    "\n",
    "\n",
    "</div>\n",
    "\n",
    "\n",
    "\n"
   ]
  },
  {
   "cell_type": "markdown",
   "metadata": {},
   "source": [
    "## Исследуйте модели"
   ]
  },
  {
   "cell_type": "code",
   "execution_count": 13,
   "metadata": {},
   "outputs": [],
   "source": [
    "features_train = df_train.drop(['is_ultra'], axis=1)\n",
    "target_train = df_train['is_ultra']\n",
    "\n",
    "features_valid = df_valid.drop(['is_ultra'], axis=1)\n",
    "target_valid = df_valid['is_ultra']\n",
    "\n",
    "features_test = df_test.drop(['is_ultra'], axis=1)\n",
    "target_test = df_test['is_ultra']"
   ]
  },
  {
   "cell_type": "code",
   "execution_count": 4,
   "metadata": {},
   "outputs": [
    {
     "data": {
      "text/plain": [
       "{'max_depth': 7, 'min_samples_leaf': 5, 'min_samples_split': 16}"
      ]
     },
     "execution_count": 4,
     "metadata": {},
     "output_type": "execute_result"
    }
   ],
   "source": [
    "# Дерево:\n",
    "\n",
    "# С помощью модуля GridSearchCV определим оптимальные значения гиперпараметров модели:\n",
    "model_1_cv_test = DecisionTreeClassifier()\n",
    "\n",
    "parametrs = { 'max_depth': range (1,31, 2),\n",
    "              'min_samples_leaf': range (1,10),\n",
    "              'min_samples_split': range (2,20,2) }\n",
    "\n",
    "grid = GridSearchCV(model_1_cv_test, parametrs, cv=5)\n",
    "grid.fit(features_train, target_train)\n",
    "grid.best_params_"
   ]
  },
  {
   "cell_type": "markdown",
   "metadata": {},
   "source": [
    "<div class=\"alert alert-success\">\n",
    "<font size=\"5\"><b>Комментарий ревьюера</b></font>\n",
    "\n",
    "Успех:\n",
    " \n",
    "Работа выполнена в соответствии с критериями: \n",
    "\n",
    "\n",
    "\n",
    " - модель обучена на обучающем наборе\n",
    " - получена оценка качества на валидационном наборе\n",
    " - перебор гиперпараметров осуществляется в цикле или с помошью GS\n",
    "\n",
    "\n",
    "\n",
    "\n",
    "<div class=\"alert alert-warning\">\n",
    "\n",
    "\n",
    "Совет как сделать проект лучше: \n",
    "\n",
    "\n",
    "\n",
    "- tree_plot можно построить, глянуть как DT сплиты делает. причем можно прямо в цикле, чтобы видеть как дерево становится глубже и сложней \n",
    "\n",
    "\n",
    "- Можно добавить график, хорошо оформленный график украсит проект. Тут на графике можно посмотреть как при изменении гиперпараметров меняется точность на train и validation датасете, Такой способ используют чтобы лучше отследить переобучение\n",
    "\n",
    "\n",
    "</div>\n",
    "\n"
   ]
  },
  {
   "cell_type": "code",
   "execution_count": 5,
   "metadata": {},
   "outputs": [
    {
     "name": "stdout",
     "output_type": "stream",
     "text": [
      "0.7807153965785381\n"
     ]
    }
   ],
   "source": [
    "# Вычислим значения accuracy для модели с оптимально заданными гиперпараметрами:\n",
    "\n",
    "model_1 = DecisionTreeClassifier(random_state=12345, max_depth=7, min_samples_leaf=5, min_samples_split=18)\n",
    "model_1.fit(features_train, target_train)\n",
    "predictions_1 = model_1.predict(features_valid)\n",
    "print(accuracy_score(target_valid, predictions_1))"
   ]
  },
  {
   "cell_type": "code",
   "execution_count": null,
   "metadata": {},
   "outputs": [],
   "source": [
    "# Случайны лес:\n",
    "\n",
    "# С помощью модуля GridSearchCV определим оптимальные значения гиперпараметров модели:\n",
    "model_2_cv_test = RandomForestClassifier()\n",
    "\n",
    "parametrs = { 'n_estimators': range (10, 51, 10),\n",
    "              'max_depth': range (1,31, 2),\n",
    "              'min_samples_leaf': range (1,10),\n",
    "              'min_samples_split': range (2,20,2) }\n",
    "\n",
    "grid = GridSearchCV(model_2_cv_test, parametrs, cv=5)\n",
    "grid.fit(features_train, target_train)\n",
    "grid.best_params_"
   ]
  },
  {
   "cell_type": "code",
   "execution_count": 17,
   "metadata": {},
   "outputs": [
    {
     "name": "stdout",
     "output_type": "stream",
     "text": [
      "0.7900466562986003\n"
     ]
    }
   ],
   "source": [
    "# Вычислим значения accuracy для модели с оптимально заданными гиперпараметрами:\n",
    "\n",
    "model_2 = RandomForestClassifier(random_state=12345, max_depth=25, n_estimators=30, min_samples_leaf=3, min_samples_split=10)\n",
    "model_2.fit(features_train, target_train)\n",
    "predictions_2 = model_2.predict(features_valid)\n",
    "print(accuracy_score(target_valid, predictions_2))"
   ]
  },
  {
   "cell_type": "code",
   "execution_count": null,
   "metadata": {},
   "outputs": [],
   "source": [
    "# Логистическая регрессия:\n",
    "\n",
    "model_3 = LogisticRegression(random_state=12345)\n",
    "model_3.fit(features_train, target_train)\n",
    "predictions_3 = model_3.predict(features_valid)\n",
    "print(accuracy_score(target_valid, predictions_3))"
   ]
  },
  {
   "cell_type": "markdown",
   "metadata": {},
   "source": [
    "**Вывод**"
   ]
  },
  {
   "cell_type": "markdown",
   "metadata": {},
   "source": [
    "Таким образом, модель случайного леса показала лучшие резуьтаты."
   ]
  },
  {
   "cell_type": "markdown",
   "metadata": {},
   "source": [
    "\n",
    "<div class=\"alert alert-success\">\n",
    "<font size=\"5\"><b>Комментарий ревьюера</b></font>\n",
    "\n",
    "Успех:\n",
    "\n",
    "\n",
    "Все верно, RF лучший. \n",
    "\n",
    "\n",
    "<div class=\"alert alert-warning\">\n",
    "\n",
    "\n",
    "Совет: \n",
    "\n",
    "Если есть желание можешь ответить на вопросики ))    \n",
    "\n",
    "\n",
    "\n",
    "- Как назвать ситуацию, когда на валидации при увеличении глубины дерева (модель DT), метрика качества стала снижаться? Как по твоему в это же время вела себя эта же метрика на train?\n",
    "\n",
    "\n",
    "- Насколько знаю вы еще под капот моделям не заглядывали, но может знаешь почему RF показывает более высокие результаты из выбранных?\n",
    "\n",
    "\n",
    "- Мы решаем задачу классификации (а еще есть задача регрессии), а в названии модели с помощью которой мы решаем задачу \"классификации\" есть слово \"регрессия\".  Нет ли тут парадокса? )\n",
    "    \n",
    "\n",
    "- Почему логистическая регрессия показывать на много более худшие результаты?  \n",
    "\n",
    "\n",
    "</div>\n",
    "\n",
    "\n",
    "\n"
   ]
  },
  {
   "cell_type": "markdown",
   "metadata": {},
   "source": [
    "## Проверьте модель на тестовой выборке"
   ]
  },
  {
   "cell_type": "code",
   "execution_count": null,
   "metadata": {},
   "outputs": [],
   "source": [
    "test_predictions = model_2.predict(features_test)\n",
    "test_accuracy_score = accuracy_score(target_test, test_predictions)\n",
    "print(test_accuracy_score)"
   ]
  },
  {
   "cell_type": "markdown",
   "metadata": {},
   "source": [
    "\n",
    "\n",
    "<div class=\"alert alert-success\">\n",
    "<font size=\"5\"><b>Комментарий ревьюера</b></font>\n",
    "\n",
    "Успех:\n",
    "\n",
    "\n",
    "- Все верно, логика моделирования не нарушена, тут тестируем только лучшую модель (или парочку, если метрики были близки) отобранную на валидации. \n",
    "\n",
    "- Если студент получил на тесте accuraсy  выше 0,78, это считается отличным результатом. Ты подбираешь лучшую комбинацию не по одному гиперпараметру и вот он результат!\n",
    "\n",
    "\n",
    "\n",
    "<div class=\"alert alert-warning\">\n",
    "\n",
    "Вопросики и совет:\n",
    "\n",
    "\n",
    "\n",
    "    \n",
    "- А можешь предложить как нам использовать полученный результат в бизнесе? Как нам на этих прогнозах сделать деньги? \n",
    "\n",
    "\n",
    "\n",
    "\n",
    "- Марк, в качестве бонуса можешь вывести еще несколько метрик своей модели - precision, recall, F1 и confussion matrix) Все есть в sklearn)\n",
    "\n",
    "\n",
    "\n",
    "\n",
    "</div>\n",
    "\n"
   ]
  },
  {
   "cell_type": "markdown",
   "metadata": {},
   "source": [
    "## (бонус) Проверьте модели на адекватность"
   ]
  },
  {
   "cell_type": "code",
   "execution_count": 18,
   "metadata": {},
   "outputs": [
    {
     "name": "stdout",
     "output_type": "stream",
     "text": [
      "Модель прошла проверку на адекватность\n"
     ]
    }
   ],
   "source": [
    "# Сравним accuracy полученной модели с моделью классификатора,который делает прогнозы,используя простые правила:\n",
    " \n",
    "dummy_clf = DummyClassifier(strategy=\"most_frequent\", random_state=12345)\n",
    "dummy_clf.fit(features_train, target_train)\n",
    "dummy_predictions = dummy_clf.predict(features_valid)\n",
    "\n",
    "if accuracy_score(target_valid, predictions_2) > accuracy_score(target_valid, dummy_predictions):\n",
    "    print('Модель прошла проверку на адекватность')\n",
    "else:\n",
    "    print('Модель не прошла проверку на адекватность')"
   ]
  },
  {
   "cell_type": "markdown",
   "metadata": {},
   "source": [
    "<div class=\"alert alert-success\">\n",
    "<font size=\"5\"><b>Комментарий ревьюераV2</b></font>\n",
    "\n",
    "Успех:\n",
    "\n",
    "👍\n",
    "</div>\n"
   ]
  },
  {
   "cell_type": "markdown",
   "metadata": {},
   "source": [
    "\n",
    "\n",
    "<div class=\"alert alert-warning\">\n",
    "<font size=\"5\"><b>Комментарий ревьюера</b></font>\n",
    "\n",
    "Совет:\n",
    "\n",
    "Марк, бонусное на то и бонусное, но можешь попробовать его решить с моей подсказкой.    \n",
    "\n",
    "Колючевое это помнить  что у нас дисбаланс в таргете (нулей гораздно больше чем единиц) и четко понимать как считается accuracy.\n",
    "В чем смысл проверки модели на адекватность  при дисбалансе? Вот смотри - обучили мы какую то модель, которая на test показывает 90% accuraсy. Шикарная модель скажем мы. А если в датасете у нас в метках таргета единичек 99,9% (допустим тренируем на данных где 1 это \"кирпич упал на голову человеку когда он вышел из дома\"), а нулей 0,1% (\"не упал\")?! Все также утверждаем что наша модель шикарная?! Нет, потому что всегда можно предсказывать что не упадает (единички) и accuracy будет равна 99,9%\n",
    "\n",
    "Вот и тут мы сравниваем нашу обученную модель с примитивным прогнозом самого частого таргета. Какой у нас самый частый класс? Нули. Так посмотри accuracy_score target_test и ряда из одних нулей. Сколько будет?. \n",
    "\n",
    "\n",
    "    \n",
    "    \n",
    "\n",
    "При проверке на адекватность модели, рекомендую ознакомиться с [Dummy Models](https://scikit-learn.org/stable/modules/generated/sklearn.dummy.DummyClassifier.html), это удобная обертка для константных моделей и сделает тоже самое что я описал на словах\n",
    "\n",
    "</div>"
   ]
  },
  {
   "cell_type": "markdown",
   "metadata": {},
   "source": [
    "## Чек-лист готовности проекта"
   ]
  },
  {
   "cell_type": "markdown",
   "metadata": {},
   "source": [
    "\n",
    "<div class=\"alert alert-info\">\n",
    "<font size=\"5\"><b>Комментарий ревьюера</b></font>\n",
    "\n",
    "\n",
    "\n",
    "Марк, у тебя старательно выполненная работа, все четко, осмысленно. Выводы присутствуют. Некоторые пункты выполнены в большем чем требуется обьеме (GridSearchCV). Вижу у тебя получается в ML,  дальше будет интересней )  С комментированием кода тоже никаких проблем нет, твоих объяснений достаточно для понимания коллегами хода твоих мыслей. \n",
    "\n",
    "Я оставил небольшие советы и вопросики (если есть время и желание можешь воспользоваться/ответить): \n",
    "\n",
    "- обрати внимание на проверку сбалансированность классов в таргете в разделе EDA\n",
    "- использовать stratify\n",
    "- добавить график метрики    \n",
    "\n",
    "\n",
    "Замечания на будущее:\n",
    "    \n",
    "\n",
    "- Было бы замечательно, в выводе немножко о данных, работе с ними (пусть даже никакой работы и не было), моделировании и полученных результатах. Это важно потому что когда проект захочет посмотреть будущий работодатель (или начальник), у него может не быть времени на подробный разбор кода. Вероятнее всего он бегло просмотрит код, а из общего вывода захочет получить представление о всей работе.\n",
    "\n",
    " \n",
    "    \n",
    "Обязательное к исправлению:\n",
    "\n",
    "\n",
    "\n",
    "\n",
    "\n",
    "- проект аналитический, поэтому минимальный EDA стоит сделать    \n",
    "\n",
    "\n",
    "Жду исправлений, для принятия проекта. Если какие то вопросы, то сразу спрашивай ) \n",
    "\n",
    "\n",
    "</div>\n",
    "\n",
    "\n"
   ]
  },
  {
   "cell_type": "markdown",
   "metadata": {},
   "source": [
    "\n",
    "<div class=\"alert alert-info\">\n",
    "<font size=\"5\"><b>Комментарий ревьюераV2</b></font>\n",
    "\n",
    "\n",
    "\n",
    "    \n",
    "Красное исправлено, некоторые желтые советы использованы, как понимаю вопросов нет, значит все , пора принимать)\n",
    "  \n",
    "Отличная работа Марк. Желаю успехов в дальнейшей учебе!\n",
    "\n",
    "\n",
    "\n",
    "\n",
    "\n",
    "</div>"
   ]
  },
  {
   "cell_type": "markdown",
   "metadata": {},
   "source": [
    "Поставьте 'x' в выполненных пунктах. Далее нажмите Shift+Enter."
   ]
  },
  {
   "cell_type": "markdown",
   "metadata": {},
   "source": [
    "- [x] Jupyter Notebook открыт\n",
    "- [ ] Весь код исполняется без ошибок\n",
    "- [ ] Ячейки с кодом расположены в порядке исполнения\n",
    "- [ ] Выполнено задание 1: данные загружены и изучены\n",
    "- [ ] Выполнено задание 2: данные разбиты на три выборки\n",
    "- [ ] Выполнено задание 3: проведено исследование моделей\n",
    "    - [ ] Рассмотрено больше одной модели\n",
    "    - [ ] Рассмотрено хотя бы 3 значения гипепараметров для какой-нибудь модели\n",
    "    - [ ] Написаны выводы по результатам исследования\n",
    "- [ ] Выполнено задание 3: Проведено тестирование\n",
    "- [ ] Удалось достичь accuracy не меньше 0.75\n"
   ]
  }
 ],
 "metadata": {
  "ExecuteTimeLog": [
   {
    "duration": 1062,
    "start_time": "2022-09-12T23:03:09.113Z"
   },
   {
    "duration": 81,
    "start_time": "2022-09-12T23:15:42.303Z"
   },
   {
    "duration": 35,
    "start_time": "2022-09-12T23:15:49.422Z"
   },
   {
    "duration": 8,
    "start_time": "2022-09-12T23:15:49.459Z"
   },
   {
    "duration": 48,
    "start_time": "2022-09-12T23:16:08.883Z"
   },
   {
    "duration": 7,
    "start_time": "2022-09-12T23:16:09.198Z"
   },
   {
    "duration": 15,
    "start_time": "2022-09-12T23:33:47.042Z"
   },
   {
    "duration": 63,
    "start_time": "2022-09-12T23:34:05.141Z"
   },
   {
    "duration": 5,
    "start_time": "2022-09-12T23:34:05.704Z"
   },
   {
    "duration": 18,
    "start_time": "2022-09-12T23:34:06.687Z"
   },
   {
    "duration": 16,
    "start_time": "2022-09-12T23:34:22.165Z"
   },
   {
    "duration": 29,
    "start_time": "2022-09-12T23:34:50.434Z"
   },
   {
    "duration": 6,
    "start_time": "2022-09-12T23:34:50.892Z"
   },
   {
    "duration": 33,
    "start_time": "2022-09-12T23:34:51.991Z"
   },
   {
    "duration": 64,
    "start_time": "2022-09-12T23:34:58.987Z"
   },
   {
    "duration": 907,
    "start_time": "2022-09-12T23:35:04.329Z"
   },
   {
    "duration": 57,
    "start_time": "2022-09-12T23:35:26.723Z"
   },
   {
    "duration": 56,
    "start_time": "2022-09-12T23:40:33.597Z"
   },
   {
    "duration": 83,
    "start_time": "2022-09-12T23:40:45.253Z"
   },
   {
    "duration": 1233,
    "start_time": "2022-09-13T14:13:04.134Z"
   },
   {
    "duration": 7,
    "start_time": "2022-09-13T14:13:08.440Z"
   },
   {
    "duration": 73,
    "start_time": "2022-09-13T14:13:09.565Z"
   },
   {
    "duration": 76,
    "start_time": "2022-09-13T14:13:12.286Z"
   },
   {
    "duration": 55,
    "start_time": "2022-09-13T14:13:18.036Z"
   },
   {
    "duration": 106,
    "start_time": "2022-09-13T14:13:25.830Z"
   },
   {
    "duration": 36,
    "start_time": "2022-09-13T14:14:07.716Z"
   },
   {
    "duration": 5,
    "start_time": "2022-09-13T14:14:09.653Z"
   },
   {
    "duration": 68,
    "start_time": "2022-09-13T14:14:10.342Z"
   },
   {
    "duration": 32,
    "start_time": "2022-09-13T14:14:15.408Z"
   },
   {
    "duration": 30,
    "start_time": "2022-09-13T14:16:01.410Z"
   },
   {
    "duration": 6,
    "start_time": "2022-09-13T14:16:04.174Z"
   },
   {
    "duration": 74,
    "start_time": "2022-09-13T14:16:04.890Z"
   },
   {
    "duration": 10,
    "start_time": "2022-09-13T14:16:28.609Z"
   },
   {
    "duration": 13,
    "start_time": "2022-09-13T14:19:09.372Z"
   },
   {
    "duration": 13,
    "start_time": "2022-09-13T14:19:30.776Z"
   },
   {
    "duration": 284,
    "start_time": "2022-09-13T14:20:10.852Z"
   },
   {
    "duration": 269,
    "start_time": "2022-09-13T14:20:29.790Z"
   },
   {
    "duration": 69,
    "start_time": "2022-09-13T14:20:33.489Z"
   },
   {
    "duration": 313,
    "start_time": "2022-09-13T14:20:36.454Z"
   },
   {
    "duration": 74,
    "start_time": "2022-09-13T14:21:21.865Z"
   },
   {
    "duration": 69,
    "start_time": "2022-09-13T14:21:33.679Z"
   },
   {
    "duration": 292,
    "start_time": "2022-09-13T14:21:56.280Z"
   },
   {
    "duration": 70,
    "start_time": "2022-09-13T14:22:19.135Z"
   },
   {
    "duration": 261,
    "start_time": "2022-09-13T14:22:20.788Z"
   },
   {
    "duration": 850,
    "start_time": "2022-09-13T14:22:38.671Z"
   },
   {
    "duration": 19578,
    "start_time": "2022-09-13T14:22:44.012Z"
   },
   {
    "duration": 809,
    "start_time": "2022-09-13T14:23:11.987Z"
   },
   {
    "duration": 953,
    "start_time": "2022-09-13T14:23:19.437Z"
   },
   {
    "duration": 169,
    "start_time": "2022-09-13T14:23:24.961Z"
   },
   {
    "duration": 48,
    "start_time": "2022-09-13T14:25:22.644Z"
   },
   {
    "duration": 13812,
    "start_time": "2022-09-13T14:25:28.949Z"
   },
   {
    "duration": 9,
    "start_time": "2022-09-13T14:33:08.818Z"
   },
   {
    "duration": 26,
    "start_time": "2022-09-13T14:33:12.162Z"
   },
   {
    "duration": 7,
    "start_time": "2022-09-13T14:33:14.587Z"
   },
   {
    "duration": 175,
    "start_time": "2022-09-13T14:33:15.211Z"
   },
   {
    "duration": 13823,
    "start_time": "2022-09-13T14:33:16.505Z"
   },
   {
    "duration": 9,
    "start_time": "2022-09-13T14:33:30.329Z"
   },
   {
    "duration": 278122,
    "start_time": "2022-09-13T14:33:41.788Z"
   },
   {
    "duration": 66,
    "start_time": "2022-09-13T14:43:50.716Z"
   },
   {
    "duration": 10266,
    "start_time": "2022-09-13T14:44:38.761Z"
   },
   {
    "duration": 136,
    "start_time": "2022-09-13T14:45:20.244Z"
   },
   {
    "duration": 13871,
    "start_time": "2022-09-13T14:45:28.149Z"
   },
   {
    "duration": 167,
    "start_time": "2022-09-13T14:47:43.476Z"
   },
   {
    "duration": 5428,
    "start_time": "2022-09-13T14:48:59.470Z"
   },
   {
    "duration": 15,
    "start_time": "2022-09-13T14:50:14.480Z"
   },
   {
    "duration": 47854,
    "start_time": "2022-09-13T14:51:38.852Z"
   },
   {
    "duration": 12,
    "start_time": "2022-09-13T14:52:44.666Z"
   },
   {
    "duration": 11,
    "start_time": "2022-09-13T14:52:55.485Z"
   },
   {
    "duration": 12,
    "start_time": "2022-09-13T14:53:08.262Z"
   },
   {
    "duration": 2491130,
    "start_time": "2022-09-13T14:53:17.539Z"
   },
   {
    "duration": 129,
    "start_time": "2022-09-13T15:39:39.857Z"
   },
   {
    "duration": 126,
    "start_time": "2022-09-13T15:40:01.593Z"
   },
   {
    "duration": 122,
    "start_time": "2022-09-13T15:40:06.085Z"
   },
   {
    "duration": 5,
    "start_time": "2022-09-13T15:41:11.451Z"
   },
   {
    "duration": 26,
    "start_time": "2022-09-13T15:43:36.714Z"
   },
   {
    "duration": 5,
    "start_time": "2022-09-13T15:43:36.742Z"
   },
   {
    "duration": 6,
    "start_time": "2022-09-13T15:44:55.244Z"
   },
   {
    "duration": 13,
    "start_time": "2022-09-13T15:44:59.621Z"
   },
   {
    "duration": 14779,
    "start_time": "2022-09-13T15:45:07.507Z"
   },
   {
    "duration": 124,
    "start_time": "2022-09-13T15:45:26.983Z"
   },
   {
    "duration": 9,
    "start_time": "2022-09-13T15:45:33.172Z"
   },
   {
    "duration": 27,
    "start_time": "2022-09-13T15:45:37.145Z"
   },
   {
    "duration": 29,
    "start_time": "2022-09-13T15:45:41.645Z"
   },
   {
    "duration": 28,
    "start_time": "2022-09-13T15:46:04.477Z"
   },
   {
    "duration": 1601155,
    "start_time": "2022-09-13T15:47:04.699Z"
   },
   {
    "duration": 326,
    "start_time": "2022-09-13T16:15:32.987Z"
   },
   {
    "duration": 9,
    "start_time": "2022-09-13T16:16:34.883Z"
   },
   {
    "duration": 10,
    "start_time": "2022-09-13T16:17:46.276Z"
   },
   {
    "duration": 21,
    "start_time": "2022-09-13T16:17:53.850Z"
   },
   {
    "duration": 118,
    "start_time": "2022-09-13T16:22:45.349Z"
   },
   {
    "duration": 11,
    "start_time": "2022-09-13T16:23:40.326Z"
   },
   {
    "duration": 10,
    "start_time": "2022-09-13T16:23:48.886Z"
   },
   {
    "duration": 1510,
    "start_time": "2022-09-13T18:29:25.473Z"
   },
   {
    "duration": 8,
    "start_time": "2022-09-13T18:29:26.986Z"
   },
   {
    "duration": 20,
    "start_time": "2022-09-13T18:29:26.996Z"
   },
   {
    "duration": 53573,
    "start_time": "2022-09-13T18:29:27.019Z"
   },
   {
    "duration": 13,
    "start_time": "2022-09-13T18:30:20.594Z"
   },
   {
    "duration": 51,
    "start_time": "2022-09-14T12:52:41.280Z"
   },
   {
    "duration": 1093,
    "start_time": "2022-09-14T12:52:45.701Z"
   },
   {
    "duration": 6,
    "start_time": "2022-09-14T12:52:49.010Z"
   },
   {
    "duration": 56,
    "start_time": "2022-09-14T12:52:49.345Z"
   },
   {
    "duration": 8,
    "start_time": "2022-09-14T12:53:38.441Z"
   },
   {
    "duration": 10,
    "start_time": "2022-09-14T12:53:41.742Z"
   },
   {
    "duration": 160,
    "start_time": "2022-09-14T12:53:57.463Z"
   },
   {
    "duration": 4,
    "start_time": "2022-09-14T12:54:03.067Z"
   },
   {
    "duration": 32,
    "start_time": "2022-09-14T12:59:25.452Z"
   },
   {
    "duration": 9,
    "start_time": "2022-09-14T13:13:03.301Z"
   },
   {
    "duration": 30,
    "start_time": "2022-09-14T13:13:10.458Z"
   },
   {
    "duration": 6,
    "start_time": "2022-09-14T13:13:14.346Z"
   },
   {
    "duration": 6,
    "start_time": "2022-09-14T13:13:18.692Z"
   },
   {
    "duration": 10,
    "start_time": "2022-09-14T13:13:24.199Z"
   },
   {
    "duration": 6,
    "start_time": "2022-09-14T13:13:35.955Z"
   },
   {
    "duration": 5,
    "start_time": "2022-09-14T13:14:46.743Z"
   },
   {
    "duration": 104,
    "start_time": "2022-09-14T13:16:45.425Z"
   },
   {
    "duration": 5,
    "start_time": "2022-09-14T13:16:53.485Z"
   },
   {
    "duration": 11,
    "start_time": "2022-09-14T13:18:23.876Z"
   },
   {
    "duration": 11,
    "start_time": "2022-09-14T13:19:12.382Z"
   },
   {
    "duration": 8,
    "start_time": "2022-09-14T13:19:27.245Z"
   },
   {
    "duration": 9,
    "start_time": "2022-09-14T13:19:41.103Z"
   },
   {
    "duration": 6,
    "start_time": "2022-09-14T13:19:45.067Z"
   },
   {
    "duration": 6,
    "start_time": "2022-09-14T13:19:49.194Z"
   },
   {
    "duration": 11,
    "start_time": "2022-09-14T13:19:57.855Z"
   },
   {
    "duration": 5,
    "start_time": "2022-09-14T13:20:04.520Z"
   },
   {
    "duration": 5,
    "start_time": "2022-09-14T13:21:04.789Z"
   },
   {
    "duration": 5,
    "start_time": "2022-09-14T13:23:16.644Z"
   },
   {
    "duration": 7,
    "start_time": "2022-09-14T13:23:21.065Z"
   },
   {
    "duration": 5,
    "start_time": "2022-09-14T13:23:30.684Z"
   },
   {
    "duration": 4,
    "start_time": "2022-09-14T13:23:44.644Z"
   },
   {
    "duration": 4,
    "start_time": "2022-09-14T13:24:43.944Z"
   },
   {
    "duration": 5,
    "start_time": "2022-09-14T13:25:02.792Z"
   },
   {
    "duration": 5,
    "start_time": "2022-09-14T13:25:09.172Z"
   },
   {
    "duration": 4,
    "start_time": "2022-09-14T13:25:53.894Z"
   },
   {
    "duration": 5,
    "start_time": "2022-09-14T13:26:03.435Z"
   }
  ],
  "kernelspec": {
   "display_name": "Python 3 (ipykernel)",
   "language": "python",
   "name": "python3"
  },
  "language_info": {
   "codemirror_mode": {
    "name": "ipython",
    "version": 3
   },
   "file_extension": ".py",
   "mimetype": "text/x-python",
   "name": "python",
   "nbconvert_exporter": "python",
   "pygments_lexer": "ipython3",
   "version": "3.9.5"
  },
  "toc": {
   "base_numbering": 1,
   "nav_menu": {},
   "number_sections": true,
   "sideBar": true,
   "skip_h1_title": true,
   "title_cell": "Table of Contents",
   "title_sidebar": "Contents",
   "toc_cell": false,
   "toc_position": {},
   "toc_section_display": true,
   "toc_window_display": false
  }
 },
 "nbformat": 4,
 "nbformat_minor": 2
}
